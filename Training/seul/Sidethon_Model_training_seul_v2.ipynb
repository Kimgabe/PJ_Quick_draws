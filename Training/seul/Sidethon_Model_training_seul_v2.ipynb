{
 "cells": [
  {
   "cell_type": "markdown",
   "id": "b415e765",
   "metadata": {},
   "source": [
    "# 0217 - Model training 2\n",
    "\n",
    "- Sidethon_Model_training_seul_v1 노트북에서 만든 tf.data를 사용해서 모델 훈련 진행"
   ]
  },
  {
   "cell_type": "code",
   "execution_count": 1,
   "id": "37dbd3ef",
   "metadata": {},
   "outputs": [
    {
     "data": {
      "text/plain": [
       "50"
      ]
     },
     "execution_count": 1,
     "metadata": {},
     "output_type": "execute_result"
    }
   ],
   "source": [
    "# 사용하지 않는 메모리 비우기\n",
    "import gc\n",
    "\n",
    "gc.collect()"
   ]
  },
  {
   "cell_type": "markdown",
   "id": "82934ba2",
   "metadata": {},
   "source": [
    "- 사용하지 않는 노트북은 커널을 종료했고, 메모리 캐시를 비우는 코드르 실행했지만 여전히 2928MiB 용량을 차지하고 있다\n",
    "\n",
    "<img width=\"609\" alt=\"Screenshot 2024-02-18 at 00 13 09\" src=\"https://github.com/Kimgabe/PJ_Quick_draws/assets/140625136/899cc0d4-50ce-417d-bc17-bce6a9065489\">\n",
    "\n",
    "\n",
    "- 아까 GPU 활성화하는 코드를 사용할때 만들어진것 같은데, [블로그](https://d-life93.tistory.com/429)내용을 참고해보면 문제가 없어보이기도 하고..\n",
    "    - 이 부분은 미팅때 질문해보고, 커널을 새로 만들어서 아래 내용 학습 진행"
   ]
  },
  {
   "cell_type": "markdown",
   "id": "8c060896",
   "metadata": {},
   "source": [
    "# == Make pipeline =="
   ]
  },
  {
   "cell_type": "code",
   "execution_count": 1,
   "id": "0f52cb0a",
   "metadata": {},
   "outputs": [],
   "source": [
    "# import basic library\n",
    "import pandas as pd      # pandas 라이브러리를 pd로 가져오기\n",
    "import numpy as np       # numpy 라이브러리를 np로 가져오기\n",
    "import os                # os 라이브러리 가져오기\n",
    "import json              # json 라이브러리 가져오기\n",
    "import cv2               # OpenCV 라이브러리 가져오기\n",
    "import tensorflow as tf  # TensorFlow 라이브러리 가져오기\n",
    "from tensorflow.keras.utils import to_categorical  # TensorFlow의 to_categorical 함수 가져오기\n",
    "import matplotlib.pyplot as plt"
   ]
  },
  {
   "cell_type": "code",
   "execution_count": 2,
   "id": "33a25427",
   "metadata": {},
   "outputs": [],
   "source": [
    "# load label_names pkl file : data lable이 리스트로 담겨있는 파일\n",
    "\n",
    "import pickle\n",
    "\n",
    "with open('../data/label_names.pkl', 'rb') as f:\n",
    "    label_names = pickle.load(f)"
   ]
  },
  {
   "cell_type": "code",
   "execution_count": 3,
   "id": "051d9de0",
   "metadata": {
    "scrolled": true
   },
   "outputs": [
    {
     "data": {
      "text/plain": [
       "['key', 'bus', 'apple', 'fire hydrant', 'marker']"
      ]
     },
     "execution_count": 3,
     "metadata": {},
     "output_type": "execute_result"
    }
   ],
   "source": [
    "label_names[:5]"
   ]
  },
  {
   "cell_type": "code",
   "execution_count": 4,
   "id": "b13b63de",
   "metadata": {},
   "outputs": [
    {
     "name": "stdout",
     "output_type": "stream",
     "text": [
      "경량화 시킨 gz 파일의 수: 1\n"
     ]
    }
   ],
   "source": [
    "# 파일 경로 설정\n",
    "data_folder_path = '../data'\n",
    "train_file_path = os.path.join(data_folder_path, 'train_simplified')\n",
    "base_path = train_file_path + '/shuffle_raw_gzs'\n",
    "num_files = 1  # 사용할 파일 개수 지정\n",
    "df_files = [os.path.join(base_path, f'train_k{k}.gz') for k in range(num_files)]\n",
    "\n",
    "# 파일 리스트 확인\n",
    "print(\"경량화 시킨 gz 파일의 수:\", len(df_files))"
   ]
  },
  {
   "cell_type": "code",
   "execution_count": 5,
   "id": "18ecabe0",
   "metadata": {},
   "outputs": [],
   "source": [
    "# draw_strokes function : 좌표값을 이미지로 만드는 함수\n",
    "def draw_strokes(raw_strokes, image_size=128, line_width=6):\n",
    "    border_offset = line_width * 2  # 테두리 공백 크기\n",
    "    stroke_list = []  # raw_strokes를 NumPy 배열로 변환한 리스트\n",
    "    bounds_info = {\"min_x\": float('inf'), \"min_y\": float('inf'),  # 최소 x, y 좌표 초기화\n",
    "                   \"max_x\": float('-inf'), \"max_y\": float('-inf')}  # 최대 x, y 좌표 초기화\n",
    "    \n",
    "    # raw_strokes의 각 stroke에 대해 NumPy 배열로 변환하고 경계 좌표 갱신\n",
    "    for stroke in raw_strokes:\n",
    "        np_stroke = np.array(stroke)  # stroke를 NumPy 배열로 변환\n",
    "        stroke_list.append(np_stroke)    # 변환된 배열을 stroke_list에 추가\n",
    "        # 최소/최대 x, y 좌표 갱신\n",
    "        bounds_info[\"min_x\"] = min(bounds_info[\"min_x\"], min(np_stroke[0]))\n",
    "        bounds_info[\"max_x\"] = max(bounds_info[\"max_x\"], max(np_stroke[0]))\n",
    "        bounds_info[\"min_y\"] = min(bounds_info[\"min_y\"], min(np_stroke[1]))\n",
    "        bounds_info[\"max_y\"] = max(bounds_info[\"max_y\"], max(np_stroke[1]))\n",
    "    \n",
    "    # 빈 이미지 생성\n",
    "    new_image = np.zeros((image_size, image_size, 3), dtype=float)\n",
    "    original_width = bounds_info[\"max_x\"] - bounds_info[\"min_x\"]  # 원본 그림의 너비\n",
    "    original_height = bounds_info[\"max_y\"] - bounds_info[\"min_y\"]  # 원본 그림의 높이\n",
    "    ratio = max(original_width, original_height) / (image_size - border_offset * 2)  # 비율 계산\n",
    "    \n",
    "    # 비율이 0일 경우 빈 이미지 반환\n",
    "    if ratio == 0:\n",
    "        return new_image\n",
    "\n",
    "    # 각 stroke의 좌표를 새로운 크기에 맞게 조정하여 이미지에 그리기\n",
    "    for np_stroke in stroke_list:\n",
    "        np_stroke[0] = (np_stroke[0] - bounds_info[\"min_x\"]) / ratio + border_offset  # x 좌표 조정\n",
    "        np_stroke[1] = (np_stroke[1] - bounds_info[\"min_y\"]) / ratio + border_offset  # y 좌표 조정\n",
    "        # 선 그리기\n",
    "        for i in range(len(np_stroke[0]) - 1):\n",
    "            start_x, start_y = int(np_stroke[0][i]), int(np_stroke[1][i])  # 시작점 좌표\n",
    "            end_x, end_y = int(np_stroke[0][i + 1]), int(np_stroke[1][i + 1])  # 끝점 좌표\n",
    "            new_image = cv2.line(new_image, (start_x, start_y), (end_x, end_y), (255, 255, 255), line_width)  # 선 그리기\n",
    "    \n",
    "    return new_image  # 완성된 이미지 반환"
   ]
  },
  {
   "cell_type": "code",
   "execution_count": 6,
   "id": "28f731ef",
   "metadata": {},
   "outputs": [],
   "source": [
    "# ImgDataGenerator Class\n",
    "\n",
    "import pandas as pd\n",
    "import numpy as np\n",
    "import json\n",
    "import tensorflow as tf\n",
    "from tensorflow.keras.utils import to_categorical\n",
    "import cv2               # OpenCV 라이브러리 가져오기\n",
    "\n",
    "# 파일을 하나씩 넘겨주는 generator\n",
    "class ImgDataGenerator(tf.keras.utils.Sequence):\n",
    "    def __init__(self, df_files, input_shape, batchsize, label_names, num_files, lw=3, state='Train', smoothing_factor=0.1):\n",
    "        # 클래스 초기화 함수\n",
    "        self.df_files = sorted(df_files)[:num_files]  # 데이터프레임 파일 리스트, 파일명 기준 오름차순 정렬 후 지정된 개수만큼 선택\n",
    "        self.file_sel = 0  # 현재 사용할 파일 인덱스\n",
    "        self.batchsize = batchsize  # 배치 크기\n",
    "        self.input_shape = input_shape  # 입력 이미지 모양\n",
    "        self.label_names = label_names  # 레이블 이름\n",
    "        self.lw = lw  # 선의 너비\n",
    "        self.state = state  # 상태 (Train, Test)\n",
    "        self.smoothing_factor = smoothing_factor  # 스무딩 팩터\n",
    "        self.on_epoch_end()  # epoch 종료시 호출\n",
    "\n",
    "    def smooth_labels(self, labels):\n",
    "        # 레이블을 부드럽게 만드는 함수\n",
    "        labels *= (1 - self.smoothing_factor)\n",
    "        labels += (self.smoothing_factor / len(self.label_names))\n",
    "        return labels\n",
    "\n",
    "    def __len__(self):\n",
    "        # 데이터셋의 길이 반환\n",
    "        return -(-len(self.df) // self.batchsize)\n",
    "    \n",
    "    def __getitem__(self, index):\n",
    "        # 주어진 인덱스에 해당하는 데이터 가져오기\n",
    "        try:\n",
    "            batch_idx = self.idx[index * self.batchsize:(index + 1) * self.batchsize]\n",
    "            h, w, ch = self.input_shape\n",
    "            X = np.zeros((len(batch_idx), h, w, ch))\n",
    "            y = np.zeros((len(batch_idx), len(self.label_names)))\n",
    "\n",
    "            for i, idx in enumerate(batch_idx):\n",
    "                row = self.df.iloc[idx]\n",
    "                raw_strokes = json.loads(row['drawing'])\n",
    "                # draw_strokes 함수 호출하여 이미지 데이터 생성\n",
    "                X[i, :, :, ] = draw_strokes(raw_strokes, image_size=h, line_width=self.lw)\n",
    "\n",
    "                if self.state != 'Test':\n",
    "                    label_index = row['y']\n",
    "                    label = to_categorical(label_index, num_classes=len(self.label_names))\n",
    "                    y[i, :] = self.smooth_labels(label)\n",
    "\n",
    "            return (X, y) if self.state != 'Test' else X\n",
    "        \n",
    "        except Exception as e:\n",
    "            print(f\"오류가 발생한 파일: {self.df_files[self.file_sel]}\")\n",
    "            print(f\"오류 상세 정보: {e}\")\n",
    "            raise e\n",
    "\n",
    "    def on_epoch_end(self):\n",
    "        # epoch 종료시 호출되는 함수\n",
    "        try:\n",
    "            self.df = pd.read_csv(self.df_files[self.file_sel], compression='gzip')  # .gz 파일 읽기 추가\n",
    "            self.idx = np.tile(np.arange(len(self.df)), 2)\n",
    "            if self.state == 'Train':\n",
    "                np.random.shuffle(self.idx)\n",
    "            self.file_sel = (self.file_sel + 1) % len(self.df_files)\n",
    "            \n",
    "        except Exception as e:\n",
    "            print"
   ]
  },
  {
   "cell_type": "code",
   "execution_count": 7,
   "id": "6066f44f",
   "metadata": {
    "scrolled": true
   },
   "outputs": [
    {
     "data": {
      "image/png": "[encoded data removed]",
      "text/plain": [
       "<Figure size 720x720 with 25 Axes>"
      ]
     },
     "metadata": {
      "needs_background": "light"
     },
     "output_type": "display_data"
    }
   ],
   "source": [
    "# ImgDataGenerator 인스턴스 생성을 위한 설정\n",
    "input_shape = (128, 128, 3)  # 입력 이미지의 형태 (높이, 너비, 채널)\n",
    "batch_size = 25  # 배치 사이즈\n",
    "\n",
    "# ImgDataGenerator 클래스의 인스턴스 생성\n",
    "## state: DataCheck로 설정해서 Train 준비에서 제외\n",
    "gen_data_check = ImgDataGenerator(df_files=df_files, input_shape=input_shape, batchsize=batch_size, label_names=label_names, num_files=num_files, state='DataCheck', lw=2)\n",
    "\n",
    "# 첫 번째 배치 데이터 가져오기 및 시각화\n",
    "xx, y = gen_data_check[0]\n",
    "fig, axs = plt.subplots(5, 5, figsize=(10, 10))\n",
    "labels = np.argmax(y, axis=1)  # 레이블 인덱스\n",
    "\n",
    "# 이미지를 0에서 1 사이의 값으로 변환\n",
    "xx = xx.astype(float) / 255.0\n",
    "\n",
    "# 5x5 그리드에서 각 셀에 대해 이미지를 시각화하는 반복문\n",
    "for i in range(25):\n",
    "    axs[i // 5, i % 5].imshow(xx[i])  # 이미지 플로팅\n",
    "    axs[i // 5, i % 5].axis('off')  # 축 숨기기\n",
    "    axs[i // 5, i % 5].set_title(gen_data_check.label_names[labels[i]])  # 레이블 이름 설정\n",
    "\n",
    "plt.show()"
   ]
  },
  {
   "cell_type": "code",
   "execution_count": 8,
   "id": "31a29d94",
   "metadata": {},
   "outputs": [
    {
     "name": "stdout",
     "output_type": "stream",
     "text": [
      "GPU 사용 가능 여부: [PhysicalDevice(name='/physical_device:GPU:0', device_type='GPU')]\n",
      "1 개의 논리적 GPU 사용 가능: 1\n"
     ]
    }
   ],
   "source": [
    "import tensorflow as tf\n",
    "\n",
    "# GPU 장치를 사용할 수 있는지 확인합니다.\n",
    "print(\"GPU 사용 가능 여부:\", tf.config.list_physical_devices('GPU'))\n",
    "\n",
    "# GPU를 사용할 수 있다면, GPU 메모리 증가 옵션을 설정합니다.\n",
    "gpus = tf.config.list_physical_devices('GPU')\n",
    "if gpus:\n",
    "    try:\n",
    "        # 모든 GPU 메모리를 동적으로 할당합니다.\n",
    "        for gpu in gpus:\n",
    "            tf.config.experimental.set_memory_growth(gpu, True)\n",
    "        logical_gpus = tf.config.experimental.list_logical_devices('GPU')\n",
    "        print(len(gpus), \"개의 논리적 GPU 사용 가능:\", len(logical_gpus))\n",
    "    except RuntimeError as e:\n",
    "        # 프로그램 시작시에만 실행됩니다.\n",
    "        print(e)"
   ]
  },
  {
   "cell_type": "markdown",
   "id": "3e5c6494",
   "metadata": {},
   "source": [
    "- 여기에서 메모리 254M가 할당됨\n",
    "<img width=\"604\" alt=\"Screenshot 2024-02-18 at 10 41 13\" src=\"https://github.com/Kimgabe/PJ_Quick_draws/assets/140625136/74de0524-12c8-4eab-8e89-bea9762b1bea\">\n"
   ]
  },
  {
   "cell_type": "code",
   "execution_count": 11,
   "id": "17895c32",
   "metadata": {},
   "outputs": [
    {
     "name": "stdout",
     "output_type": "stream",
     "text": [
      "학습에 사용할 데이터 개수를 입력하세요: 1\n"
     ]
    }
   ],
   "source": [
    "from tensorflow.keras.models import Sequential\n",
    "from tensorflow.keras.layers import Conv2D, MaxPooling2D, Flatten, Dense, Dropout\n",
    "\n",
    "# 1. 데이터 파일 준비\n",
    "base_path = train_file_path + '/shuffle_raw_gzs'  # 실제 train_file_path 변수에 맞는 경로를 설정해야 함\n",
    "\n",
    "# 학습에 사용할 데이터 개수 입력\n",
    "num_files = int(input(\"학습에 사용할 데이터 개수를 입력하세요: \"))\n",
    "\n",
    "\n",
    "df_files = [os.path.join(base_path, f'train_k{k}.gz') for k in range(num_files)]\n",
    "\n",
    "\n",
    "# 2. 제너레이터 인스턴스 생성\n",
    "IMG_SIZE = (128, 128)\n",
    "IMG_SHAPE = IMG_SIZE + (3,)\n",
    "BATCH_SIZE = 32\n",
    "train_generator = ImgDataGenerator(df_files=df_files, input_shape=IMG_SHAPE, batchsize=BATCH_SIZE, label_names=label_names, num_files=num_files, state='Train', lw=3)"
   ]
  },
  {
   "cell_type": "code",
   "execution_count": 12,
   "id": "862fa4be",
   "metadata": {},
   "outputs": [
    {
     "name": "stdout",
     "output_type": "stream",
     "text": [
      "Images shape: (32, 128, 128, 3)\n",
      "Labels shape: (32, 340)\n"
     ]
    }
   ],
   "source": [
    "# TensorFlow dataset 생성 - from_generator method 사용\n",
    "dataset = tf.data.Dataset.from_generator(\n",
    "    lambda: train_generator,\n",
    "    output_signature=(\n",
    "        tf.TensorSpec(shape=(None, 128, 128, 3), dtype=tf.float32),  # Image tensor\n",
    "        tf.TensorSpec(shape=(None, len(label_names)), dtype=tf.int16)  # Label tensor\n",
    "    )\n",
    ")\n",
    "\n",
    "# shuffle and prefetch the dataset\n",
    "dataset = dataset.prefetch(buffer_size=tf.data.experimental.AUTOTUNE)\n",
    "\n",
    "# dataset check\n",
    "for images, labels in dataset.take(1):\n",
    "    print(\"Images shape:\", images.shape)\n",
    "    print(\"Labels shape:\", labels.shape)"
   ]
  },
  {
   "cell_type": "markdown",
   "id": "d4fde964",
   "metadata": {},
   "source": [
    "# == Model training ==\n",
    "\n",
    "- Pretrained model + Fine tuning 을 시도\n",
    "- tensorflow.keras.applications에서 제공하는 pretrained model 실험\n",
    "    - ImageNet 데이터셋으로 사전 훈련된 모델들\n",
    "    - ImageNet : 1000개 class에 대한 이미지를 분류하는 모델\n",
    "        - 최종 classification layer: 1000 unit, softmax activation function 사용\n",
    "\n",
    "\n",
    "## 1. MobileNet V2\n",
    "- Google이 개발한 모델\n",
    "- ImageNet 데이터셋으로 사전훈련됨\n",
    "- \n",
    "[참고] **[tensorflow tutorial](https://www.tensorflow.org/tutorials/images/transfer_learning#create_the_base_model_from_the_pre-trained_convnets)**\n"
   ]
  },
  {
   "cell_type": "markdown",
   "id": "53799648",
   "metadata": {},
   "source": [
    "### Base model - Feature extraction"
   ]
  },
  {
   "cell_type": "code",
   "execution_count": 13,
   "id": "02985234",
   "metadata": {},
   "outputs": [
    {
     "name": "stdout",
     "output_type": "stream",
     "text": [
      "Downloading data from https://storage.googleapis.com/tensorflow/keras-applications/mobilenet_v2/mobilenet_v2_weights_tf_dim_ordering_tf_kernels_1.0_128_no_top.h5\n",
      "9412608/9406464 [==============================] - 0s 0us/step\n",
      "9420800/9406464 [==============================] - 0s 0us/step\n"
     ]
    }
   ],
   "source": [
    "# create the base model from the pre-trained model MobileNet V2 \n",
    "base_model = tf.keras.applications.MobileNetV2(input_shape=IMG_SHAPE,\n",
    "                                               include_top=False, # only feature extraction\n",
    "                                               weights='imagenet')"
   ]
  },
  {
   "cell_type": "code",
   "execution_count": 24,
   "id": "44f94662",
   "metadata": {},
   "outputs": [],
   "source": [
    "# check feature extractor\n",
    "image_batch, label_batch = next(iter(dataset))\n",
    "feature_batch = base_model(image_batch)"
   ]
  },
  {
   "cell_type": "code",
   "execution_count": 25,
   "id": "e06385ff",
   "metadata": {},
   "outputs": [
    {
     "name": "stdout",
     "output_type": "stream",
     "text": [
      "(32, 4, 4, 1280)\n"
     ]
    }
   ],
   "source": [
    "print(feature_batch.shape)"
   ]
  },
  {
   "cell_type": "markdown",
   "id": "e3902194",
   "metadata": {},
   "source": [
    "- `128x128x3` 이미지가 `4x4x1280` 피처블록으로 변환됨 \n",
    "\n",
    "\n",
    "- 피처추출을 하는 **convolutional base는 freeze함**\n",
    "    - 훈련하는 동안 새로 가중치가 업데이트되지 않고, 사전훈련모델 자체의 가중치를 사용\n",
    "    - 튜토리얼에서는 **BatchNormalization layer가 있는 사전훈련모델을 사용할때 freezing하는걸 잘 지켜야한다고 말함**\n",
    "        - 많은 모델이 `BatchNormalization layer`를 포함하고 있는데, 이 레이어가 있는데 모델을 freezing하지 않을 경우, 모델 학습하는동안 불필요한 가중치 정보를 업데이트하고 모델에 손상을 준다고 함\n",
    "\n",
    "\n",
    "**[BatchNormalization - Fine tuning]**\n",
    "- BatchNormalization layer에는 훈련 중에 업데이트되는 nontrainable weight가 2개 있음\n",
    "- 입력의 평균과 분산을 추적하는 변수\n",
    "    - 다른 레이어와는 다르게 추론 모드(inference), 훈련 모드(training)가 결합되어 있어서 이를 구분해줘야 함"
   ]
  },
  {
   "cell_type": "code",
   "execution_count": 19,
   "id": "c828fbfd",
   "metadata": {},
   "outputs": [],
   "source": [
    "# freeze the confolutional base\n",
    "base_model.trainable = False"
   ]
  },
  {
   "cell_type": "code",
   "execution_count": 22,
   "id": "12fcc5df",
   "metadata": {},
   "outputs": [
    {
     "name": "stdout",
     "output_type": "stream",
     "text": [
      "Model: \"mobilenetv2_1.00_128\"\n",
      "__________________________________________________________________________________________________\n",
      "Layer (type)                    Output Shape         Param #     Connected to                     \n",
      "==================================================================================================\n",
      "input_1 (InputLayer)            [(None, 128, 128, 3) 0                                            \n",
      "__________________________________________________________________________________________________\n",
      "Conv1 (Conv2D)                  (None, 64, 64, 32)   864         input_1[0][0]                    \n",
      "__________________________________________________________________________________________________\n",
      "bn_Conv1 (BatchNormalization)   (None, 64, 64, 32)   128         Conv1[0][0]                      \n",
      "__________________________________________________________________________________________________\n",
      "Conv1_relu (ReLU)               (None, 64, 64, 32)   0           bn_Conv1[0][0]                   \n",
      "__________________________________________________________________________________________________\n",
      "expanded_conv_depthwise (Depthw (None, 64, 64, 32)   288         Conv1_relu[0][0]                 \n",
      "__________________________________________________________________________________________________\n",
      "expanded_conv_depthwise_BN (Bat (None, 64, 64, 32)   128         expanded_conv_depthwise[0][0]    \n",
      "__________________________________________________________________________________________________\n",
      "expanded_conv_depthwise_relu (R (None, 64, 64, 32)   0           expanded_conv_depthwise_BN[0][0] \n",
      "__________________________________________________________________________________________________\n",
      "expanded_conv_project (Conv2D)  (None, 64, 64, 16)   512         expanded_conv_depthwise_relu[0][0\n",
      "__________________________________________________________________________________________________\n",
      "expanded_conv_project_BN (Batch (None, 64, 64, 16)   64          expanded_conv_project[0][0]      \n",
      "__________________________________________________________________________________________________\n",
      "block_1_expand (Conv2D)         (None, 64, 64, 96)   1536        expanded_conv_project_BN[0][0]   \n",
      "__________________________________________________________________________________________________\n",
      "block_1_expand_BN (BatchNormali (None, 64, 64, 96)   384         block_1_expand[0][0]             \n",
      "__________________________________________________________________________________________________\n",
      "block_1_expand_relu (ReLU)      (None, 64, 64, 96)   0           block_1_expand_BN[0][0]          \n",
      "__________________________________________________________________________________________________\n",
      "block_1_pad (ZeroPadding2D)     (None, 65, 65, 96)   0           block_1_expand_relu[0][0]        \n",
      "__________________________________________________________________________________________________\n",
      "block_1_depthwise (DepthwiseCon (None, 32, 32, 96)   864         block_1_pad[0][0]                \n",
      "__________________________________________________________________________________________________\n",
      "block_1_depthwise_BN (BatchNorm (None, 32, 32, 96)   384         block_1_depthwise[0][0]          \n",
      "__________________________________________________________________________________________________\n",
      "block_1_depthwise_relu (ReLU)   (None, 32, 32, 96)   0           block_1_depthwise_BN[0][0]       \n",
      "__________________________________________________________________________________________________\n",
      "block_1_project (Conv2D)        (None, 32, 32, 24)   2304        block_1_depthwise_relu[0][0]     \n",
      "__________________________________________________________________________________________________\n",
      "block_1_project_BN (BatchNormal (None, 32, 32, 24)   96          block_1_project[0][0]            \n",
      "__________________________________________________________________________________________________\n",
      "block_2_expand (Conv2D)         (None, 32, 32, 144)  3456        block_1_project_BN[0][0]         \n",
      "__________________________________________________________________________________________________\n",
      "block_2_expand_BN (BatchNormali (None, 32, 32, 144)  576         block_2_expand[0][0]             \n",
      "__________________________________________________________________________________________________\n",
      "block_2_expand_relu (ReLU)      (None, 32, 32, 144)  0           block_2_expand_BN[0][0]          \n",
      "__________________________________________________________________________________________________\n",
      "block_2_depthwise (DepthwiseCon (None, 32, 32, 144)  1296        block_2_expand_relu[0][0]        \n",
      "__________________________________________________________________________________________________\n",
      "block_2_depthwise_BN (BatchNorm (None, 32, 32, 144)  576         block_2_depthwise[0][0]          \n",
      "__________________________________________________________________________________________________\n",
      "block_2_depthwise_relu (ReLU)   (None, 32, 32, 144)  0           block_2_depthwise_BN[0][0]       \n",
      "__________________________________________________________________________________________________\n",
      "block_2_project (Conv2D)        (None, 32, 32, 24)   3456        block_2_depthwise_relu[0][0]     \n",
      "__________________________________________________________________________________________________\n",
      "block_2_project_BN (BatchNormal (None, 32, 32, 24)   96          block_2_project[0][0]            \n",
      "__________________________________________________________________________________________________\n",
      "block_2_add (Add)               (None, 32, 32, 24)   0           block_1_project_BN[0][0]         \n",
      "                                                                 block_2_project_BN[0][0]         \n",
      "__________________________________________________________________________________________________\n",
      "block_3_expand (Conv2D)         (None, 32, 32, 144)  3456        block_2_add[0][0]                \n",
      "__________________________________________________________________________________________________\n",
      "block_3_expand_BN (BatchNormali (None, 32, 32, 144)  576         block_3_expand[0][0]             \n",
      "__________________________________________________________________________________________________\n",
      "block_3_expand_relu (ReLU)      (None, 32, 32, 144)  0           block_3_expand_BN[0][0]          \n",
      "__________________________________________________________________________________________________\n",
      "block_3_pad (ZeroPadding2D)     (None, 33, 33, 144)  0           block_3_expand_relu[0][0]        \n",
      "__________________________________________________________________________________________________\n",
      "block_3_depthwise (DepthwiseCon (None, 16, 16, 144)  1296        block_3_pad[0][0]                \n",
      "__________________________________________________________________________________________________\n",
      "block_3_depthwise_BN (BatchNorm (None, 16, 16, 144)  576         block_3_depthwise[0][0]          \n",
      "__________________________________________________________________________________________________\n",
      "block_3_depthwise_relu (ReLU)   (None, 16, 16, 144)  0           block_3_depthwise_BN[0][0]       \n",
      "__________________________________________________________________________________________________\n",
      "block_3_project (Conv2D)        (None, 16, 16, 32)   4608        block_3_depthwise_relu[0][0]     \n",
      "__________________________________________________________________________________________________\n",
      "block_3_project_BN (BatchNormal (None, 16, 16, 32)   128         block_3_project[0][0]            \n",
      "__________________________________________________________________________________________________\n",
      "block_4_expand (Conv2D)         (None, 16, 16, 192)  6144        block_3_project_BN[0][0]         \n",
      "__________________________________________________________________________________________________\n",
      "block_4_expand_BN (BatchNormali (None, 16, 16, 192)  768         block_4_expand[0][0]             \n",
      "__________________________________________________________________________________________________\n",
      "block_4_expand_relu (ReLU)      (None, 16, 16, 192)  0           block_4_expand_BN[0][0]          \n",
      "__________________________________________________________________________________________________\n",
      "block_4_depthwise (DepthwiseCon (None, 16, 16, 192)  1728        block_4_expand_relu[0][0]        \n",
      "__________________________________________________________________________________________________\n",
      "block_4_depthwise_BN (BatchNorm (None, 16, 16, 192)  768         block_4_depthwise[0][0]          \n",
      "__________________________________________________________________________________________________\n",
      "block_4_depthwise_relu (ReLU)   (None, 16, 16, 192)  0           block_4_depthwise_BN[0][0]       \n",
      "__________________________________________________________________________________________________\n",
      "block_4_project (Conv2D)        (None, 16, 16, 32)   6144        block_4_depthwise_relu[0][0]     \n",
      "__________________________________________________________________________________________________\n",
      "block_4_project_BN (BatchNormal (None, 16, 16, 32)   128         block_4_project[0][0]            \n",
      "__________________________________________________________________________________________________\n",
      "block_4_add (Add)               (None, 16, 16, 32)   0           block_3_project_BN[0][0]         \n",
      "                                                                 block_4_project_BN[0][0]         \n",
      "__________________________________________________________________________________________________\n",
      "block_5_expand (Conv2D)         (None, 16, 16, 192)  6144        block_4_add[0][0]                \n",
      "__________________________________________________________________________________________________\n",
      "block_5_expand_BN (BatchNormali (None, 16, 16, 192)  768         block_5_expand[0][0]             \n",
      "__________________________________________________________________________________________________\n",
      "block_5_expand_relu (ReLU)      (None, 16, 16, 192)  0           block_5_expand_BN[0][0]          \n",
      "__________________________________________________________________________________________________\n",
      "block_5_depthwise (DepthwiseCon (None, 16, 16, 192)  1728        block_5_expand_relu[0][0]        \n",
      "__________________________________________________________________________________________________\n",
      "block_5_depthwise_BN (BatchNorm (None, 16, 16, 192)  768         block_5_depthwise[0][0]          \n",
      "__________________________________________________________________________________________________\n",
      "block_5_depthwise_relu (ReLU)   (None, 16, 16, 192)  0           block_5_depthwise_BN[0][0]       \n",
      "__________________________________________________________________________________________________\n",
      "block_5_project (Conv2D)        (None, 16, 16, 32)   6144        block_5_depthwise_relu[0][0]     \n",
      "__________________________________________________________________________________________________\n",
      "block_5_project_BN (BatchNormal (None, 16, 16, 32)   128         block_5_project[0][0]            \n",
      "__________________________________________________________________________________________________\n",
      "block_5_add (Add)               (None, 16, 16, 32)   0           block_4_add[0][0]                \n",
      "                                                                 block_5_project_BN[0][0]         \n",
      "__________________________________________________________________________________________________\n",
      "block_6_expand (Conv2D)         (None, 16, 16, 192)  6144        block_5_add[0][0]                \n",
      "__________________________________________________________________________________________________\n",
      "block_6_expand_BN (BatchNormali (None, 16, 16, 192)  768         block_6_expand[0][0]             \n",
      "__________________________________________________________________________________________________\n",
      "block_6_expand_relu (ReLU)      (None, 16, 16, 192)  0           block_6_expand_BN[0][0]          \n",
      "__________________________________________________________________________________________________\n",
      "block_6_pad (ZeroPadding2D)     (None, 17, 17, 192)  0           block_6_expand_relu[0][0]        \n",
      "__________________________________________________________________________________________________\n",
      "block_6_depthwise (DepthwiseCon (None, 8, 8, 192)    1728        block_6_pad[0][0]                \n",
      "__________________________________________________________________________________________________\n",
      "block_6_depthwise_BN (BatchNorm (None, 8, 8, 192)    768         block_6_depthwise[0][0]          \n",
      "__________________________________________________________________________________________________\n",
      "block_6_depthwise_relu (ReLU)   (None, 8, 8, 192)    0           block_6_depthwise_BN[0][0]       \n",
      "__________________________________________________________________________________________________\n",
      "block_6_project (Conv2D)        (None, 8, 8, 64)     12288       block_6_depthwise_relu[0][0]     \n",
      "__________________________________________________________________________________________________\n",
      "block_6_project_BN (BatchNormal (None, 8, 8, 64)     256         block_6_project[0][0]            \n",
      "__________________________________________________________________________________________________\n",
      "block_7_expand (Conv2D)         (None, 8, 8, 384)    24576       block_6_project_BN[0][0]         \n",
      "__________________________________________________________________________________________________\n",
      "block_7_expand_BN (BatchNormali (None, 8, 8, 384)    1536        block_7_expand[0][0]             \n",
      "__________________________________________________________________________________________________\n",
      "block_7_expand_relu (ReLU)      (None, 8, 8, 384)    0           block_7_expand_BN[0][0]          \n",
      "__________________________________________________________________________________________________\n",
      "block_7_depthwise (DepthwiseCon (None, 8, 8, 384)    3456        block_7_expand_relu[0][0]        \n",
      "__________________________________________________________________________________________________\n",
      "block_7_depthwise_BN (BatchNorm (None, 8, 8, 384)    1536        block_7_depthwise[0][0]          \n",
      "__________________________________________________________________________________________________\n",
      "block_7_depthwise_relu (ReLU)   (None, 8, 8, 384)    0           block_7_depthwise_BN[0][0]       \n",
      "__________________________________________________________________________________________________\n",
      "block_7_project (Conv2D)        (None, 8, 8, 64)     24576       block_7_depthwise_relu[0][0]     \n",
      "__________________________________________________________________________________________________\n",
      "block_7_project_BN (BatchNormal (None, 8, 8, 64)     256         block_7_project[0][0]            \n",
      "__________________________________________________________________________________________________\n",
      "block_7_add (Add)               (None, 8, 8, 64)     0           block_6_project_BN[0][0]         \n",
      "                                                                 block_7_project_BN[0][0]         \n",
      "__________________________________________________________________________________________________\n",
      "block_8_expand (Conv2D)         (None, 8, 8, 384)    24576       block_7_add[0][0]                \n",
      "__________________________________________________________________________________________________\n",
      "block_8_expand_BN (BatchNormali (None, 8, 8, 384)    1536        block_8_expand[0][0]             \n",
      "__________________________________________________________________________________________________\n",
      "block_8_expand_relu (ReLU)      (None, 8, 8, 384)    0           block_8_expand_BN[0][0]          \n",
      "__________________________________________________________________________________________________\n",
      "block_8_depthwise (DepthwiseCon (None, 8, 8, 384)    3456        block_8_expand_relu[0][0]        \n",
      "__________________________________________________________________________________________________\n",
      "block_8_depthwise_BN (BatchNorm (None, 8, 8, 384)    1536        block_8_depthwise[0][0]          \n",
      "__________________________________________________________________________________________________\n",
      "block_8_depthwise_relu (ReLU)   (None, 8, 8, 384)    0           block_8_depthwise_BN[0][0]       \n",
      "__________________________________________________________________________________________________\n",
      "block_8_project (Conv2D)        (None, 8, 8, 64)     24576       block_8_depthwise_relu[0][0]     \n",
      "__________________________________________________________________________________________________\n",
      "block_8_project_BN (BatchNormal (None, 8, 8, 64)     256         block_8_project[0][0]            \n",
      "__________________________________________________________________________________________________\n",
      "block_8_add (Add)               (None, 8, 8, 64)     0           block_7_add[0][0]                \n",
      "                                                                 block_8_project_BN[0][0]         \n",
      "__________________________________________________________________________________________________\n",
      "block_9_expand (Conv2D)         (None, 8, 8, 384)    24576       block_8_add[0][0]                \n",
      "__________________________________________________________________________________________________\n",
      "block_9_expand_BN (BatchNormali (None, 8, 8, 384)    1536        block_9_expand[0][0]             \n",
      "__________________________________________________________________________________________________\n",
      "block_9_expand_relu (ReLU)      (None, 8, 8, 384)    0           block_9_expand_BN[0][0]          \n",
      "__________________________________________________________________________________________________\n",
      "block_9_depthwise (DepthwiseCon (None, 8, 8, 384)    3456        block_9_expand_relu[0][0]        \n",
      "__________________________________________________________________________________________________\n",
      "block_9_depthwise_BN (BatchNorm (None, 8, 8, 384)    1536        block_9_depthwise[0][0]          \n",
      "__________________________________________________________________________________________________\n",
      "block_9_depthwise_relu (ReLU)   (None, 8, 8, 384)    0           block_9_depthwise_BN[0][0]       \n",
      "__________________________________________________________________________________________________\n",
      "block_9_project (Conv2D)        (None, 8, 8, 64)     24576       block_9_depthwise_relu[0][0]     \n",
      "__________________________________________________________________________________________________\n",
      "block_9_project_BN (BatchNormal (None, 8, 8, 64)     256         block_9_project[0][0]            \n",
      "__________________________________________________________________________________________________\n",
      "block_9_add (Add)               (None, 8, 8, 64)     0           block_8_add[0][0]                \n",
      "                                                                 block_9_project_BN[0][0]         \n",
      "__________________________________________________________________________________________________\n",
      "block_10_expand (Conv2D)        (None, 8, 8, 384)    24576       block_9_add[0][0]                \n",
      "__________________________________________________________________________________________________\n",
      "block_10_expand_BN (BatchNormal (None, 8, 8, 384)    1536        block_10_expand[0][0]            \n",
      "__________________________________________________________________________________________________\n",
      "block_10_expand_relu (ReLU)     (None, 8, 8, 384)    0           block_10_expand_BN[0][0]         \n",
      "__________________________________________________________________________________________________\n",
      "block_10_depthwise (DepthwiseCo (None, 8, 8, 384)    3456        block_10_expand_relu[0][0]       \n",
      "__________________________________________________________________________________________________\n",
      "block_10_depthwise_BN (BatchNor (None, 8, 8, 384)    1536        block_10_depthwise[0][0]         \n",
      "__________________________________________________________________________________________________\n",
      "block_10_depthwise_relu (ReLU)  (None, 8, 8, 384)    0           block_10_depthwise_BN[0][0]      \n",
      "__________________________________________________________________________________________________\n",
      "block_10_project (Conv2D)       (None, 8, 8, 96)     36864       block_10_depthwise_relu[0][0]    \n",
      "__________________________________________________________________________________________________\n",
      "block_10_project_BN (BatchNorma (None, 8, 8, 96)     384         block_10_project[0][0]           \n",
      "__________________________________________________________________________________________________\n",
      "block_11_expand (Conv2D)        (None, 8, 8, 576)    55296       block_10_project_BN[0][0]        \n",
      "__________________________________________________________________________________________________\n",
      "block_11_expand_BN (BatchNormal (None, 8, 8, 576)    2304        block_11_expand[0][0]            \n",
      "__________________________________________________________________________________________________\n",
      "block_11_expand_relu (ReLU)     (None, 8, 8, 576)    0           block_11_expand_BN[0][0]         \n",
      "__________________________________________________________________________________________________\n",
      "block_11_depthwise (DepthwiseCo (None, 8, 8, 576)    5184        block_11_expand_relu[0][0]       \n",
      "__________________________________________________________________________________________________\n",
      "block_11_depthwise_BN (BatchNor (None, 8, 8, 576)    2304        block_11_depthwise[0][0]         \n",
      "__________________________________________________________________________________________________\n",
      "block_11_depthwise_relu (ReLU)  (None, 8, 8, 576)    0           block_11_depthwise_BN[0][0]      \n",
      "__________________________________________________________________________________________________\n",
      "block_11_project (Conv2D)       (None, 8, 8, 96)     55296       block_11_depthwise_relu[0][0]    \n",
      "__________________________________________________________________________________________________\n",
      "block_11_project_BN (BatchNorma (None, 8, 8, 96)     384         block_11_project[0][0]           \n",
      "__________________________________________________________________________________________________\n",
      "block_11_add (Add)              (None, 8, 8, 96)     0           block_10_project_BN[0][0]        \n",
      "                                                                 block_11_project_BN[0][0]        \n",
      "__________________________________________________________________________________________________\n",
      "block_12_expand (Conv2D)        (None, 8, 8, 576)    55296       block_11_add[0][0]               \n",
      "__________________________________________________________________________________________________\n",
      "block_12_expand_BN (BatchNormal (None, 8, 8, 576)    2304        block_12_expand[0][0]            \n",
      "__________________________________________________________________________________________________\n",
      "block_12_expand_relu (ReLU)     (None, 8, 8, 576)    0           block_12_expand_BN[0][0]         \n",
      "__________________________________________________________________________________________________\n",
      "block_12_depthwise (DepthwiseCo (None, 8, 8, 576)    5184        block_12_expand_relu[0][0]       \n",
      "__________________________________________________________________________________________________\n",
      "block_12_depthwise_BN (BatchNor (None, 8, 8, 576)    2304        block_12_depthwise[0][0]         \n",
      "__________________________________________________________________________________________________\n",
      "block_12_depthwise_relu (ReLU)  (None, 8, 8, 576)    0           block_12_depthwise_BN[0][0]      \n",
      "__________________________________________________________________________________________________\n",
      "block_12_project (Conv2D)       (None, 8, 8, 96)     55296       block_12_depthwise_relu[0][0]    \n",
      "__________________________________________________________________________________________________\n",
      "block_12_project_BN (BatchNorma (None, 8, 8, 96)     384         block_12_project[0][0]           \n",
      "__________________________________________________________________________________________________\n",
      "block_12_add (Add)              (None, 8, 8, 96)     0           block_11_add[0][0]               \n",
      "                                                                 block_12_project_BN[0][0]        \n",
      "__________________________________________________________________________________________________\n",
      "block_13_expand (Conv2D)        (None, 8, 8, 576)    55296       block_12_add[0][0]               \n",
      "__________________________________________________________________________________________________\n",
      "block_13_expand_BN (BatchNormal (None, 8, 8, 576)    2304        block_13_expand[0][0]            \n",
      "__________________________________________________________________________________________________\n",
      "block_13_expand_relu (ReLU)     (None, 8, 8, 576)    0           block_13_expand_BN[0][0]         \n",
      "__________________________________________________________________________________________________\n",
      "block_13_pad (ZeroPadding2D)    (None, 9, 9, 576)    0           block_13_expand_relu[0][0]       \n",
      "__________________________________________________________________________________________________\n",
      "block_13_depthwise (DepthwiseCo (None, 4, 4, 576)    5184        block_13_pad[0][0]               \n",
      "__________________________________________________________________________________________________\n",
      "block_13_depthwise_BN (BatchNor (None, 4, 4, 576)    2304        block_13_depthwise[0][0]         \n",
      "__________________________________________________________________________________________________\n",
      "block_13_depthwise_relu (ReLU)  (None, 4, 4, 576)    0           block_13_depthwise_BN[0][0]      \n",
      "__________________________________________________________________________________________________\n",
      "block_13_project (Conv2D)       (None, 4, 4, 160)    92160       block_13_depthwise_relu[0][0]    \n",
      "__________________________________________________________________________________________________\n",
      "block_13_project_BN (BatchNorma (None, 4, 4, 160)    640         block_13_project[0][0]           \n",
      "__________________________________________________________________________________________________\n",
      "block_14_expand (Conv2D)        (None, 4, 4, 960)    153600      block_13_project_BN[0][0]        \n",
      "__________________________________________________________________________________________________\n",
      "block_14_expand_BN (BatchNormal (None, 4, 4, 960)    3840        block_14_expand[0][0]            \n",
      "__________________________________________________________________________________________________\n",
      "block_14_expand_relu (ReLU)     (None, 4, 4, 960)    0           block_14_expand_BN[0][0]         \n",
      "__________________________________________________________________________________________________\n",
      "block_14_depthwise (DepthwiseCo (None, 4, 4, 960)    8640        block_14_expand_relu[0][0]       \n",
      "__________________________________________________________________________________________________\n",
      "block_14_depthwise_BN (BatchNor (None, 4, 4, 960)    3840        block_14_depthwise[0][0]         \n",
      "__________________________________________________________________________________________________\n",
      "block_14_depthwise_relu (ReLU)  (None, 4, 4, 960)    0           block_14_depthwise_BN[0][0]      \n",
      "__________________________________________________________________________________________________\n",
      "block_14_project (Conv2D)       (None, 4, 4, 160)    153600      block_14_depthwise_relu[0][0]    \n",
      "__________________________________________________________________________________________________\n",
      "block_14_project_BN (BatchNorma (None, 4, 4, 160)    640         block_14_project[0][0]           \n",
      "__________________________________________________________________________________________________\n",
      "block_14_add (Add)              (None, 4, 4, 160)    0           block_13_project_BN[0][0]        \n",
      "                                                                 block_14_project_BN[0][0]        \n",
      "__________________________________________________________________________________________________\n",
      "block_15_expand (Conv2D)        (None, 4, 4, 960)    153600      block_14_add[0][0]               \n",
      "__________________________________________________________________________________________________\n",
      "block_15_expand_BN (BatchNormal (None, 4, 4, 960)    3840        block_15_expand[0][0]            \n",
      "__________________________________________________________________________________________________\n",
      "block_15_expand_relu (ReLU)     (None, 4, 4, 960)    0           block_15_expand_BN[0][0]         \n",
      "__________________________________________________________________________________________________\n",
      "block_15_depthwise (DepthwiseCo (None, 4, 4, 960)    8640        block_15_expand_relu[0][0]       \n",
      "__________________________________________________________________________________________________\n",
      "block_15_depthwise_BN (BatchNor (None, 4, 4, 960)    3840        block_15_depthwise[0][0]         \n",
      "__________________________________________________________________________________________________\n",
      "block_15_depthwise_relu (ReLU)  (None, 4, 4, 960)    0           block_15_depthwise_BN[0][0]      \n",
      "__________________________________________________________________________________________________\n",
      "block_15_project (Conv2D)       (None, 4, 4, 160)    153600      block_15_depthwise_relu[0][0]    \n",
      "__________________________________________________________________________________________________\n",
      "block_15_project_BN (BatchNorma (None, 4, 4, 160)    640         block_15_project[0][0]           \n",
      "__________________________________________________________________________________________________\n",
      "block_15_add (Add)              (None, 4, 4, 160)    0           block_14_add[0][0]               \n",
      "                                                                 block_15_project_BN[0][0]        \n",
      "__________________________________________________________________________________________________\n",
      "block_16_expand (Conv2D)        (None, 4, 4, 960)    153600      block_15_add[0][0]               \n",
      "__________________________________________________________________________________________________\n",
      "block_16_expand_BN (BatchNormal (None, 4, 4, 960)    3840        block_16_expand[0][0]            \n",
      "__________________________________________________________________________________________________\n",
      "block_16_expand_relu (ReLU)     (None, 4, 4, 960)    0           block_16_expand_BN[0][0]         \n",
      "__________________________________________________________________________________________________\n",
      "block_16_depthwise (DepthwiseCo (None, 4, 4, 960)    8640        block_16_expand_relu[0][0]       \n",
      "__________________________________________________________________________________________________\n",
      "block_16_depthwise_BN (BatchNor (None, 4, 4, 960)    3840        block_16_depthwise[0][0]         \n",
      "__________________________________________________________________________________________________\n",
      "block_16_depthwise_relu (ReLU)  (None, 4, 4, 960)    0           block_16_depthwise_BN[0][0]      \n",
      "__________________________________________________________________________________________________\n",
      "block_16_project (Conv2D)       (None, 4, 4, 320)    307200      block_16_depthwise_relu[0][0]    \n",
      "__________________________________________________________________________________________________\n",
      "block_16_project_BN (BatchNorma (None, 4, 4, 320)    1280        block_16_project[0][0]           \n",
      "__________________________________________________________________________________________________\n",
      "Conv_1 (Conv2D)                 (None, 4, 4, 1280)   409600      block_16_project_BN[0][0]        \n",
      "__________________________________________________________________________________________________\n",
      "Conv_1_bn (BatchNormalization)  (None, 4, 4, 1280)   5120        Conv_1[0][0]                     \n",
      "__________________________________________________________________________________________________\n",
      "out_relu (ReLU)                 (None, 4, 4, 1280)   0           Conv_1_bn[0][0]                  \n",
      "==================================================================================================\n",
      "Total params: 2,257,984\n",
      "Trainable params: 0\n",
      "Non-trainable params: 2,257,984\n",
      "__________________________________________________________________________________________________\n"
     ]
    }
   ],
   "source": [
    "# check the base model architecture without classification layer\n",
    "base_model.summary()"
   ]
  },
  {
   "cell_type": "markdown",
   "id": "3ccaa830",
   "metadata": {},
   "source": [
    "### Classification layer"
   ]
  },
  {
   "cell_type": "code",
   "execution_count": 26,
   "id": "97741c95",
   "metadata": {},
   "outputs": [
    {
     "name": "stdout",
     "output_type": "stream",
     "text": [
      "(32, 1280)\n"
     ]
    }
   ],
   "source": [
    "# add classification layer - make a single vector\n",
    "global_average_layer = tf.keras.layers.GlobalAveragePooling2D()\n",
    "feature_batch_average = global_average_layer(feature_batch)\n",
    "print(feature_batch_average.shape)"
   ]
  },
  {
   "cell_type": "code",
   "execution_count": 27,
   "id": "a9683939",
   "metadata": {
    "scrolled": true
   },
   "outputs": [
    {
     "name": "stdout",
     "output_type": "stream",
     "text": [
      "(32, 340)\n"
     ]
    }
   ],
   "source": [
    "# add classification layer - classify 340 labels\n",
    "prediction_layer = tf.keras.layers.Dense(len(label_names), activation='softmax')\n",
    "prediction_batch = prediction_layer(feature_batch_average)\n",
    "\n",
    "# check final shape\n",
    "print(prediction_batch.shape)"
   ]
  },
  {
   "cell_type": "markdown",
   "id": "aaba9c4b",
   "metadata": {},
   "source": [
    "### Build model = base model + classification layer"
   ]
  },
  {
   "cell_type": "code",
   "execution_count": 28,
   "id": "c3384b79",
   "metadata": {},
   "outputs": [],
   "source": [
    "# build model by chaining together\n",
    "# use Functional API\n",
    "\n",
    "inputs = tf.keras.Input(shape=(128, 128, 3))\n",
    "x = base_model(inputs, training=False)  # don't forget to freeze layer - batch normalization \n",
    "x = global_average_layer(x)\n",
    "x = tf.keras.layers.Dropout(.2)(x)      # add dropout 20%\n",
    "outputs = prediction_layer(x)\n",
    "\n",
    "model = tf.keras.Model(inputs, outputs)"
   ]
  },
  {
   "cell_type": "code",
   "execution_count": 29,
   "id": "d6e4c80f",
   "metadata": {},
   "outputs": [
    {
     "name": "stdout",
     "output_type": "stream",
     "text": [
      "Model: \"model\"\n",
      "_________________________________________________________________\n",
      "Layer (type)                 Output Shape              Param #   \n",
      "=================================================================\n",
      "input_2 (InputLayer)         [(None, 128, 128, 3)]     0         \n",
      "_________________________________________________________________\n",
      "mobilenetv2_1.00_128 (Functi (None, 4, 4, 1280)        2257984   \n",
      "_________________________________________________________________\n",
      "global_average_pooling2d_1 ( (None, 1280)              0         \n",
      "_________________________________________________________________\n",
      "dropout (Dropout)            (None, 1280)              0         \n",
      "_________________________________________________________________\n",
      "dense (Dense)                (None, 340)               435540    \n",
      "=================================================================\n",
      "Total params: 2,693,524\n",
      "Trainable params: 435,540\n",
      "Non-trainable params: 2,257,984\n",
      "_________________________________________________________________\n"
     ]
    }
   ],
   "source": [
    "model.summary()"
   ]
  },
  {
   "cell_type": "code",
   "execution_count": 30,
   "id": "f6e92233",
   "metadata": {},
   "outputs": [
    {
     "data": {
      "image/png": "[encoded data removed]",
      "text/plain": [
       "<IPython.core.display.Image object>"
      ]
     },
     "execution_count": 30,
     "metadata": {},
     "output_type": "execute_result"
    }
   ],
   "source": [
    "tf.keras.utils.plot_model(model, show_shapes=True)"
   ]
  },
  {
   "cell_type": "markdown",
   "id": "dfdf8c57",
   "metadata": {},
   "source": [
    "### Compile model\n",
    "- tensorflow는 기본적으로 gpu를 사용할수 있으면 자동으로 사용한다고 했는데, \n",
    "- 터미널에서 gpu 메모리 실시간 사용량을 확인할때 내용이 잡히지 않아서 따로 gpu로 컴파일, 훈련을 진행해본다"
   ]
  },
  {
   "cell_type": "code",
   "execution_count": 37,
   "id": "906a7383",
   "metadata": {},
   "outputs": [],
   "source": [
    "# compile model\n",
    "base_learning_rate = 0.0001\n",
    "\n",
    "with tf.device('/GPU:0'):\n",
    "    model.compile(optimizer=tf.keras.optimizers.Adam(learning_rate=base_learning_rate), \n",
    "                  loss='categorical_crossentropy', \n",
    "                  metrics=['accuracy'])"
   ]
  },
  {
   "cell_type": "markdown",
   "id": "93bfa2c7",
   "metadata": {},
   "source": [
    "### Training\n",
    "\n",
    "- 버전1 노트북에서는 steps_per_epoch를 generator만 사용했을때처럼 `len(train_generator)`로 사용하지 않고, batch_size로 한번더 나눈 값을 이용했는데, 이 부분은 다시 동일하게 맞춤"
   ]
  },
  {
   "cell_type": "code",
   "execution_count": 38,
   "id": "c6784efd",
   "metadata": {},
   "outputs": [
    {
     "name": "stdout",
     "output_type": "stream",
     "text": [
      "Epoch 1/20\n",
      "15569/15569 [==============================] - 431s 28ms/step - loss: 0.0000e+00 - accuracy: 0.0023\n",
      "Epoch 2/20\n",
      "WARNING:tensorflow:Your input ran out of data; interrupting training. Make sure that your dataset or generator can generate at least `steps_per_epoch * epochs` batches (in this case, 311380 batches). You may need to use the repeat() function when building your dataset.\n",
      "15569/15569 [==============================] - 0s 0us/step - loss: 0.0000e+00 - accuracy: 0.0023\n"
     ]
    }
   ],
   "source": [
    "# calculate the total number of samples in your dataset\n",
    "steps_per_epoch = len(train_generator)\n",
    "\n",
    "# set checkpoint\n",
    "checkpoint_filepath = './3.model_training/checkpoint'\n",
    "checkpoint_callback = tf.keras.callbacks.ModelCheckpoint(\n",
    "    filepath=checkpoint_filepath,\n",
    "    save_weights_only=True,\n",
    "    monitor='accuracy',\n",
    "    mode='max',\n",
    "    save_best_only=True)\n",
    "\n",
    "# 모델 학습\n",
    "with tf.device('/GPU:0'):\n",
    "    history = model.fit(dataset,\n",
    "                        epochs=20, steps_per_epoch=steps_per_epoch,\n",
    "                       callbacks=[checkpoint_callback])"
   ]
  },
  {
   "cell_type": "markdown",
   "id": "a400990b",
   "metadata": {},
   "source": [
    "- 데이터가 없다는 경고문이 뜨면서 훈련이 종료됨\n",
    "- generator를 사용하는데 데이터가 없을수 있나..?\n",
    "- generator를 tf.data에 넣어서 사용하면서 배치사이즈가 다르게 설정되는걸까?\n",
    "\n",
    "> **tf.data의 prefetch\\(\\)** <br>- 훈련 속도를 더 빠르게 <br>- prefetch(1)을 호출하면 다음 훈련에 사용할 배치 하나를 미리 준비\n",
    "\n",
    "\n",
    "- tf.data는 사실 속도를 빠르게 하기 위해 prefetch 기능을 넣은것밖에 없는데 어떤 영향이 있는지 잘 모르겠다.\n",
    "\n",
    "\n",
    "- 다시 len(train_generator)을 batch_size로 한번더 나눈 값으로 모델 훈련을 진행"
   ]
  },
  {
   "cell_type": "code",
   "execution_count": 39,
   "id": "c6777cf6",
   "metadata": {},
   "outputs": [
    {
     "name": "stdout",
     "output_type": "stream",
     "text": [
      "Epoch 1/20\n",
      "486/486 [==============================] - 17s 29ms/step - loss: 0.0000e+00 - accuracy: 0.0019\n",
      "Epoch 2/20\n",
      "486/486 [==============================] - 16s 32ms/step - loss: 0.0000e+00 - accuracy: 0.0024\n",
      "Epoch 3/20\n",
      "486/486 [==============================] - 15s 31ms/step - loss: 0.0000e+00 - accuracy: 0.0021\n",
      "Epoch 4/20\n",
      "486/486 [==============================] - 15s 30ms/step - loss: 0.0000e+00 - accuracy: 0.0022\n",
      "Epoch 5/20\n",
      "486/486 [==============================] - 15s 30ms/step - loss: 0.0000e+00 - accuracy: 0.0026\n",
      "Epoch 6/20\n",
      "486/486 [==============================] - 15s 32ms/step - loss: 0.0000e+00 - accuracy: 0.0029\n",
      "Epoch 7/20\n",
      "486/486 [==============================] - 15s 31ms/step - loss: 0.0000e+00 - accuracy: 0.0024\n",
      "Epoch 8/20\n",
      "486/486 [==============================] - 15s 31ms/step - loss: 0.0000e+00 - accuracy: 0.0026\n",
      "Epoch 9/20\n",
      "486/486 [==============================] - 15s 30ms/step - loss: 0.0000e+00 - accuracy: 0.0026\n",
      "Epoch 10/20\n",
      "486/486 [==============================] - 15s 30ms/step - loss: 0.0000e+00 - accuracy: 0.0021\n",
      "Epoch 11/20\n",
      "486/486 [==============================] - 15s 30ms/step - loss: 0.0000e+00 - accuracy: 0.0022\n",
      "Epoch 12/20\n",
      "486/486 [==============================] - 14s 29ms/step - loss: 0.0000e+00 - accuracy: 0.0020\n",
      "Epoch 13/20\n",
      "486/486 [==============================] - 14s 29ms/step - loss: 0.0000e+00 - accuracy: 0.0020\n",
      "Epoch 14/20\n",
      "486/486 [==============================] - 14s 28ms/step - loss: 0.0000e+00 - accuracy: 0.0019\n",
      "Epoch 15/20\n",
      "486/486 [==============================] - 14s 28ms/step - loss: 0.0000e+00 - accuracy: 0.0024\n",
      "Epoch 16/20\n",
      "486/486 [==============================] - 14s 28ms/step - loss: 0.0000e+00 - accuracy: 0.0026\n",
      "Epoch 17/20\n",
      "486/486 [==============================] - 14s 28ms/step - loss: 0.0000e+00 - accuracy: 0.0023\n",
      "Epoch 18/20\n",
      "486/486 [==============================] - 14s 28ms/step - loss: 0.0000e+00 - accuracy: 0.0024\n",
      "Epoch 19/20\n",
      "486/486 [==============================] - 14s 28ms/step - loss: 0.0000e+00 - accuracy: 0.0018\n",
      "Epoch 20/20\n",
      "486/486 [==============================] - 14s 28ms/step - loss: 0.0000e+00 - accuracy: 0.0024\n"
     ]
    }
   ],
   "source": [
    "# calculate the total number of samples in your dataset\n",
    "total_samples = len(train_generator)\n",
    "\n",
    "# calculate steps per epoch\n",
    "steps_per_epoch = total_samples // batch_size\n",
    "\n",
    "# compile model\n",
    "with tf.device('/GPU:0'):\n",
    "    model.compile(optimizer=tf.keras.optimizers.Adam(learning_rate=base_learning_rate), \n",
    "                  loss='categorical_crossentropy', \n",
    "                  metrics=['accuracy'])\n",
    "    \n",
    "# 모델 학습\n",
    "with tf.device('/GPU:0'):\n",
    "    history = model.fit(dataset,\n",
    "                        epochs=20, steps_per_epoch=steps_per_epoch,\n",
    "                       callbacks=[checkpoint_callback])"
   ]
  },
  {
   "cell_type": "markdown",
   "id": "d74257ff",
   "metadata": {},
   "source": [
    "- 학습률을 조금 더 늘려서 학습을 진행해본다"
   ]
  },
  {
   "cell_type": "code",
   "execution_count": 41,
   "id": "18414337",
   "metadata": {},
   "outputs": [
    {
     "name": "stdout",
     "output_type": "stream",
     "text": [
      "Epoch 1/20\n",
      "486/486 [==============================] - 16s 28ms/step - loss: 0.0000e+00 - accuracy: 0.0032\n",
      "Epoch 2/20\n",
      "486/486 [==============================] - 14s 28ms/step - loss: 0.0000e+00 - accuracy: 0.0028\n",
      "Epoch 3/20\n",
      "486/486 [==============================] - 14s 28ms/step - loss: 0.0000e+00 - accuracy: 0.0026\n",
      "Epoch 4/20\n",
      "486/486 [==============================] - 14s 28ms/step - loss: 0.0000e+00 - accuracy: 0.0026\n",
      "Epoch 5/20\n",
      "486/486 [==============================] - 14s 28ms/step - loss: 0.0000e+00 - accuracy: 0.0026\n",
      "Epoch 6/20\n",
      "486/486 [==============================] - 14s 29ms/step - loss: 0.0000e+00 - accuracy: 0.0029\n",
      "Epoch 7/20\n",
      "486/486 [==============================] - 14s 29ms/step - loss: 0.0000e+00 - accuracy: 0.0024\n",
      "Epoch 8/20\n",
      "486/486 [==============================] - 14s 29ms/step - loss: 0.0000e+00 - accuracy: 0.0027\n",
      "Epoch 9/20\n",
      "486/486 [==============================] - 14s 28ms/step - loss: 0.0000e+00 - accuracy: 0.0028\n",
      "Epoch 10/20\n",
      "486/486 [==============================] - 14s 28ms/step - loss: 0.0000e+00 - accuracy: 0.0025\n",
      "Epoch 11/20\n",
      "486/486 [==============================] - 14s 29ms/step - loss: 0.0000e+00 - accuracy: 0.0023\n",
      "Epoch 12/20\n",
      "486/486 [==============================] - 14s 28ms/step - loss: 0.0000e+00 - accuracy: 0.0025\n",
      "Epoch 13/20\n",
      "486/486 [==============================] - 14s 28ms/step - loss: 0.0000e+00 - accuracy: 0.0025\n",
      "Epoch 14/20\n",
      "486/486 [==============================] - 13s 28ms/step - loss: 0.0000e+00 - accuracy: 0.0022\n",
      "Epoch 15/20\n",
      "486/486 [==============================] - 14s 28ms/step - loss: 0.0000e+00 - accuracy: 0.0027\n",
      "Epoch 16/20\n",
      "486/486 [==============================] - 14s 29ms/step - loss: 0.0000e+00 - accuracy: 0.0026\n",
      "Epoch 17/20\n",
      "486/486 [==============================] - 14s 29ms/step - loss: 0.0000e+00 - accuracy: 0.0023\n",
      "Epoch 18/20\n",
      "486/486 [==============================] - 14s 28ms/step - loss: 0.0000e+00 - accuracy: 0.0024\n",
      "Epoch 19/20\n",
      "486/486 [==============================] - 14s 29ms/step - loss: 0.0000e+00 - accuracy: 0.0028\n",
      "Epoch 20/20\n",
      "486/486 [==============================] - 14s 29ms/step - loss: 0.0000e+00 - accuracy: 0.0025\n"
     ]
    }
   ],
   "source": [
    "base_learning_rate = 0.001\n",
    "\n",
    "# compile model\n",
    "with tf.device('/GPU:0'):\n",
    "    model.compile(optimizer=tf.keras.optimizers.Adam(learning_rate=base_learning_rate), \n",
    "                  loss='categorical_crossentropy', \n",
    "                  metrics=['accuracy'])\n",
    "    \n",
    "# 모델 학습\n",
    "with tf.device('/GPU:0'):\n",
    "    history = model.fit(dataset,\n",
    "                        epochs=20, steps_per_epoch=steps_per_epoch,\n",
    "                       callbacks=[checkpoint_callback])"
   ]
  },
  {
   "cell_type": "markdown",
   "id": "2b9be579",
   "metadata": {},
   "source": [
    "- 학습이 거의 이루어지지 않은걸 확인할수 있다. \n",
    "- 두번째 모델 vgg16 모델로 학습을 진행해본다"
   ]
  },
  {
   "cell_type": "markdown",
   "id": "6b498ac7",
   "metadata": {},
   "source": [
    "# 2. VGG16\n",
    "- ImageNet 데이터셋으로 사전훈련됨\n",
    "- 기본 input 사이즈 : 224x224\n",
    "- [참고] ['Very Deep Convolutional Networks for Large-Scale Image Recognition' paper](https://arxiv.org/pdf/1409.1556.pdf)"
   ]
  },
  {
   "cell_type": "markdown",
   "id": "dde31f2d",
   "metadata": {},
   "source": [
    "### Base model - Feature extraction"
   ]
  },
  {
   "cell_type": "code",
   "execution_count": 42,
   "id": "a5b68073",
   "metadata": {},
   "outputs": [
    {
     "name": "stdout",
     "output_type": "stream",
     "text": [
      "Downloading data from https://storage.googleapis.com/tensorflow/keras-applications/vgg16/vgg16_weights_tf_dim_ordering_tf_kernels_notop.h5\n",
      "58892288/58889256 [==============================] - 0s 0us/step\n",
      "58900480/58889256 [==============================] - 0s 0us/step\n"
     ]
    }
   ],
   "source": [
    "# create the base model from the pre-trained model VGG16\n",
    "base_model = tf.keras.applications.vgg16.VGG16(input_shape=IMG_SHAPE,\n",
    "                                               include_top=False, # only feature extraction\n",
    "                                               weights='imagenet')"
   ]
  },
  {
   "cell_type": "code",
   "execution_count": 43,
   "id": "b1fbfb4a",
   "metadata": {},
   "outputs": [],
   "source": [
    "# check feature extractor\n",
    "image_batch, label_batch = next(iter(dataset))\n",
    "feature_batch = base_model(image_batch)"
   ]
  },
  {
   "cell_type": "code",
   "execution_count": 44,
   "id": "b2208b8d",
   "metadata": {},
   "outputs": [
    {
     "name": "stdout",
     "output_type": "stream",
     "text": [
      "(32, 4, 4, 512)\n"
     ]
    }
   ],
   "source": [
    "print(feature_batch.shape)"
   ]
  },
  {
   "cell_type": "code",
   "execution_count": 45,
   "id": "f1b476be",
   "metadata": {},
   "outputs": [],
   "source": [
    "# freeze the confolutional base\n",
    "base_model.trainable = False"
   ]
  },
  {
   "cell_type": "code",
   "execution_count": 46,
   "id": "1fe5e304",
   "metadata": {},
   "outputs": [
    {
     "name": "stdout",
     "output_type": "stream",
     "text": [
      "Model: \"vgg16\"\n",
      "_________________________________________________________________\n",
      "Layer (type)                 Output Shape              Param #   \n",
      "=================================================================\n",
      "input_3 (InputLayer)         [(None, 128, 128, 3)]     0         \n",
      "_________________________________________________________________\n",
      "block1_conv1 (Conv2D)        (None, 128, 128, 64)      1792      \n",
      "_________________________________________________________________\n",
      "block1_conv2 (Conv2D)        (None, 128, 128, 64)      36928     \n",
      "_________________________________________________________________\n",
      "block1_pool (MaxPooling2D)   (None, 64, 64, 64)        0         \n",
      "_________________________________________________________________\n",
      "block2_conv1 (Conv2D)        (None, 64, 64, 128)       73856     \n",
      "_________________________________________________________________\n",
      "block2_conv2 (Conv2D)        (None, 64, 64, 128)       147584    \n",
      "_________________________________________________________________\n",
      "block2_pool (MaxPooling2D)   (None, 32, 32, 128)       0         \n",
      "_________________________________________________________________\n",
      "block3_conv1 (Conv2D)        (None, 32, 32, 256)       295168    \n",
      "_________________________________________________________________\n",
      "block3_conv2 (Conv2D)        (None, 32, 32, 256)       590080    \n",
      "_________________________________________________________________\n",
      "block3_conv3 (Conv2D)        (None, 32, 32, 256)       590080    \n",
      "_________________________________________________________________\n",
      "block3_pool (MaxPooling2D)   (None, 16, 16, 256)       0         \n",
      "_________________________________________________________________\n",
      "block4_conv1 (Conv2D)        (None, 16, 16, 512)       1180160   \n",
      "_________________________________________________________________\n",
      "block4_conv2 (Conv2D)        (None, 16, 16, 512)       2359808   \n",
      "_________________________________________________________________\n",
      "block4_conv3 (Conv2D)        (None, 16, 16, 512)       2359808   \n",
      "_________________________________________________________________\n",
      "block4_pool (MaxPooling2D)   (None, 8, 8, 512)         0         \n",
      "_________________________________________________________________\n",
      "block5_conv1 (Conv2D)        (None, 8, 8, 512)         2359808   \n",
      "_________________________________________________________________\n",
      "block5_conv2 (Conv2D)        (None, 8, 8, 512)         2359808   \n",
      "_________________________________________________________________\n",
      "block5_conv3 (Conv2D)        (None, 8, 8, 512)         2359808   \n",
      "_________________________________________________________________\n",
      "block5_pool (MaxPooling2D)   (None, 4, 4, 512)         0         \n",
      "=================================================================\n",
      "Total params: 14,714,688\n",
      "Trainable params: 0\n",
      "Non-trainable params: 14,714,688\n",
      "_________________________________________________________________\n"
     ]
    }
   ],
   "source": [
    "# check the base model architecture without classification layer\n",
    "base_model.summary()"
   ]
  },
  {
   "cell_type": "markdown",
   "id": "72aa9ea4",
   "metadata": {},
   "source": [
    "- 이 모델에는 BatchNormalization layer가 포함되어있지 않음\n",
    "- 모델훈련에서는 training옵션을 True로 설정한다"
   ]
  },
  {
   "cell_type": "markdown",
   "id": "b257db6b",
   "metadata": {},
   "source": [
    "### Classification layer"
   ]
  },
  {
   "cell_type": "code",
   "execution_count": 48,
   "id": "2cbd6311",
   "metadata": {},
   "outputs": [
    {
     "name": "stdout",
     "output_type": "stream",
     "text": [
      "(32, 512)\n"
     ]
    }
   ],
   "source": [
    "# add classification layer - make a single vector\n",
    "global_average_layer = tf.keras.layers.GlobalAveragePooling2D()\n",
    "feature_batch_average = global_average_layer(feature_batch)\n",
    "print(feature_batch_average.shape)"
   ]
  },
  {
   "cell_type": "code",
   "execution_count": 49,
   "id": "280acba5",
   "metadata": {
    "scrolled": true
   },
   "outputs": [
    {
     "name": "stdout",
     "output_type": "stream",
     "text": [
      "(32, 340)\n"
     ]
    }
   ],
   "source": [
    "# add classification layer - classify 340 labels\n",
    "prediction_layer = tf.keras.layers.Dense(len(label_names), activation='softmax')\n",
    "prediction_batch = prediction_layer(feature_batch_average)\n",
    "\n",
    "# check final shape\n",
    "print(prediction_batch.shape)"
   ]
  },
  {
   "cell_type": "markdown",
   "id": "acb3d6e8",
   "metadata": {},
   "source": [
    "### Build model = base model + classification layer"
   ]
  },
  {
   "cell_type": "code",
   "execution_count": 50,
   "id": "20ba448f",
   "metadata": {},
   "outputs": [],
   "source": [
    "# build model by chaining together\n",
    "# use Functional API\n",
    "\n",
    "inputs = tf.keras.Input(shape=(128, 128, 3))\n",
    "x = base_model(inputs, training=True)  # don't freeze layer - no batch normalization \n",
    "x = global_average_layer(x)\n",
    "outputs = prediction_layer(x)\n",
    "\n",
    "model = tf.keras.Model(inputs, outputs)"
   ]
  },
  {
   "cell_type": "code",
   "execution_count": 51,
   "id": "dd24584d",
   "metadata": {},
   "outputs": [
    {
     "name": "stdout",
     "output_type": "stream",
     "text": [
      "Model: \"model_1\"\n",
      "_________________________________________________________________\n",
      "Layer (type)                 Output Shape              Param #   \n",
      "=================================================================\n",
      "input_4 (InputLayer)         [(None, 128, 128, 3)]     0         \n",
      "_________________________________________________________________\n",
      "vgg16 (Functional)           (None, 4, 4, 512)         14714688  \n",
      "_________________________________________________________________\n",
      "global_average_pooling2d_2 ( (None, 512)               0         \n",
      "_________________________________________________________________\n",
      "dense_1 (Dense)              (None, 340)               174420    \n",
      "=================================================================\n",
      "Total params: 14,889,108\n",
      "Trainable params: 174,420\n",
      "Non-trainable params: 14,714,688\n",
      "_________________________________________________________________\n"
     ]
    }
   ],
   "source": [
    "model.summary()"
   ]
  },
  {
   "cell_type": "code",
   "execution_count": 52,
   "id": "22a10e3c",
   "metadata": {},
   "outputs": [
    {
     "data": {
      "image/png": "[encoded data removed]",
      "text/plain": [
       "<IPython.core.display.Image object>"
      ]
     },
     "execution_count": 52,
     "metadata": {},
     "output_type": "execute_result"
    }
   ],
   "source": [
    "tf.keras.utils.plot_model(model, show_shapes=True)"
   ]
  },
  {
   "cell_type": "markdown",
   "id": "222de768",
   "metadata": {},
   "source": [
    "### Compile model\n",
    "- tensorflow는 기본적으로 gpu를 사용할수 있으면 자동으로 사용한다고 했는데, \n",
    "- 터미널에서 gpu 메모리 실시간 사용량을 확인할때 내용이 잡히지 않아서 따로 gpu로 컴파일, 훈련을 진행해본다"
   ]
  },
  {
   "cell_type": "code",
   "execution_count": 56,
   "id": "71f86fc2",
   "metadata": {},
   "outputs": [],
   "source": [
    "# compile model\n",
    "base_learning_rate = 0.01  # 학습속도가 크지않아서 이번 부터는 크게 설정\n",
    "\n",
    "with tf.device('/GPU:0'):\n",
    "    model.compile(optimizer=tf.keras.optimizers.Adam(learning_rate=base_learning_rate), \n",
    "                  loss='categorical_crossentropy', \n",
    "                  metrics=['accuracy'])"
   ]
  },
  {
   "cell_type": "markdown",
   "id": "1986a11d",
   "metadata": {},
   "source": [
    "### Training"
   ]
  },
  {
   "cell_type": "code",
   "execution_count": null,
   "id": "97accf7b",
   "metadata": {},
   "outputs": [
    {
     "name": "stdout",
     "output_type": "stream",
     "text": [
      "Epoch 1/20\n",
      "486/486 [==============================] - 21s 41ms/step - loss: 0.0000e+00 - accuracy: 0.0026\n",
      "Epoch 2/20\n",
      "486/486 [==============================] - 20s 41ms/step - loss: 0.0000e+00 - accuracy: 0.0030\n",
      "Epoch 3/20\n",
      "486/486 [==============================] - 20s 41ms/step - loss: 0.0000e+00 - accuracy: 0.0028\n",
      "Epoch 4/20\n",
      "486/486 [==============================] - 20s 41ms/step - loss: 0.0000e+00 - accuracy: 0.0030\n",
      "Epoch 5/20\n",
      "486/486 [==============================] - 20s 41ms/step - loss: 0.0000e+00 - accuracy: 0.0028\n",
      "Epoch 6/20\n",
      "486/486 [==============================] - 20s 41ms/step - loss: 0.0000e+00 - accuracy: 0.0032\n",
      "Epoch 7/20\n",
      "486/486 [==============================] - 20s 41ms/step - loss: 0.0000e+00 - accuracy: 0.0030\n",
      "Epoch 8/20\n",
      "486/486 [==============================] - 20s 41ms/step - loss: 0.0000e+00 - accuracy: 0.0031\n",
      "Epoch 9/20\n",
      "  4/486 [..............................] - ETA: 21s - loss: 0.0000e+00 - accuracy: 0.0000e+00"
     ]
    }
   ],
   "source": [
    "# set checkpoint\n",
    "checkpoint_filepath = './3.model_training/vgg_checkpoint'\n",
    "checkpoint_callback = tf.keras.callbacks.ModelCheckpoint(\n",
    "    filepath=checkpoint_filepath,\n",
    "    save_weights_only=True,\n",
    "    monitor='accuracy',\n",
    "    mode='max',\n",
    "    save_best_only=True)\n",
    "\n",
    "# calculate the total number of samples in your dataset\n",
    "total_samples = len(train_generator)\n",
    "\n",
    "# calculate steps per epoch\n",
    "steps_per_epoch = total_samples // batch_size\n",
    "\n",
    "# 모델 학습\n",
    "with tf.device('/GPU:0'):\n",
    "    history = model.fit(dataset,\n",
    "                        epochs=20, steps_per_epoch=steps_per_epoch,\n",
    "                       callbacks=[checkpoint_callback])"
   ]
  },
  {
   "cell_type": "code",
   "execution_count": null,
   "id": "98c66297",
   "metadata": {},
   "outputs": [],
   "source": []
  }
 ],
 "metadata": {
  "kernelspec": {
   "display_name": "Python 3 (ipykernel)",
   "language": "python",
   "name": "python3"
  },
  "language_info": {
   "codemirror_mode": {
    "name": "ipython",
    "version": 3
   },
   "file_extension": ".py",
   "mimetype": "text/x-python",
   "name": "python",
   "nbconvert_exporter": "python",
   "pygments_lexer": "ipython3",
   "version": "3.9.7"
  },
  "toc": {
   "base_numbering": 1,
   "nav_menu": {},
   "number_sections": false,
   "sideBar": true,
   "skip_h1_title": false,
   "title_cell": "Table of Contents",
   "title_sidebar": "Contents",
   "toc_cell": false,
   "toc_position": {
    "height": "calc(100% - 180px)",
    "left": "10px",
    "top": "150px",
    "width": "183px"
   },
   "toc_section_display": true,
   "toc_window_display": true
  }
 },
 "nbformat": 4,
 "nbformat_minor": 5
}
