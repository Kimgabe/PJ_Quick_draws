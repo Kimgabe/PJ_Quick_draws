{
 "cells": [
  {
   "cell_type": "markdown",
   "id": "b73efd36",
   "metadata": {},
   "source": [
    "# 0211 - Data preprocessing\n",
    "- 대용량 데이터를 효율적으로 처리할수 있는 파이프라인 구축 및 데이터 전처리 시도 3\n",
    "\n",
    "\n",
    "- generator를 사용하되, 각 레이블 csv 파일을 섞어가며 배치데이터를 생성  \n"
   ]
  },
  {
   "cell_type": "code",
   "execution_count": 8,
   "id": "32533033",
   "metadata": {},
   "outputs": [],
   "source": [
    "# import libraries\n",
    "\n",
    "import tensorflow as tf\n",
    "import pathlib\n",
    "import os\n",
    "import matplotlib.pyplot as plt\n",
    "import pandas as pd\n",
    "import numpy as np\n",
    "import cv2"
   ]
  },
  {
   "cell_type": "code",
   "execution_count": 2,
   "id": "6b6717c1",
   "metadata": {
    "scrolled": true
   },
   "outputs": [
    {
     "name": "stdout",
     "output_type": "stream",
     "text": [
      "csv 파일 수 :  340\n",
      "csv_files[:3] :  ['../data/train_simplified/cruise_ship.csv', '../data/train_simplified/coffee_cup.csv', '../data/train_simplified/spreadsheet.csv']\n"
     ]
    }
   ],
   "source": [
    "# Define the directory containing the CSV files\n",
    "train_directory = \"../data/train_simplified\"\n",
    "\n",
    "# Get the list of CSV files in the directory\n",
    "csv_files = [os.path.join(train_directory, file) for file in os.listdir(train_directory) if file.endswith(\".csv\")]\n",
    "\n",
    "# check csv files list\n",
    "print('csv 파일 수 : ', len(csv_files))\n",
    "print('csv_files[:3] : ', csv_files[:3])"
   ]
  },
  {
   "cell_type": "code",
   "execution_count": 3,
   "id": "6828fb4b",
   "metadata": {
    "code_folding": []
   },
   "outputs": [
    {
     "name": "stdout",
     "output_type": "stream",
     "text": [
      "train_simplified 폴더 내 파일 수: 340\n",
      "train_csvs[:3] :  ['cruise_ship.csv', 'coffee_cup.csv', 'spreadsheet.csv']\n",
      "label_names [:3] : ['cruise_ship', 'coffee_cup', 'spreadsheet']\n",
      "label_names의 총 개수: 340\n"
     ]
    }
   ],
   "source": [
    "# train_simplified 폴더 내의 파일 목록\n",
    "train_csvs = [file for file in os.listdir(train_directory) if file.endswith('.csv')]\n",
    "print(\"train_simplified 폴더 내 파일 수:\", len(train_csvs))\n",
    "print('train_csvs[:3] : ',train_csvs[:3])\n",
    "\n",
    "# .csv 확장자를 제외한 파일명을 사용하여 label_names 리스트를 생성\n",
    "label_names = [file.replace('.csv', '') for file in train_csvs]\n",
    "print('label_names [:3] :', label_names[:3])\n",
    "\n",
    "# label_names 리스트의 총 개수를 출력\n",
    "print(\"label_names의 총 개수:\", len(label_names))"
   ]
  },
  {
   "cell_type": "markdown",
   "id": "135a7891",
   "metadata": {},
   "source": [
    "---\n",
    "\n",
    "# try 1 :  `ShuffledDataGenerator` 코드 수정\n",
    "\n",
    "- `ShuffledDataGenerator` 클래스(셔플클래스)는 **row** 를 yield함\n",
    "- dataset을 만들기위한 `tf.data.Dataset.from_generator`를 사용할수 없는 문제 발생 \n",
    "- `ImgDataGenerator` 코드를 차용해서 셔플클래스를 수정해보려고함\n"
   ]
  },
  {
   "cell_type": "markdown",
   "id": "5d2446cc",
   "metadata": {},
   "source": [
    "## step 1 - ShuffledDataGenerator에 ImgDataGenerator 기능 추가\n",
    "\n",
    "- '__getitem__' method를 추가해야함"
   ]
  },
  {
   "cell_type": "code",
   "execution_count": 4,
   "id": "c833052d",
   "metadata": {},
   "outputs": [],
   "source": [
    "import json\n",
    "from tensorflow.keras.utils import Sequence, to_categorical\n",
    "\n",
    "class ShuffledDataGenerator(tf.keras.utils.Sequence):\n",
    "    def __init__(self, label_paths, batch_size, shuffle_within_label=True, input_shape=(128, 128, 3), label_names=None, lw=3, smoothing_factor=0.1):\n",
    "        \"\"\"\n",
    "        ShuffledDataGenerator 클래스 생성자\n",
    "        \n",
    "        Args:\n",
    "            label_paths (list): 각 레이블 CSV 파일 경로의 리스트\n",
    "            batch_size (int): 배치 크기\n",
    "            shuffle_within_label (bool): 각 레이블의 데이터셋 내에서 섞을지 여부\n",
    "            input_shape (tuple): 입력 이미지 모양 (기본값: (128, 128, 3))\n",
    "            label_names (list): 레이블 이름 리스트 (기본값: None)\n",
    "            lw (int): 선의 너비 (기본값: 3)\n",
    "            smoothing_factor (float): 스무딩 팩터 (기본값: 0.1)\n",
    "        \"\"\"\n",
    "        self.label_paths = label_paths\n",
    "        self.batch_size = batch_size\n",
    "        self.shuffle_within_label = shuffle_within_label\n",
    "        self.input_shape = input_shape  # 입력 이미지 모양\n",
    "        self.label_names = label_names  # 레이블 이름\n",
    "        self.lw = lw                    # 선의 너비\n",
    "        self.smoothing_factor = smoothing_factor  # 스무딩 팩터\n",
    "        self.file_generators = [self._file_generator(label_path) for label_path in label_paths]\n",
    "        self.indices = np.arange(len(self.file_generators)).repeat(batch_size)\n",
    "        \n",
    "        if shuffle_within_label:\n",
    "            self._shuffle_within_label()\n",
    "\n",
    "    def __len__(self):\n",
    "        \"\"\"\n",
    "        제네레이터 내의 배치 수 리턴\n",
    "        \"\"\"\n",
    "        return len(self.indices) // self.batch_size\n",
    "    \n",
    "    # 레이블을 부드럽게 만드는 함수\n",
    "    def smooth_labels(self, labels):\n",
    "        labels *= (1 - self.smoothing_factor) # 스무딩 적용\n",
    "        labels += (self.smoothing_factor / len(self.label_names))  # 스무딩 팩터에 따라 레이블 조정\n",
    "        return labels\n",
    "    \n",
    "\n",
    "    def __getitem__(self, idx):\n",
    "        \"\"\"\n",
    "        데이터의 배치 생성\n",
    "        \n",
    "        Args:\n",
    "            idx (int): 배치 인덱스\n",
    "        \n",
    "        Returns:\n",
    "            tuple: (X_batch, y_batch) data tuple\n",
    "        \"\"\"\n",
    "        batch_indices = self.indices[idx * self.batch_size:(idx + 1) * self.batch_size]\n",
    "        X_batch, y_batch = [], []\n",
    "        for i in batch_indices:\n",
    "            data_generator = self._file_generator(self.label_paths[i])\n",
    "            X, y = next(data_generator)\n",
    "            X_batch.append(X)\n",
    "            y_batch.append(y)\n",
    "        return np.array(X_batch), np.array(y_batch)\n",
    "\n",
    "    \n",
    "    def _file_generator(self, label_path):\n",
    "        \"\"\"\n",
    "        각 레이블 CSV 파일에서 데이터를 생성\n",
    "        \n",
    "        Args:\n",
    "            label_path (str): 각 레이블 CSV 파일 경로\n",
    "        \n",
    "        Yields:\n",
    "            tuple: (X, y) 데이터 튜플\n",
    "        \"\"\"\n",
    "        df = pd.read_csv(label_path, usecols=['drawing','word'])\n",
    "        \n",
    "#         print(\"Number of rows in DataFrame:\", len(df)) # debugging\n",
    "        \n",
    "        if self.shuffle_within_label:\n",
    "            df = df.sample(frac=1)  # 레이블의 데이터셋 내에서 섞기\n",
    "\n",
    "        h, w, ch = self.input_shape     # 이미지 모양     \n",
    "        X = np.zeros((self.batch_size, h, w, ch))  # 입력 이미지 배열 초기화\n",
    "        y = np.zeros((self.batch_size, len(self.label_names)))  # 레이블 배열 초기화\n",
    "\n",
    "#         '''debugging'''\n",
    "#         print(f\"X shape: {X.shape}\")  \n",
    "        \n",
    "        for (_, row) in df.iterrows():  # DataFrame의 각 행을 생성\n",
    "#             '''debugging'''\n",
    "#             print(f\"Processing index: {i}\") \n",
    "            \n",
    "            # drawing 정보 처리\n",
    "            raw_strokes = json.loads(row['drawing'])   # 그림 정보 가져오기\n",
    "            \n",
    "#             '''debugging'''\n",
    "#             print('raw_strikes: ', raw_strokes) \n",
    "            \n",
    "            X = draw_strokes(raw_strokes, image_size=h, line_width=self.lw)\n",
    "\n",
    "            # word 정보 처리 \n",
    "            word = row['word'].replace(' ', '_')  # 레이블 인덱스 (공백을 underscore _ 로 변경)\n",
    "            label_index = self.label_names.index(word)  # map word to numerical index\n",
    "            y = to_categorical(label_index, num_classes=len(self.label_names))  # 원-핫 인코딩된 레이블\n",
    "\n",
    "#         '''debugging'''\n",
    "#         print(f\"Generated X :{X} and y :{y}\") \n",
    "            \n",
    "        yield (X, y)\n",
    "\n",
    "    \n",
    "    def _shuffle_within_label(self):\n",
    "        \"\"\"\n",
    "        각 레이블의 데이터셋 내에서 인덱스를 섞기\n",
    "        \"\"\"\n",
    "        np.random.shuffle(self.indices)"
   ]
  },
  {
   "cell_type": "markdown",
   "id": "8c9436bc",
   "metadata": {},
   "source": [
    "---\n",
    "### drawing 컬럼의 좌표값으로 이미지를 그리는 함수(승순님 코드)\n",
    "\n",
    "- 이 함수는 `raw_strokes` (원시 획 데이터)를 입력으로 받아, 지정된 이미지 크기(`image_size`)와 선 두께(`line_width`)를 사용하여 이미지를 생성합니다. \n",
    "- 입력된 획 데이터는 NumPy 배열로 변환되며, 각 획의 최소 및 최대 x, y 좌표를 계산하여 이미지의 경계를 결정합니다. \n",
    "- 이후, 계산된 비율에 따라 모든 획의 좌표를 조정하고, OpenCV의 `cv2.line` 함수를 사용하여 선을 그립니다. \n",
    "- 최종적으로 조정된 좌표에 따라 그려진 이미지를 반환합니다. \n",
    "- 이 과정을 통해, 원본파일의 drawings 컬럼의 좌표값 데이터(stroke)를 이미지형태로 변환할 수 있습니다."
   ]
  },
  {
   "cell_type": "code",
   "execution_count": 60,
   "id": "a81ee12e",
   "metadata": {},
   "outputs": [],
   "source": [
    "# def draw_strokes(raw_strokes, image_size=128, line_width=6):\n",
    "#     border_offset = line_width * 2  # 테두리 공백 크기\n",
    "#     stroke_list = []  # raw_strokes를 NumPy 배열로 변환한 리스트\n",
    "#     bounds_info = {\"min_x\": float('inf'), \"min_y\": float('inf'),  # 최소 x, y 좌표 초기화\n",
    "#                    \"max_x\": float('-inf'), \"max_y\": float('-inf')}  # 최대 x, y 좌표 초기화\n",
    "    \n",
    "#     # raw_strokes의 각 stroke에 대해 NumPy 배열로 변환하고 경계 좌표 갱신\n",
    "#     for stroke in raw_strokes:\n",
    "#         np_stroke = np.array(stroke)  # stroke를 NumPy 배열로 변환\n",
    "#         stroke_list.append(np_stroke)    # 변환된 배열을 stroke_list에 추가\n",
    "#         # 최소/최대 x, y 좌표 갱신\n",
    "#         bounds_info[\"min_x\"] = min(bounds_info[\"min_x\"], min(np_stroke[0]))\n",
    "#         bounds_info[\"max_x\"] = max(bounds_info[\"max_x\"], max(np_stroke[0]))\n",
    "#         bounds_info[\"min_y\"] = min(bounds_info[\"min_y\"], min(np_stroke[1]))\n",
    "#         bounds_info[\"max_y\"] = max(bounds_info[\"max_y\"], max(np_stroke[1]))\n",
    "    \n",
    "#     # 빈 이미지 생성\n",
    "#     new_image = np.zeros((image_size, image_size, 3), dtype=float)\n",
    "#     original_width = bounds_info[\"max_x\"] - bounds_info[\"min_x\"]  # 원본 그림의 너비\n",
    "#     original_height = bounds_info[\"max_y\"] - bounds_info[\"min_y\"]  # 원본 그림의 높이\n",
    "#     ratio = max(original_width, original_height) / (image_size - border_offset * 2)  # 비율 계산\n",
    "    \n",
    "#     # 비율이 0일 경우 빈 이미지 반환\n",
    "#     if ratio == 0:\n",
    "#         return new_image\n",
    "\n",
    "#     # 각 stroke의 좌표를 새로운 크기에 맞게 조정하여 이미지에 그리기\n",
    "#     for np_stroke in stroke_list:\n",
    "#         np_stroke[0] = (np_stroke[0] - bounds_info[\"min_x\"]) / ratio + border_offset  # x 좌표 조정\n",
    "#         np_stroke[1] = (np_stroke[1] - bounds_info[\"min_y\"]) / ratio + border_offset  # y 좌표 조정\n",
    "#         # 선 그리기\n",
    "#         for i in range(len(np_stroke[0]) - 1):\n",
    "#             start_x, start_y = int(np_stroke[0][i]), int(np_stroke[1][i])  # 시작점 좌표\n",
    "#             end_x, end_y = int(np_stroke[0][i + 1]), int(np_stroke[1][i + 1])  # 끝점 좌표\n",
    "#             new_image = cv2.line(new_image, (start_x, start_y), (end_x, end_y), (255, 255, 255), line_width)  # 선 그리기\n",
    "    \n",
    "#     print(new_image) # debugging\n",
    "    \n",
    "#     return new_image  # 완성된 이미지 반환"
   ]
  },
  {
   "cell_type": "markdown",
   "id": "2fa92dae",
   "metadata": {},
   "source": [
    "- error가 계속 나서 함수 새로 생성"
   ]
  },
  {
   "cell_type": "code",
   "execution_count": 5,
   "id": "abbbfea9",
   "metadata": {},
   "outputs": [],
   "source": [
    "def draw_strokes(raw_strokes, image_size=128, line_width=3):\n",
    "    \"\"\"\n",
    "    Function to draw strokes based on coordinates\n",
    "    \n",
    "    Args:\n",
    "        raw_strokes (list): List of strokes with coordinates\n",
    "        image_size (int): Size of the image (default: 128)\n",
    "        line_width (int): Width of the line (default: 3)\n",
    "    \n",
    "    Returns:\n",
    "        ndarray: Array representing the drawn image\n",
    "    \"\"\"\n",
    "    image = np.zeros((image_size, image_size))\n",
    "    for stroke in raw_strokes:\n",
    "        for i in range(len(stroke[0]) - 1):\n",
    "            x0, y0 = stroke[0][i], stroke[1][i]\n",
    "            x1, y1 = stroke[0][i + 1], stroke[1][i + 1]\n",
    "            cv2.line(image, (x0, y0), (x1, y1), 1, line_width)\n",
    "\n",
    "    return image"
   ]
  },
  {
   "cell_type": "code",
   "execution_count": 6,
   "id": "8cd917c0",
   "metadata": {},
   "outputs": [],
   "source": [
    "# Img_data_generator 인스턴스 생성\n",
    "input_shape = (128, 128, 3)  # 입력 이미지의 형태 \n",
    "batch_size = 32              # 배치 사이즈\n",
    "lw = 3\n",
    "smoothing_factor = 0.1\n",
    "\"\"\"\n",
    "ShuffledDataGenerator 클래스의 인스턴스 생성\n",
    "- csv_files : 각 레이블 CSV 파일 경로의 리스트\n",
    "- batch_size (int): 배치 크기\n",
    "- shuffle_within_label (bool): True - 각 레이블의 데이터셋 내에서 섞을지 여부\n",
    "- input_shape: 입력 이미지의 형태 (높이, 너비, 채널 - 기본값: (128, 128, 3))\n",
    "- label_names: 레이블 이름 리스트\n",
    "- lw: 선의 너비 (기본값은 2)\n",
    "- smoothing_factor (float): 스무딩 팩터 (기본값: 0.1)\n",
    "\"\"\"\n",
    "shuffled_data_gen = ShuffledDataGenerator(csv_files, batch_size, input_shape=input_shape, label_names=label_names, lw=lw, smoothing_factor=smoothing_factor)"
   ]
  },
  {
   "cell_type": "code",
   "execution_count": 9,
   "id": "75188e7e",
   "metadata": {
    "scrolled": true
   },
   "outputs": [
    {
     "ename": "KeyboardInterrupt",
     "evalue": "",
     "output_type": "error",
     "traceback": [
      "\u001b[0;31m---------------------------------------------------------------------------\u001b[0m",
      "\u001b[0;31mKeyboardInterrupt\u001b[0m                         Traceback (most recent call last)",
      "\u001b[0;32m/tmp/ipykernel_47/1929132622.py\u001b[0m in \u001b[0;36m<module>\u001b[0;34m\u001b[0m\n\u001b[0;32m----> 1\u001b[0;31m \u001b[0mshuffled_data_gen\u001b[0m\u001b[0;34m[\u001b[0m\u001b[0;36m0\u001b[0m\u001b[0;34m]\u001b[0m\u001b[0;34m\u001b[0m\u001b[0;34m\u001b[0m\u001b[0m\n\u001b[0m",
      "\u001b[0;32m/tmp/ipykernel_47/2989418669.py\u001b[0m in \u001b[0;36m__getitem__\u001b[0;34m(self, idx)\u001b[0m\n\u001b[1;32m     56\u001b[0m         \u001b[0;32mfor\u001b[0m \u001b[0mi\u001b[0m \u001b[0;32min\u001b[0m \u001b[0mbatch_indices\u001b[0m\u001b[0;34m:\u001b[0m\u001b[0;34m\u001b[0m\u001b[0;34m\u001b[0m\u001b[0m\n\u001b[1;32m     57\u001b[0m             \u001b[0mdata_generator\u001b[0m \u001b[0;34m=\u001b[0m \u001b[0mself\u001b[0m\u001b[0;34m.\u001b[0m\u001b[0m_file_generator\u001b[0m\u001b[0;34m(\u001b[0m\u001b[0mself\u001b[0m\u001b[0;34m.\u001b[0m\u001b[0mlabel_paths\u001b[0m\u001b[0;34m[\u001b[0m\u001b[0mi\u001b[0m\u001b[0;34m]\u001b[0m\u001b[0;34m)\u001b[0m\u001b[0;34m\u001b[0m\u001b[0;34m\u001b[0m\u001b[0m\n\u001b[0;32m---> 58\u001b[0;31m             \u001b[0mX\u001b[0m\u001b[0;34m,\u001b[0m \u001b[0my\u001b[0m \u001b[0;34m=\u001b[0m \u001b[0mnext\u001b[0m\u001b[0;34m(\u001b[0m\u001b[0mdata_generator\u001b[0m\u001b[0;34m)\u001b[0m\u001b[0;34m\u001b[0m\u001b[0;34m\u001b[0m\u001b[0m\n\u001b[0m\u001b[1;32m     59\u001b[0m             \u001b[0mX_batch\u001b[0m\u001b[0;34m.\u001b[0m\u001b[0mappend\u001b[0m\u001b[0;34m(\u001b[0m\u001b[0mX\u001b[0m\u001b[0;34m)\u001b[0m\u001b[0;34m\u001b[0m\u001b[0;34m\u001b[0m\u001b[0m\n\u001b[1;32m     60\u001b[0m             \u001b[0my_batch\u001b[0m\u001b[0;34m.\u001b[0m\u001b[0mappend\u001b[0m\u001b[0;34m(\u001b[0m\u001b[0my\u001b[0m\u001b[0;34m)\u001b[0m\u001b[0;34m\u001b[0m\u001b[0;34m\u001b[0m\u001b[0m\n",
      "\u001b[0;32m/tmp/ipykernel_47/2989418669.py\u001b[0m in \u001b[0;36m_file_generator\u001b[0;34m(self, label_path)\u001b[0m\n\u001b[1;32m    101\u001b[0m             \u001b[0mword\u001b[0m \u001b[0;34m=\u001b[0m \u001b[0mrow\u001b[0m\u001b[0;34m[\u001b[0m\u001b[0;34m'word'\u001b[0m\u001b[0;34m]\u001b[0m\u001b[0;34m.\u001b[0m\u001b[0mreplace\u001b[0m\u001b[0;34m(\u001b[0m\u001b[0;34m' '\u001b[0m\u001b[0;34m,\u001b[0m \u001b[0;34m'_'\u001b[0m\u001b[0;34m)\u001b[0m  \u001b[0;31m# 레이블 인덱스 (공백을 underscore _ 로 변경)\u001b[0m\u001b[0;34m\u001b[0m\u001b[0;34m\u001b[0m\u001b[0m\n\u001b[1;32m    102\u001b[0m             \u001b[0mlabel_index\u001b[0m \u001b[0;34m=\u001b[0m \u001b[0mself\u001b[0m\u001b[0;34m.\u001b[0m\u001b[0mlabel_names\u001b[0m\u001b[0;34m.\u001b[0m\u001b[0mindex\u001b[0m\u001b[0;34m(\u001b[0m\u001b[0mword\u001b[0m\u001b[0;34m)\u001b[0m  \u001b[0;31m# map word to numerical index\u001b[0m\u001b[0;34m\u001b[0m\u001b[0;34m\u001b[0m\u001b[0m\n\u001b[0;32m--> 103\u001b[0;31m             \u001b[0my\u001b[0m \u001b[0;34m=\u001b[0m \u001b[0mto_categorical\u001b[0m\u001b[0;34m(\u001b[0m\u001b[0mlabel_index\u001b[0m\u001b[0;34m,\u001b[0m \u001b[0mnum_classes\u001b[0m\u001b[0;34m=\u001b[0m\u001b[0mlen\u001b[0m\u001b[0;34m(\u001b[0m\u001b[0mself\u001b[0m\u001b[0;34m.\u001b[0m\u001b[0mlabel_names\u001b[0m\u001b[0;34m)\u001b[0m\u001b[0;34m)\u001b[0m  \u001b[0;31m# 원-핫 인코딩된 레이블\u001b[0m\u001b[0;34m\u001b[0m\u001b[0;34m\u001b[0m\u001b[0m\n\u001b[0m\u001b[1;32m    104\u001b[0m \u001b[0;34m\u001b[0m\u001b[0m\n\u001b[1;32m    105\u001b[0m \u001b[0;31m#         '''debugging'''\u001b[0m\u001b[0;34m\u001b[0m\u001b[0;34m\u001b[0m\u001b[0m\n",
      "\u001b[0;32m/opt/conda/lib/python3.9/site-packages/keras/utils/np_utils.py\u001b[0m in \u001b[0;36mto_categorical\u001b[0;34m(y, num_classes, dtype)\u001b[0m\n\u001b[1;32m     73\u001b[0m   \u001b[0mn\u001b[0m \u001b[0;34m=\u001b[0m \u001b[0my\u001b[0m\u001b[0;34m.\u001b[0m\u001b[0mshape\u001b[0m\u001b[0;34m[\u001b[0m\u001b[0;36m0\u001b[0m\u001b[0;34m]\u001b[0m\u001b[0;34m\u001b[0m\u001b[0;34m\u001b[0m\u001b[0m\n\u001b[1;32m     74\u001b[0m   \u001b[0mcategorical\u001b[0m \u001b[0;34m=\u001b[0m \u001b[0mnp\u001b[0m\u001b[0;34m.\u001b[0m\u001b[0mzeros\u001b[0m\u001b[0;34m(\u001b[0m\u001b[0;34m(\u001b[0m\u001b[0mn\u001b[0m\u001b[0;34m,\u001b[0m \u001b[0mnum_classes\u001b[0m\u001b[0;34m)\u001b[0m\u001b[0;34m,\u001b[0m \u001b[0mdtype\u001b[0m\u001b[0;34m=\u001b[0m\u001b[0mdtype\u001b[0m\u001b[0;34m)\u001b[0m\u001b[0;34m\u001b[0m\u001b[0;34m\u001b[0m\u001b[0m\n\u001b[0;32m---> 75\u001b[0;31m   \u001b[0mcategorical\u001b[0m\u001b[0;34m[\u001b[0m\u001b[0mnp\u001b[0m\u001b[0;34m.\u001b[0m\u001b[0marange\u001b[0m\u001b[0;34m(\u001b[0m\u001b[0mn\u001b[0m\u001b[0;34m)\u001b[0m\u001b[0;34m,\u001b[0m \u001b[0my\u001b[0m\u001b[0;34m]\u001b[0m \u001b[0;34m=\u001b[0m \u001b[0;36m1\u001b[0m\u001b[0;34m\u001b[0m\u001b[0;34m\u001b[0m\u001b[0m\n\u001b[0m\u001b[1;32m     76\u001b[0m   \u001b[0moutput_shape\u001b[0m \u001b[0;34m=\u001b[0m \u001b[0minput_shape\u001b[0m \u001b[0;34m+\u001b[0m \u001b[0;34m(\u001b[0m\u001b[0mnum_classes\u001b[0m\u001b[0;34m,\u001b[0m\u001b[0;34m)\u001b[0m\u001b[0;34m\u001b[0m\u001b[0;34m\u001b[0m\u001b[0m\n\u001b[1;32m     77\u001b[0m   \u001b[0mcategorical\u001b[0m \u001b[0;34m=\u001b[0m \u001b[0mnp\u001b[0m\u001b[0;34m.\u001b[0m\u001b[0mreshape\u001b[0m\u001b[0;34m(\u001b[0m\u001b[0mcategorical\u001b[0m\u001b[0;34m,\u001b[0m \u001b[0moutput_shape\u001b[0m\u001b[0;34m)\u001b[0m\u001b[0;34m\u001b[0m\u001b[0;34m\u001b[0m\u001b[0m\n",
      "\u001b[0;31mKeyboardInterrupt\u001b[0m: "
     ]
    }
   ],
   "source": [
    "shuffled_data_gen[0]"
   ]
  },
  {
   "cell_type": "code",
   "execution_count": 10,
   "id": "76a93cfb",
   "metadata": {},
   "outputs": [
    {
     "ename": "NameError",
     "evalue": "name 'data_gen' is not defined",
     "output_type": "error",
     "traceback": [
      "\u001b[0;31m---------------------------------------------------------------------------\u001b[0m",
      "\u001b[0;31mNameError\u001b[0m                                 Traceback (most recent call last)",
      "\u001b[0;32m/tmp/ipykernel_47/1890940653.py\u001b[0m in \u001b[0;36m<module>\u001b[0;34m\u001b[0m\n\u001b[1;32m     13\u001b[0m     \u001b[0maxs\u001b[0m\u001b[0;34m[\u001b[0m\u001b[0mi\u001b[0m \u001b[0;34m//\u001b[0m \u001b[0;36m5\u001b[0m\u001b[0;34m,\u001b[0m \u001b[0mi\u001b[0m \u001b[0;34m%\u001b[0m \u001b[0;36m5\u001b[0m\u001b[0;34m]\u001b[0m\u001b[0;34m.\u001b[0m\u001b[0mimshow\u001b[0m\u001b[0;34m(\u001b[0m\u001b[0mxx\u001b[0m\u001b[0;34m[\u001b[0m\u001b[0mi\u001b[0m\u001b[0;34m]\u001b[0m\u001b[0;34m)\u001b[0m  \u001b[0;31m# 이미지 플로팅\u001b[0m\u001b[0;34m\u001b[0m\u001b[0;34m\u001b[0m\u001b[0m\n\u001b[1;32m     14\u001b[0m     \u001b[0maxs\u001b[0m\u001b[0;34m[\u001b[0m\u001b[0mi\u001b[0m \u001b[0;34m//\u001b[0m \u001b[0;36m5\u001b[0m\u001b[0;34m,\u001b[0m \u001b[0mi\u001b[0m \u001b[0;34m%\u001b[0m \u001b[0;36m5\u001b[0m\u001b[0;34m]\u001b[0m\u001b[0;34m.\u001b[0m\u001b[0maxis\u001b[0m\u001b[0;34m(\u001b[0m\u001b[0;34m'off'\u001b[0m\u001b[0;34m)\u001b[0m  \u001b[0;31m# 축 숨기기\u001b[0m\u001b[0;34m\u001b[0m\u001b[0;34m\u001b[0m\u001b[0m\n\u001b[0;32m---> 15\u001b[0;31m     \u001b[0maxs\u001b[0m\u001b[0;34m[\u001b[0m\u001b[0mi\u001b[0m \u001b[0;34m//\u001b[0m \u001b[0;36m5\u001b[0m\u001b[0;34m,\u001b[0m \u001b[0mi\u001b[0m \u001b[0;34m%\u001b[0m \u001b[0;36m5\u001b[0m\u001b[0;34m]\u001b[0m\u001b[0;34m.\u001b[0m\u001b[0mset_title\u001b[0m\u001b[0;34m(\u001b[0m\u001b[0mdata_gen\u001b[0m\u001b[0;34m.\u001b[0m\u001b[0mlabel_names\u001b[0m\u001b[0;34m[\u001b[0m\u001b[0mlabels\u001b[0m\u001b[0;34m[\u001b[0m\u001b[0mi\u001b[0m\u001b[0;34m]\u001b[0m\u001b[0;34m]\u001b[0m\u001b[0;34m)\u001b[0m  \u001b[0;31m# 레이블 이름 설정\u001b[0m\u001b[0;34m\u001b[0m\u001b[0;34m\u001b[0m\u001b[0m\n\u001b[0m\u001b[1;32m     16\u001b[0m \u001b[0;34m\u001b[0m\u001b[0m\n\u001b[1;32m     17\u001b[0m \u001b[0mplt\u001b[0m\u001b[0;34m.\u001b[0m\u001b[0mshow\u001b[0m\u001b[0;34m(\u001b[0m\u001b[0;34m)\u001b[0m\u001b[0;34m\u001b[0m\u001b[0;34m\u001b[0m\u001b[0m\n",
      "\u001b[0;31mNameError\u001b[0m: name 'data_gen' is not defined"
     ]
    },
    {
     "data": {
      "image/png": "[encoded data removed]",
      "text/plain": [
       "<Figure size 720x720 with 25 Axes>"
      ]
     },
     "metadata": {
      "needs_background": "light"
     },
     "output_type": "display_data"
    }
   ],
   "source": [
    "# === shuffled_data_gen test ===\n",
    "\n",
    "# 첫 번째 배치 데이터 가져오기 및 시각화\n",
    "xx, y = shuffled_data_gen[0]\n",
    "fig, axs = plt.subplots(5, 5, figsize=(10, 10))\n",
    "labels = np.argmax(y, axis=1)  # 레이블 인덱스\n",
    "\n",
    "# 이미지를 0에서 1 사이의 값으로 변환\n",
    "xx = xx.astype(float) / 255.0\n",
    "\n",
    "# 5x5 그리드에서 각 셀에 대해 이미지를 시각화하는 반복문\n",
    "for i in range(25):\n",
    "    axs[i // 5, i % 5].imshow(xx[i])  # 이미지 플로팅\n",
    "    axs[i // 5, i % 5].axis('off')  # 축 숨기기\n",
    "    axs[i // 5, i % 5].set_title(shuffled_data_gen.label_names[labels[i]])  # 레이블 이름 설정\n",
    "\n",
    "plt.show()"
   ]
  },
  {
   "cell_type": "code",
   "execution_count": 11,
   "id": "e56177d2",
   "metadata": {},
   "outputs": [],
   "source": [
    "# 5x5 그리드에서 각 셀에 대해 이미지를 시각화하는 반복문\n",
    "for i in range(25):\n",
    "    axs[i // 5, i % 5].imshow(xx[i])  # 이미지 플로팅\n",
    "    axs[i // 5, i % 5].axis('off')  # 축 숨기기\n",
    "    axs[i // 5, i % 5].set_title(shuffled_data_gen.label_names[labels[i]])  # 레이블 이름 설정\n",
    "\n",
    "plt.show()"
   ]
  },
  {
   "cell_type": "code",
   "execution_count": 101,
   "id": "29136b4b",
   "metadata": {},
   "outputs": [
    {
     "name": "stdout",
     "output_type": "stream",
     "text": [
      "Generated X :[[0. 0. 0. ... 0. 0. 0.]\n",
      " [0. 0. 0. ... 0. 0. 0.]\n",
      " [0. 0. 0. ... 0. 0. 0.]\n",
      " ...\n",
      " [0. 0. 0. ... 0. 0. 0.]\n",
      " [0. 0. 0. ... 0. 0. 0.]\n",
      " [0. 0. 0. ... 0. 0. 0.]] and y :[0. 0. 0. 0. 0. 0. 0. 0. 0. 0. 0. 0. 0. 0. 0. 0. 0. 0. 0. 0. 0. 0. 0. 0.\n",
      " 0. 0. 0. 0. 0. 0. 0. 0. 0. 0. 0. 0. 0. 0. 0. 0. 0. 0. 0. 0. 0. 0. 0. 0.\n",
      " 0. 0. 0. 0. 0. 0. 0. 0. 0. 0. 0. 0. 0. 0. 0. 0. 0. 0. 0. 0. 0. 0. 0. 0.\n",
      " 0. 0. 0. 0. 0. 0. 0. 0. 0. 0. 0. 0. 0. 0. 0. 0. 0. 0. 0. 0. 0. 0. 0. 0.\n",
      " 0. 0. 0. 0. 0. 0. 0. 0. 0. 0. 0. 0. 0. 0. 0. 0. 0. 0. 0. 0. 0. 0. 0. 0.\n",
      " 0. 0. 0. 0. 0. 0. 0. 0. 0. 0. 0. 0. 0. 0. 0. 0. 0. 0. 0. 0. 0. 0. 0. 0.\n",
      " 0. 0. 0. 0. 0. 0. 0. 0. 0. 0. 0. 0. 0. 0. 0. 0. 0. 0. 0. 0. 0. 0. 0. 0.\n",
      " 0. 0. 0. 0. 0. 0. 0. 0. 0. 0. 0. 0. 0. 0. 0. 0. 0. 0. 0. 0. 0. 0. 0. 0.\n",
      " 0. 0. 0. 0. 0. 0. 0. 0. 0. 0. 0. 0. 0. 0. 0. 0. 0. 0. 0. 0. 0. 0. 0. 0.\n",
      " 0. 0. 0. 0. 0. 0. 0. 0. 0. 0. 0. 0. 0. 0. 0. 0. 0. 0. 0. 0. 0. 0. 0. 0.\n",
      " 0. 0. 0. 0. 0. 0. 0. 0. 0. 0. 0. 0. 0. 0. 0. 0. 0. 0. 0. 0. 0. 0. 0. 0.\n",
      " 0. 0. 0. 0. 0. 0. 0. 0. 1. 0. 0. 0. 0. 0. 0. 0. 0. 0. 0. 0. 0. 0. 0. 0.\n",
      " 0. 0. 0. 0. 0. 0. 0. 0. 0. 0. 0. 0. 0. 0. 0. 0. 0. 0. 0. 0. 0. 0. 0. 0.\n",
      " 0. 0. 0. 0. 0. 0. 0. 0. 0. 0. 0. 0. 0. 0. 0. 0. 0. 0. 0. 0. 0. 0. 0. 0.\n",
      " 0. 0. 0. 0.]\n",
      "(array([[0., 0., 0., ..., 0., 0., 0.],\n",
      "       [0., 0., 0., ..., 0., 0., 0.],\n",
      "       [0., 0., 0., ..., 0., 0., 0.],\n",
      "       ...,\n",
      "       [0., 0., 0., ..., 0., 0., 0.],\n",
      "       [0., 0., 0., ..., 0., 0., 0.],\n",
      "       [0., 0., 0., ..., 0., 0., 0.]]), array([0., 0., 0., 0., 0., 0., 0., 0., 0., 0., 0., 0., 0., 0., 0., 0., 0.,\n",
      "       0., 0., 0., 0., 0., 0., 0., 0., 0., 0., 0., 0., 0., 0., 0., 0., 0.,\n",
      "       0., 0., 0., 0., 0., 0., 0., 0., 0., 0., 0., 0., 0., 0., 0., 0., 0.,\n",
      "       0., 0., 0., 0., 0., 0., 0., 0., 0., 0., 0., 0., 0., 0., 0., 0., 0.,\n",
      "       0., 0., 0., 0., 0., 0., 0., 0., 0., 0., 0., 0., 0., 0., 0., 0., 0.,\n",
      "       0., 0., 0., 0., 0., 0., 0., 0., 0., 0., 0., 0., 0., 0., 0., 0., 0.,\n",
      "       0., 0., 0., 0., 0., 0., 0., 0., 0., 0., 0., 0., 0., 0., 0., 0., 0.,\n",
      "       0., 0., 0., 0., 0., 0., 0., 0., 0., 0., 0., 0., 0., 0., 0., 0., 0.,\n",
      "       0., 0., 0., 0., 0., 0., 0., 0., 0., 0., 0., 0., 0., 0., 0., 0., 0.,\n",
      "       0., 0., 0., 0., 0., 0., 0., 0., 0., 0., 0., 0., 0., 0., 0., 0., 0.,\n",
      "       0., 0., 0., 0., 0., 0., 0., 0., 0., 0., 0., 0., 0., 0., 0., 0., 0.,\n",
      "       0., 0., 0., 0., 0., 0., 0., 0., 0., 0., 0., 0., 0., 0., 0., 0., 0.,\n",
      "       0., 0., 0., 0., 0., 0., 0., 0., 0., 0., 0., 0., 0., 0., 0., 0., 0.,\n",
      "       0., 0., 0., 0., 0., 0., 0., 0., 0., 0., 0., 0., 0., 0., 0., 0., 0.,\n",
      "       0., 0., 0., 0., 0., 0., 0., 0., 0., 0., 0., 0., 0., 0., 0., 0., 0.,\n",
      "       0., 0., 0., 0., 0., 0., 0., 0., 0., 0., 0., 0., 0., 0., 0., 0., 0.,\n",
      "       1., 0., 0., 0., 0., 0., 0., 0., 0., 0., 0., 0., 0., 0., 0., 0., 0.,\n",
      "       0., 0., 0., 0., 0., 0., 0., 0., 0., 0., 0., 0., 0., 0., 0., 0., 0.,\n",
      "       0., 0., 0., 0., 0., 0., 0., 0., 0., 0., 0., 0., 0., 0., 0., 0., 0.,\n",
      "       0., 0., 0., 0., 0., 0., 0., 0., 0., 0., 0., 0., 0., 0., 0., 0., 0.],\n",
      "      dtype=float32))\n",
      "Generated X :[[0. 0. 0. ... 0. 0. 0.]\n",
      " [0. 0. 0. ... 0. 0. 0.]\n",
      " [0. 0. 0. ... 0. 0. 0.]\n",
      " ...\n",
      " [0. 0. 0. ... 0. 0. 0.]\n",
      " [0. 0. 0. ... 0. 0. 0.]\n",
      " [0. 0. 0. ... 0. 0. 0.]] and y :[0. 0. 0. 0. 0. 0. 0. 0. 0. 0. 0. 0. 0. 0. 0. 0. 0. 0. 0. 0. 0. 0. 0. 0.\n",
      " 0. 0. 0. 0. 0. 0. 0. 0. 0. 0. 0. 0. 0. 0. 0. 0. 0. 0. 0. 0. 0. 0. 0. 0.\n",
      " 0. 0. 0. 0. 0. 0. 0. 0. 0. 0. 0. 0. 0. 0. 0. 0. 0. 0. 0. 0. 0. 0. 0. 0.\n",
      " 0. 0. 0. 0. 0. 0. 0. 0. 0. 0. 0. 0. 0. 0. 0. 0. 0. 0. 0. 0. 0. 0. 0. 0.\n",
      " 0. 0. 0. 0. 0. 0. 0. 0. 0. 0. 0. 0. 0. 0. 0. 0. 0. 0. 0. 0. 0. 0. 0. 0.\n",
      " 0. 0. 0. 0. 0. 0. 0. 0. 0. 0. 0. 0. 0. 1. 0. 0. 0. 0. 0. 0. 0. 0. 0. 0.\n",
      " 0. 0. 0. 0. 0. 0. 0. 0. 0. 0. 0. 0. 0. 0. 0. 0. 0. 0. 0. 0. 0. 0. 0. 0.\n",
      " 0. 0. 0. 0. 0. 0. 0. 0. 0. 0. 0. 0. 0. 0. 0. 0. 0. 0. 0. 0. 0. 0. 0. 0.\n",
      " 0. 0. 0. 0. 0. 0. 0. 0. 0. 0. 0. 0. 0. 0. 0. 0. 0. 0. 0. 0. 0. 0. 0. 0.\n",
      " 0. 0. 0. 0. 0. 0. 0. 0. 0. 0. 0. 0. 0. 0. 0. 0. 0. 0. 0. 0. 0. 0. 0. 0.\n",
      " 0. 0. 0. 0. 0. 0. 0. 0. 0. 0. 0. 0. 0. 0. 0. 0. 0. 0. 0. 0. 0. 0. 0. 0.\n",
      " 0. 0. 0. 0. 0. 0. 0. 0. 0. 0. 0. 0. 0. 0. 0. 0. 0. 0. 0. 0. 0. 0. 0. 0.\n",
      " 0. 0. 0. 0. 0. 0. 0. 0. 0. 0. 0. 0. 0. 0. 0. 0. 0. 0. 0. 0. 0. 0. 0. 0.\n",
      " 0. 0. 0. 0. 0. 0. 0. 0. 0. 0. 0. 0. 0. 0. 0. 0. 0. 0. 0. 0. 0. 0. 0. 0.\n",
      " 0. 0. 0. 0.]\n",
      "(array([[0., 0., 0., ..., 0., 0., 0.],\n",
      "       [0., 0., 0., ..., 0., 0., 0.],\n",
      "       [0., 0., 0., ..., 0., 0., 0.],\n",
      "       ...,\n",
      "       [0., 0., 0., ..., 0., 0., 0.],\n",
      "       [0., 0., 0., ..., 0., 0., 0.],\n",
      "       [0., 0., 0., ..., 0., 0., 0.]]), array([0., 0., 0., 0., 0., 0., 0., 0., 0., 0., 0., 0., 0., 0., 0., 0., 0.,\n",
      "       0., 0., 0., 0., 0., 0., 0., 0., 0., 0., 0., 0., 0., 0., 0., 0., 0.,\n",
      "       0., 0., 0., 0., 0., 0., 0., 0., 0., 0., 0., 0., 0., 0., 0., 0., 0.,\n",
      "       0., 0., 0., 0., 0., 0., 0., 0., 0., 0., 0., 0., 0., 0., 0., 0., 0.,\n",
      "       0., 0., 0., 0., 0., 0., 0., 0., 0., 0., 0., 0., 0., 0., 0., 0., 0.,\n",
      "       0., 0., 0., 0., 0., 0., 0., 0., 0., 0., 0., 0., 0., 0., 0., 0., 0.,\n",
      "       0., 0., 0., 0., 0., 0., 0., 0., 0., 0., 0., 0., 0., 0., 0., 0., 0.,\n",
      "       0., 0., 0., 0., 0., 0., 0., 0., 0., 0., 0., 0., 0., 0., 1., 0., 0.,\n",
      "       0., 0., 0., 0., 0., 0., 0., 0., 0., 0., 0., 0., 0., 0., 0., 0., 0.,\n",
      "       0., 0., 0., 0., 0., 0., 0., 0., 0., 0., 0., 0., 0., 0., 0., 0., 0.,\n",
      "       0., 0., 0., 0., 0., 0., 0., 0., 0., 0., 0., 0., 0., 0., 0., 0., 0.,\n",
      "       0., 0., 0., 0., 0., 0., 0., 0., 0., 0., 0., 0., 0., 0., 0., 0., 0.,\n",
      "       0., 0., 0., 0., 0., 0., 0., 0., 0., 0., 0., 0., 0., 0., 0., 0., 0.,\n",
      "       0., 0., 0., 0., 0., 0., 0., 0., 0., 0., 0., 0., 0., 0., 0., 0., 0.,\n",
      "       0., 0., 0., 0., 0., 0., 0., 0., 0., 0., 0., 0., 0., 0., 0., 0., 0.,\n",
      "       0., 0., 0., 0., 0., 0., 0., 0., 0., 0., 0., 0., 0., 0., 0., 0., 0.,\n",
      "       0., 0., 0., 0., 0., 0., 0., 0., 0., 0., 0., 0., 0., 0., 0., 0., 0.,\n",
      "       0., 0., 0., 0., 0., 0., 0., 0., 0., 0., 0., 0., 0., 0., 0., 0., 0.,\n",
      "       0., 0., 0., 0., 0., 0., 0., 0., 0., 0., 0., 0., 0., 0., 0., 0., 0.,\n",
      "       0., 0., 0., 0., 0., 0., 0., 0., 0., 0., 0., 0., 0., 0., 0., 0., 0.],\n",
      "      dtype=float32))\n"
     ]
    },
    {
     "ename": "KeyboardInterrupt",
     "evalue": "",
     "output_type": "error",
     "traceback": [
      "\u001b[0;31m---------------------------------------------------------------------------\u001b[0m",
      "\u001b[0;31mKeyboardInterrupt\u001b[0m                         Traceback (most recent call last)",
      "\u001b[0;32m/tmp/ipykernel_45686/2077084853.py\u001b[0m in \u001b[0;36m<module>\u001b[0;34m\u001b[0m\n\u001b[1;32m     11\u001b[0m \u001b[0;32mfor\u001b[0m \u001b[0mgenerator_object\u001b[0m \u001b[0;32min\u001b[0m \u001b[0mgenerator_list\u001b[0m\u001b[0;34m:\u001b[0m\u001b[0;34m\u001b[0m\u001b[0;34m\u001b[0m\u001b[0m\n\u001b[1;32m     12\u001b[0m     \u001b[0;31m# Extract data from the generator\u001b[0m\u001b[0;34m\u001b[0m\u001b[0;34m\u001b[0m\u001b[0m\n\u001b[0;32m---> 13\u001b[0;31m     \u001b[0mbatch_data\u001b[0m \u001b[0;34m=\u001b[0m \u001b[0mnext\u001b[0m\u001b[0;34m(\u001b[0m\u001b[0mgenerator_object\u001b[0m\u001b[0;34m)\u001b[0m\u001b[0;34m\u001b[0m\u001b[0;34m\u001b[0m\u001b[0m\n\u001b[0m\u001b[1;32m     14\u001b[0m \u001b[0;34m\u001b[0m\u001b[0m\n\u001b[1;32m     15\u001b[0m     \u001b[0mprint\u001b[0m\u001b[0;34m(\u001b[0m\u001b[0mbatch_data\u001b[0m\u001b[0;34m)\u001b[0m\u001b[0;34m\u001b[0m\u001b[0;34m\u001b[0m\u001b[0m\n",
      "\u001b[0;32m/tmp/ipykernel_45686/2815949489.py\u001b[0m in \u001b[0;36m_file_generator\u001b[0;34m(self, label_path)\u001b[0m\n\u001b[1;32m     88\u001b[0m \u001b[0;31m#             print('raw_strikes: ', raw_strokes) # debugging\u001b[0m\u001b[0;34m\u001b[0m\u001b[0;34m\u001b[0m\u001b[0m\n\u001b[1;32m     89\u001b[0m \u001b[0;34m\u001b[0m\u001b[0m\n\u001b[0;32m---> 90\u001b[0;31m             \u001b[0mX\u001b[0m \u001b[0;34m=\u001b[0m \u001b[0mdraw_strokes\u001b[0m\u001b[0;34m(\u001b[0m\u001b[0mraw_strokes\u001b[0m\u001b[0;34m,\u001b[0m \u001b[0mimage_size\u001b[0m\u001b[0;34m=\u001b[0m\u001b[0mh\u001b[0m\u001b[0;34m,\u001b[0m \u001b[0mline_width\u001b[0m\u001b[0;34m=\u001b[0m\u001b[0mself\u001b[0m\u001b[0;34m.\u001b[0m\u001b[0mlw\u001b[0m\u001b[0;34m)\u001b[0m\u001b[0;34m\u001b[0m\u001b[0;34m\u001b[0m\u001b[0m\n\u001b[0m\u001b[1;32m     91\u001b[0m \u001b[0;34m\u001b[0m\u001b[0m\n\u001b[1;32m     92\u001b[0m             \u001b[0;31m# word 정보 처리\u001b[0m\u001b[0;34m\u001b[0m\u001b[0;34m\u001b[0m\u001b[0m\n",
      "\u001b[0;32m/tmp/ipykernel_45686/4185938685.py\u001b[0m in \u001b[0;36mdraw_strokes\u001b[0;34m(raw_strokes, image_size, line_width)\u001b[0m\n\u001b[1;32m     16\u001b[0m             \u001b[0mx0\u001b[0m\u001b[0;34m,\u001b[0m \u001b[0my0\u001b[0m \u001b[0;34m=\u001b[0m \u001b[0mstroke\u001b[0m\u001b[0;34m[\u001b[0m\u001b[0;36m0\u001b[0m\u001b[0;34m]\u001b[0m\u001b[0;34m[\u001b[0m\u001b[0mi\u001b[0m\u001b[0;34m]\u001b[0m\u001b[0;34m,\u001b[0m \u001b[0mstroke\u001b[0m\u001b[0;34m[\u001b[0m\u001b[0;36m1\u001b[0m\u001b[0;34m]\u001b[0m\u001b[0;34m[\u001b[0m\u001b[0mi\u001b[0m\u001b[0;34m]\u001b[0m\u001b[0;34m\u001b[0m\u001b[0;34m\u001b[0m\u001b[0m\n\u001b[1;32m     17\u001b[0m             \u001b[0mx1\u001b[0m\u001b[0;34m,\u001b[0m \u001b[0my1\u001b[0m \u001b[0;34m=\u001b[0m \u001b[0mstroke\u001b[0m\u001b[0;34m[\u001b[0m\u001b[0;36m0\u001b[0m\u001b[0;34m]\u001b[0m\u001b[0;34m[\u001b[0m\u001b[0mi\u001b[0m \u001b[0;34m+\u001b[0m \u001b[0;36m1\u001b[0m\u001b[0;34m]\u001b[0m\u001b[0;34m,\u001b[0m \u001b[0mstroke\u001b[0m\u001b[0;34m[\u001b[0m\u001b[0;36m1\u001b[0m\u001b[0;34m]\u001b[0m\u001b[0;34m[\u001b[0m\u001b[0mi\u001b[0m \u001b[0;34m+\u001b[0m \u001b[0;36m1\u001b[0m\u001b[0;34m]\u001b[0m\u001b[0;34m\u001b[0m\u001b[0;34m\u001b[0m\u001b[0m\n\u001b[0;32m---> 18\u001b[0;31m             \u001b[0mcv2\u001b[0m\u001b[0;34m.\u001b[0m\u001b[0mline\u001b[0m\u001b[0;34m(\u001b[0m\u001b[0mimage\u001b[0m\u001b[0;34m,\u001b[0m \u001b[0;34m(\u001b[0m\u001b[0mx0\u001b[0m\u001b[0;34m,\u001b[0m \u001b[0my0\u001b[0m\u001b[0;34m)\u001b[0m\u001b[0;34m,\u001b[0m \u001b[0;34m(\u001b[0m\u001b[0mx1\u001b[0m\u001b[0;34m,\u001b[0m \u001b[0my1\u001b[0m\u001b[0;34m)\u001b[0m\u001b[0;34m,\u001b[0m \u001b[0;36m1\u001b[0m\u001b[0;34m,\u001b[0m \u001b[0mline_width\u001b[0m\u001b[0;34m)\u001b[0m\u001b[0;34m\u001b[0m\u001b[0;34m\u001b[0m\u001b[0m\n\u001b[0m\u001b[1;32m     19\u001b[0m \u001b[0;34m\u001b[0m\u001b[0m\n\u001b[1;32m     20\u001b[0m     \u001b[0;32mreturn\u001b[0m \u001b[0mimage\u001b[0m\u001b[0;34m\u001b[0m\u001b[0;34m\u001b[0m\u001b[0m\n",
      "\u001b[0;31mKeyboardInterrupt\u001b[0m: "
     ]
    },
    {
     "data": {
      "image/png": "[encoded data removed]",
      "text/plain": [
       "<Figure size 720x720 with 25 Axes>"
      ]
     },
     "metadata": {
      "needs_background": "light"
     },
     "output_type": "display_data"
    }
   ],
   "source": [
    "# # === shuffled_data_gen test ===\n",
    "\n",
    "# # Define the number of rows and columns for the plot grid\n",
    "# num_rows = 5\n",
    "# num_cols = 5\n",
    "# fig, axs = plt.subplots(num_rows, num_cols, figsize=(10, 10))\n",
    "\n",
    "# generator_list = shuffled_data_gen[0]\n",
    "\n",
    "# # Iterate over each generator object in the list\n",
    "# for generator_object in generator_list:\n",
    "#     # Extract data from the generator\n",
    "#     batch_data = next(generator_object)\n",
    "\n",
    "#     print(batch_data)\n",
    "    \n",
    "# #     # Visualize the images and labels\n",
    "# #     for (X, y) in batch_data:\n",
    "# #         for i in range(len(X)):\n",
    "# #             plt.imshow(X[i])\n",
    "# #             plt.title(label_names[np.argmax(y[i])])\n",
    "# #             plt.show()"
   ]
  },
  {
   "cell_type": "markdown",
   "id": "8a8efc89",
   "metadata": {},
   "source": [
    "- shuffled_data_gen이 generator를 반환하는데 이걸 시각화하는게 잘 되지않는다.\n",
    "- 일단 이 제너레이터로 원래 하려고했던 tf.data.Dataset.from_generator 데이터셋 생성"
   ]
  },
  {
   "cell_type": "markdown",
   "id": "1eab3c63",
   "metadata": {},
   "source": [
    "## step 2 - from_generator로 데이터셋 생성\n",
    "- `watch -n 1 nvidia-smi` 로 터미널에서 메모리 사용량 체크 \n",
    "    - 여기까지 256MiB/15109MiB 사용\n",
    "- `%%time` 매직 명령 사용해서 해당 셀의 실행시간 체크\n",
    "    - 34초 걸림"
   ]
  },
  {
   "cell_type": "code",
   "execution_count": 102,
   "id": "ef70065f",
   "metadata": {
    "code_folding": []
   },
   "outputs": [
    {
     "ename": "InvalidArgumentError",
     "evalue": "TypeError: `generator` yielded an element that did not match the expected structure. The expected structure was (tf.float32, tf.int16), but the yielded element was [<generator object ShuffledDataGenerator._file_generator at 0x7f4af507f820>, <generator object ShuffledDataGenerator._file_generator at 0x7f4af507f190>, <generator object ShuffledDataGenerator._file_generator at 0x7f4af507fd60>, <generator object ShuffledDataGenerator._file_generator at 0x7f4af507f5f0>, <generator object ShuffledDataGenerator._file_generator at 0x7f4af507f900>, <generator object ShuffledDataGenerator._file_generator at 0x7f4af507fba0>, <generator object ShuffledDataGenerator._file_generator at 0x7f4af507f970>, <generator object ShuffledDataGenerator._file_generator at 0x7f4af507fa50>, <generator object ShuffledDataGenerator._file_generator at 0x7f4af507f6d0>, <generator object ShuffledDataGenerator._file_generator at 0x7f4af507fcf0>, <generator object ShuffledDataGenerator._file_generator at 0x7f4af507f510>, <generator object ShuffledDataGenerator._file_generator at 0x7f4af507f740>, <generator object ShuffledDataGenerator._file_generator at 0x7f4af507fe40>, <generator object ShuffledDataGenerator._file_generator at 0x7f4af507fc80>, <generator object ShuffledDataGenerator._file_generator at 0x7f4af507ff20>, <generator object ShuffledDataGenerator._file_generator at 0x7f4af507f660>, <generator object ShuffledDataGenerator._file_generator at 0x7f4af507fb30>, <generator object ShuffledDataGenerator._file_generator at 0x7f4af507fdd0>, <generator object ShuffledDataGenerator._file_generator at 0x7f4af507feb0>, <generator object ShuffledDataGenerator._file_generator at 0x7f4af507ff90>, <generator object ShuffledDataGenerator._file_generator at 0x7f4af4bfe040>, <generator object ShuffledDataGenerator._file_generator at 0x7f4af4bfe0b0>, <generator object ShuffledDataGenerator._file_generator at 0x7f4af4bfe120>, <generator object ShuffledDataGenerator._file_generator at 0x7f4af4bfe190>, <generator object ShuffledDataGenerator._file_generator at 0x7f4af4bfe200>, <generator object ShuffledDataGenerator._file_generator at 0x7f4af4bfe270>, <generator object ShuffledDataGenerator._file_generator at 0x7f4af4bfe2e0>, <generator object ShuffledDataGenerator._file_generator at 0x7f4af4bfe350>, <generator object ShuffledDataGenerator._file_generator at 0x7f4af4bfe3c0>, <generator object ShuffledDataGenerator._file_generator at 0x7f4af4bfe430>, <generator object ShuffledDataGenerator._file_generator at 0x7f4af4bfe4a0>, <generator object ShuffledDataGenerator._file_generator at 0x7f4af4bfe510>].\nTraceback (most recent call last):\n\n  File \"/opt/conda/lib/python3.9/site-packages/tensorflow/python/data/ops/dataset_ops.py\", line 898, in generator_py_func\n    flattened_values = nest.flatten_up_to(output_types, values)\n\n  File \"/opt/conda/lib/python3.9/site-packages/tensorflow/python/data/util/nest.py\", line 381, in flatten_up_to\n    assert_shallow_structure(shallow_tree, input_tree)\n\n  File \"/opt/conda/lib/python3.9/site-packages/tensorflow/python/data/util/nest.py\", line 282, in assert_shallow_structure\n    raise TypeError(\n\nTypeError: If shallow structure is a sequence, input must also be a sequence. Input has type: <class 'list'>.\n\n\nDuring handling of the above exception, another exception occurred:\n\n\nTraceback (most recent call last):\n\n  File \"/opt/conda/lib/python3.9/site-packages/tensorflow/python/ops/script_ops.py\", line 249, in __call__\n    ret = func(*args)\n\n  File \"/opt/conda/lib/python3.9/site-packages/tensorflow/python/autograph/impl/api.py\", line 645, in wrapper\n    return func(*args, **kwargs)\n\n  File \"/opt/conda/lib/python3.9/site-packages/tensorflow/python/data/ops/dataset_ops.py\", line 900, in generator_py_func\n    six.reraise(\n\n  File \"/opt/conda/lib/python3.9/site-packages/six.py\", line 718, in reraise\n    raise value.with_traceback(tb)\n\n  File \"/opt/conda/lib/python3.9/site-packages/tensorflow/python/data/ops/dataset_ops.py\", line 898, in generator_py_func\n    flattened_values = nest.flatten_up_to(output_types, values)\n\n  File \"/opt/conda/lib/python3.9/site-packages/tensorflow/python/data/util/nest.py\", line 381, in flatten_up_to\n    assert_shallow_structure(shallow_tree, input_tree)\n\n  File \"/opt/conda/lib/python3.9/site-packages/tensorflow/python/data/util/nest.py\", line 282, in assert_shallow_structure\n    raise TypeError(\n\nTypeError: `generator` yielded an element that did not match the expected structure. The expected structure was (tf.float32, tf.int16), but the yielded element was [<generator object ShuffledDataGenerator._file_generator at 0x7f4af507f820>, <generator object ShuffledDataGenerator._file_generator at 0x7f4af507f190>, <generator object ShuffledDataGenerator._file_generator at 0x7f4af507fd60>, <generator object ShuffledDataGenerator._file_generator at 0x7f4af507f5f0>, <generator object ShuffledDataGenerator._file_generator at 0x7f4af507f900>, <generator object ShuffledDataGenerator._file_generator at 0x7f4af507fba0>, <generator object ShuffledDataGenerator._file_generator at 0x7f4af507f970>, <generator object ShuffledDataGenerator._file_generator at 0x7f4af507fa50>, <generator object ShuffledDataGenerator._file_generator at 0x7f4af507f6d0>, <generator object ShuffledDataGenerator._file_generator at 0x7f4af507fcf0>, <generator object ShuffledDataGenerator._file_generator at 0x7f4af507f510>, <generator object ShuffledDataGenerator._file_generator at 0x7f4af507f740>, <generator object ShuffledDataGenerator._file_generator at 0x7f4af507fe40>, <generator object ShuffledDataGenerator._file_generator at 0x7f4af507fc80>, <generator object ShuffledDataGenerator._file_generator at 0x7f4af507ff20>, <generator object ShuffledDataGenerator._file_generator at 0x7f4af507f660>, <generator object ShuffledDataGenerator._file_generator at 0x7f4af507fb30>, <generator object ShuffledDataGenerator._file_generator at 0x7f4af507fdd0>, <generator object ShuffledDataGenerator._file_generator at 0x7f4af507feb0>, <generator object ShuffledDataGenerator._file_generator at 0x7f4af507ff90>, <generator object ShuffledDataGenerator._file_generator at 0x7f4af4bfe040>, <generator object ShuffledDataGenerator._file_generator at 0x7f4af4bfe0b0>, <generator object ShuffledDataGenerator._file_generator at 0x7f4af4bfe120>, <generator object ShuffledDataGenerator._file_generator at 0x7f4af4bfe190>, <generator object ShuffledDataGenerator._file_generator at 0x7f4af4bfe200>, <generator object ShuffledDataGenerator._file_generator at 0x7f4af4bfe270>, <generator object ShuffledDataGenerator._file_generator at 0x7f4af4bfe2e0>, <generator object ShuffledDataGenerator._file_generator at 0x7f4af4bfe350>, <generator object ShuffledDataGenerator._file_generator at 0x7f4af4bfe3c0>, <generator object ShuffledDataGenerator._file_generator at 0x7f4af4bfe430>, <generator object ShuffledDataGenerator._file_generator at 0x7f4af4bfe4a0>, <generator object ShuffledDataGenerator._file_generator at 0x7f4af4bfe510>].\n\n\n\t [[{{node PyFunc}}]] [Op:IteratorGetNext]",
     "output_type": "error",
     "traceback": [
      "\u001b[0;31m---------------------------------------------------------------------------\u001b[0m",
      "\u001b[0;31mInvalidArgumentError\u001b[0m                      Traceback (most recent call last)",
      "\u001b[0;32m<timed exec>\u001b[0m in \u001b[0;36m<module>\u001b[0;34m\u001b[0m\n",
      "\u001b[0;32m/opt/conda/lib/python3.9/site-packages/tensorflow/python/data/ops/iterator_ops.py\u001b[0m in \u001b[0;36m__next__\u001b[0;34m(self)\u001b[0m\n\u001b[1;32m    759\u001b[0m   \u001b[0;32mdef\u001b[0m \u001b[0m__next__\u001b[0m\u001b[0;34m(\u001b[0m\u001b[0mself\u001b[0m\u001b[0;34m)\u001b[0m\u001b[0;34m:\u001b[0m\u001b[0;34m\u001b[0m\u001b[0;34m\u001b[0m\u001b[0m\n\u001b[1;32m    760\u001b[0m     \u001b[0;32mtry\u001b[0m\u001b[0;34m:\u001b[0m\u001b[0;34m\u001b[0m\u001b[0;34m\u001b[0m\u001b[0m\n\u001b[0;32m--> 761\u001b[0;31m       \u001b[0;32mreturn\u001b[0m \u001b[0mself\u001b[0m\u001b[0;34m.\u001b[0m\u001b[0m_next_internal\u001b[0m\u001b[0;34m(\u001b[0m\u001b[0;34m)\u001b[0m\u001b[0;34m\u001b[0m\u001b[0;34m\u001b[0m\u001b[0m\n\u001b[0m\u001b[1;32m    762\u001b[0m     \u001b[0;32mexcept\u001b[0m \u001b[0merrors\u001b[0m\u001b[0;34m.\u001b[0m\u001b[0mOutOfRangeError\u001b[0m\u001b[0;34m:\u001b[0m\u001b[0;34m\u001b[0m\u001b[0;34m\u001b[0m\u001b[0m\n\u001b[1;32m    763\u001b[0m       \u001b[0;32mraise\u001b[0m \u001b[0mStopIteration\u001b[0m\u001b[0;34m\u001b[0m\u001b[0;34m\u001b[0m\u001b[0m\n",
      "\u001b[0;32m/opt/conda/lib/python3.9/site-packages/tensorflow/python/data/ops/iterator_ops.py\u001b[0m in \u001b[0;36m_next_internal\u001b[0;34m(self)\u001b[0m\n\u001b[1;32m    742\u001b[0m     \u001b[0;31m# to communicate that there is no more data to iterate over.\u001b[0m\u001b[0;34m\u001b[0m\u001b[0;34m\u001b[0m\u001b[0m\n\u001b[1;32m    743\u001b[0m     \u001b[0;32mwith\u001b[0m \u001b[0mcontext\u001b[0m\u001b[0;34m.\u001b[0m\u001b[0mexecution_mode\u001b[0m\u001b[0;34m(\u001b[0m\u001b[0mcontext\u001b[0m\u001b[0;34m.\u001b[0m\u001b[0mSYNC\u001b[0m\u001b[0;34m)\u001b[0m\u001b[0;34m:\u001b[0m\u001b[0;34m\u001b[0m\u001b[0;34m\u001b[0m\u001b[0m\n\u001b[0;32m--> 744\u001b[0;31m       ret = gen_dataset_ops.iterator_get_next(\n\u001b[0m\u001b[1;32m    745\u001b[0m           \u001b[0mself\u001b[0m\u001b[0;34m.\u001b[0m\u001b[0m_iterator_resource\u001b[0m\u001b[0;34m,\u001b[0m\u001b[0;34m\u001b[0m\u001b[0;34m\u001b[0m\u001b[0m\n\u001b[1;32m    746\u001b[0m           \u001b[0moutput_types\u001b[0m\u001b[0;34m=\u001b[0m\u001b[0mself\u001b[0m\u001b[0;34m.\u001b[0m\u001b[0m_flat_output_types\u001b[0m\u001b[0;34m,\u001b[0m\u001b[0;34m\u001b[0m\u001b[0;34m\u001b[0m\u001b[0m\n",
      "\u001b[0;32m/opt/conda/lib/python3.9/site-packages/tensorflow/python/ops/gen_dataset_ops.py\u001b[0m in \u001b[0;36miterator_get_next\u001b[0;34m(iterator, output_types, output_shapes, name)\u001b[0m\n\u001b[1;32m   2726\u001b[0m       \u001b[0;32mreturn\u001b[0m \u001b[0m_result\u001b[0m\u001b[0;34m\u001b[0m\u001b[0;34m\u001b[0m\u001b[0m\n\u001b[1;32m   2727\u001b[0m     \u001b[0;32mexcept\u001b[0m \u001b[0m_core\u001b[0m\u001b[0;34m.\u001b[0m\u001b[0m_NotOkStatusException\u001b[0m \u001b[0;32mas\u001b[0m \u001b[0me\u001b[0m\u001b[0;34m:\u001b[0m\u001b[0;34m\u001b[0m\u001b[0;34m\u001b[0m\u001b[0m\n\u001b[0;32m-> 2728\u001b[0;31m       \u001b[0m_ops\u001b[0m\u001b[0;34m.\u001b[0m\u001b[0mraise_from_not_ok_status\u001b[0m\u001b[0;34m(\u001b[0m\u001b[0me\u001b[0m\u001b[0;34m,\u001b[0m \u001b[0mname\u001b[0m\u001b[0;34m)\u001b[0m\u001b[0;34m\u001b[0m\u001b[0;34m\u001b[0m\u001b[0m\n\u001b[0m\u001b[1;32m   2729\u001b[0m     \u001b[0;32mexcept\u001b[0m \u001b[0m_core\u001b[0m\u001b[0;34m.\u001b[0m\u001b[0m_FallbackException\u001b[0m\u001b[0;34m:\u001b[0m\u001b[0;34m\u001b[0m\u001b[0;34m\u001b[0m\u001b[0m\n\u001b[1;32m   2730\u001b[0m       \u001b[0;32mpass\u001b[0m\u001b[0;34m\u001b[0m\u001b[0;34m\u001b[0m\u001b[0m\n",
      "\u001b[0;32m/opt/conda/lib/python3.9/site-packages/tensorflow/python/framework/ops.py\u001b[0m in \u001b[0;36mraise_from_not_ok_status\u001b[0;34m(e, name)\u001b[0m\n\u001b[1;32m   6939\u001b[0m   \u001b[0mmessage\u001b[0m \u001b[0;34m=\u001b[0m \u001b[0me\u001b[0m\u001b[0;34m.\u001b[0m\u001b[0mmessage\u001b[0m \u001b[0;34m+\u001b[0m \u001b[0;34m(\u001b[0m\u001b[0;34m\" name: \"\u001b[0m \u001b[0;34m+\u001b[0m \u001b[0mname\u001b[0m \u001b[0;32mif\u001b[0m \u001b[0mname\u001b[0m \u001b[0;32mis\u001b[0m \u001b[0;32mnot\u001b[0m \u001b[0;32mNone\u001b[0m \u001b[0;32melse\u001b[0m \u001b[0;34m\"\"\u001b[0m\u001b[0;34m)\u001b[0m\u001b[0;34m\u001b[0m\u001b[0;34m\u001b[0m\u001b[0m\n\u001b[1;32m   6940\u001b[0m   \u001b[0;31m# pylint: disable=protected-access\u001b[0m\u001b[0;34m\u001b[0m\u001b[0;34m\u001b[0m\u001b[0m\n\u001b[0;32m-> 6941\u001b[0;31m   \u001b[0msix\u001b[0m\u001b[0;34m.\u001b[0m\u001b[0mraise_from\u001b[0m\u001b[0;34m(\u001b[0m\u001b[0mcore\u001b[0m\u001b[0;34m.\u001b[0m\u001b[0m_status_to_exception\u001b[0m\u001b[0;34m(\u001b[0m\u001b[0me\u001b[0m\u001b[0;34m.\u001b[0m\u001b[0mcode\u001b[0m\u001b[0;34m,\u001b[0m \u001b[0mmessage\u001b[0m\u001b[0;34m)\u001b[0m\u001b[0;34m,\u001b[0m \u001b[0;32mNone\u001b[0m\u001b[0;34m)\u001b[0m\u001b[0;34m\u001b[0m\u001b[0;34m\u001b[0m\u001b[0m\n\u001b[0m\u001b[1;32m   6942\u001b[0m   \u001b[0;31m# pylint: enable=protected-access\u001b[0m\u001b[0;34m\u001b[0m\u001b[0;34m\u001b[0m\u001b[0m\n\u001b[1;32m   6943\u001b[0m \u001b[0;34m\u001b[0m\u001b[0m\n",
      "\u001b[0;32m/opt/conda/lib/python3.9/site-packages/six.py\u001b[0m in \u001b[0;36mraise_from\u001b[0;34m(value, from_value)\u001b[0m\n",
      "\u001b[0;31mInvalidArgumentError\u001b[0m: TypeError: `generator` yielded an element that did not match the expected structure. The expected structure was (tf.float32, tf.int16), but the yielded element was [<generator object ShuffledDataGenerator._file_generator at 0x7f4af507f820>, <generator object ShuffledDataGenerator._file_generator at 0x7f4af507f190>, <generator object ShuffledDataGenerator._file_generator at 0x7f4af507fd60>, <generator object ShuffledDataGenerator._file_generator at 0x7f4af507f5f0>, <generator object ShuffledDataGenerator._file_generator at 0x7f4af507f900>, <generator object ShuffledDataGenerator._file_generator at 0x7f4af507fba0>, <generator object ShuffledDataGenerator._file_generator at 0x7f4af507f970>, <generator object ShuffledDataGenerator._file_generator at 0x7f4af507fa50>, <generator object ShuffledDataGenerator._file_generator at 0x7f4af507f6d0>, <generator object ShuffledDataGenerator._file_generator at 0x7f4af507fcf0>, <generator object ShuffledDataGenerator._file_generator at 0x7f4af507f510>, <generator object ShuffledDataGenerator._file_generator at 0x7f4af507f740>, <generator object ShuffledDataGenerator._file_generator at 0x7f4af507fe40>, <generator object ShuffledDataGenerator._file_generator at 0x7f4af507fc80>, <generator object ShuffledDataGenerator._file_generator at 0x7f4af507ff20>, <generator object ShuffledDataGenerator._file_generator at 0x7f4af507f660>, <generator object ShuffledDataGenerator._file_generator at 0x7f4af507fb30>, <generator object ShuffledDataGenerator._file_generator at 0x7f4af507fdd0>, <generator object ShuffledDataGenerator._file_generator at 0x7f4af507feb0>, <generator object ShuffledDataGenerator._file_generator at 0x7f4af507ff90>, <generator object ShuffledDataGenerator._file_generator at 0x7f4af4bfe040>, <generator object ShuffledDataGenerator._file_generator at 0x7f4af4bfe0b0>, <generator object ShuffledDataGenerator._file_generator at 0x7f4af4bfe120>, <generator object ShuffledDataGenerator._file_generator at 0x7f4af4bfe190>, <generator object ShuffledDataGenerator._file_generator at 0x7f4af4bfe200>, <generator object ShuffledDataGenerator._file_generator at 0x7f4af4bfe270>, <generator object ShuffledDataGenerator._file_generator at 0x7f4af4bfe2e0>, <generator object ShuffledDataGenerator._file_generator at 0x7f4af4bfe350>, <generator object ShuffledDataGenerator._file_generator at 0x7f4af4bfe3c0>, <generator object ShuffledDataGenerator._file_generator at 0x7f4af4bfe430>, <generator object ShuffledDataGenerator._file_generator at 0x7f4af4bfe4a0>, <generator object ShuffledDataGenerator._file_generator at 0x7f4af4bfe510>].\nTraceback (most recent call last):\n\n  File \"/opt/conda/lib/python3.9/site-packages/tensorflow/python/data/ops/dataset_ops.py\", line 898, in generator_py_func\n    flattened_values = nest.flatten_up_to(output_types, values)\n\n  File \"/opt/conda/lib/python3.9/site-packages/tensorflow/python/data/util/nest.py\", line 381, in flatten_up_to\n    assert_shallow_structure(shallow_tree, input_tree)\n\n  File \"/opt/conda/lib/python3.9/site-packages/tensorflow/python/data/util/nest.py\", line 282, in assert_shallow_structure\n    raise TypeError(\n\nTypeError: If shallow structure is a sequence, input must also be a sequence. Input has type: <class 'list'>.\n\n\nDuring handling of the above exception, another exception occurred:\n\n\nTraceback (most recent call last):\n\n  File \"/opt/conda/lib/python3.9/site-packages/tensorflow/python/ops/script_ops.py\", line 249, in __call__\n    ret = func(*args)\n\n  File \"/opt/conda/lib/python3.9/site-packages/tensorflow/python/autograph/impl/api.py\", line 645, in wrapper\n    return func(*args, **kwargs)\n\n  File \"/opt/conda/lib/python3.9/site-packages/tensorflow/python/data/ops/dataset_ops.py\", line 900, in generator_py_func\n    six.reraise(\n\n  File \"/opt/conda/lib/python3.9/site-packages/six.py\", line 718, in reraise\n    raise value.with_traceback(tb)\n\n  File \"/opt/conda/lib/python3.9/site-packages/tensorflow/python/data/ops/dataset_ops.py\", line 898, in generator_py_func\n    flattened_values = nest.flatten_up_to(output_types, values)\n\n  File \"/opt/conda/lib/python3.9/site-packages/tensorflow/python/data/util/nest.py\", line 381, in flatten_up_to\n    assert_shallow_structure(shallow_tree, input_tree)\n\n  File \"/opt/conda/lib/python3.9/site-packages/tensorflow/python/data/util/nest.py\", line 282, in assert_shallow_structure\n    raise TypeError(\n\nTypeError: `generator` yielded an element that did not match the expected structure. The expected structure was (tf.float32, tf.int16), but the yielded element was [<generator object ShuffledDataGenerator._file_generator at 0x7f4af507f820>, <generator object ShuffledDataGenerator._file_generator at 0x7f4af507f190>, <generator object ShuffledDataGenerator._file_generator at 0x7f4af507fd60>, <generator object ShuffledDataGenerator._file_generator at 0x7f4af507f5f0>, <generator object ShuffledDataGenerator._file_generator at 0x7f4af507f900>, <generator object ShuffledDataGenerator._file_generator at 0x7f4af507fba0>, <generator object ShuffledDataGenerator._file_generator at 0x7f4af507f970>, <generator object ShuffledDataGenerator._file_generator at 0x7f4af507fa50>, <generator object ShuffledDataGenerator._file_generator at 0x7f4af507f6d0>, <generator object ShuffledDataGenerator._file_generator at 0x7f4af507fcf0>, <generator object ShuffledDataGenerator._file_generator at 0x7f4af507f510>, <generator object ShuffledDataGenerator._file_generator at 0x7f4af507f740>, <generator object ShuffledDataGenerator._file_generator at 0x7f4af507fe40>, <generator object ShuffledDataGenerator._file_generator at 0x7f4af507fc80>, <generator object ShuffledDataGenerator._file_generator at 0x7f4af507ff20>, <generator object ShuffledDataGenerator._file_generator at 0x7f4af507f660>, <generator object ShuffledDataGenerator._file_generator at 0x7f4af507fb30>, <generator object ShuffledDataGenerator._file_generator at 0x7f4af507fdd0>, <generator object ShuffledDataGenerator._file_generator at 0x7f4af507feb0>, <generator object ShuffledDataGenerator._file_generator at 0x7f4af507ff90>, <generator object ShuffledDataGenerator._file_generator at 0x7f4af4bfe040>, <generator object ShuffledDataGenerator._file_generator at 0x7f4af4bfe0b0>, <generator object ShuffledDataGenerator._file_generator at 0x7f4af4bfe120>, <generator object ShuffledDataGenerator._file_generator at 0x7f4af4bfe190>, <generator object ShuffledDataGenerator._file_generator at 0x7f4af4bfe200>, <generator object ShuffledDataGenerator._file_generator at 0x7f4af4bfe270>, <generator object ShuffledDataGenerator._file_generator at 0x7f4af4bfe2e0>, <generator object ShuffledDataGenerator._file_generator at 0x7f4af4bfe350>, <generator object ShuffledDataGenerator._file_generator at 0x7f4af4bfe3c0>, <generator object ShuffledDataGenerator._file_generator at 0x7f4af4bfe430>, <generator object ShuffledDataGenerator._file_generator at 0x7f4af4bfe4a0>, <generator object ShuffledDataGenerator._file_generator at 0x7f4af4bfe510>].\n\n\n\t [[{{node PyFunc}}]] [Op:IteratorGetNext]"
     ]
    }
   ],
   "source": [
    "%%time\n",
    "\n",
    "# Create a TensorFlow dataset using from_generator method\n",
    "dataset = tf.data.Dataset.from_generator(\n",
    "    lambda: shuffled_data_gen,\n",
    "    output_signature=(\n",
    "        tf.TensorSpec(shape=(None, 128, 128, 3), dtype=tf.float32),  # Image tensor\n",
    "        tf.TensorSpec(shape=(None, len(label_names)), dtype=tf.int16)  # Label tensor\n",
    "    )\n",
    ")\n",
    "\n",
    "# shuffle and prefetch the dataset\n",
    "dataset = dataset.shuffle(buffer_size=1000).prefetch(buffer_size=tf.data.experimental.AUTOTUNE)\n",
    "\n",
    "# dataset check\n",
    "for images, labels in dataset.take(1):\n",
    "    print(\"Images shape:\", images.shape)\n",
    "    print(\"Labels shape:\", labels.shape)"
   ]
  },
  {
   "cell_type": "markdown",
   "id": "13f17810",
   "metadata": {},
   "source": [
    "---\n",
    "\n",
    "# 정리\n",
    "\n",
    "- draw_strokes 함수 코드가 제대로 되지 않은 것같음\n",
    "- 승순님 파이프라인에서 tf.data 을 사용하는 코드 시도"
   ]
  }
 ],
 "metadata": {
  "kernelspec": {
   "display_name": "Python 3 (ipykernel)",
   "language": "python",
   "name": "python3"
  },
  "language_info": {
   "codemirror_mode": {
    "name": "ipython",
    "version": 3
   },
   "file_extension": ".py",
   "mimetype": "text/x-python",
   "name": "python",
   "nbconvert_exporter": "python",
   "pygments_lexer": "ipython3",
   "version": "3.9.7"
  },
  "toc": {
   "base_numbering": 1,
   "nav_menu": {},
   "number_sections": false,
   "sideBar": true,
   "skip_h1_title": false,
   "title_cell": "Table of Contents",
   "title_sidebar": "Contents",
   "toc_cell": false,
   "toc_position": {
    "height": "643px",
    "left": "302px",
    "top": "0px",
    "width": "282.594px"
   },
   "toc_section_display": true,
   "toc_window_display": false
  }
 },
 "nbformat": 4,
 "nbformat_minor": 5
}
