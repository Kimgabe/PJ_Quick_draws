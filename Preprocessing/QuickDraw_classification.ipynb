{
 "cells": [
  {
   "cell_type": "code",
   "execution_count": 1,
   "id": "4cf8cffd-5adb-4212-bdfc-9ec2fd51e7ad",
   "metadata": {},
   "outputs": [
    {
     "name": "stdout",
     "output_type": "stream",
     "text": [
      "Collecting kaggle\n",
      "  Downloading kaggle-1.6.4.tar.gz (84 kB)\n",
      "\u001b[2K     \u001b[90m━━━━━━━━━━━━━━━━━━━━━━━━━━━━━━━━━━━━━━━━\u001b[0m \u001b[32m84.6/84.6 kB\u001b[0m \u001b[31m5.7 MB/s\u001b[0m eta \u001b[36m0:00:00\u001b[0m\n",
      "\u001b[?25h  Preparing metadata (setup.py) ... \u001b[?25ldone\n",
      "\u001b[?25hRequirement already satisfied: six>=1.10 in /opt/homebrew/anaconda3/lib/python3.11/site-packages (from kaggle) (1.16.0)\n",
      "Requirement already satisfied: certifi in /opt/homebrew/anaconda3/lib/python3.11/site-packages (from kaggle) (2023.11.17)\n",
      "Requirement already satisfied: python-dateutil in /opt/homebrew/anaconda3/lib/python3.11/site-packages (from kaggle) (2.8.2)\n",
      "Requirement already satisfied: requests in /opt/homebrew/anaconda3/lib/python3.11/site-packages (from kaggle) (2.31.0)\n",
      "Requirement already satisfied: tqdm in /opt/homebrew/anaconda3/lib/python3.11/site-packages (from kaggle) (4.65.0)\n",
      "Requirement already satisfied: python-slugify in /opt/homebrew/anaconda3/lib/python3.11/site-packages (from kaggle) (5.0.2)\n",
      "Requirement already satisfied: urllib3 in /opt/homebrew/anaconda3/lib/python3.11/site-packages (from kaggle) (1.26.18)\n",
      "Requirement already satisfied: bleach in /opt/homebrew/anaconda3/lib/python3.11/site-packages (from kaggle) (4.1.0)\n",
      "Requirement already satisfied: packaging in /opt/homebrew/anaconda3/lib/python3.11/site-packages (from bleach->kaggle) (23.1)\n",
      "Requirement already satisfied: webencodings in /opt/homebrew/anaconda3/lib/python3.11/site-packages (from bleach->kaggle) (0.5.1)\n",
      "Requirement already satisfied: text-unidecode>=1.3 in /opt/homebrew/anaconda3/lib/python3.11/site-packages (from python-slugify->kaggle) (1.3)\n",
      "Requirement already satisfied: charset-normalizer<4,>=2 in /opt/homebrew/anaconda3/lib/python3.11/site-packages (from requests->kaggle) (2.0.4)\n",
      "Requirement already satisfied: idna<4,>=2.5 in /opt/homebrew/anaconda3/lib/python3.11/site-packages (from requests->kaggle) (3.4)\n",
      "Building wheels for collected packages: kaggle\n",
      "  Building wheel for kaggle (setup.py) ... \u001b[?25ldone\n",
      "\u001b[?25h  Created wheel for kaggle: filename=kaggle-1.6.4-py3-none-any.whl size=111928 sha256=11861e6b73d245b29a05b8bf2b515d41c0a3b0ba211199c4f93d89d506eb6589\n",
      "  Stored in directory: /Users/yangh/Library/Caches/pip/wheels/4c/d1/2d/5a064fb63c063256c82239e67a1a144af9abe480ed008ccdf3\n",
      "Successfully built kaggle\n",
      "Installing collected packages: kaggle\n",
      "Successfully installed kaggle-1.6.4\n"
     ]
    }
   ],
   "source": [
    "# 캐글 API 접속을 위한 케글 설치\n",
    "\n",
    "!pip install kaggle"
   ]
  },
  {
   "cell_type": "code",
   "execution_count": 5,
   "id": "4a15a944-9fa6-4903-b8fa-59364e80714c",
   "metadata": {},
   "outputs": [
    {
     "name": "stdout",
     "output_type": "stream",
     "text": [
      "mkdir: QuickDraw.kaggel: File exists\n"
     ]
    }
   ],
   "source": [
    "# API Token 만들기\n",
    "\n",
    "!mkdir QuickDraw.kaggel"
   ]
  },
  {
   "cell_type": "code",
   "execution_count": 7,
   "id": "d8543c94-108f-4fa2-ad59-ea61c6a950f3",
   "metadata": {},
   "outputs": [
    {
     "name": "stdout",
     "output_type": "stream",
     "text": [
      "Collecting opendatasets\n",
      "  Downloading opendatasets-0.1.22-py3-none-any.whl (15 kB)\n",
      "Requirement already satisfied: tqdm in /opt/homebrew/anaconda3/lib/python3.11/site-packages (from opendatasets) (4.65.0)\n",
      "Requirement already satisfied: kaggle in /opt/homebrew/anaconda3/lib/python3.11/site-packages (from opendatasets) (1.6.4)\n",
      "Requirement already satisfied: click in /opt/homebrew/anaconda3/lib/python3.11/site-packages (from opendatasets) (8.1.7)\n",
      "Requirement already satisfied: six>=1.10 in /opt/homebrew/anaconda3/lib/python3.11/site-packages (from kaggle->opendatasets) (1.16.0)\n",
      "Requirement already satisfied: certifi in /opt/homebrew/anaconda3/lib/python3.11/site-packages (from kaggle->opendatasets) (2023.11.17)\n",
      "Requirement already satisfied: python-dateutil in /opt/homebrew/anaconda3/lib/python3.11/site-packages (from kaggle->opendatasets) (2.8.2)\n",
      "Requirement already satisfied: requests in /opt/homebrew/anaconda3/lib/python3.11/site-packages (from kaggle->opendatasets) (2.31.0)\n",
      "Requirement already satisfied: python-slugify in /opt/homebrew/anaconda3/lib/python3.11/site-packages (from kaggle->opendatasets) (5.0.2)\n",
      "Requirement already satisfied: urllib3 in /opt/homebrew/anaconda3/lib/python3.11/site-packages (from kaggle->opendatasets) (1.26.18)\n",
      "Requirement already satisfied: bleach in /opt/homebrew/anaconda3/lib/python3.11/site-packages (from kaggle->opendatasets) (4.1.0)\n",
      "Requirement already satisfied: packaging in /opt/homebrew/anaconda3/lib/python3.11/site-packages (from bleach->kaggle->opendatasets) (23.1)\n",
      "Requirement already satisfied: webencodings in /opt/homebrew/anaconda3/lib/python3.11/site-packages (from bleach->kaggle->opendatasets) (0.5.1)\n",
      "Requirement already satisfied: text-unidecode>=1.3 in /opt/homebrew/anaconda3/lib/python3.11/site-packages (from python-slugify->kaggle->opendatasets) (1.3)\n",
      "Requirement already satisfied: charset-normalizer<4,>=2 in /opt/homebrew/anaconda3/lib/python3.11/site-packages (from requests->kaggle->opendatasets) (2.0.4)\n",
      "Requirement already satisfied: idna<4,>=2.5 in /opt/homebrew/anaconda3/lib/python3.11/site-packages (from requests->kaggle->opendatasets) (3.4)\n",
      "Installing collected packages: opendatasets\n",
      "Successfully installed opendatasets-0.1.22\n"
     ]
    }
   ],
   "source": [
    "# opendatasets 라이브러리 설치\n",
    "\n",
    "!pip install opendatasets"
   ]
  },
  {
   "cell_type": "code",
   "execution_count": 8,
   "id": "f9241c9a-9221-4ff5-a331-41535f95bf8e",
   "metadata": {},
   "outputs": [],
   "source": [
    "# opendatasets library 가져오기\n",
    "import opendatasets as od"
   ]
  },
  {
   "cell_type": "code",
   "execution_count": 12,
   "id": "0ba6c9b0-de07-48fd-a8e8-7f06c12ed023",
   "metadata": {},
   "outputs": [
    {
     "name": "stdout",
     "output_type": "stream",
     "text": [
      "Name: kaggle\n",
      "Version: 1.6.4\n",
      "Summary: Kaggle API\n",
      "Home-page: https://github.com/Kaggle/kaggle-api\n",
      "Author: Kaggle\n",
      "Author-email: support@kaggle.com\n",
      "License: Apache 2.0\n",
      "Location: /opt/homebrew/anaconda3/lib/python3.11/site-packages\n",
      "Requires: bleach, certifi, python-dateutil, python-slugify, requests, six, tqdm, urllib3\n",
      "Required-by: opendatasets\n"
     ]
    }
   ],
   "source": [
    "!pip show kaggle"
   ]
  },
  {
   "cell_type": "code",
   "execution_count": 11,
   "id": "a61a8c83-b2d0-4496-8ae4-bf615aece526",
   "metadata": {},
   "outputs": [
    {
     "name": "stdout",
     "output_type": "stream",
     "text": [
      "Downloading https://github.com/googlecreativelab/quickdraw-dataset to ./quickdraw-dataset\n"
     ]
    },
    {
     "name": "stderr",
     "output_type": "stream",
     "text": [
      "212992it [00:00, 3328464.44it/s]\n"
     ]
    }
   ],
   "source": [
    "od.download(\"https://github.com/googlecreativelab/quickdraw-dataset\")"
   ]
  },
  {
   "cell_type": "code",
   "execution_count": 20,
   "id": "cd30e21c-ce60-4b66-b351-51795ee257ef",
   "metadata": {},
   "outputs": [
    {
     "ename": "FileNotFoundError",
     "evalue": "[Errno 2] No such file or directory: 'Users/yangh/Downloads/yh_project/quickdraw-dataset'",
     "output_type": "error",
     "traceback": [
      "\u001b[0;31m---------------------------------------------------------------------------\u001b[0m",
      "\u001b[0;31mFileNotFoundError\u001b[0m                         Traceback (most recent call last)",
      "Cell \u001b[0;32mIn[20], line 9\u001b[0m\n\u001b[1;32m      6\u001b[0m directory \u001b[38;5;241m=\u001b[39m \u001b[38;5;124m'\u001b[39m\u001b[38;5;124mUsers/yangh/Downloads/yh_project/quickdraw-dataset\u001b[39m\u001b[38;5;124m'\u001b[39m\n\u001b[1;32m      8\u001b[0m \u001b[38;5;66;03m# List a few sample images\u001b[39;00m\n\u001b[0;32m----> 9\u001b[0m sample_images \u001b[38;5;241m=\u001b[39m os\u001b[38;5;241m.\u001b[39mlistdir(directory)[:\u001b[38;5;241m5\u001b[39m]\n\u001b[1;32m     11\u001b[0m \u001b[38;5;66;03m# Display sample images\u001b[39;00m\n\u001b[1;32m     12\u001b[0m \u001b[38;5;28;01mfor\u001b[39;00m image_file \u001b[38;5;129;01min\u001b[39;00m sample_images:\n",
      "\u001b[0;31mFileNotFoundError\u001b[0m: [Errno 2] No such file or directory: 'Users/yangh/Downloads/yh_project/quickdraw-dataset'"
     ]
    }
   ],
   "source": [
    "import os\n",
    "import matplotlib.pyplot as plt\n",
    "from PIL import Image\n",
    "\n",
    "# Directory containing the downloaded images\n",
    "directory = '/Users/yangh/Downloads/yh_project/quickdraw-dataset'\n",
    "\n",
    "# List a few sample images\n",
    "sample_images = os.listdir(directory)[:5]\n",
    "\n",
    "# Display sample images\n",
    "for image_file in sample_images:\n",
    "    image_path = os.path.join(directory, image_file)\n",
    "    image = Image.open(image_path)\n",
    "    plt.imshow(image)\n",
    "    plt.axis('off')\n",
    "    plt.show()"
   ]
  },
  {
   "cell_type": "code",
   "execution_count": null,
   "id": "63c862ff-73b9-426b-b969-2294672b3954",
   "metadata": {},
   "outputs": [],
   "source": []
  },
  {
   "cell_type": "code",
   "execution_count": 22,
   "id": "834cd581-17ca-4447-8a20-ef36eb5caa9c",
   "metadata": {},
   "outputs": [
    {
     "ename": "UnpicklingError",
     "evalue": "Failed to interpret file '/Users/yangh/Downloads/yh_project/quickdraw-dataset' as a pickle",
     "output_type": "error",
     "traceback": [
      "\u001b[0;31m---------------------------------------------------------------------------\u001b[0m",
      "\u001b[0;31mUnpicklingError\u001b[0m                           Traceback (most recent call last)",
      "File \u001b[0;32m/opt/homebrew/anaconda3/lib/python3.11/site-packages/numpy/lib/npyio.py:441\u001b[0m, in \u001b[0;36mload\u001b[0;34m(file, mmap_mode, allow_pickle, fix_imports, encoding, max_header_size)\u001b[0m\n\u001b[1;32m    440\u001b[0m \u001b[38;5;28;01mtry\u001b[39;00m:\n\u001b[0;32m--> 441\u001b[0m     \u001b[38;5;28;01mreturn\u001b[39;00m pickle\u001b[38;5;241m.\u001b[39mload(fid, \u001b[38;5;241m*\u001b[39m\u001b[38;5;241m*\u001b[39mpickle_kwargs)\n\u001b[1;32m    442\u001b[0m \u001b[38;5;28;01mexcept\u001b[39;00m \u001b[38;5;167;01mException\u001b[39;00m \u001b[38;5;28;01mas\u001b[39;00m e:\n",
      "\u001b[0;31mUnpicklingError\u001b[0m: invalid load key, '\\x0a'.",
      "\nThe above exception was the direct cause of the following exception:\n",
      "\u001b[0;31mUnpicklingError\u001b[0m                           Traceback (most recent call last)",
      "Cell \u001b[0;32mIn[22], line 6\u001b[0m\n\u001b[1;32m      3\u001b[0m \u001b[38;5;28;01mimport\u001b[39;00m \u001b[38;5;21;01mnumpy\u001b[39;00m \u001b[38;5;28;01mas\u001b[39;00m \u001b[38;5;21;01mnp\u001b[39;00m\n\u001b[1;32m      5\u001b[0m directory \u001b[38;5;241m=\u001b[39m \u001b[38;5;124m'\u001b[39m\u001b[38;5;124m/Users/yangh/Downloads/yh_project/quickdraw-dataset\u001b[39m\u001b[38;5;124m'\u001b[39m\n\u001b[0;32m----> 6\u001b[0m np\u001b[38;5;241m.\u001b[39mload(directory, encoding\u001b[38;5;241m=\u001b[39m\u001b[38;5;124m'\u001b[39m\u001b[38;5;124mlatin1\u001b[39m\u001b[38;5;124m'\u001b[39m, allow_pickle\u001b[38;5;241m=\u001b[39m\u001b[38;5;28;01mTrue\u001b[39;00m)\n",
      "File \u001b[0;32m/opt/homebrew/anaconda3/lib/python3.11/site-packages/numpy/lib/npyio.py:443\u001b[0m, in \u001b[0;36mload\u001b[0;34m(file, mmap_mode, allow_pickle, fix_imports, encoding, max_header_size)\u001b[0m\n\u001b[1;32m    441\u001b[0m     \u001b[38;5;28;01mreturn\u001b[39;00m pickle\u001b[38;5;241m.\u001b[39mload(fid, \u001b[38;5;241m*\u001b[39m\u001b[38;5;241m*\u001b[39mpickle_kwargs)\n\u001b[1;32m    442\u001b[0m \u001b[38;5;28;01mexcept\u001b[39;00m \u001b[38;5;167;01mException\u001b[39;00m \u001b[38;5;28;01mas\u001b[39;00m e:\n\u001b[0;32m--> 443\u001b[0m     \u001b[38;5;28;01mraise\u001b[39;00m pickle\u001b[38;5;241m.\u001b[39mUnpicklingError(\n\u001b[1;32m    444\u001b[0m         \u001b[38;5;124mf\u001b[39m\u001b[38;5;124m\"\u001b[39m\u001b[38;5;124mFailed to interpret file \u001b[39m\u001b[38;5;132;01m{\u001b[39;00mfile\u001b[38;5;132;01m!r}\u001b[39;00m\u001b[38;5;124m as a pickle\u001b[39m\u001b[38;5;124m\"\u001b[39m) \u001b[38;5;28;01mfrom\u001b[39;00m \u001b[38;5;21;01me\u001b[39;00m\n",
      "\u001b[0;31mUnpicklingError\u001b[0m: Failed to interpret file '/Users/yangh/Downloads/yh_project/quickdraw-dataset' as a pickle"
     ]
    }
   ],
   "source": [
    "# dataset 불러오기\n",
    "\n",
    "import numpy as np\n",
    "\n",
    "directory = '/Users/yangh/Downloads/yh_project/quickdraw-dataset'\n",
    "np.load(directory, encoding='latin1', allow_pickle=True)"
   ]
  },
  {
   "cell_type": "code",
   "execution_count": 23,
   "id": "7fee733d-e146-4fcb-a702-5f8651a71f12",
   "metadata": {},
   "outputs": [
    {
     "ename": "UnpicklingError",
     "evalue": "invalid load key, '\\x0a'.",
     "output_type": "error",
     "traceback": [
      "\u001b[0;31m---------------------------------------------------------------------------\u001b[0m",
      "\u001b[0;31mUnpicklingError\u001b[0m                           Traceback (most recent call last)",
      "Cell \u001b[0;32mIn[23], line 4\u001b[0m\n\u001b[1;32m      1\u001b[0m \u001b[38;5;28;01mimport\u001b[39;00m \u001b[38;5;21;01mpickle\u001b[39;00m\n\u001b[1;32m      3\u001b[0m \u001b[38;5;28;01mwith\u001b[39;00m \u001b[38;5;28mopen\u001b[39m(directory, \u001b[38;5;124m'\u001b[39m\u001b[38;5;124mrb\u001b[39m\u001b[38;5;124m'\u001b[39m) \u001b[38;5;28;01mas\u001b[39;00m f:\n\u001b[0;32m----> 4\u001b[0m     data \u001b[38;5;241m=\u001b[39m pickle\u001b[38;5;241m.\u001b[39mload(f)\n",
      "\u001b[0;31mUnpicklingError\u001b[0m: invalid load key, '\\x0a'."
     ]
    }
   ],
   "source": [
    "import pickle\n",
    "\n",
    "with open(directory, 'rb') as f:\n",
    "    data = pickle.load(f)"
   ]
  },
  {
   "cell_type": "code",
   "execution_count": 24,
   "id": "750926ce-6f4c-4720-8b18-28a793de0824",
   "metadata": {},
   "outputs": [],
   "source": [
    "# kaggle API 코드(kaggle.json)파일 경로 인식시켜 주기 위한 코드\n",
    "# kaggle.json 파일을 찾도록 Kaggle 명령줄 도구를 구성하여 Kaggle API로 인증\n",
    "\n",
    "import os\n",
    "cur_dir = os.getcwd()\n",
    "os.environ['KAGGLE_CONFIG_DIR'] = cur_dir"
   ]
  },
  {
   "cell_type": "code",
   "execution_count": 28,
   "id": "4ee68bdb-9dbf-4885-a365-f87d0cbbd930",
   "metadata": {},
   "outputs": [],
   "source": [
    "# import os: 환경 변수 액세스 및 파일 경로 조작을 포함하여 운영 체제와 상호 작용하는 방법을 제공하는 Python os 모듈을 가져옵니다.\n",
    "# cur_dir = os.getcwd(): 이 줄은 현재 작업 디렉터리(Python 스크립트가 실행되는 디렉터리)를 검색하여 이를 cur_dir 변수에 할당합니다.\n",
    "# os.environ['KAGGLE_CONFIG_DIR'] = cur_dir: 환경 변수 KAGGLE_CONFIG_DIR을 cur_dir 값으로 설정합니다. \n",
    "# KAGGLE_CONFIG_DIR 환경 변수는 Kaggle 명령줄 도구에서 API 자격 증명이 포함된 kaggle.json 파일이 위치해야 하는 디렉터리를 결정하는 데 사용됩니다."
   ]
  },
  {
   "cell_type": "code",
   "execution_count": 26,
   "id": "65526dde-6554-4ddc-88f7-3cbea787a74d",
   "metadata": {},
   "outputs": [
    {
     "name": "stdout",
     "output_type": "stream",
     "text": [
      "Warning: Your Kaggle API key is readable by other users on this system! To fix this, you can run 'chmod 600 /Users/yangh/Downloads/yh_project/kaggle.json'\n",
      "Downloading quickdraw-doodle-recognition.zip to ./data\n",
      "100%|█████████████████████████████████████▉| 76.3G/76.3G [58:38<00:00, 25.9MB/s]\n",
      "100%|██████████████████████████████████████| 76.3G/76.3G [58:38<00:00, 23.3MB/s]\n"
     ]
    }
   ],
   "source": [
    "# data라는 폴더에 컴피티션에서 제공하는 데이터를 다운 받는 코드\n",
    "!kaggle competitions download -c quickdraw-doodle-recognition -p ./data"
   ]
  },
  {
   "cell_type": "code",
   "execution_count": 27,
   "id": "4cc983d0-0c3d-49c4-8072-cb2be425cfad",
   "metadata": {},
   "outputs": [],
   "source": [
    "# data 폴더에 있는 train 데이터를 unzip하는 코드\n",
    "# -o 는 덮어쓰기 가능을 의미\n",
    "# -q 는 quite로 실행중 자잘한 오류를 생략해주는 기능\n",
    "!unzip -q -o ./data/quickdraw-doodle-recognition.zip -d ./data/"
   ]
  },
  {
   "cell_type": "code",
   "execution_count": 33,
   "id": "893e5c15-9180-430a-8f5b-e9afad31ba8c",
   "metadata": {},
   "outputs": [
    {
     "name": "stdout",
     "output_type": "stream",
     "text": [
      "  countrycode                                            drawing  \\\n",
      "0          US               [[[0, 126, 190, 255], [7, 1, 4, 0]]]   \n",
      "1          US     [[[0, 15, 115, 180, 251], [0, 6, 13, 27, 33]]]   \n",
      "2          AU  [[[32, 91, 255], [32, 48, 70]], [[179, 146, 47...   \n",
      "3          FI  [[[0, 9, 56, 92, 186, 255], [0, 10, 28, 36, 66...   \n",
      "4          UA     [[[0, 101, 155, 240, 255], [27, 11, 6, 4, 0]]]   \n",
      "\n",
      "             key_id  recognized                   timestamp  word  \n",
      "0  4819728134569984        True  2017-03-26 23:57:14.639540  line  \n",
      "1  6630630412517376        True  2017-03-08 19:27:39.942440  line  \n",
      "2  5532301360365568        True  2017-03-17 03:12:15.066140  line  \n",
      "3  5703119189049344        True  2017-03-17 14:13:12.645900  line  \n",
      "4  5859843703308288        True  2017-03-12 17:11:23.741940  line  \n"
     ]
    }
   ],
   "source": [
    "# csv 파일로 되어있는 데이터 불러오기\n",
    "\n",
    "import pandas as pd\n",
    "\n",
    "# train 데이터의 csv 파일이 있는 폴더 경로 설정\n",
    "folder_path = '/Users/yangh/Downloads/yh_project/data/train_simplified'\n",
    "# 각 csv 파일을 불러오기 위해 초기화\n",
    "dataframes = []\n",
    "\n",
    "# 폴더에 있는 csv파일 반복문으로 불러오기\n",
    "for file in os.listdir(folder_path):\n",
    "    if file.endswith('.csv'):\n",
    "        # csv파일 읽고 list에 추가하기\n",
    "        file_path = os.path.join(folder_path, file)\n",
    "        df = pd.read_csv(file_path)\n",
    "        dataframes.append(df)\n",
    "\n",
    "# 불러온 데이터 하나로 합치기\n",
    "train_df = pd.concat(dataframes, ignore_index=True)\n",
    "\n",
    "print(train_df.head())"
   ]
  },
  {
   "cell_type": "code",
   "execution_count": 32,
   "id": "ac6676da-4545-46b4-b792-7b471bd5195f",
   "metadata": {},
   "outputs": [
    {
     "data": {
      "text/html": [
       "<div>\n",
       "<style scoped>\n",
       "    .dataframe tbody tr th:only-of-type {\n",
       "        vertical-align: middle;\n",
       "    }\n",
       "\n",
       "    .dataframe tbody tr th {\n",
       "        vertical-align: top;\n",
       "    }\n",
       "\n",
       "    .dataframe thead th {\n",
       "        text-align: right;\n",
       "    }\n",
       "</style>\n",
       "<table border=\"1\" class=\"dataframe\">\n",
       "  <thead>\n",
       "    <tr style=\"text-align: right;\">\n",
       "      <th></th>\n",
       "      <th>key_id</th>\n",
       "      <th>countrycode</th>\n",
       "      <th>drawing</th>\n",
       "    </tr>\n",
       "  </thead>\n",
       "  <tbody>\n",
       "    <tr>\n",
       "      <th>0</th>\n",
       "      <td>9000003627287624</td>\n",
       "      <td>DE</td>\n",
       "      <td>[[[17, 18, 20, 25, 137, 174, 242, 249, 251, 25...</td>\n",
       "    </tr>\n",
       "    <tr>\n",
       "      <th>1</th>\n",
       "      <td>9000010688666847</td>\n",
       "      <td>UA</td>\n",
       "      <td>[[[174, 145, 106, 38, 11, 4, 4, 15, 29, 78, 16...</td>\n",
       "    </tr>\n",
       "    <tr>\n",
       "      <th>2</th>\n",
       "      <td>9000023642890129</td>\n",
       "      <td>BG</td>\n",
       "      <td>[[[0, 12, 14, 17, 16, 24, 55, 57, 60, 79, 82, ...</td>\n",
       "    </tr>\n",
       "    <tr>\n",
       "      <th>3</th>\n",
       "      <td>9000038588854897</td>\n",
       "      <td>US</td>\n",
       "      <td>[[[0, 9, 23, 40, 54, 60, 81, 105, 123, 167, 20...</td>\n",
       "    </tr>\n",
       "    <tr>\n",
       "      <th>4</th>\n",
       "      <td>9000052667981386</td>\n",
       "      <td>AR</td>\n",
       "      <td>[[[87, 82, 71, 63, 66, 92, 96, 95], [220, 218,...</td>\n",
       "    </tr>\n",
       "  </tbody>\n",
       "</table>\n",
       "</div>"
      ],
      "text/plain": [
       "             key_id countrycode  \\\n",
       "0  9000003627287624          DE   \n",
       "1  9000010688666847          UA   \n",
       "2  9000023642890129          BG   \n",
       "3  9000038588854897          US   \n",
       "4  9000052667981386          AR   \n",
       "\n",
       "                                             drawing  \n",
       "0  [[[17, 18, 20, 25, 137, 174, 242, 249, 251, 25...  \n",
       "1  [[[174, 145, 106, 38, 11, 4, 4, 15, 29, 78, 16...  \n",
       "2  [[[0, 12, 14, 17, 16, 24, 55, 57, 60, 79, 82, ...  \n",
       "3  [[[0, 9, 23, 40, 54, 60, 81, 105, 123, 167, 20...  \n",
       "4  [[[87, 82, 71, 63, 66, 92, 96, 95], [220, 218,...  "
      ]
     },
     "execution_count": 32,
     "metadata": {},
     "output_type": "execute_result"
    }
   ],
   "source": [
    "test_df = pd.read_csv(\"/Users/yangh/Downloads/yh_project/data/test_simplified.csv\")\n",
    "\n",
    "test_df.head()"
   ]
  },
  {
   "cell_type": "code",
   "execution_count": 34,
   "id": "efd5fa3f-24fd-4b8e-8fb7-1abe40d248f1",
   "metadata": {},
   "outputs": [
    {
     "data": {
      "text/plain": [
       "0              line\n",
       "1              line\n",
       "2              line\n",
       "3              line\n",
       "4              line\n",
       "             ...   \n",
       "49707574    bandage\n",
       "49707575    bandage\n",
       "49707576    bandage\n",
       "49707577    bandage\n",
       "49707578    bandage\n",
       "Name: word, Length: 49707579, dtype: object"
      ]
     },
     "execution_count": 34,
     "metadata": {},
     "output_type": "execute_result"
    }
   ],
   "source": [
    "train_df['word']"
   ]
  },
  {
   "cell_type": "code",
   "execution_count": null,
   "id": "fff834ad-9502-493c-aabc-15ca820676f7",
   "metadata": {},
   "outputs": [],
   "source": []
  }
 ],
 "metadata": {
  "kernelspec": {
   "display_name": "Python 3 (ipykernel)",
   "language": "python",
   "name": "python3"
  },
  "language_info": {
   "codemirror_mode": {
    "name": "ipython",
    "version": 3
   },
   "file_extension": ".py",
   "mimetype": "text/x-python",
   "name": "python",
   "nbconvert_exporter": "python",
   "pygments_lexer": "ipython3",
   "version": "3.11.7"
  }
 },
 "nbformat": 4,
 "nbformat_minor": 5
}
