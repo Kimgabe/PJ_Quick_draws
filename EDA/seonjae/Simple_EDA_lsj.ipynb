{
 "cells": [
  {
   "cell_type": "markdown",
   "source": [
    "# 학습 데이터 분석\n",
    "## Simplified Data 분석하기\n",
    "\n",
    "* 학습 데이터 중 simplified data가 어떻게 구성되어 있는지 확인한다."
   ],
   "metadata": {
    "collapsed": false
   },
   "id": "106f8a06f7535472"
  },
  {
   "cell_type": "code",
   "outputs": [
    {
     "data": {
      "text/plain": "340"
     },
     "execution_count": 1,
     "metadata": {},
     "output_type": "execute_result"
    }
   ],
   "source": [
    "import os\n",
    "\n",
    "dir_path = 'C:\\Devel\\git\\PJ_Quick_draws\\Preprocessing\\seonjae\\data'\n",
    "# 데이터셋 경로에 있는 csv파일 개수(클래스 종류) 확인\n",
    "class_file = os.listdir(dir_path)\n",
    "len(class_file)"
   ],
   "metadata": {
    "collapsed": false,
    "ExecuteTime": {
     "end_time": "2024-02-10T05:28:13.079487400Z",
     "start_time": "2024-02-10T05:28:13.063961100Z"
    }
   },
   "id": "16eebab46daa6aa8",
   "execution_count": 1
  },
  {
   "cell_type": "markdown",
   "source": [
    "학습 데이터셋의 클래스는 총 340종류이다."
   ],
   "metadata": {
    "collapsed": false
   },
   "id": "433f377e039b00aa"
  },
  {
   "cell_type": "code",
   "outputs": [
    {
     "data": {
      "text/plain": "  countrycode                                            drawing  \\\n0          US  [[[167, 109, 80, 69, 58, 31, 57, 117, 99, 52, ...   \n1          CA  [[[2, 14, 34, 126], [57, 45, 38, 47]], [[41, 4...   \n2          US  [[[90, 88, 95, 104, 112, 122], [65, 31, 12, 0,...   \n3          US  [[[82, 49, 15, 4, 0, 5, 30, 85, 89, 93, 112, 1...   \n4          IL  [[[64, 38, 23, 8, 0, 6, 26, 68], [74, 77, 84, ...   \n\n             key_id  recognized                   timestamp      word  \n0  5152802093400064        True  2017-03-08 21:12:07.266040  airplane  \n1  6622904974311424       False  2017-03-06 21:39:04.690130  airplane  \n2  6577010312740864        True  2017-03-23 02:08:35.229980  airplane  \n3  5643224746033152        True  2017-03-10 00:35:17.531970  airplane  \n4  6670046841536512        True  2017-01-23 18:11:11.658170  airplane  ",
      "text/html": "<div>\n<style scoped>\n    .dataframe tbody tr th:only-of-type {\n        vertical-align: middle;\n    }\n\n    .dataframe tbody tr th {\n        vertical-align: top;\n    }\n\n    .dataframe thead th {\n        text-align: right;\n    }\n</style>\n<table border=\"1\" class=\"dataframe\">\n  <thead>\n    <tr style=\"text-align: right;\">\n      <th></th>\n      <th>countrycode</th>\n      <th>drawing</th>\n      <th>key_id</th>\n      <th>recognized</th>\n      <th>timestamp</th>\n      <th>word</th>\n    </tr>\n  </thead>\n  <tbody>\n    <tr>\n      <th>0</th>\n      <td>US</td>\n      <td>[[[167, 109, 80, 69, 58, 31, 57, 117, 99, 52, ...</td>\n      <td>5152802093400064</td>\n      <td>True</td>\n      <td>2017-03-08 21:12:07.266040</td>\n      <td>airplane</td>\n    </tr>\n    <tr>\n      <th>1</th>\n      <td>CA</td>\n      <td>[[[2, 14, 34, 126], [57, 45, 38, 47]], [[41, 4...</td>\n      <td>6622904974311424</td>\n      <td>False</td>\n      <td>2017-03-06 21:39:04.690130</td>\n      <td>airplane</td>\n    </tr>\n    <tr>\n      <th>2</th>\n      <td>US</td>\n      <td>[[[90, 88, 95, 104, 112, 122], [65, 31, 12, 0,...</td>\n      <td>6577010312740864</td>\n      <td>True</td>\n      <td>2017-03-23 02:08:35.229980</td>\n      <td>airplane</td>\n    </tr>\n    <tr>\n      <th>3</th>\n      <td>US</td>\n      <td>[[[82, 49, 15, 4, 0, 5, 30, 85, 89, 93, 112, 1...</td>\n      <td>5643224746033152</td>\n      <td>True</td>\n      <td>2017-03-10 00:35:17.531970</td>\n      <td>airplane</td>\n    </tr>\n    <tr>\n      <th>4</th>\n      <td>IL</td>\n      <td>[[[64, 38, 23, 8, 0, 6, 26, 68], [74, 77, 84, ...</td>\n      <td>6670046841536512</td>\n      <td>True</td>\n      <td>2017-01-23 18:11:11.658170</td>\n      <td>airplane</td>\n    </tr>\n  </tbody>\n</table>\n</div>"
     },
     "execution_count": 2,
     "metadata": {},
     "output_type": "execute_result"
    }
   ],
   "source": [
    "import pandas as pd\n",
    "\n",
    "df_data = []\n",
    "\n",
    "# 리스트의 각 요소에 클래스별 데이터 대입\n",
    "for i in class_file:\n",
    "    df_data.append(pd.read_csv(dir_path+'\\\\'+i))\n",
    "    \n",
    "# 첫 번째 데이터셋의 상위 5개의 행 확인\n",
    "df_data[0].head()"
   ],
   "metadata": {
    "collapsed": false,
    "ExecuteTime": {
     "end_time": "2024-02-10T05:33:01.311730900Z",
     "start_time": "2024-02-10T05:28:14.723265200Z"
    }
   },
   "id": "1743530cde372dbd",
   "execution_count": 2
  },
  {
   "cell_type": "markdown",
   "source": [
    "데이터셋의 컬럼으로는 'countrycode', 'drawing', 'key_id', 'recognized', 'timestamp', 'word'가 있다."
   ],
   "metadata": {
    "collapsed": false
   },
   "id": "a9c7bfacecc28f9"
  },
  {
   "cell_type": "code",
   "outputs": [
    {
     "name": "stdout",
     "output_type": "stream",
     "text": [
      "Size of airplane.csv: 151623\n",
      "Size of alarm clock.csv: 123399\n",
      "Size of ambulance.csv: 148004\n",
      "Size of angel.csv: 149736\n",
      "Size of animal migration.csv: 137847\n",
      "Size of ant.csv: 124612\n",
      "Size of anvil.csv: 126231\n",
      "Size of apple.csv: 144722\n",
      "Size of arm.csv: 120951\n",
      "Size of asparagus.csv: 168102\n",
      "Size of axe.csv: 124122\n",
      "Size of backpack.csv: 125801\n",
      "Size of banana.csv: 307936\n",
      "Size of bandage.csv: 147614\n",
      "Size of barn.csv: 151139\n",
      "Size of baseball bat.csv: 123809\n",
      "Size of baseball.csv: 135375\n",
      "Size of basket.csv: 118458\n",
      "Size of basketball.csv: 133793\n",
      "Size of bat.csv: 118114\n",
      "Size of bathtub.csv: 174336\n",
      "Size of beach.csv: 124938\n",
      "Size of bear.csv: 134762\n",
      "Size of beard.csv: 165202\n",
      "Size of bed.csv: 113862\n",
      "Size of bee.csv: 120890\n",
      "Size of belt.csv: 191119\n",
      "Size of bench.csv: 128695\n",
      "Size of bicycle.csv: 126527\n",
      "Size of binoculars.csv: 124190\n",
      "Size of bird.csv: 133572\n",
      "Size of birthday cake.csv: 144982\n",
      "Size of blackberry.csv: 128153\n",
      "Size of blueberry.csv: 127878\n",
      "Size of book.csv: 119364\n",
      "Size of boomerang.csv: 142682\n",
      "Size of bottlecap.csv: 153207\n",
      "Size of bowtie.csv: 130283\n",
      "Size of bracelet.csv: 119416\n",
      "Size of brain.csv: 143033\n",
      "Size of bread.csv: 120570\n",
      "Size of bridge.csv: 133010\n",
      "Size of broccoli.csv: 132826\n",
      "Size of broom.csv: 116927\n",
      "Size of bucket.csv: 124064\n",
      "Size of bulldozer.csv: 187409\n",
      "Size of bus.csv: 166208\n",
      "Size of bush.csv: 120520\n",
      "Size of butterfly.csv: 117999\n",
      "Size of cactus.csv: 131676\n",
      "Size of cake.csv: 124905\n",
      "Size of calculator.csv: 128375\n",
      "Size of calendar.csv: 321981\n",
      "Size of camel.csv: 121399\n",
      "Size of camera.csv: 128772\n",
      "Size of camouflage.csv: 172710\n",
      "Size of campfire.csv: 133395\n",
      "Size of candle.csv: 141545\n",
      "Size of cannon.csv: 141394\n",
      "Size of canoe.csv: 123767\n",
      "Size of car.csv: 182764\n",
      "Size of carrot.csv: 132459\n",
      "Size of castle.csv: 122534\n",
      "Size of cat.csv: 123202\n",
      "Size of ceiling fan.csv: 115413\n",
      "Size of cell phone.csv: 121130\n",
      "Size of cello.csv: 149725\n",
      "Size of chair.csv: 222706\n",
      "Size of chandelier.csv: 167502\n",
      "Size of church.csv: 164225\n",
      "Size of circle.csv: 122876\n",
      "Size of clarinet.csv: 126214\n",
      "Size of clock.csv: 120536\n",
      "Size of cloud.csv: 120265\n",
      "Size of coffee cup.csv: 183432\n",
      "Size of compass.csv: 127609\n",
      "Size of computer.csv: 123885\n",
      "Size of cookie.csv: 131353\n",
      "Size of cooler.csv: 271444\n",
      "Size of couch.csv: 119662\n",
      "Size of cow.csv: 123083\n",
      "Size of crab.csv: 126930\n",
      "Size of crayon.csv: 129953\n",
      "Size of crocodile.csv: 127932\n",
      "Size of crown.csv: 134089\n",
      "Size of cruise ship.csv: 123410\n",
      "Size of cup.csv: 130721\n",
      "Size of diamond.csv: 131587\n",
      "Size of dishwasher.csv: 169759\n",
      "Size of diving board.csv: 290239\n",
      "Size of dog.csv: 152159\n",
      "Size of dolphin.csv: 121613\n",
      "Size of donut.csv: 140751\n",
      "Size of door.csv: 120230\n",
      "Size of dragon.csv: 124362\n",
      "Size of dresser.csv: 123395\n",
      "Size of drill.csv: 136786\n",
      "Size of drums.csv: 137299\n",
      "Size of duck.csv: 135480\n",
      "Size of dumbbell.csv: 157975\n",
      "Size of ear.csv: 122897\n",
      "Size of elbow.csv: 126253\n",
      "Size of elephant.csv: 126969\n",
      "Size of envelope.csv: 134863\n",
      "Size of eraser.csv: 118339\n",
      "Size of eye.csv: 125888\n",
      "Size of eyeglasses.csv: 225762\n",
      "Size of face.csv: 161666\n",
      "Size of fan.csv: 136158\n",
      "Size of feather.csv: 119910\n",
      "Size of fence.csv: 129426\n",
      "Size of finger.csv: 167957\n",
      "Size of fire hydrant.csv: 137242\n",
      "Size of fireplace.csv: 155570\n",
      "Size of firetruck.csv: 220695\n",
      "Size of fish.csv: 134150\n",
      "Size of flamingo.csv: 124569\n",
      "Size of flashlight.csv: 239763\n",
      "Size of flip flops.csv: 121518\n",
      "Size of floor lamp.csv: 166355\n",
      "Size of flower.csv: 144818\n",
      "Size of flying saucer.csv: 151966\n",
      "Size of foot.csv: 203086\n",
      "Size of fork.csv: 126077\n",
      "Size of frog.csv: 159047\n",
      "Size of frying pan.csv: 123824\n",
      "Size of garden hose.csv: 121843\n",
      "Size of garden.csv: 158527\n",
      "Size of giraffe.csv: 127182\n",
      "Size of goatee.csv: 190002\n",
      "Size of golf club.csv: 194843\n",
      "Size of grapes.csv: 155305\n",
      "Size of grass.csv: 123071\n",
      "Size of guitar.csv: 120451\n",
      "Size of hamburger.csv: 129672\n",
      "Size of hammer.csv: 119012\n",
      "Size of hand.csv: 291773\n",
      "Size of harp.csv: 285403\n",
      "Size of hat.csv: 222610\n",
      "Size of headphones.csv: 118906\n",
      "Size of hedgehog.csv: 120527\n",
      "Size of helicopter.csv: 159938\n",
      "Size of helmet.csv: 121899\n",
      "Size of hexagon.csv: 142435\n",
      "Size of hockey puck.csv: 203301\n",
      "Size of hockey stick.csv: 130110\n",
      "Size of horse.csv: 178286\n",
      "Size of hospital.csv: 167448\n",
      "Size of hot air balloon.csv: 126350\n",
      "Size of hot dog.csv: 181999\n",
      "Size of hot tub.csv: 120279\n",
      "Size of hourglass.csv: 135957\n",
      "Size of house plant.csv: 122996\n",
      "Size of house.csv: 135420\n",
      "Size of hurricane.csv: 136245\n",
      "Size of ice cream.csv: 123133\n",
      "Size of jacket.csv: 214124\n",
      "Size of jail.csv: 120131\n",
      "Size of kangaroo.csv: 174470\n",
      "Size of key.csv: 160965\n",
      "Size of keyboard.csv: 187766\n",
      "Size of knee.csv: 267540\n",
      "Size of ladder.csv: 125389\n",
      "Size of lantern.csv: 149912\n",
      "Size of laptop.csv: 261501\n",
      "Size of leaf.csv: 125571\n",
      "Size of leg.csv: 116804\n",
      "Size of light bulb.csv: 120879\n",
      "Size of lighthouse.csv: 160903\n",
      "Size of lightning.csv: 151560\n",
      "Size of line.csv: 143549\n",
      "Size of lion.csv: 120949\n",
      "Size of lipstick.csv: 127623\n",
      "Size of lobster.csv: 140175\n",
      "Size of lollipop.csv: 128849\n",
      "Size of mailbox.csv: 130053\n",
      "Size of map.csv: 120629\n",
      "Size of marker.csv: 319136\n",
      "Size of matches.csv: 143969\n",
      "Size of megaphone.csv: 137334\n",
      "Size of mermaid.csv: 180304\n",
      "Size of microphone.csv: 120570\n",
      "Size of microwave.csv: 130533\n",
      "Size of monkey.csv: 127633\n",
      "Size of moon.csv: 121661\n",
      "Size of mosquito.csv: 123029\n",
      "Size of motorbike.csv: 169931\n",
      "Size of mountain.csv: 128540\n",
      "Size of mouse.csv: 178826\n",
      "Size of moustache.csv: 179924\n",
      "Size of mouth.csv: 134135\n",
      "Size of mug.csv: 152918\n",
      "Size of mushroom.csv: 142167\n",
      "Size of nail.csv: 158593\n",
      "Size of necklace.csv: 120580\n",
      "Size of nose.csv: 197573\n",
      "Size of ocean.csv: 131493\n",
      "Size of octagon.csv: 159474\n",
      "Size of octopus.csv: 150152\n",
      "Size of onion.csv: 132297\n",
      "Size of oven.csv: 206910\n",
      "Size of owl.csv: 169632\n",
      "Size of paint can.csv: 123446\n",
      "Size of paintbrush.csv: 187002\n",
      "Size of palm tree.csv: 121959\n",
      "Size of panda.csv: 113613\n",
      "Size of pants.csv: 144264\n",
      "Size of paper clip.csv: 127129\n",
      "Size of parachute.csv: 127319\n",
      "Size of parrot.csv: 185530\n",
      "Size of passport.csv: 150265\n",
      "Size of peanut.csv: 126626\n",
      "Size of pear.csv: 116904\n",
      "Size of peas.csv: 161656\n",
      "Size of pencil.csv: 122001\n",
      "Size of penguin.csv: 253791\n",
      "Size of piano.csv: 116870\n",
      "Size of pickup truck.csv: 130740\n",
      "Size of picture frame.csv: 122371\n",
      "Size of pig.csv: 186770\n",
      "Size of pillow.csv: 118753\n",
      "Size of pineapple.csv: 125071\n",
      "Size of pizza.csv: 130371\n",
      "Size of pliers.csv: 172549\n",
      "Size of police car.csv: 130024\n",
      "Size of pond.csv: 121620\n",
      "Size of pool.csv: 133439\n",
      "Size of popsicle.csv: 126707\n",
      "Size of postcard.csv: 125706\n",
      "Size of potato.csv: 329204\n",
      "Size of power outlet.csv: 169462\n",
      "Size of purse.csv: 123320\n",
      "Size of rabbit.csv: 155288\n",
      "Size of raccoon.csv: 119588\n",
      "Size of radio.csv: 135728\n",
      "Size of rain.csv: 134680\n",
      "Size of rainbow.csv: 126845\n",
      "Size of rake.csv: 154639\n",
      "Size of remote control.csv: 119644\n",
      "Size of rhinoceros.csv: 188484\n",
      "Size of river.csv: 133271\n",
      "Size of roller coaster.csv: 143570\n",
      "Size of rollerskates.csv: 119772\n",
      "Size of sailboat.csv: 136506\n",
      "Size of sandwich.csv: 131732\n",
      "Size of saw.csv: 121256\n",
      "Size of saxophone.csv: 118107\n",
      "Size of school bus.csv: 122041\n",
      "Size of scissors.csv: 123390\n",
      "Size of scorpion.csv: 165689\n",
      "Size of screwdriver.csv: 116313\n",
      "Size of sea turtle.csv: 119876\n",
      "Size of see saw.csv: 131936\n",
      "Size of shark.csv: 126050\n",
      "Size of sheep.csv: 126121\n",
      "Size of shoe.csv: 120231\n",
      "Size of shorts.csv: 124970\n",
      "Size of shovel.csv: 117194\n",
      "Size of sink.csv: 208410\n",
      "Size of skateboard.csv: 128733\n",
      "Size of skull.csv: 126174\n",
      "Size of skyscraper.csv: 183709\n",
      "Size of sleeping bag.csv: 119691\n",
      "Size of smiley face.csv: 124386\n",
      "Size of snail.csv: 133757\n",
      "Size of snake.csv: 122273\n",
      "Size of snorkel.csv: 154533\n",
      "Size of snowflake.csv: 116685\n",
      "Size of snowman.csv: 340029\n",
      "Size of soccer ball.csv: 125349\n",
      "Size of sock.csv: 205715\n",
      "Size of speedboat.csv: 188580\n",
      "Size of spider.csv: 209447\n",
      "Size of spoon.csv: 125028\n",
      "Size of spreadsheet.csv: 170200\n",
      "Size of square.csv: 125145\n",
      "Size of squiggle.csv: 118441\n",
      "Size of squirrel.csv: 156883\n",
      "Size of stairs.csv: 128981\n",
      "Size of star.csv: 137619\n",
      "Size of steak.csv: 122042\n",
      "Size of stereo.csv: 122444\n",
      "Size of stethoscope.csv: 153794\n",
      "Size of stitches.csv: 125192\n",
      "Size of stop sign.csv: 119814\n",
      "Size of stove.csv: 116535\n",
      "Size of strawberry.csv: 122301\n",
      "Size of streetlight.csv: 123280\n",
      "Size of string bean.csv: 119083\n",
      "Size of submarine.csv: 124362\n",
      "Size of suitcase.csv: 126442\n",
      "Size of sun.csv: 133781\n",
      "Size of swan.csv: 152088\n",
      "Size of sweater.csv: 120184\n",
      "Size of swing set.csv: 119357\n",
      "Size of sword.csv: 123802\n",
      "Size of t-shirt.csv: 125233\n",
      "Size of table.csv: 128021\n",
      "Size of teapot.csv: 126804\n",
      "Size of teddy-bear.csv: 179568\n",
      "Size of telephone.csv: 127885\n",
      "Size of television.csv: 123137\n",
      "Size of tennis racquet.csv: 231151\n",
      "Size of tent.csv: 131527\n",
      "Size of The Eiffel Tower.csv: 134801\n",
      "Size of The Great Wall of China.csv: 193015\n",
      "Size of The Mona Lisa.csv: 121383\n",
      "Size of tiger.csv: 121067\n",
      "Size of toaster.csv: 122434\n",
      "Size of toe.csv: 153652\n",
      "Size of toilet.csv: 129888\n",
      "Size of tooth.csv: 125064\n",
      "Size of toothbrush.csv: 124828\n",
      "Size of toothpaste.csv: 131037\n",
      "Size of tornado.csv: 143271\n",
      "Size of tractor.csv: 116677\n",
      "Size of traffic light.csv: 125321\n",
      "Size of train.csv: 127948\n",
      "Size of tree.csv: 144721\n",
      "Size of triangle.csv: 123170\n",
      "Size of trombone.csv: 184759\n",
      "Size of truck.csv: 131354\n",
      "Size of trumpet.csv: 169547\n",
      "Size of umbrella.csv: 124084\n",
      "Size of underwear.csv: 124548\n",
      "Size of van.csv: 165909\n",
      "Size of vase.csv: 126475\n",
      "Size of violin.csv: 217260\n",
      "Size of washing machine.csv: 120851\n",
      "Size of watermelon.csv: 132939\n",
      "Size of waterslide.csv: 185364\n",
      "Size of whale.csv: 116502\n",
      "Size of wheel.csv: 136659\n",
      "Size of windmill.csv: 120644\n",
      "Size of wine bottle.csv: 126373\n",
      "Size of wine glass.csv: 132302\n",
      "Size of wristwatch.csv: 162645\n",
      "Size of yoga.csv: 280442\n",
      "Size of zebra.csv: 144608\n",
      "Size of zigzag.csv: 120072\n"
     ]
    }
   ],
   "source": [
    "# 각 클래스 별 데이터 개수 확인\n",
    "for i, value in enumerate(df_data):\n",
    "    print(f'Size of {class_file[i]}: {len(value)}')"
   ],
   "metadata": {
    "collapsed": false,
    "ExecuteTime": {
     "end_time": "2024-02-10T05:33:03.925972500Z",
     "start_time": "2024-02-10T05:33:00.931919400Z"
    }
   },
   "id": "fd10010dafefcc63",
   "execution_count": 3
  },
  {
   "cell_type": "code",
   "outputs": [
    {
     "name": "stdout",
     "output_type": "stream",
     "text": [
      "Max Size of class is snowman.csv: 340029\n",
      "Min Size of class is panda.csv: 113613\n"
     ]
    }
   ],
   "source": [
    "min_size = 1000000\n",
    "min_idx = 0\n",
    "max_size = 0\n",
    "max_idx = 0\n",
    "\n",
    "# 모든 클래스 중 데이터 개수 최댓값과 최솟값 확인\n",
    "for i, value in enumerate(df_data):\n",
    "    if len(value) < min_size:\n",
    "        min_size = len(value)\n",
    "        min_idx = i\n",
    "    \n",
    "    if len(value) > max_size:\n",
    "        max_size = len(value)\n",
    "        max_idx = i\n",
    "        \n",
    "print(f'Max Size of class is {class_file[max_idx]}: {max_size}')\n",
    "print(f'Min Size of class is {class_file[min_idx]}: {min_size}')"
   ],
   "metadata": {
    "collapsed": false,
    "ExecuteTime": {
     "end_time": "2024-02-10T05:33:03.926959Z",
     "start_time": "2024-02-10T05:33:01.149648600Z"
    }
   },
   "id": "f1c2d9aaf8d22a90",
   "execution_count": 4
  },
  {
   "cell_type": "markdown",
   "source": [
    "각각의 클래스에 들어있는 데이터의 개수를 확인하고, 데이터가 가장 많은 클래스와 가장 적은 클래스를 확인한다.  \n",
    "* 가장 많은 데이터를 가진 클래스는 눈사람 클래스로, 총 340,029개의 데이터를 가지고 있다.\n",
    "* 가장 적은 데이터를 가진 클래스는 판다 클래스로, 총 113,613개의 데이터를 가지고 있다."
   ],
   "metadata": {
    "collapsed": false
   },
   "id": "616e1dc81ad7e9f4"
  },
  {
   "cell_type": "code",
   "outputs": [
    {
     "name": "stdout",
     "output_type": "stream",
     "text": [
      "Total size of simplified data is 49707579\n"
     ]
    }
   ],
   "source": [
    "total_data = 0\n",
    "\n",
    "# 총 데이터 개수 확인\n",
    "for i in df_data:\n",
    "    total_data += len(i)\n",
    "    \n",
    "print(f'Total size of simplified data is {total_data}')"
   ],
   "metadata": {
    "collapsed": false,
    "ExecuteTime": {
     "end_time": "2024-02-10T05:33:03.927956900Z",
     "start_time": "2024-02-10T05:33:01.150645400Z"
    }
   },
   "id": "2bdb1fb230bfe8d9",
   "execution_count": 5
  },
  {
   "cell_type": "markdown",
   "source": [
    "우리가 학습시킬 데이터의 클래스 종류는 340개이며, 크기는 49,707,579개임을 확인할 수 있다."
   ],
   "metadata": {
    "collapsed": false
   },
   "id": "fd596412c0ed2e9f"
  },
  {
   "cell_type": "code",
   "outputs": [
    {
     "name": "stdout",
     "output_type": "stream",
     "text": [
      "49707579\n"
     ]
    }
   ],
   "source": [
    "# 모든 클래스에 대한 데이터를 하나의 데이터프레임으로 병합\n",
    "merged_dataframe = pd.concat(df_data, ignore_index=True)\n",
    "\n",
    "# 두 개의 컬럼만 추출\n",
    "df_train = merged_dataframe[['drawing', 'word']]\n",
    "\n",
    "# 결과 확인\n",
    "print(len(df_train))"
   ],
   "metadata": {
    "collapsed": false,
    "ExecuteTime": {
     "end_time": "2024-02-10T05:57:11.145640400Z",
     "start_time": "2024-02-10T05:33:01.203939Z"
    }
   },
   "id": "47d787cbe53f120f",
   "execution_count": 6
  },
  {
   "cell_type": "code",
   "outputs": [
    {
     "name": "stdout",
     "output_type": "stream",
     "text": [
      "                                             drawing      word\n",
      "0  [[[167, 109, 80, 69, 58, 31, 57, 117, 99, 52, ...  airplane\n",
      "1  [[[2, 14, 34, 126], [57, 45, 38, 47]], [[41, 4...  airplane\n",
      "2  [[[90, 88, 95, 104, 112, 122], [65, 31, 12, 0,...  airplane\n",
      "3  [[[82, 49, 15, 4, 0, 5, 30, 85, 89, 93, 112, 1...  airplane\n",
      "4  [[[64, 38, 23, 8, 0, 6, 26, 68], [74, 77, 84, ...  airplane\n",
      "                                                    drawing    word\n",
      "49707574  [[[42, 0, 44, 90, 23, 35, 108, 208, 255, 172, ...  zigzag\n",
      "49707575  [[[59, 63, 80, 94, 97, 56, 50, 52, 120, 172, 2...  zigzag\n",
      "49707576  [[[64, 178, 94, 35, 111, 182, 0, 39, 123, 222]...  zigzag\n",
      "49707577  [[[0, 4, 35, 50, 61, 69, 74, 95, 105, 109, 112...  zigzag\n",
      "49707578  [[[0, 33, 132, 164, 165, 155, 85, 37, 23, 28, ...  zigzag\n"
     ]
    }
   ],
   "source": [
    "print(df_train.head())\n",
    "print(df_train.tail())"
   ],
   "metadata": {
    "collapsed": false,
    "ExecuteTime": {
     "end_time": "2024-02-10T05:57:15.207327900Z",
     "start_time": "2024-02-10T05:57:11.025913600Z"
    }
   },
   "id": "880b8c9648a9d599",
   "execution_count": 7
  },
  {
   "cell_type": "markdown",
   "source": [
    "데이터프레임이 병합되고, 분석에 필요한 두 컬럼만 잘 추출된 것을 확인할 수 있다."
   ],
   "metadata": {
    "collapsed": false
   },
   "id": "198ecc2324a3c86b"
  },
  {
   "cell_type": "code",
   "outputs": [
    {
     "data": {
      "text/plain": "'[[[2, 14, 34, 126], [57, 45, 38, 47]], [[41, 46, 53, 67, 83, 84, 72, 69], [62, 102, 118, 118, 104, 93, 82, 74]], [[15, 25, 26, 17], [54, 51, 54, 54]], [[48, 55, 61, 49], [53, 50, 52, 52]], [[75, 87, 87, 69], [53, 54, 56, 55]], [[122, 140, 138, 102, 111, 155, 162, 167, 162, 145, 124, 75], [48, 42, 34, 23, 20, 27, 30, 44, 65, 78, 87, 89]], [[46, 67, 74, 80, 84, 86, 75], [36, 13, 8, 9, 13, 29, 46]], [[0, 7, 50], [56, 61, 69]], [[201, 235], [14, 0]], [[221, 251, 255], [50, 59, 64]], [[232, 249], [94, 102]]]'"
     },
     "execution_count": 8,
     "metadata": {},
     "output_type": "execute_result"
    }
   ],
   "source": [
    "df_train.iloc[1][0]"
   ],
   "metadata": {
    "collapsed": false,
    "ExecuteTime": {
     "end_time": "2024-02-10T05:57:15.325552500Z",
     "start_time": "2024-02-10T05:57:11.118044400Z"
    }
   },
   "id": "6bd770496348cea5",
   "execution_count": 8
  },
  {
   "cell_type": "code",
   "outputs": [
    {
     "name": "stderr",
     "output_type": "stream",
     "text": [
      "C:\\Users\\tjswo\\anaconda3\\Lib\\site-packages\\IPython\\core\\pylabtools.py:152: UserWarning: Glyph 44536 (\\N{HANGUL SYLLABLE GEU}) missing from current font.\n",
      "  fig.canvas.print_figure(bytes_io, **kw)\n",
      "C:\\Users\\tjswo\\anaconda3\\Lib\\site-packages\\IPython\\core\\pylabtools.py:152: UserWarning: Glyph 47000 (\\N{HANGUL SYLLABLE RAE}) missing from current font.\n",
      "  fig.canvas.print_figure(bytes_io, **kw)\n",
      "C:\\Users\\tjswo\\anaconda3\\Lib\\site-packages\\IPython\\core\\pylabtools.py:152: UserWarning: Glyph 54532 (\\N{HANGUL SYLLABLE PEU}) missing from current font.\n",
      "  fig.canvas.print_figure(bytes_io, **kw)\n"
     ]
    },
    {
     "data": {
      "text/plain": "<Figure size 1000x600 with 1 Axes>",
      "image/png": "[encoded data removed]"
     },
     "metadata": {},
     "output_type": "display_data"
    }
   ],
   "source": [
    "import matplotlib.pyplot as plt\n",
    "import json\n",
    "\n",
    "# 컬럼에 들어있는 데이터를 리스트로 변환\n",
    "data_list = json.loads(df_train.iloc[1][0])\n",
    "\n",
    "plt.figure(figsize=(10, 6))\n",
    "# 데이터 시각화\n",
    "for segment in data_list:\n",
    "    plt.plot(segment[0], segment[1])\n",
    "\n",
    "plt.xlabel('X-axis')\n",
    "plt.ylabel('Y-axis')\n",
    "plt.title('그래프')\n",
    "plt.grid(True)\n",
    "plt.show()"
   ],
   "metadata": {
    "collapsed": false,
    "ExecuteTime": {
     "end_time": "2024-02-10T06:24:46.034182300Z",
     "start_time": "2024-02-10T06:24:45.809836100Z"
    }
   },
   "id": "9cf98290068ba4e",
   "execution_count": 15
  },
  {
   "cell_type": "code",
   "outputs": [],
   "source": [],
   "metadata": {
    "collapsed": false
   },
   "id": "9ed3a5a8e85fc1ba"
  }
 ],
 "metadata": {
  "kernelspec": {
   "display_name": "Python 3",
   "language": "python",
   "name": "python3"
  },
  "language_info": {
   "codemirror_mode": {
    "name": "ipython",
    "version": 2
   },
   "file_extension": ".py",
   "mimetype": "text/x-python",
   "name": "python",
   "nbconvert_exporter": "python",
   "pygments_lexer": "ipython2",
   "version": "2.7.6"
  }
 },
 "nbformat": 4,
 "nbformat_minor": 5
}
