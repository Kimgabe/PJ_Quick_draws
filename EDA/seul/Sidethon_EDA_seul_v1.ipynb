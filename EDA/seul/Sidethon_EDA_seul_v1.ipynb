{
 "cells": [
  {
   "cell_type": "markdown",
   "id": "6cf29500",
   "metadata": {},
   "source": [
    "# 0204 - EDA \n",
    "- 작성: 이슬\n",
    "- 프로젝트 선정후 각자 데이터를 파악하는 작업을 하는 기간에 작성한 노트북\n",
    "    - 허깅페이스에서 데이터셋을 불러오고, stream 방식으로 가져온 데이터를 EDA 시도했으나 어려움이 있었고, 데이터 다운받는 부분까지 완료후 미팅 참여 "
   ]
  },
  {
   "cell_type": "code",
   "execution_count": 3,
   "id": "86cc7302",
   "metadata": {},
   "outputs": [
    {
     "name": "stdout",
     "output_type": "stream",
     "text": [
      "GPU Name: Tesla T4\n",
      "Memory Free: 15109.0 MB\n",
      "Memory Used: 0.0 MB\n"
     ]
    }
   ],
   "source": [
    "import GPUtil\n",
    "\n",
    "gpus = GPUtil.getGPUs()\n",
    "for gpu in gpus:\n",
    "    print(f\"GPU Name: {gpu.name}\")\n",
    "    print(f\"Memory Free: {gpu.memoryFree} MB\")\n",
    "    print(f\"Memory Used: {gpu.memoryUsed} MB\")"
   ]
  },
  {
   "cell_type": "code",
   "execution_count": 2,
   "id": "77f64738",
   "metadata": {},
   "outputs": [
    {
     "name": "stdout",
     "output_type": "stream",
     "text": [
      "Collecting gputil\n",
      "  Downloading GPUtil-1.4.0.tar.gz (5.5 kB)\n",
      "  Preparing metadata (setup.py) ... \u001b[?25ldone\n",
      "\u001b[?25hBuilding wheels for collected packages: gputil\n",
      "  Building wheel for gputil (setup.py) ... \u001b[?25ldone\n",
      "\u001b[?25h  Created wheel for gputil: filename=GPUtil-1.4.0-py3-none-any.whl size=7411 sha256=adaa24dcccf87798da4b20c012bfc510f767a50f1b7056a14cdb70078d11771a\n",
      "  Stored in directory: /aiffel/.cache/pip/wheels/2b/b5/24/fbb56595c286984f7315ee31821d6121e1b9828436021a88b3\n",
      "Successfully built gputil\n",
      "Installing collected packages: gputil\n",
      "Successfully installed gputil-1.4.0\n",
      "\u001b[33mWARNING: Running pip as the 'root' user can result in broken permissions and conflicting behaviour with the system package manager. It is recommended to use a virtual environment instead: https://pip.pypa.io/warnings/venv\u001b[0m\n"
     ]
    }
   ],
   "source": [
    "# !pip install gputil"
   ]
  },
  {
   "cell_type": "markdown",
   "id": "afdcaf02",
   "metadata": {},
   "source": [
    "# Load data\n",
    "\n",
    "## Dataset Description : The Quick Draw Dataset\n",
    "- **collection of millions of drawings across 300+ categories**\n",
    "    - contributed by players of Quick, Draw! \n",
    "- The drawings were captured as **timestamped vectors**\n",
    "- **tagged** with metadata \n",
    "    - **what the player was asked to draw**\n",
    "    - **in which country the player was located**\n",
    "\n",
    "## File Description\n",
    "- Two versions of the data\n",
    "- The raw data : the exact input recorded from the user drawing,\n",
    "- the simplified version : removed unnecessary points from the vector information \n",
    "    - sample_submission.csv - a sample submission file in the correct format\n",
    "    - test_raw.csv - the test data in the raw vector format\n",
    "    - test_simplified.csv - the test data in the simplified vector format\n",
    "    - train_raw.zip - the training data in the raw vector format; one csv file per word\n",
    "    - train_simplified.zip - the training data in the simplified vector format; one csv file per word\n",
    "\n",
    "## issue\n",
    "- [캐글 원본 데이터셋](https://www.kaggle.com/competitions/quickdraw-doodle-recognition/data)의 용량이 너무 커서 압축해제에서 서버가 다운되는 문제가 있음\n",
    "    - simplified 버전을 사용해서 EDA를 시도\n",
    "    - 안될경우 캐글 데이터셋과 동일한 [hugging face의 데이터셋](https://huggingface.co/datasets/quickdraw) 사용 시도"
   ]
  },
  {
   "cell_type": "code",
   "execution_count": 1,
   "id": "e3322cfe",
   "metadata": {
    "scrolled": true
   },
   "outputs": [
    {
     "name": "stdout",
     "output_type": "stream",
     "text": [
      "Collecting kaggle\n",
      "  Downloading kaggle-1.6.4.tar.gz (84 kB)\n",
      "     |████████████████████████████████| 84 kB 3.1 MB/s             \n",
      "\u001b[?25h  Preparing metadata (setup.py) ... \u001b[?25ldone\n",
      "\u001b[?25hRequirement already satisfied: six>=1.10 in /opt/conda/lib/python3.9/site-packages (from kaggle) (1.16.0)\n",
      "Requirement already satisfied: certifi in /opt/conda/lib/python3.9/site-packages (from kaggle) (2021.10.8)\n",
      "Requirement already satisfied: python-dateutil in /opt/conda/lib/python3.9/site-packages (from kaggle) (2.8.2)\n",
      "Requirement already satisfied: requests in /opt/conda/lib/python3.9/site-packages (from kaggle) (2.26.0)\n",
      "Requirement already satisfied: tqdm in /opt/conda/lib/python3.9/site-packages (from kaggle) (4.62.3)\n",
      "Collecting python-slugify\n",
      "  Downloading python_slugify-8.0.3-py2.py3-none-any.whl (10 kB)\n",
      "Requirement already satisfied: urllib3 in /opt/conda/lib/python3.9/site-packages (from kaggle) (1.26.7)\n",
      "Requirement already satisfied: bleach in /opt/conda/lib/python3.9/site-packages (from kaggle) (4.1.0)\n",
      "Requirement already satisfied: webencodings in /opt/conda/lib/python3.9/site-packages (from bleach->kaggle) (0.5.1)\n",
      "Requirement already satisfied: packaging in /opt/conda/lib/python3.9/site-packages (from bleach->kaggle) (21.3)\n",
      "Collecting text-unidecode>=1.3\n",
      "  Downloading text_unidecode-1.3-py2.py3-none-any.whl (78 kB)\n",
      "     |████████████████████████████████| 78 kB 11.1 MB/s            \n",
      "\u001b[?25hRequirement already satisfied: idna<4,>=2.5 in /opt/conda/lib/python3.9/site-packages (from requests->kaggle) (2.10)\n",
      "Requirement already satisfied: charset-normalizer~=2.0.0 in /opt/conda/lib/python3.9/site-packages (from requests->kaggle) (2.0.8)\n",
      "Requirement already satisfied: pyparsing!=3.0.5,>=2.0.2 in /opt/conda/lib/python3.9/site-packages (from packaging->bleach->kaggle) (3.0.6)\n",
      "Building wheels for collected packages: kaggle\n",
      "  Building wheel for kaggle (setup.py) ... \u001b[?25ldone\n",
      "\u001b[?25h  Created wheel for kaggle: filename=kaggle-1.6.4-py3-none-any.whl size=111947 sha256=3c6086a451d2f5e872ae45266f0c629477eaef0f8e06f35af4f8261be2338aea\n",
      "  Stored in directory: /aiffel/.cache/pip/wheels/43/27/0f/1c731177a7701222d1af0ef01b165f1b2a2580452a056fde07\n",
      "Successfully built kaggle\n",
      "Installing collected packages: text-unidecode, python-slugify, kaggle\n",
      "Successfully installed kaggle-1.6.4 python-slugify-8.0.3 text-unidecode-1.3\n",
      "\u001b[33mWARNING: Running pip as the 'root' user can result in broken permissions and conflicting behaviour with the system package manager. It is recommended to use a virtual environment instead: https://pip.pypa.io/warnings/venv\u001b[0m\n"
     ]
    }
   ],
   "source": [
    "!pip install kaggle --upgrade # kaggle 라이브러리 설치 코드"
   ]
  },
  {
   "cell_type": "code",
   "execution_count": 2,
   "id": "fb97e5b9",
   "metadata": {},
   "outputs": [],
   "source": [
    "# kaggle API 코드(kaggle.json)파일 경로 인식시켜 주기 위한 코드\n",
    "import os\n",
    "cur_dir = os.getcwd()\n",
    "os.environ['KAGGLE_CONFIG_DIR'] = cur_dir"
   ]
  },
  {
   "cell_type": "code",
   "execution_count": null,
   "id": "06ce802f",
   "metadata": {},
   "outputs": [],
   "source": [
    "# # data라는 폴더에 컴피티션에서 제공하는 데이터를 다운 받는 코드\n",
    "# !kaggle competitions download -c quickdraw-doodle-recognition -p ./data"
   ]
  },
  {
   "cell_type": "code",
   "execution_count": 22,
   "id": "40c33dcc",
   "metadata": {
    "scrolled": true
   },
   "outputs": [
    {
     "name": "stdout",
     "output_type": "stream",
     "text": [
      "name                                           size  creationDate         \r\n",
      "--------------------------------------------  -----  -------------------  \r\n",
      "train_raw/backpack.csv                        594MB  2019-12-15 23:30:21  \r\n",
      "train_raw/ambulance.csv                       905MB  2019-12-15 23:30:21  \r\n",
      "train_raw/angel.csv                           908MB  2019-12-15 23:30:21  \r\n",
      "train_raw/bandage.csv                         571MB  2019-12-15 23:30:21  \r\n",
      "train_raw/arm.csv                             455MB  2019-12-15 23:30:21  \r\n",
      "train_raw/banana.csv                          915MB  2019-12-15 23:30:21  \r\n",
      "train_raw/asparagus.csv                       667MB  2019-12-15 23:30:21  \r\n",
      "train_raw/ant.csv                             383MB  2019-12-15 23:30:21  \r\n",
      "train_raw/axe.csv                             392MB  2019-12-15 23:30:21  \r\n",
      "train_raw/apple.csv                           424MB  2019-12-15 23:30:21  \r\n",
      "train_raw/barn.csv                            780MB  2019-12-15 23:30:21  \r\n",
      "train_raw/airplane.csv                        760MB  2019-12-15 23:30:21  \r\n",
      "train_raw/anvil.csv                           467MB  2019-12-15 23:30:21  \r\n",
      "train_raw/The Eiffel Tower.csv                511MB  2019-12-15 23:30:21  \r\n",
      "train_raw/animal migration.csv                529MB  2019-12-15 23:30:21  \r\n",
      "train_raw/baseball bat.csv                    365MB  2019-12-15 23:30:21  \r\n",
      "train_raw/The Mona Lisa.csv                   780MB  2019-12-15 23:30:21  \r\n",
      "train_raw/The Great Wall of China.csv           1GB  2019-12-15 23:30:21  \r\n",
      "train_raw/alarm clock.csv                     509MB  2019-12-15 23:30:21  \r\n",
      "train_raw/baseball.csv                        412MB  2019-12-15 23:30:21  \r\n",
      "train_simplified/backpack.csv                  67MB  2019-12-15 23:30:21  \r\n",
      "train_simplified/ambulance.csv                 93MB  2019-12-15 23:30:21  \r\n",
      "train_simplified/angel.csv                    103MB  2019-12-15 23:30:21  \r\n",
      "train_simplified/bandage.csv                   63MB  2019-12-15 23:30:21  \r\n",
      "train_simplified/arm.csv                       44MB  2019-12-15 23:30:21  \r\n",
      "train_simplified/banana.csv                   100MB  2019-12-15 23:30:21  \r\n",
      "train_simplified/asparagus.csv                 78MB  2019-12-15 23:30:21  \r\n",
      "train_simplified/ant.csv                       73MB  2019-12-15 23:30:21  \r\n",
      "train_simplified/axe.csv                       36MB  2019-12-15 23:30:21  \r\n",
      "train_simplified/apple.csv                     56MB  2019-12-15 23:30:21  \r\n",
      "train_simplified/barn.csv                      65MB  2019-12-15 23:30:21  \r\n",
      "train_simplified/airplane.csv                  63MB  2019-12-15 23:30:21  \r\n",
      "train_simplified/anvil.csv                     42MB  2019-12-15 23:30:21  \r\n",
      "train_simplified/The Eiffel Tower.csv          46MB  2019-12-15 23:30:21  \r\n",
      "train_simplified/animal migration.csv          69MB  2019-12-15 23:30:21  \r\n",
      "train_simplified/baseball bat.csv              38MB  2019-12-15 23:30:21  \r\n",
      "train_simplified/The Mona Lisa.csv             81MB  2019-12-15 23:30:21  \r\n",
      "train_simplified/The Great Wall of China.csv   85MB  2019-12-15 23:30:21  \r\n",
      "train_simplified/alarm clock.csv               76MB  2019-12-15 23:30:21  \r\n",
      "train_simplified/baseball.csv                  63MB  2019-12-15 23:30:21  \r\n",
      "sample_submission.csv                           5MB  2019-12-15 23:30:21  \r\n",
      "test_raw.csv                                  589MB  2019-12-15 23:30:21  \r\n",
      "test_simplified.csv                            59MB  2019-12-15 23:30:21  \r\n"
     ]
    }
   ],
   "source": [
    "# check the available files of the dataset\n",
    "!kaggle competitions files -c quickdraw-doodle-recognition"
   ]
  },
  {
   "cell_type": "code",
   "execution_count": 23,
   "id": "fb39fa79",
   "metadata": {},
   "outputs": [
    {
     "name": "stdout",
     "output_type": "stream",
     "text": [
      "404 - Not Found - Not found\r\n"
     ]
    }
   ],
   "source": [
    "# download the simplified versions (files under train_simplified/)\n",
    "!kaggle competitions download -c quickdraw-doodle-recognition -f \"train_simplified/*\" -p ./data"
   ]
  },
  {
   "cell_type": "code",
   "execution_count": 20,
   "id": "0e08a565",
   "metadata": {
    "scrolled": true
   },
   "outputs": [
    {
     "name": "stdout",
     "output_type": "stream",
     "text": [
      "ref                                                                title                                               size  lastUpdated          downloadCount  voteCount  usabilityRating  \r\n",
      "-----------------------------------------------------------------  -------------------------------------------------  -----  -------------------  -------------  ---------  ---------------  \r\n",
      "nelgiriyewithana/apple-quality                                     Apple Quality                                      170KB  2024-01-11 14:31:07           7787        187  1.0              \r\n",
      "hummaamqaasim/jobs-in-data                                         Jobs and Salaries in Data Science                   76KB  2023-12-25 20:03:32          13924        253  1.0              \r\n",
      "willianoliveiragibin/qs-top-100-universities                       QS top 100 universities                              4KB  2024-01-21 20:40:02            944         24  1.0              \r\n",
      "elvinrustam/ebay-laptops-and-netbooks-sales                        Ebay Laptops & Netbooks Sales                      523KB  2024-01-27 21:46:57            803         29  1.0              \r\n",
      "willianoliveiragibin/financial-data                                Financial_Data                                      28KB  2024-01-27 21:29:52           1178         40  1.0              \r\n",
      "yashusinghal/electric-vehicle-population-dataset                   Electric Vehicle Population Dataset                  5MB  2024-01-27 16:47:10           1219         33  1.0              \r\n",
      "malingarajapaksha/my-spotify-data-cleaned                          My Spotify Data - Cleaned                            3MB  2024-01-26 02:54:16            608         21  1.0              \r\n",
      "missionjee/car-sales-report                                        Car Sales Report                                   657KB  2024-01-20 20:11:42           2390         51  1.0              \r\n",
      "saimondahal/life-expectancy-trends-for-males-and-females           Life Expectancy Trends for Males and Females       263KB  2024-01-28 09:26:09            973         30  1.0              \r\n",
      "computingvictor/zillow-market-analysis-and-real-estate-sales-data  🏠 Airbnb Market Analysis & Real Estate Sales Data    3MB  2024-01-26 16:29:34           1385         36  1.0              \r\n",
      "shiivvvaam/largest-companies-by-market-cap                         Top Global Companies by Market Capitalization.     548KB  2024-01-29 17:32:00            601         31  0.9411765        \r\n",
      "saketk511/travel-dataset-guide-to-indias-must-see-places           Travel Dataset: Guide to India's Must See Places     9KB  2024-01-31 07:55:47            594         23  1.0              \r\n",
      "mrsimple07/clothes-price-prediction                                Clothes Price Prediction                             6KB  2024-01-30 09:55:21            763         29  1.0              \r\n",
      "najeebz/electronic-card-transactions-dec-2023-new-zealand          Electronic Card Transactions 2000-2023             127KB  2024-01-24 02:48:11            921         24  1.0              \r\n",
      "asaniczka/video-game-sales-2024                                    Video Game Sales 2024                                2MB  2024-01-29 15:58:39           1217         31  1.0              \r\n",
      "nelgiriyewithana/new-york-housing-market                           New York Housing Market                            271KB  2024-01-06 16:41:00           4926        109  1.0              \r\n",
      "mrsimple07/student-exam-performance-prediction                     Student Exam Performance Prediction                 10KB  2024-01-14 12:02:45           2978         57  1.0              \r\n",
      "nelgiriyewithana/global-covid-trend                                Global Covid Trend                                 549KB  2024-01-26 15:36:29           1060         34  1.0              \r\n",
      "denizbilginn/tv-shows                                              TV Shows                                            29MB  2024-01-21 18:06:38           1333         35  1.0              \r\n",
      "cdeotte/brain-spectrograms                                         Brain-Spectrograms                                   3GB  2024-01-13 03:25:31            567        157  0.625            \r\n"
     ]
    }
   ],
   "source": [
    "# get the list of available datasets and their file paths for the competition.\n",
    "!kaggle datasets list"
   ]
  },
  {
   "cell_type": "code",
   "execution_count": 21,
   "id": "aa322ab3",
   "metadata": {},
   "outputs": [
    {
     "name": "stdout",
     "output_type": "stream",
     "text": [
      "Configuration values from /aiffel/aiffel/Sidethon\r\n",
      "- username: seulwithlove\r\n",
      "- path: None\r\n",
      "- proxy: None\r\n",
      "- competition: None\r\n"
     ]
    }
   ],
   "source": [
    "!kaggle config view"
   ]
  },
  {
   "cell_type": "code",
   "execution_count": 24,
   "id": "c3c986ec",
   "metadata": {},
   "outputs": [
    {
     "name": "stdout",
     "output_type": "stream",
     "text": [
      "404 - Not Found - Not found\r\n"
     ]
    }
   ],
   "source": [
    "# download the simplified versions (files under train_simplified/)\n",
    "!kaggle competitions download -c quickdraw-doodle-recognition -f \"/train_simplified/*\" -p ./data"
   ]
  },
  {
   "cell_type": "markdown",
   "id": "b63b376d",
   "metadata": {},
   "source": [
    "- 어떤 부분이 문제인지 모르겠지만, simplified 파일만 다운받는게 쉽지 않다.\n",
    "- 허깅페이스 데이터셋을 다운받아본다\n",
    "\n",
    "---\n",
    "\n",
    "### Hugging face dataset\n",
    "[hugging face의 데이터셋](https://huggingface.co/datasets/quickdraw)\n",
    "- 사용할 데이터 : `preprocessed_simplified_drawings`"
   ]
  },
  {
   "cell_type": "code",
   "execution_count": 1,
   "id": "dedcbd29",
   "metadata": {
    "scrolled": true
   },
   "outputs": [
    {
     "name": "stdout",
     "output_type": "stream",
     "text": [
      "Requirement already satisfied: datasets in /opt/conda/lib/python3.9/site-packages (2.16.1)\n",
      "Requirement already satisfied: requests>=2.19.0 in /opt/conda/lib/python3.9/site-packages (from datasets) (2.26.0)\n",
      "Requirement already satisfied: pyarrow>=8.0.0 in /opt/conda/lib/python3.9/site-packages (from datasets) (15.0.0)\n",
      "Requirement already satisfied: multiprocess in /opt/conda/lib/python3.9/site-packages (from datasets) (0.70.12.2)\n",
      "Requirement already satisfied: pyyaml>=5.1 in /opt/conda/lib/python3.9/site-packages (from datasets) (6.0)\n",
      "Requirement already satisfied: pandas in /opt/conda/lib/python3.9/site-packages (from datasets) (1.3.3)\n",
      "Requirement already satisfied: xxhash in /opt/conda/lib/python3.9/site-packages (from datasets) (2.0.2)\n",
      "Requirement already satisfied: pyarrow-hotfix in /opt/conda/lib/python3.9/site-packages (from datasets) (0.6)\n",
      "Requirement already satisfied: filelock in /opt/conda/lib/python3.9/site-packages (from datasets) (3.4.0)\n",
      "Requirement already satisfied: packaging in /opt/conda/lib/python3.9/site-packages (from datasets) (21.3)\n",
      "Requirement already satisfied: tqdm>=4.62.1 in /opt/conda/lib/python3.9/site-packages (from datasets) (4.62.3)\n",
      "Requirement already satisfied: huggingface-hub>=0.19.4 in /opt/conda/lib/python3.9/site-packages (from datasets) (0.20.3)\n",
      "Requirement already satisfied: fsspec[http]<=2023.10.0,>=2023.1.0 in /opt/conda/lib/python3.9/site-packages (from datasets) (2023.10.0)\n",
      "Requirement already satisfied: numpy>=1.17 in /opt/conda/lib/python3.9/site-packages (from datasets) (1.21.4)\n",
      "Requirement already satisfied: aiohttp in /opt/conda/lib/python3.9/site-packages (from datasets) (3.8.1)\n",
      "Requirement already satisfied: dill<0.3.8,>=0.3.0 in /opt/conda/lib/python3.9/site-packages (from datasets) (0.3.4)\n",
      "Requirement already satisfied: yarl<2.0,>=1.0 in /opt/conda/lib/python3.9/site-packages (from aiohttp->datasets) (1.7.2)\n",
      "Requirement already satisfied: aiosignal>=1.1.2 in /opt/conda/lib/python3.9/site-packages (from aiohttp->datasets) (1.2.0)\n",
      "Requirement already satisfied: multidict<7.0,>=4.5 in /opt/conda/lib/python3.9/site-packages (from aiohttp->datasets) (5.2.0)\n",
      "Requirement already satisfied: async-timeout<5.0,>=4.0.0a3 in /opt/conda/lib/python3.9/site-packages (from aiohttp->datasets) (4.0.1)\n",
      "Requirement already satisfied: attrs>=17.3.0 in /opt/conda/lib/python3.9/site-packages (from aiohttp->datasets) (21.2.0)\n",
      "Requirement already satisfied: frozenlist>=1.1.1 in /opt/conda/lib/python3.9/site-packages (from aiohttp->datasets) (1.2.0)\n",
      "Requirement already satisfied: charset-normalizer<3.0,>=2.0 in /opt/conda/lib/python3.9/site-packages (from aiohttp->datasets) (2.0.8)\n",
      "Requirement already satisfied: typing-extensions>=3.7.4.3 in /opt/conda/lib/python3.9/site-packages (from huggingface-hub>=0.19.4->datasets) (4.0.1)\n",
      "Requirement already satisfied: pyparsing!=3.0.5,>=2.0.2 in /opt/conda/lib/python3.9/site-packages (from packaging->datasets) (3.0.6)\n",
      "Requirement already satisfied: idna<4,>=2.5 in /opt/conda/lib/python3.9/site-packages (from requests>=2.19.0->datasets) (2.10)\n",
      "Requirement already satisfied: urllib3<1.27,>=1.21.1 in /opt/conda/lib/python3.9/site-packages (from requests>=2.19.0->datasets) (1.26.7)\n",
      "Requirement already satisfied: certifi>=2017.4.17 in /opt/conda/lib/python3.9/site-packages (from requests>=2.19.0->datasets) (2021.10.8)\n",
      "Requirement already satisfied: python-dateutil>=2.7.3 in /opt/conda/lib/python3.9/site-packages (from pandas->datasets) (2.8.2)\n",
      "Requirement already satisfied: pytz>=2017.3 in /opt/conda/lib/python3.9/site-packages (from pandas->datasets) (2021.3)\n",
      "Requirement already satisfied: six>=1.5 in /opt/conda/lib/python3.9/site-packages (from python-dateutil>=2.7.3->pandas->datasets) (1.16.0)\n",
      "\u001b[33mWARNING: Running pip as the 'root' user can result in broken permissions and conflicting behaviour with the system package manager. It is recommended to use a virtual environment instead: https://pip.pypa.io/warnings/venv\u001b[0m\n"
     ]
    }
   ],
   "source": [
    "# # install hugging face dataset library\n",
    "!pip install -U datasets"
   ]
  },
  {
   "cell_type": "code",
   "execution_count": 4,
   "id": "81a15602",
   "metadata": {},
   "outputs": [
    {
     "name": "stderr",
     "output_type": "stream",
     "text": [
      "/opt/conda/lib/python3.9/site-packages/datasets/load.py:1429: FutureWarning: The repository for quickdraw contains custom code which must be executed to correctly load the dataset. You can inspect the repository content at https://hf.co/datasets/quickdraw\n",
      "You can avoid this message in future by passing the argument `trust_remote_code=True`.\n",
      "Passing `trust_remote_code=True` will be mandatory to load this dataset from the next major release of `datasets`.\n",
      "  warnings.warn(\n"
     ]
    }
   ],
   "source": [
    "from datasets import load_dataset\n",
    "\n",
    "dataset_id = \"quickdraw\"\n",
    "\n",
    "# ds_train = load_dataset(\"quickdraw\", \"preprocessed_simplified_drawings\")\n",
    "ds_train = load_dataset(\"quickdraw\", \"preprocessed_simplified_drawings\", split='train', streaming=True)"
   ]
  },
  {
   "cell_type": "markdown",
   "id": "752a1031",
   "metadata": {},
   "source": [
    "\n",
    "# EDA\n",
    "- reference : [kaggle notebook](https://www.kaggle.com/code/dimitreoliveira/quick-draw-simple-eda)"
   ]
  },
  {
   "cell_type": "code",
   "execution_count": 5,
   "id": "8a68bb6d",
   "metadata": {},
   "outputs": [],
   "source": [
    "import os\n",
    "import ast\n",
    "import pandas as pd\n",
    "import seaborn as sns\n",
    "import matplotlib.pyplot as plt\n",
    "from sklearn.utils import shuffle\n",
    "\n",
    "pd.options.display.max_rows = 20\n",
    "sns.set(style=\"darkgrid\")\n",
    "%matplotlib inline"
   ]
  },
  {
   "cell_type": "code",
   "execution_count": 6,
   "id": "0355a6a9",
   "metadata": {},
   "outputs": [
    {
     "data": {
      "text/plain": [
       "IterableDataset({\n",
       "    features: ['key_id', 'word', 'recognized', 'timestamp', 'countrycode', 'drawing'],\n",
       "    n_shards: 345\n",
       "})"
      ]
     },
     "execution_count": 6,
     "metadata": {},
     "output_type": "execute_result"
    }
   ],
   "source": [
    "ds_train"
   ]
  },
  {
   "cell_type": "code",
   "execution_count": 22,
   "id": "5fb610e2",
   "metadata": {},
   "outputs": [
    {
     "name": "stdout",
     "output_type": "stream",
     "text": [
      "Train number of rows: 100\n",
      "Train number of columns: 5\n",
      "Train set features: ['word' 'recognized' 'timestamp' 'countrycode' 'drawing']\n"
     ]
    }
   ],
   "source": [
    "# 데이터셋의 100개만 가져와서 확인\n",
    "ds_tmp = ds_train.shuffle(buffer_size=1000).take(100)\n",
    "\n",
    "# Convert the dataset elements to a list of dictionaries\n",
    "data_list = []\n",
    "for file in ds_tmp:\n",
    "    data_list.append(file)\n",
    "\n",
    "# Create a DataFrame from the list of dictionaries\n",
    "train_sample = pd.DataFrame(data_list)\n",
    "train_sample.set_index('key_id', inplace=True)\n",
    "\n",
    "print('Train number of rows:', train_sample.shape[0])\n",
    "print('Train number of columns:', train_sample.shape[1])\n",
    "print('Train set features:', train_sample.columns.values)"
   ]
  },
  {
   "cell_type": "code",
   "execution_count": 23,
   "id": "f7489aad",
   "metadata": {},
   "outputs": [
    {
     "data": {
      "text/html": [
       "<div>\n",
       "<style scoped>\n",
       "    .dataframe tbody tr th:only-of-type {\n",
       "        vertical-align: middle;\n",
       "    }\n",
       "\n",
       "    .dataframe tbody tr th {\n",
       "        vertical-align: top;\n",
       "    }\n",
       "\n",
       "    .dataframe thead th {\n",
       "        text-align: right;\n",
       "    }\n",
       "</style>\n",
       "<table border=\"1\" class=\"dataframe\">\n",
       "  <thead>\n",
       "    <tr style=\"text-align: right;\">\n",
       "      <th></th>\n",
       "      <th>word</th>\n",
       "      <th>recognized</th>\n",
       "      <th>timestamp</th>\n",
       "      <th>countrycode</th>\n",
       "      <th>drawing</th>\n",
       "    </tr>\n",
       "    <tr>\n",
       "      <th>key_id</th>\n",
       "      <th></th>\n",
       "      <th></th>\n",
       "      <th></th>\n",
       "      <th></th>\n",
       "      <th></th>\n",
       "    </tr>\n",
       "  </thead>\n",
       "  <tbody>\n",
       "    <tr>\n",
       "      <th>5975940913954816</th>\n",
       "      <td>36</td>\n",
       "      <td>True</td>\n",
       "      <td>2017-03-23 11:24:25</td>\n",
       "      <td>US</td>\n",
       "      <td>{'x': [[229, 198, 153, 131, 107, 76, 48, 22, 1...</td>\n",
       "    </tr>\n",
       "    <tr>\n",
       "      <th>5516262492864512</th>\n",
       "      <td>36</td>\n",
       "      <td>True</td>\n",
       "      <td>2017-03-08 20:52:56</td>\n",
       "      <td>US</td>\n",
       "      <td>{'x': [[251, 242, 225, 194, 171, 153, 126, 75,...</td>\n",
       "    </tr>\n",
       "    <tr>\n",
       "      <th>4988264853274624</th>\n",
       "      <td>36</td>\n",
       "      <td>True</td>\n",
       "      <td>2017-01-28 17:38:48</td>\n",
       "      <td>SK</td>\n",
       "      <td>{'x': [[42, 67, 83, 101, 113, 135, 144, 169, 1...</td>\n",
       "    </tr>\n",
       "    <tr>\n",
       "      <th>5539483573288960</th>\n",
       "      <td>36</td>\n",
       "      <td>True</td>\n",
       "      <td>2017-01-29 00:34:06</td>\n",
       "      <td>US</td>\n",
       "      <td>{'x': [[43, 32, 23, 1, 0, 21, 44, 68, 165, 189...</td>\n",
       "    </tr>\n",
       "    <tr>\n",
       "      <th>5102218288037888</th>\n",
       "      <td>36</td>\n",
       "      <td>True</td>\n",
       "      <td>2017-01-23 18:06:19</td>\n",
       "      <td>GB</td>\n",
       "      <td>{'x': [[0, 12, 39, 95, 139, 163, 175, 190, 216...</td>\n",
       "    </tr>\n",
       "  </tbody>\n",
       "</table>\n",
       "</div>"
      ],
      "text/plain": [
       "                  word  recognized           timestamp countrycode  \\\n",
       "key_id                                                               \n",
       "5975940913954816    36        True 2017-03-23 11:24:25          US   \n",
       "5516262492864512    36        True 2017-03-08 20:52:56          US   \n",
       "4988264853274624    36        True 2017-01-28 17:38:48          SK   \n",
       "5539483573288960    36        True 2017-01-29 00:34:06          US   \n",
       "5102218288037888    36        True 2017-01-23 18:06:19          GB   \n",
       "\n",
       "                                                            drawing  \n",
       "key_id                                                               \n",
       "5975940913954816  {'x': [[229, 198, 153, 131, 107, 76, 48, 22, 1...  \n",
       "5516262492864512  {'x': [[251, 242, 225, 194, 171, 153, 126, 75,...  \n",
       "4988264853274624  {'x': [[42, 67, 83, 101, 113, 135, 144, 169, 1...  \n",
       "5539483573288960  {'x': [[43, 32, 23, 1, 0, 21, 44, 68, 165, 189...  \n",
       "5102218288037888  {'x': [[0, 12, 39, 95, 139, 163, 175, 190, 216...  "
      ]
     },
     "execution_count": 23,
     "metadata": {},
     "output_type": "execute_result"
    }
   ],
   "source": [
    "train_sample.head()"
   ]
  },
  {
   "cell_type": "code",
   "execution_count": 25,
   "id": "538edb3a",
   "metadata": {},
   "outputs": [],
   "source": [
    "# check the label count\n",
    "count_gp = train_sample.groupby(['word']).size().reset_index(name='count').sort_values('count', ascending=False)\n",
    "top_10 = count_gp[:10]\n",
    "bottom_10 = count_gp[count_gp.shape[0]-10:count_gp.shape[0]]"
   ]
  },
  {
   "cell_type": "code",
   "execution_count": 26,
   "id": "a051bedd",
   "metadata": {},
   "outputs": [
    {
     "data": {
      "image/png": "[encoded data removed]",
      "text/plain": [
       "<Figure size 432x288 with 1 Axes>"
      ]
     },
     "metadata": {
      "needs_background": "light"
     },
     "output_type": "display_data"
    }
   ],
   "source": [
    "# The top 10 words\n",
    "ax_t10 = sns.barplot(x=\"word\", y=\"count\", data=top_10, palette=\"coolwarm\")\n",
    "ax_t10.set_xticklabels(ax_t10.get_xticklabels(), rotation=40, ha=\"right\")\n",
    "plt.show()"
   ]
  },
  {
   "cell_type": "markdown",
   "id": "6d486e09",
   "metadata": {},
   "source": [
    "- 데이터셋을 보는게 너무 어려워서 파일을 가져오는걸 시도해본다"
   ]
  },
  {
   "cell_type": "code",
   "execution_count": 27,
   "id": "abfd1ee1",
   "metadata": {},
   "outputs": [
    {
     "name": "stderr",
     "output_type": "stream",
     "text": [
      "/opt/conda/lib/python3.9/site-packages/datasets/load.py:1429: FutureWarning: The repository for quickdraw contains custom code which must be executed to correctly load the dataset. You can inspect the repository content at https://hf.co/datasets/quickdraw\n",
      "You can avoid this message in future by passing the argument `trust_remote_code=True`.\n",
      "Passing `trust_remote_code=True` will be mandatory to load this dataset from the next major release of `datasets`.\n",
      "  warnings.warn(\n"
     ]
    },
    {
     "data": {
      "application/vnd.jupyter.widget-view+json": {
       "model_id": "f9da6d8b1cca43e184f2162d99682934",
       "version_major": 2,
       "version_minor": 0
      },
      "text/plain": [
       "Downloading data:   0%|          | 0.00/13.7M [00:00<?, ?B/s]"
      ]
     },
     "metadata": {},
     "output_type": "display_data"
    },
    {
     "data": {
      "application/vnd.jupyter.widget-view+json": {
       "model_id": "510c47c0e2f54f04a6f133af1445ff59",
       "version_major": 2,
       "version_minor": 0
      },
      "text/plain": [
       "Downloading data:   0%|          | 0.00/15.7M [00:00<?, ?B/s]"
      ]
     },
     "metadata": {},
     "output_type": "display_data"
    },
    {
     "data": {
      "application/vnd.jupyter.widget-view+json": {
       "model_id": "a5833de022bb4b8294dd9e7a5e294da1",
       "version_major": 2,
       "version_minor": 0
      },
      "text/plain": [
       "Downloading data:   0%|          | 0.00/18.9M [00:00<?, ?B/s]"
      ]
     },
     "metadata": {},
     "output_type": "display_data"
    },
    {
     "data": {
      "application/vnd.jupyter.widget-view+json": {
       "model_id": "8cc03278b3294bae85aedbe1cd41b532",
       "version_major": 2,
       "version_minor": 0
      },
      "text/plain": [
       "Downloading data:   0%|          | 0.00/22.7M [00:00<?, ?B/s]"
      ]
     },
     "metadata": {},
     "output_type": "display_data"
    },
    {
     "data": {
      "application/vnd.jupyter.widget-view+json": {
       "model_id": "379efef921ae4286b033b7c50c7a603a",
       "version_major": 2,
       "version_minor": 0
      },
      "text/plain": [
       "Downloading data:   0%|          | 0.00/25.5M [00:00<?, ?B/s]"
      ]
     },
     "metadata": {},
     "output_type": "display_data"
    },
    {
     "data": {
      "application/vnd.jupyter.widget-view+json": {
       "model_id": "e06cc8e5896c4bccb21940b24a43dfa5",
       "version_major": 2,
       "version_minor": 0
      },
      "text/plain": [
       "Downloading data:   0%|          | 0.00/17.5M [00:00<?, ?B/s]"
      ]
     },
     "metadata": {},
     "output_type": "display_data"
    },
    {
     "data": {
      "application/vnd.jupyter.widget-view+json": {
       "model_id": "ae5e130b78b84992a2c7e8e7a03abdc0",
       "version_major": 2,
       "version_minor": 0
      },
      "text/plain": [
       "Downloading data:   0%|          | 0.00/18.6M [00:00<?, ?B/s]"
      ]
     },
     "metadata": {},
     "output_type": "display_data"
    },
    {
     "data": {
      "application/vnd.jupyter.widget-view+json": {
       "model_id": "8bba68e4ea324710bbfc56b2db7db7d2",
       "version_major": 2,
       "version_minor": 0
      },
      "text/plain": [
       "Downloading data:   0%|          | 0.00/10.7M [00:00<?, ?B/s]"
      ]
     },
     "metadata": {},
     "output_type": "display_data"
    },
    {
     "data": {
      "application/vnd.jupyter.widget-view+json": {
       "model_id": "46f6024c366a4f8998b3955613196572",
       "version_major": 2,
       "version_minor": 0
      },
      "text/plain": [
       "Downloading data:   0%|          | 0.00/13.8M [00:00<?, ?B/s]"
      ]
     },
     "metadata": {},
     "output_type": "display_data"
    },
    {
     "data": {
      "application/vnd.jupyter.widget-view+json": {
       "model_id": "6f001e8b49004ded8981ca297028e94a",
       "version_major": 2,
       "version_minor": 0
      },
      "text/plain": [
       "Downloading data:   0%|          | 0.00/11.2M [00:00<?, ?B/s]"
      ]
     },
     "metadata": {},
     "output_type": "display_data"
    },
    {
     "data": {
      "application/vnd.jupyter.widget-view+json": {
       "model_id": "d8117eb9adfb4ac0b73a90c784ce54ed",
       "version_major": 2,
       "version_minor": 0
      },
      "text/plain": [
       "Downloading data:   0%|          | 0.00/20.3M [00:00<?, ?B/s]"
      ]
     },
     "metadata": {},
     "output_type": "display_data"
    },
    {
     "data": {
      "application/vnd.jupyter.widget-view+json": {
       "model_id": "4af6fe94f71048eb857c1acc3049efee",
       "version_major": 2,
       "version_minor": 0
      },
      "text/plain": [
       "Downloading data:   0%|          | 0.00/9.50M [00:00<?, ?B/s]"
      ]
     },
     "metadata": {},
     "output_type": "display_data"
    },
    {
     "data": {
      "application/vnd.jupyter.widget-view+json": {
       "model_id": "3717941eb09c4e88a6acd9dcf6308866",
       "version_major": 2,
       "version_minor": 0
      },
      "text/plain": [
       "Downloading data:   0%|          | 0.00/16.6M [00:00<?, ?B/s]"
      ]
     },
     "metadata": {},
     "output_type": "display_data"
    },
    {
     "data": {
      "application/vnd.jupyter.widget-view+json": {
       "model_id": "c2ed0632b39d4eb8acf1c8030ed3556e",
       "version_major": 2,
       "version_minor": 0
      },
      "text/plain": [
       "Downloading data:   0%|          | 0.00/25.1M [00:00<?, ?B/s]"
      ]
     },
     "metadata": {},
     "output_type": "display_data"
    },
    {
     "data": {
      "application/vnd.jupyter.widget-view+json": {
       "model_id": "fd70a3a7995a4022bf40284cf282f342",
       "version_major": 2,
       "version_minor": 0
      },
      "text/plain": [
       "Downloading data:   0%|          | 0.00/16.2M [00:00<?, ?B/s]"
      ]
     },
     "metadata": {},
     "output_type": "display_data"
    },
    {
     "data": {
      "application/vnd.jupyter.widget-view+json": {
       "model_id": "5635b5cea2034a949e418e3893ae478c",
       "version_major": 2,
       "version_minor": 0
      },
      "text/plain": [
       "Downloading data:   0%|          | 0.00/16.4M [00:00<?, ?B/s]"
      ]
     },
     "metadata": {},
     "output_type": "display_data"
    },
    {
     "data": {
      "application/vnd.jupyter.widget-view+json": {
       "model_id": "7988292e10a7436ba8e16dbf01f1ee48",
       "version_major": 2,
       "version_minor": 0
      },
      "text/plain": [
       "Downloading data:   0%|          | 0.00/9.60M [00:00<?, ?B/s]"
      ]
     },
     "metadata": {},
     "output_type": "display_data"
    },
    {
     "data": {
      "application/vnd.jupyter.widget-view+json": {
       "model_id": "313398d224bd4129a1f806a746ff6120",
       "version_major": 2,
       "version_minor": 0
      },
      "text/plain": [
       "Downloading data:   0%|          | 0.00/15.7M [00:00<?, ?B/s]"
      ]
     },
     "metadata": {},
     "output_type": "display_data"
    },
    {
     "data": {
      "application/vnd.jupyter.widget-view+json": {
       "model_id": "40c73bf05ca44e8fb4cdc5c6ccbf94de",
       "version_major": 2,
       "version_minor": 0
      },
      "text/plain": [
       "Downloading data:   0%|          | 0.00/16.5M [00:00<?, ?B/s]"
      ]
     },
     "metadata": {},
     "output_type": "display_data"
    },
    {
     "data": {
      "application/vnd.jupyter.widget-view+json": {
       "model_id": "470cd01e03fe48d295a6a85ed91f0020",
       "version_major": 2,
       "version_minor": 0
      },
      "text/plain": [
       "Downloading data:   0%|          | 0.00/17.3M [00:00<?, ?B/s]"
      ]
     },
     "metadata": {},
     "output_type": "display_data"
    },
    {
     "data": {
      "application/vnd.jupyter.widget-view+json": {
       "model_id": "b8f0dab890794194b0e59a5220b7d218",
       "version_major": 2,
       "version_minor": 0
      },
      "text/plain": [
       "Downloading data:   0%|          | 0.00/15.3M [00:00<?, ?B/s]"
      ]
     },
     "metadata": {},
     "output_type": "display_data"
    },
    {
     "data": {
      "application/vnd.jupyter.widget-view+json": {
       "model_id": "e13a7042e1fa45878a23d960b44f90d6",
       "version_major": 2,
       "version_minor": 0
      },
      "text/plain": [
       "Downloading data:   0%|          | 0.00/18.5M [00:00<?, ?B/s]"
      ]
     },
     "metadata": {},
     "output_type": "display_data"
    },
    {
     "data": {
      "application/vnd.jupyter.widget-view+json": {
       "model_id": "814d7261bd264f36a251da621a44626e",
       "version_major": 2,
       "version_minor": 0
      },
      "text/plain": [
       "Downloading data:   0%|          | 0.00/15.0M [00:00<?, ?B/s]"
      ]
     },
     "metadata": {},
     "output_type": "display_data"
    },
    {
     "data": {
      "application/vnd.jupyter.widget-view+json": {
       "model_id": "07d23b44715b4231b98fca19815f3dc8",
       "version_major": 2,
       "version_minor": 0
      },
      "text/plain": [
       "Downloading data:   0%|          | 0.00/21.0M [00:00<?, ?B/s]"
      ]
     },
     "metadata": {},
     "output_type": "display_data"
    },
    {
     "data": {
      "application/vnd.jupyter.widget-view+json": {
       "model_id": "4eb1d7fe4c9c4e7080e52671f78120c5",
       "version_major": 2,
       "version_minor": 0
      },
      "text/plain": [
       "Downloading data:   0%|          | 0.00/33.7M [00:00<?, ?B/s]"
      ]
     },
     "metadata": {},
     "output_type": "display_data"
    },
    {
     "data": {
      "application/vnd.jupyter.widget-view+json": {
       "model_id": "8e597037cf694da5a02a8e77f6116de0",
       "version_major": 2,
       "version_minor": 0
      },
      "text/plain": [
       "Downloading data:   0%|          | 0.00/11.1M [00:00<?, ?B/s]"
      ]
     },
     "metadata": {},
     "output_type": "display_data"
    },
    {
     "data": {
      "application/vnd.jupyter.widget-view+json": {
       "model_id": "4fb4203fd4b64127bdfc4a382cee1c7a",
       "version_major": 2,
       "version_minor": 0
      },
      "text/plain": [
       "Downloading data:   0%|          | 0.00/20.5M [00:00<?, ?B/s]"
      ]
     },
     "metadata": {},
     "output_type": "display_data"
    },
    {
     "data": {
      "application/vnd.jupyter.widget-view+json": {
       "model_id": "8890080dcede40e6aa15beaea3319e2c",
       "version_major": 2,
       "version_minor": 0
      },
      "text/plain": [
       "Downloading data:   0%|          | 0.00/19.5M [00:00<?, ?B/s]"
      ]
     },
     "metadata": {},
     "output_type": "display_data"
    },
    {
     "data": {
      "application/vnd.jupyter.widget-view+json": {
       "model_id": "277efdb522d24ba5a556e44194e22197",
       "version_major": 2,
       "version_minor": 0
      },
      "text/plain": [
       "Downloading data:   0%|          | 0.00/9.59M [00:00<?, ?B/s]"
      ]
     },
     "metadata": {},
     "output_type": "display_data"
    },
    {
     "data": {
      "application/vnd.jupyter.widget-view+json": {
       "model_id": "9b2a83cb7db645e1a406b53ad465c74c",
       "version_major": 2,
       "version_minor": 0
      },
      "text/plain": [
       "Downloading data:   0%|          | 0.00/18.4M [00:00<?, ?B/s]"
      ]
     },
     "metadata": {},
     "output_type": "display_data"
    },
    {
     "data": {
      "application/vnd.jupyter.widget-view+json": {
       "model_id": "aa556fff976e4e43b11eefcc44d558fd",
       "version_major": 2,
       "version_minor": 0
      },
      "text/plain": [
       "Downloading data:   0%|          | 0.00/17.9M [00:00<?, ?B/s]"
      ]
     },
     "metadata": {},
     "output_type": "display_data"
    },
    {
     "data": {
      "application/vnd.jupyter.widget-view+json": {
       "model_id": "00bf9a37ddb6441ea6e70ba8f4098f53",
       "version_major": 2,
       "version_minor": 0
      },
      "text/plain": [
       "Downloading data:   0%|          | 0.00/17.2M [00:00<?, ?B/s]"
      ]
     },
     "metadata": {},
     "output_type": "display_data"
    },
    {
     "data": {
      "application/vnd.jupyter.widget-view+json": {
       "model_id": "bada287ac78d4455b4e041de45e6cfa3",
       "version_major": 2,
       "version_minor": 0
      },
      "text/plain": [
       "Downloading data:   0%|          | 0.00/17.4M [00:00<?, ?B/s]"
      ]
     },
     "metadata": {},
     "output_type": "display_data"
    },
    {
     "data": {
      "application/vnd.jupyter.widget-view+json": {
       "model_id": "10602a9014934549b0c02d6d204e57ff",
       "version_major": 2,
       "version_minor": 0
      },
      "text/plain": [
       "Downloading data:   0%|          | 0.00/36.0M [00:00<?, ?B/s]"
      ]
     },
     "metadata": {},
     "output_type": "display_data"
    },
    {
     "data": {
      "application/vnd.jupyter.widget-view+json": {
       "model_id": "d253e0d5f4c44c86aca229dbd027836f",
       "version_major": 2,
       "version_minor": 0
      },
      "text/plain": [
       "Downloading data:   0%|          | 0.00/17.6M [00:00<?, ?B/s]"
      ]
     },
     "metadata": {},
     "output_type": "display_data"
    },
    {
     "data": {
      "application/vnd.jupyter.widget-view+json": {
       "model_id": "3d994d2cbae2458b84f2f9dc3dfc3ef8",
       "version_major": 2,
       "version_minor": 0
      },
      "text/plain": [
       "Downloading data:   0%|          | 0.00/14.1M [00:00<?, ?B/s]"
      ]
     },
     "metadata": {},
     "output_type": "display_data"
    },
    {
     "data": {
      "application/vnd.jupyter.widget-view+json": {
       "model_id": "30444c118780480187146da05e59e095",
       "version_major": 2,
       "version_minor": 0
      },
      "text/plain": [
       "Downloading data:   0%|          | 0.00/10.8M [00:00<?, ?B/s]"
      ]
     },
     "metadata": {},
     "output_type": "display_data"
    },
    {
     "data": {
      "application/vnd.jupyter.widget-view+json": {
       "model_id": "d2d3b8271d384bacb73de004c7274e5f",
       "version_major": 2,
       "version_minor": 0
      },
      "text/plain": [
       "Downloading data:   0%|          | 0.00/17.9M [00:00<?, ?B/s]"
      ]
     },
     "metadata": {},
     "output_type": "display_data"
    },
    {
     "data": {
      "application/vnd.jupyter.widget-view+json": {
       "model_id": "93d22197d2774a89a216154ff287d444",
       "version_major": 2,
       "version_minor": 0
      },
      "text/plain": [
       "Downloading data:   0%|          | 0.00/12.4M [00:00<?, ?B/s]"
      ]
     },
     "metadata": {},
     "output_type": "display_data"
    },
    {
     "data": {
      "application/vnd.jupyter.widget-view+json": {
       "model_id": "2b641bd8ff094575a8946a3e977bc696",
       "version_major": 2,
       "version_minor": 0
      },
      "text/plain": [
       "Downloading data:   0%|          | 0.00/21.2M [00:00<?, ?B/s]"
      ]
     },
     "metadata": {},
     "output_type": "display_data"
    },
    {
     "data": {
      "application/vnd.jupyter.widget-view+json": {
       "model_id": "e5f2bd07709341c3932fc15a0f4ac3fd",
       "version_major": 2,
       "version_minor": 0
      },
      "text/plain": [
       "Downloading data:   0%|          | 0.00/29.2M [00:00<?, ?B/s]"
      ]
     },
     "metadata": {},
     "output_type": "display_data"
    },
    {
     "data": {
      "application/vnd.jupyter.widget-view+json": {
       "model_id": "bf05960897bd4ee8939ace5644a69474",
       "version_major": 2,
       "version_minor": 0
      },
      "text/plain": [
       "Downloading data:   0%|          | 0.00/9.74M [00:00<?, ?B/s]"
      ]
     },
     "metadata": {},
     "output_type": "display_data"
    },
    {
     "data": {
      "application/vnd.jupyter.widget-view+json": {
       "model_id": "c92c937e647a4568bc1f560b5e6a6102",
       "version_major": 2,
       "version_minor": 0
      },
      "text/plain": [
       "Downloading data:   0%|          | 0.00/12.8M [00:00<?, ?B/s]"
      ]
     },
     "metadata": {},
     "output_type": "display_data"
    },
    {
     "data": {
      "application/vnd.jupyter.widget-view+json": {
       "model_id": "68a6df0bea544ea7a78b832413d4f43a",
       "version_major": 2,
       "version_minor": 0
      },
      "text/plain": [
       "Downloading data:   0%|          | 0.00/25.5M [00:00<?, ?B/s]"
      ]
     },
     "metadata": {},
     "output_type": "display_data"
    },
    {
     "data": {
      "application/vnd.jupyter.widget-view+json": {
       "model_id": "8d890140fadc45818db7afcf08632e27",
       "version_major": 2,
       "version_minor": 0
      },
      "text/plain": [
       "Downloading data:   0%|          | 0.00/11.9M [00:00<?, ?B/s]"
      ]
     },
     "metadata": {},
     "output_type": "display_data"
    },
    {
     "data": {
      "application/vnd.jupyter.widget-view+json": {
       "model_id": "f3cc7eba78fc4907863b7fe1feceb24f",
       "version_major": 2,
       "version_minor": 0
      },
      "text/plain": [
       "Downloading data:   0%|          | 0.00/11.4M [00:00<?, ?B/s]"
      ]
     },
     "metadata": {},
     "output_type": "display_data"
    },
    {
     "data": {
      "application/vnd.jupyter.widget-view+json": {
       "model_id": "154fd942dd984c87b2fc513bea7bc4f3",
       "version_major": 2,
       "version_minor": 0
      },
      "text/plain": [
       "Downloading data:   0%|          | 0.00/28.6M [00:00<?, ?B/s]"
      ]
     },
     "metadata": {},
     "output_type": "display_data"
    },
    {
     "data": {
      "application/vnd.jupyter.widget-view+json": {
       "model_id": "f272a9b4455d4f2091f88df8116a5d9a",
       "version_major": 2,
       "version_minor": 0
      },
      "text/plain": [
       "Downloading data:   0%|          | 0.00/25.3M [00:00<?, ?B/s]"
      ]
     },
     "metadata": {},
     "output_type": "display_data"
    },
    {
     "data": {
      "application/vnd.jupyter.widget-view+json": {
       "model_id": "1e9aa4f0888a49b0bfaf21c97ba08746",
       "version_major": 2,
       "version_minor": 0
      },
      "text/plain": [
       "Downloading data:   0%|          | 0.00/18.4M [00:00<?, ?B/s]"
      ]
     },
     "metadata": {},
     "output_type": "display_data"
    },
    {
     "data": {
      "application/vnd.jupyter.widget-view+json": {
       "model_id": "37120d9e40ba46f0bf1d2cddb6795d01",
       "version_major": 2,
       "version_minor": 0
      },
      "text/plain": [
       "Downloading data:   0%|          | 0.00/16.3M [00:00<?, ?B/s]"
      ]
     },
     "metadata": {},
     "output_type": "display_data"
    },
    {
     "data": {
      "application/vnd.jupyter.widget-view+json": {
       "model_id": "f4f9eec468e54dd395599da83dd73f9b",
       "version_major": 2,
       "version_minor": 0
      },
      "text/plain": [
       "Downloading data:   0%|          | 0.00/15.2M [00:00<?, ?B/s]"
      ]
     },
     "metadata": {},
     "output_type": "display_data"
    },
    {
     "data": {
      "application/vnd.jupyter.widget-view+json": {
       "model_id": "2741ee466bec4316ad150914e3ebb509",
       "version_major": 2,
       "version_minor": 0
      },
      "text/plain": [
       "Downloading data:   0%|          | 0.00/17.8M [00:00<?, ?B/s]"
      ]
     },
     "metadata": {},
     "output_type": "display_data"
    },
    {
     "data": {
      "application/vnd.jupyter.widget-view+json": {
       "model_id": "9bc11bd663bf452594f302a6cfca3398",
       "version_major": 2,
       "version_minor": 0
      },
      "text/plain": [
       "Downloading data:   0%|          | 0.00/17.8M [00:00<?, ?B/s]"
      ]
     },
     "metadata": {},
     "output_type": "display_data"
    },
    {
     "data": {
      "application/vnd.jupyter.widget-view+json": {
       "model_id": "ec7c26433c0f4727a92a7aa7ecc6f91e",
       "version_major": 2,
       "version_minor": 0
      },
      "text/plain": [
       "Downloading data:   0%|          | 0.00/47.2M [00:00<?, ?B/s]"
      ]
     },
     "metadata": {},
     "output_type": "display_data"
    },
    {
     "data": {
      "application/vnd.jupyter.widget-view+json": {
       "model_id": "e0ed19d81acf45b38ceddb5e0f967077",
       "version_major": 2,
       "version_minor": 0
      },
      "text/plain": [
       "Downloading data:   0%|          | 0.00/13.9M [00:00<?, ?B/s]"
      ]
     },
     "metadata": {},
     "output_type": "display_data"
    },
    {
     "data": {
      "application/vnd.jupyter.widget-view+json": {
       "model_id": "b59b84375da449959f866756804f6baa",
       "version_major": 2,
       "version_minor": 0
      },
      "text/plain": [
       "Downloading data:   0%|          | 0.00/13.6M [00:00<?, ?B/s]"
      ]
     },
     "metadata": {},
     "output_type": "display_data"
    },
    {
     "data": {
      "application/vnd.jupyter.widget-view+json": {
       "model_id": "a385cb6690ee4037bd2f96309c145ae4",
       "version_major": 2,
       "version_minor": 0
      },
      "text/plain": [
       "Downloading data:   0%|          | 0.00/40.2M [00:00<?, ?B/s]"
      ]
     },
     "metadata": {},
     "output_type": "display_data"
    },
    {
     "data": {
      "application/vnd.jupyter.widget-view+json": {
       "model_id": "8f951d986d2d4580b3160734fd5d6e57",
       "version_major": 2,
       "version_minor": 0
      },
      "text/plain": [
       "Downloading data:   0%|          | 0.00/21.1M [00:00<?, ?B/s]"
      ]
     },
     "metadata": {},
     "output_type": "display_data"
    },
    {
     "data": {
      "application/vnd.jupyter.widget-view+json": {
       "model_id": "b07fe1c192024b0c9860ec3780527d82",
       "version_major": 2,
       "version_minor": 0
      },
      "text/plain": [
       "Downloading data:   0%|          | 0.00/11.7M [00:00<?, ?B/s]"
      ]
     },
     "metadata": {},
     "output_type": "display_data"
    },
    {
     "data": {
      "application/vnd.jupyter.widget-view+json": {
       "model_id": "249236f65fc941e4a38ed8b5cc1d3b5c",
       "version_major": 2,
       "version_minor": 0
      },
      "text/plain": [
       "Downloading data:   0%|          | 0.00/18.6M [00:00<?, ?B/s]"
      ]
     },
     "metadata": {},
     "output_type": "display_data"
    },
    {
     "data": {
      "application/vnd.jupyter.widget-view+json": {
       "model_id": "16965fcb3e5943eaa55467f90dda5757",
       "version_major": 2,
       "version_minor": 0
      },
      "text/plain": [
       "Downloading data:   0%|          | 0.00/8.05M [00:00<?, ?B/s]"
      ]
     },
     "metadata": {},
     "output_type": "display_data"
    },
    {
     "data": {
      "application/vnd.jupyter.widget-view+json": {
       "model_id": "4d5db10cab3d472f916b3f92770f3289",
       "version_major": 2,
       "version_minor": 0
      },
      "text/plain": [
       "Downloading data:   0%|          | 0.00/24.4M [00:00<?, ?B/s]"
      ]
     },
     "metadata": {},
     "output_type": "display_data"
    },
    {
     "data": {
      "application/vnd.jupyter.widget-view+json": {
       "model_id": "3e5395f670ba4295aadd0006d2f54a2a",
       "version_major": 2,
       "version_minor": 0
      },
      "text/plain": [
       "Downloading data:   0%|          | 0.00/14.1M [00:00<?, ?B/s]"
      ]
     },
     "metadata": {},
     "output_type": "display_data"
    },
    {
     "data": {
      "application/vnd.jupyter.widget-view+json": {
       "model_id": "39fc62015d8a45adb06d93b2c4747867",
       "version_major": 2,
       "version_minor": 0
      },
      "text/plain": [
       "Downloading data:   0%|          | 0.00/12.3M [00:00<?, ?B/s]"
      ]
     },
     "metadata": {},
     "output_type": "display_data"
    },
    {
     "data": {
      "application/vnd.jupyter.widget-view+json": {
       "model_id": "f1b6c5947c064c6880ca536bfdf7a8c2",
       "version_major": 2,
       "version_minor": 0
      },
      "text/plain": [
       "Downloading data:   0%|          | 0.00/19.6M [00:00<?, ?B/s]"
      ]
     },
     "metadata": {},
     "output_type": "display_data"
    },
    {
     "data": {
      "application/vnd.jupyter.widget-view+json": {
       "model_id": "6c0777b6b730462ebc465d77b906aa58",
       "version_major": 2,
       "version_minor": 0
      },
      "text/plain": [
       "Downloading data:   0%|          | 0.00/14.6M [00:00<?, ?B/s]"
      ]
     },
     "metadata": {},
     "output_type": "display_data"
    },
    {
     "data": {
      "application/vnd.jupyter.widget-view+json": {
       "model_id": "e85b234fed9c40368a18eeb8f7a1b214",
       "version_major": 2,
       "version_minor": 0
      },
      "text/plain": [
       "Downloading data:   0%|          | 0.00/13.8M [00:00<?, ?B/s]"
      ]
     },
     "metadata": {},
     "output_type": "display_data"
    },
    {
     "data": {
      "application/vnd.jupyter.widget-view+json": {
       "model_id": "2e5d6b7e95da419a9e7ea4db914d76fa",
       "version_major": 2,
       "version_minor": 0
      },
      "text/plain": [
       "Downloading data:   0%|          | 0.00/20.1M [00:00<?, ?B/s]"
      ]
     },
     "metadata": {},
     "output_type": "display_data"
    },
    {
     "data": {
      "application/vnd.jupyter.widget-view+json": {
       "model_id": "453185512d0b47b6b1b760af9069e90c",
       "version_major": 2,
       "version_minor": 0
      },
      "text/plain": [
       "Downloading data:   0%|          | 0.00/17.6M [00:00<?, ?B/s]"
      ]
     },
     "metadata": {},
     "output_type": "display_data"
    },
    {
     "data": {
      "application/vnd.jupyter.widget-view+json": {
       "model_id": "87d2c0dfbd9b4dbb9ff02815ee03dcdc",
       "version_major": 2,
       "version_minor": 0
      },
      "text/plain": [
       "Downloading data:   0%|          | 0.00/22.1M [00:00<?, ?B/s]"
      ]
     },
     "metadata": {},
     "output_type": "display_data"
    },
    {
     "data": {
      "application/vnd.jupyter.widget-view+json": {
       "model_id": "da4747f0954a49568e5c6830961fdd93",
       "version_major": 2,
       "version_minor": 0
      },
      "text/plain": [
       "Downloading data:   0%|          | 0.00/15.8M [00:00<?, ?B/s]"
      ]
     },
     "metadata": {},
     "output_type": "display_data"
    },
    {
     "data": {
      "application/vnd.jupyter.widget-view+json": {
       "model_id": "eabeb1c1e71045d58438d127857c91eb",
       "version_major": 2,
       "version_minor": 0
      },
      "text/plain": [
       "Downloading data:   0%|          | 0.00/8.98M [00:00<?, ?B/s]"
      ]
     },
     "metadata": {},
     "output_type": "display_data"
    },
    {
     "data": {
      "application/vnd.jupyter.widget-view+json": {
       "model_id": "09bcc4eb07704c5e9095beaa232ed9af",
       "version_major": 2,
       "version_minor": 0
      },
      "text/plain": [
       "Downloading data:   0%|          | 0.00/13.7M [00:00<?, ?B/s]"
      ]
     },
     "metadata": {},
     "output_type": "display_data"
    },
    {
     "data": {
      "application/vnd.jupyter.widget-view+json": {
       "model_id": "db7a0ff76bb0496fb67732fa0c5e0272",
       "version_major": 2,
       "version_minor": 0
      },
      "text/plain": [
       "Downloading data:   0%|          | 0.00/12.9M [00:00<?, ?B/s]"
      ]
     },
     "metadata": {},
     "output_type": "display_data"
    },
    {
     "data": {
      "application/vnd.jupyter.widget-view+json": {
       "model_id": "9cd9ae5e13ca4e54b0ae3692ce31c558",
       "version_major": 2,
       "version_minor": 0
      },
      "text/plain": [
       "Downloading data:   0%|          | 0.00/13.3M [00:00<?, ?B/s]"
      ]
     },
     "metadata": {},
     "output_type": "display_data"
    },
    {
     "data": {
      "application/vnd.jupyter.widget-view+json": {
       "model_id": "5f47921a32524eb78b269fd0d0f68320",
       "version_major": 2,
       "version_minor": 0
      },
      "text/plain": [
       "Downloading data:   0%|          | 0.00/22.0M [00:00<?, ?B/s]"
      ]
     },
     "metadata": {},
     "output_type": "display_data"
    },
    {
     "data": {
      "application/vnd.jupyter.widget-view+json": {
       "model_id": "165adc6a679f47219066bf83aedec241",
       "version_major": 2,
       "version_minor": 0
      },
      "text/plain": [
       "Downloading data:   0%|          | 0.00/16.4M [00:00<?, ?B/s]"
      ]
     },
     "metadata": {},
     "output_type": "display_data"
    },
    {
     "data": {
      "application/vnd.jupyter.widget-view+json": {
       "model_id": "1afdb77a28fe4e2a8a0968d79b49fc70",
       "version_major": 2,
       "version_minor": 0
      },
      "text/plain": [
       "Downloading data:   0%|          | 0.00/14.3M [00:00<?, ?B/s]"
      ]
     },
     "metadata": {},
     "output_type": "display_data"
    },
    {
     "data": {
      "application/vnd.jupyter.widget-view+json": {
       "model_id": "8146fb3e2f424196aee56367396d3373",
       "version_major": 2,
       "version_minor": 0
      },
      "text/plain": [
       "Downloading data:   0%|          | 0.00/20.6M [00:00<?, ?B/s]"
      ]
     },
     "metadata": {},
     "output_type": "display_data"
    },
    {
     "data": {
      "application/vnd.jupyter.widget-view+json": {
       "model_id": "307fb4982e1843d894f50d7fd90abb21",
       "version_major": 2,
       "version_minor": 0
      },
      "text/plain": [
       "Downloading data:   0%|          | 0.00/30.1M [00:00<?, ?B/s]"
      ]
     },
     "metadata": {},
     "output_type": "display_data"
    },
    {
     "data": {
      "application/vnd.jupyter.widget-view+json": {
       "model_id": "e6a6343534004f738d7243b75257a336",
       "version_major": 2,
       "version_minor": 0
      },
      "text/plain": [
       "Downloading data:   0%|          | 0.00/14.0M [00:00<?, ?B/s]"
      ]
     },
     "metadata": {},
     "output_type": "display_data"
    },
    {
     "data": {
      "application/vnd.jupyter.widget-view+json": {
       "model_id": "ffd29dc5f02f4e1d839cd1230ac851ac",
       "version_major": 2,
       "version_minor": 0
      },
      "text/plain": [
       "Downloading data:   0%|          | 0.00/25.6M [00:00<?, ?B/s]"
      ]
     },
     "metadata": {},
     "output_type": "display_data"
    },
    {
     "data": {
      "application/vnd.jupyter.widget-view+json": {
       "model_id": "a43c0f928805495ea5ea86e3de971db3",
       "version_major": 2,
       "version_minor": 0
      },
      "text/plain": [
       "Downloading data:   0%|          | 0.00/20.9M [00:00<?, ?B/s]"
      ]
     },
     "metadata": {},
     "output_type": "display_data"
    },
    {
     "data": {
      "application/vnd.jupyter.widget-view+json": {
       "model_id": "175c37f62b7d47b68e31c0a4815053ab",
       "version_major": 2,
       "version_minor": 0
      },
      "text/plain": [
       "Downloading data:   0%|          | 0.00/11.3M [00:00<?, ?B/s]"
      ]
     },
     "metadata": {},
     "output_type": "display_data"
    },
    {
     "data": {
      "application/vnd.jupyter.widget-view+json": {
       "model_id": "546a42beab154a07ac2ff64efdec6aa2",
       "version_major": 2,
       "version_minor": 0
      },
      "text/plain": [
       "Downloading data:   0%|          | 0.00/15.1M [00:00<?, ?B/s]"
      ]
     },
     "metadata": {},
     "output_type": "display_data"
    },
    {
     "data": {
      "application/vnd.jupyter.widget-view+json": {
       "model_id": "bfa0f69358064d42881cab653f394781",
       "version_major": 2,
       "version_minor": 0
      },
      "text/plain": [
       "Downloading data:   0%|          | 0.00/11.7M [00:00<?, ?B/s]"
      ]
     },
     "metadata": {},
     "output_type": "display_data"
    },
    {
     "data": {
      "application/vnd.jupyter.widget-view+json": {
       "model_id": "f48ad3557b9a42a0a149d6a014789529",
       "version_major": 2,
       "version_minor": 0
      },
      "text/plain": [
       "Downloading data:   0%|          | 0.00/12.9M [00:00<?, ?B/s]"
      ]
     },
     "metadata": {},
     "output_type": "display_data"
    },
    {
     "data": {
      "application/vnd.jupyter.widget-view+json": {
       "model_id": "8a4688813f654aa2b0bd5caff7fcca88",
       "version_major": 2,
       "version_minor": 0
      },
      "text/plain": [
       "Downloading data:   0%|          | 0.00/12.7M [00:00<?, ?B/s]"
      ]
     },
     "metadata": {},
     "output_type": "display_data"
    },
    {
     "data": {
      "application/vnd.jupyter.widget-view+json": {
       "model_id": "32eaae0055fb469b95fec7d342709e24",
       "version_major": 2,
       "version_minor": 0
      },
      "text/plain": [
       "Downloading data:   0%|          | 0.00/9.83M [00:00<?, ?B/s]"
      ]
     },
     "metadata": {},
     "output_type": "display_data"
    },
    {
     "data": {
      "application/vnd.jupyter.widget-view+json": {
       "model_id": "eef755a026af4837afdcc77fa1558175",
       "version_major": 2,
       "version_minor": 0
      },
      "text/plain": [
       "Downloading data:   0%|          | 0.00/19.8M [00:00<?, ?B/s]"
      ]
     },
     "metadata": {},
     "output_type": "display_data"
    },
    {
     "data": {
      "application/vnd.jupyter.widget-view+json": {
       "model_id": "0390b52f019e4346a56c204ede316f41",
       "version_major": 2,
       "version_minor": 0
      },
      "text/plain": [
       "Downloading data:   0%|          | 0.00/23.7M [00:00<?, ?B/s]"
      ]
     },
     "metadata": {},
     "output_type": "display_data"
    },
    {
     "data": {
      "application/vnd.jupyter.widget-view+json": {
       "model_id": "29cedfc7383044af93153d0a17a285f9",
       "version_major": 2,
       "version_minor": 0
      },
      "text/plain": [
       "Downloading data:   0%|          | 0.00/23.5M [00:00<?, ?B/s]"
      ]
     },
     "metadata": {},
     "output_type": "display_data"
    },
    {
     "data": {
      "application/vnd.jupyter.widget-view+json": {
       "model_id": "bbc6f9815b42486880783cac303155f8",
       "version_major": 2,
       "version_minor": 0
      },
      "text/plain": [
       "Downloading data:   0%|          | 0.00/11.6M [00:00<?, ?B/s]"
      ]
     },
     "metadata": {},
     "output_type": "display_data"
    },
    {
     "data": {
      "application/vnd.jupyter.widget-view+json": {
       "model_id": "7e58bbc8c29044f4a7f4b1a7f70fc033",
       "version_major": 2,
       "version_minor": 0
      },
      "text/plain": [
       "Downloading data:   0%|          | 0.00/16.8M [00:00<?, ?B/s]"
      ]
     },
     "metadata": {},
     "output_type": "display_data"
    },
    {
     "data": {
      "application/vnd.jupyter.widget-view+json": {
       "model_id": "17a3f539eef84615b4d7cffd731a28a9",
       "version_major": 2,
       "version_minor": 0
      },
      "text/plain": [
       "Downloading data:   0%|          | 0.00/8.54M [00:00<?, ?B/s]"
      ]
     },
     "metadata": {},
     "output_type": "display_data"
    },
    {
     "data": {
      "application/vnd.jupyter.widget-view+json": {
       "model_id": "4023cd2aa3014b7dae18e370f30c5b69",
       "version_major": 2,
       "version_minor": 0
      },
      "text/plain": [
       "Downloading data:   0%|          | 0.00/19.6M [00:00<?, ?B/s]"
      ]
     },
     "metadata": {},
     "output_type": "display_data"
    },
    {
     "data": {
      "application/vnd.jupyter.widget-view+json": {
       "model_id": "5dc634c262b6428993f4d23b4e7804e3",
       "version_major": 2,
       "version_minor": 0
      },
      "text/plain": [
       "Downloading data:   0%|          | 0.00/15.1M [00:00<?, ?B/s]"
      ]
     },
     "metadata": {},
     "output_type": "display_data"
    },
    {
     "data": {
      "application/vnd.jupyter.widget-view+json": {
       "model_id": "87769f40db1e4990a80a35e66005c29a",
       "version_major": 2,
       "version_minor": 0
      },
      "text/plain": [
       "Downloading data:   0%|          | 0.00/13.7M [00:00<?, ?B/s]"
      ]
     },
     "metadata": {},
     "output_type": "display_data"
    },
    {
     "data": {
      "application/vnd.jupyter.widget-view+json": {
       "model_id": "2f66ad8aa61e446db5e1082ccb0db2dc",
       "version_major": 2,
       "version_minor": 0
      },
      "text/plain": [
       "Downloading data:   0%|          | 0.00/19.7M [00:00<?, ?B/s]"
      ]
     },
     "metadata": {},
     "output_type": "display_data"
    },
    {
     "data": {
      "application/vnd.jupyter.widget-view+json": {
       "model_id": "73a1d29223b543feb68e57cd46164d7f",
       "version_major": 2,
       "version_minor": 0
      },
      "text/plain": [
       "Downloading data:   0%|          | 0.00/17.8M [00:00<?, ?B/s]"
      ]
     },
     "metadata": {},
     "output_type": "display_data"
    },
    {
     "data": {
      "application/vnd.jupyter.widget-view+json": {
       "model_id": "6fa808d6ce0e4649aeb79b24197d40da",
       "version_major": 2,
       "version_minor": 0
      },
      "text/plain": [
       "Downloading data:   0%|          | 0.00/16.4M [00:00<?, ?B/s]"
      ]
     },
     "metadata": {},
     "output_type": "display_data"
    },
    {
     "data": {
      "application/vnd.jupyter.widget-view+json": {
       "model_id": "ccf94392ac6e4ee4bb699a00f2646447",
       "version_major": 2,
       "version_minor": 0
      },
      "text/plain": [
       "Downloading data:   0%|          | 0.00/10.2M [00:00<?, ?B/s]"
      ]
     },
     "metadata": {},
     "output_type": "display_data"
    },
    {
     "data": {
      "application/vnd.jupyter.widget-view+json": {
       "model_id": "8d831382185e45098cb80a473dbd2c11",
       "version_major": 2,
       "version_minor": 0
      },
      "text/plain": [
       "Downloading data:   0%|          | 0.00/9.56M [00:00<?, ?B/s]"
      ]
     },
     "metadata": {},
     "output_type": "display_data"
    },
    {
     "data": {
      "application/vnd.jupyter.widget-view+json": {
       "model_id": "8d610ab18ecc4a0495807a5e71bcbd69",
       "version_major": 2,
       "version_minor": 0
      },
      "text/plain": [
       "Downloading data:   0%|          | 0.00/18.8M [00:00<?, ?B/s]"
      ]
     },
     "metadata": {},
     "output_type": "display_data"
    },
    {
     "data": {
      "application/vnd.jupyter.widget-view+json": {
       "model_id": "f1eb03b86a154c24b8f2423f05cc2f8a",
       "version_major": 2,
       "version_minor": 0
      },
      "text/plain": [
       "Downloading data:   0%|          | 0.00/9.84M [00:00<?, ?B/s]"
      ]
     },
     "metadata": {},
     "output_type": "display_data"
    },
    {
     "data": {
      "application/vnd.jupyter.widget-view+json": {
       "model_id": "0de75a1e40f44b5ba4e21f9ce103a272",
       "version_major": 2,
       "version_minor": 0
      },
      "text/plain": [
       "Downloading data:   0%|          | 0.00/10.9M [00:00<?, ?B/s]"
      ]
     },
     "metadata": {},
     "output_type": "display_data"
    },
    {
     "data": {
      "application/vnd.jupyter.widget-view+json": {
       "model_id": "4267371d50de444bb6bceebb4e7c2bb2",
       "version_major": 2,
       "version_minor": 0
      },
      "text/plain": [
       "Downloading data:   0%|          | 0.00/16.9M [00:00<?, ?B/s]"
      ]
     },
     "metadata": {},
     "output_type": "display_data"
    },
    {
     "data": {
      "application/vnd.jupyter.widget-view+json": {
       "model_id": "d551e82e2a884d68bd2e1057ed1df72c",
       "version_major": 2,
       "version_minor": 0
      },
      "text/plain": [
       "Downloading data:   0%|          | 0.00/23.4M [00:00<?, ?B/s]"
      ]
     },
     "metadata": {},
     "output_type": "display_data"
    },
    {
     "data": {
      "application/vnd.jupyter.widget-view+json": {
       "model_id": "2118ac09cdbd4d00939847bcb5efc4ec",
       "version_major": 2,
       "version_minor": 0
      },
      "text/plain": [
       "Downloading data:   0%|          | 0.00/23.8M [00:00<?, ?B/s]"
      ]
     },
     "metadata": {},
     "output_type": "display_data"
    },
    {
     "data": {
      "application/vnd.jupyter.widget-view+json": {
       "model_id": "8c1e3691eb26440780db2b8427ec857b",
       "version_major": 2,
       "version_minor": 0
      },
      "text/plain": [
       "Downloading data:   0%|          | 0.00/23.8M [00:00<?, ?B/s]"
      ]
     },
     "metadata": {},
     "output_type": "display_data"
    },
    {
     "data": {
      "application/vnd.jupyter.widget-view+json": {
       "model_id": "f25ddbfda85443e3826eed127d5e93b2",
       "version_major": 2,
       "version_minor": 0
      },
      "text/plain": [
       "Downloading data:   0%|          | 0.00/11.8M [00:00<?, ?B/s]"
      ]
     },
     "metadata": {},
     "output_type": "display_data"
    },
    {
     "data": {
      "application/vnd.jupyter.widget-view+json": {
       "model_id": "c094b6f0668a4c40a8a717ff76ff1c20",
       "version_major": 2,
       "version_minor": 0
      },
      "text/plain": [
       "Downloading data:   0%|          | 0.00/12.1M [00:00<?, ?B/s]"
      ]
     },
     "metadata": {},
     "output_type": "display_data"
    },
    {
     "data": {
      "application/vnd.jupyter.widget-view+json": {
       "model_id": "9c2f935d8d384dc1aae5796b828786bb",
       "version_major": 2,
       "version_minor": 0
      },
      "text/plain": [
       "Downloading data:   0%|          | 0.00/12.1M [00:00<?, ?B/s]"
      ]
     },
     "metadata": {},
     "output_type": "display_data"
    },
    {
     "data": {
      "application/vnd.jupyter.widget-view+json": {
       "model_id": "15c4f984f7ff4341a9e88737ae011d20",
       "version_major": 2,
       "version_minor": 0
      },
      "text/plain": [
       "Downloading data:   0%|          | 0.00/16.9M [00:00<?, ?B/s]"
      ]
     },
     "metadata": {},
     "output_type": "display_data"
    },
    {
     "data": {
      "application/vnd.jupyter.widget-view+json": {
       "model_id": "48abd5aa3b3940d8bcde724e07c9f346",
       "version_major": 2,
       "version_minor": 0
      },
      "text/plain": [
       "Downloading data:   0%|          | 0.00/23.0M [00:00<?, ?B/s]"
      ]
     },
     "metadata": {},
     "output_type": "display_data"
    },
    {
     "data": {
      "application/vnd.jupyter.widget-view+json": {
       "model_id": "74ca5e27df45434193c026461542fe95",
       "version_major": 2,
       "version_minor": 0
      },
      "text/plain": [
       "Downloading data:   0%|          | 0.00/33.4M [00:00<?, ?B/s]"
      ]
     },
     "metadata": {},
     "output_type": "display_data"
    },
    {
     "data": {
      "application/vnd.jupyter.widget-view+json": {
       "model_id": "b9210cdf5b28417da97a7deedbde9686",
       "version_major": 2,
       "version_minor": 0
      },
      "text/plain": [
       "Downloading data:   0%|          | 0.00/12.1M [00:00<?, ?B/s]"
      ]
     },
     "metadata": {},
     "output_type": "display_data"
    },
    {
     "data": {
      "application/vnd.jupyter.widget-view+json": {
       "model_id": "84887e3490a644f8a9a3ebdb2daac504",
       "version_major": 2,
       "version_minor": 0
      },
      "text/plain": [
       "Downloading data:   0%|          | 0.00/13.9M [00:00<?, ?B/s]"
      ]
     },
     "metadata": {},
     "output_type": "display_data"
    },
    {
     "data": {
      "application/vnd.jupyter.widget-view+json": {
       "model_id": "7177670b09774ee383cc6edef4018b6a",
       "version_major": 2,
       "version_minor": 0
      },
      "text/plain": [
       "Downloading data:   0%|          | 0.00/25.4M [00:00<?, ?B/s]"
      ]
     },
     "metadata": {},
     "output_type": "display_data"
    },
    {
     "data": {
      "application/vnd.jupyter.widget-view+json": {
       "model_id": "974db730a2fe4de79e0e53c25dccdc75",
       "version_major": 2,
       "version_minor": 0
      },
      "text/plain": [
       "Downloading data:   0%|          | 0.00/13.2M [00:00<?, ?B/s]"
      ]
     },
     "metadata": {},
     "output_type": "display_data"
    },
    {
     "data": {
      "application/vnd.jupyter.widget-view+json": {
       "model_id": "00a369cda9234630897b9e63d3352fee",
       "version_major": 2,
       "version_minor": 0
      },
      "text/plain": [
       "Downloading data:   0%|          | 0.00/14.6M [00:00<?, ?B/s]"
      ]
     },
     "metadata": {},
     "output_type": "display_data"
    },
    {
     "data": {
      "application/vnd.jupyter.widget-view+json": {
       "model_id": "0992af77d3a6411984b5b3e7d51891de",
       "version_major": 2,
       "version_minor": 0
      },
      "text/plain": [
       "Downloading data:   0%|          | 0.00/21.5M [00:00<?, ?B/s]"
      ]
     },
     "metadata": {},
     "output_type": "display_data"
    },
    {
     "data": {
      "application/vnd.jupyter.widget-view+json": {
       "model_id": "eba43edbce564562b1483ee9a0cf231a",
       "version_major": 2,
       "version_minor": 0
      },
      "text/plain": [
       "Downloading data:   0%|          | 0.00/16.7M [00:00<?, ?B/s]"
      ]
     },
     "metadata": {},
     "output_type": "display_data"
    },
    {
     "data": {
      "application/vnd.jupyter.widget-view+json": {
       "model_id": "d397bcb82d8d4fba8958a74de9e95177",
       "version_major": 2,
       "version_minor": 0
      },
      "text/plain": [
       "Downloading data:   0%|          | 0.00/17.6M [00:00<?, ?B/s]"
      ]
     },
     "metadata": {},
     "output_type": "display_data"
    },
    {
     "data": {
      "application/vnd.jupyter.widget-view+json": {
       "model_id": "a362cdfa8bc5473e963ef137b8af6177",
       "version_major": 2,
       "version_minor": 0
      },
      "text/plain": [
       "Downloading data:   0%|          | 0.00/9.20M [00:00<?, ?B/s]"
      ]
     },
     "metadata": {},
     "output_type": "display_data"
    },
    {
     "data": {
      "application/vnd.jupyter.widget-view+json": {
       "model_id": "b2d24c8e02fc474b9d992776adf06078",
       "version_major": 2,
       "version_minor": 0
      },
      "text/plain": [
       "Downloading data:   0%|          | 0.00/24.8M [00:00<?, ?B/s]"
      ]
     },
     "metadata": {},
     "output_type": "display_data"
    },
    {
     "data": {
      "application/vnd.jupyter.widget-view+json": {
       "model_id": "2a95825cf1b944d9b7cbf273bb260dc5",
       "version_major": 2,
       "version_minor": 0
      },
      "text/plain": [
       "Downloading data:   0%|          | 0.00/11.5M [00:00<?, ?B/s]"
      ]
     },
     "metadata": {},
     "output_type": "display_data"
    },
    {
     "data": {
      "application/vnd.jupyter.widget-view+json": {
       "model_id": "63a52846097c4609b9d57686a2e43c74",
       "version_major": 2,
       "version_minor": 0
      },
      "text/plain": [
       "Downloading data:   0%|          | 0.00/13.0M [00:00<?, ?B/s]"
      ]
     },
     "metadata": {},
     "output_type": "display_data"
    },
    {
     "data": {
      "application/vnd.jupyter.widget-view+json": {
       "model_id": "edc96b3d06034aa4aecf0c95c5966e5e",
       "version_major": 2,
       "version_minor": 0
      },
      "text/plain": [
       "Downloading data:   0%|          | 0.00/27.1M [00:00<?, ?B/s]"
      ]
     },
     "metadata": {},
     "output_type": "display_data"
    },
    {
     "data": {
      "application/vnd.jupyter.widget-view+json": {
       "model_id": "d8dbea79caa64271b4ca8fb6d626731f",
       "version_major": 2,
       "version_minor": 0
      },
      "text/plain": [
       "Downloading data:   0%|          | 0.00/14.7M [00:00<?, ?B/s]"
      ]
     },
     "metadata": {},
     "output_type": "display_data"
    },
    {
     "data": {
      "application/vnd.jupyter.widget-view+json": {
       "model_id": "014a44d6b42f4bb2a47174a7930c6dbb",
       "version_major": 2,
       "version_minor": 0
      },
      "text/plain": [
       "Downloading data:   0%|          | 0.00/33.1M [00:00<?, ?B/s]"
      ]
     },
     "metadata": {},
     "output_type": "display_data"
    },
    {
     "data": {
      "application/vnd.jupyter.widget-view+json": {
       "model_id": "3e3db74b492b40ffb21a61e98a4065af",
       "version_major": 2,
       "version_minor": 0
      },
      "text/plain": [
       "Downloading data:   0%|          | 0.00/14.0M [00:00<?, ?B/s]"
      ]
     },
     "metadata": {},
     "output_type": "display_data"
    },
    {
     "data": {
      "application/vnd.jupyter.widget-view+json": {
       "model_id": "8727e4f1b6814ba3806f64d9b79efa47",
       "version_major": 2,
       "version_minor": 0
      },
      "text/plain": [
       "Downloading data:   0%|          | 0.00/32.9M [00:00<?, ?B/s]"
      ]
     },
     "metadata": {},
     "output_type": "display_data"
    },
    {
     "data": {
      "application/vnd.jupyter.widget-view+json": {
       "model_id": "ad29bba860bc41fdb35c0f7164d85f8a",
       "version_major": 2,
       "version_minor": 0
      },
      "text/plain": [
       "Downloading data:   0%|          | 0.00/11.9M [00:00<?, ?B/s]"
      ]
     },
     "metadata": {},
     "output_type": "display_data"
    },
    {
     "data": {
      "application/vnd.jupyter.widget-view+json": {
       "model_id": "2d447b1539884df5b9509b5bd3f3699d",
       "version_major": 2,
       "version_minor": 0
      },
      "text/plain": [
       "Downloading data:   0%|          | 0.00/16.7M [00:00<?, ?B/s]"
      ]
     },
     "metadata": {},
     "output_type": "display_data"
    },
    {
     "data": {
      "application/vnd.jupyter.widget-view+json": {
       "model_id": "2dd77521539f4c0b9a7c541e10631bec",
       "version_major": 2,
       "version_minor": 0
      },
      "text/plain": [
       "Downloading data:   0%|          | 0.00/16.7M [00:00<?, ?B/s]"
      ]
     },
     "metadata": {},
     "output_type": "display_data"
    },
    {
     "data": {
      "application/vnd.jupyter.widget-view+json": {
       "model_id": "f53de332996245378fe251c2a6a3915d",
       "version_major": 2,
       "version_minor": 0
      },
      "text/plain": [
       "Downloading data:   0%|          | 0.00/11.0M [00:00<?, ?B/s]"
      ]
     },
     "metadata": {},
     "output_type": "display_data"
    },
    {
     "data": {
      "application/vnd.jupyter.widget-view+json": {
       "model_id": "82be26cade3248b1ac5545bf9fd62520",
       "version_major": 2,
       "version_minor": 0
      },
      "text/plain": [
       "Downloading data:   0%|          | 0.00/31.2M [00:00<?, ?B/s]"
      ]
     },
     "metadata": {},
     "output_type": "display_data"
    },
    {
     "data": {
      "application/vnd.jupyter.widget-view+json": {
       "model_id": "a69f3cb67215458dbfc5cfd0f9719ad7",
       "version_major": 2,
       "version_minor": 0
      },
      "text/plain": [
       "Downloading data:   0%|          | 0.00/32.6M [00:00<?, ?B/s]"
      ]
     },
     "metadata": {},
     "output_type": "display_data"
    },
    {
     "data": {
      "application/vnd.jupyter.widget-view+json": {
       "model_id": "f6e863bf6c424950a8e37cdec6fc3fda",
       "version_major": 2,
       "version_minor": 0
      },
      "text/plain": [
       "Downloading data:   0%|          | 0.00/17.8M [00:00<?, ?B/s]"
      ]
     },
     "metadata": {},
     "output_type": "display_data"
    },
    {
     "data": {
      "application/vnd.jupyter.widget-view+json": {
       "model_id": "c467737c51c741fdbdc2558c26499617",
       "version_major": 2,
       "version_minor": 0
      },
      "text/plain": [
       "Downloading data:   0%|          | 0.00/13.4M [00:00<?, ?B/s]"
      ]
     },
     "metadata": {},
     "output_type": "display_data"
    },
    {
     "data": {
      "application/vnd.jupyter.widget-view+json": {
       "model_id": "9caf4c6b8d794fd49a30b4d64c153e90",
       "version_major": 2,
       "version_minor": 0
      },
      "text/plain": [
       "Downloading data:   0%|          | 0.00/25.1M [00:00<?, ?B/s]"
      ]
     },
     "metadata": {},
     "output_type": "display_data"
    },
    {
     "data": {
      "application/vnd.jupyter.widget-view+json": {
       "model_id": "1dc55c90a5714d97bac277968c8ff4af",
       "version_major": 2,
       "version_minor": 0
      },
      "text/plain": [
       "Downloading data:   0%|          | 0.00/22.5M [00:00<?, ?B/s]"
      ]
     },
     "metadata": {},
     "output_type": "display_data"
    },
    {
     "data": {
      "application/vnd.jupyter.widget-view+json": {
       "model_id": "e7625eae6b3d450ebfa021c29e4806e3",
       "version_major": 2,
       "version_minor": 0
      },
      "text/plain": [
       "Downloading data:   0%|          | 0.00/12.5M [00:00<?, ?B/s]"
      ]
     },
     "metadata": {},
     "output_type": "display_data"
    },
    {
     "data": {
      "application/vnd.jupyter.widget-view+json": {
       "model_id": "2bd4ed4c37634f0f8e3e8cb0e8836711",
       "version_major": 2,
       "version_minor": 0
      },
      "text/plain": [
       "Downloading data:   0%|          | 0.00/8.45M [00:00<?, ?B/s]"
      ]
     },
     "metadata": {},
     "output_type": "display_data"
    },
    {
     "data": {
      "application/vnd.jupyter.widget-view+json": {
       "model_id": "60fa45d38bfb4dde838d74c0dfd7460c",
       "version_major": 2,
       "version_minor": 0
      },
      "text/plain": [
       "Downloading data:   0%|          | 0.00/24.3M [00:00<?, ?B/s]"
      ]
     },
     "metadata": {},
     "output_type": "display_data"
    },
    {
     "data": {
      "application/vnd.jupyter.widget-view+json": {
       "model_id": "86f8e0e4369547d4807b8ee715c3e8ec",
       "version_major": 2,
       "version_minor": 0
      },
      "text/plain": [
       "Downloading data:   0%|          | 0.00/8.74M [00:00<?, ?B/s]"
      ]
     },
     "metadata": {},
     "output_type": "display_data"
    },
    {
     "data": {
      "application/vnd.jupyter.widget-view+json": {
       "model_id": "0ffc4d84b9fd44d5bd81c9d48aadfd06",
       "version_major": 2,
       "version_minor": 0
      },
      "text/plain": [
       "Downloading data:   0%|          | 0.00/26.8M [00:00<?, ?B/s]"
      ]
     },
     "metadata": {},
     "output_type": "display_data"
    },
    {
     "data": {
      "application/vnd.jupyter.widget-view+json": {
       "model_id": "e6760c172eb64841bfca45d711a0a35e",
       "version_major": 2,
       "version_minor": 0
      },
      "text/plain": [
       "Downloading data:   0%|          | 0.00/19.6M [00:00<?, ?B/s]"
      ]
     },
     "metadata": {},
     "output_type": "display_data"
    },
    {
     "data": {
      "application/vnd.jupyter.widget-view+json": {
       "model_id": "8400c4659b4246f383364c3ba4f5d80d",
       "version_major": 2,
       "version_minor": 0
      },
      "text/plain": [
       "Downloading data:   0%|          | 0.00/13.2M [00:00<?, ?B/s]"
      ]
     },
     "metadata": {},
     "output_type": "display_data"
    },
    {
     "data": {
      "application/vnd.jupyter.widget-view+json": {
       "model_id": "821f58d2ebd24d02bed80b715f24aba4",
       "version_major": 2,
       "version_minor": 0
      },
      "text/plain": [
       "Downloading data:   0%|          | 0.00/19.7M [00:00<?, ?B/s]"
      ]
     },
     "metadata": {},
     "output_type": "display_data"
    },
    {
     "data": {
      "application/vnd.jupyter.widget-view+json": {
       "model_id": "248adff7acee4ac6ae7c483bb3e632d0",
       "version_major": 2,
       "version_minor": 0
      },
      "text/plain": [
       "Downloading data:   0%|          | 0.00/17.4M [00:00<?, ?B/s]"
      ]
     },
     "metadata": {},
     "output_type": "display_data"
    },
    {
     "data": {
      "application/vnd.jupyter.widget-view+json": {
       "model_id": "be0c467b89dc4c789275aebab1b76685",
       "version_major": 2,
       "version_minor": 0
      },
      "text/plain": [
       "Downloading data:   0%|          | 0.00/11.9M [00:00<?, ?B/s]"
      ]
     },
     "metadata": {},
     "output_type": "display_data"
    },
    {
     "data": {
      "application/vnd.jupyter.widget-view+json": {
       "model_id": "9743a210ae134fb6beed050e7caead5c",
       "version_major": 2,
       "version_minor": 0
      },
      "text/plain": [
       "Downloading data:   0%|          | 0.00/16.1M [00:00<?, ?B/s]"
      ]
     },
     "metadata": {},
     "output_type": "display_data"
    },
    {
     "data": {
      "application/vnd.jupyter.widget-view+json": {
       "model_id": "ab9abe2dd2bd4b01a5faabc354f9df90",
       "version_major": 2,
       "version_minor": 0
      },
      "text/plain": [
       "Downloading data:   0%|          | 0.00/10.9M [00:00<?, ?B/s]"
      ]
     },
     "metadata": {},
     "output_type": "display_data"
    },
    {
     "data": {
      "application/vnd.jupyter.widget-view+json": {
       "model_id": "df04051c4e89403aac9b0ed82a482fe5",
       "version_major": 2,
       "version_minor": 0
      },
      "text/plain": [
       "Downloading data:   0%|          | 0.00/29.9M [00:00<?, ?B/s]"
      ]
     },
     "metadata": {},
     "output_type": "display_data"
    },
    {
     "data": {
      "application/vnd.jupyter.widget-view+json": {
       "model_id": "1c5fb4b3302840739e9cf3f6142b11d0",
       "version_major": 2,
       "version_minor": 0
      },
      "text/plain": [
       "Downloading data:   0%|          | 0.00/11.9M [00:00<?, ?B/s]"
      ]
     },
     "metadata": {},
     "output_type": "display_data"
    },
    {
     "data": {
      "application/vnd.jupyter.widget-view+json": {
       "model_id": "f386bb343131438caf57dcde2cddce20",
       "version_major": 2,
       "version_minor": 0
      },
      "text/plain": [
       "Downloading data:   0%|          | 0.00/22.7M [00:00<?, ?B/s]"
      ]
     },
     "metadata": {},
     "output_type": "display_data"
    },
    {
     "data": {
      "application/vnd.jupyter.widget-view+json": {
       "model_id": "a3884e39cbd7467b9b3b422a5b48beec",
       "version_major": 2,
       "version_minor": 0
      },
      "text/plain": [
       "Downloading data:   0%|          | 0.00/11.5M [00:00<?, ?B/s]"
      ]
     },
     "metadata": {},
     "output_type": "display_data"
    },
    {
     "data": {
      "application/vnd.jupyter.widget-view+json": {
       "model_id": "730ed71feb3742f68976ec1d3f28ae11",
       "version_major": 2,
       "version_minor": 0
      },
      "text/plain": [
       "Downloading data:   0%|          | 0.00/25.2M [00:00<?, ?B/s]"
      ]
     },
     "metadata": {},
     "output_type": "display_data"
    },
    {
     "data": {
      "application/vnd.jupyter.widget-view+json": {
       "model_id": "5831d9324e804bdd852ed06b0eb26677",
       "version_major": 2,
       "version_minor": 0
      },
      "text/plain": [
       "Downloading data:   0%|          | 0.00/16.9M [00:00<?, ?B/s]"
      ]
     },
     "metadata": {},
     "output_type": "display_data"
    },
    {
     "data": {
      "application/vnd.jupyter.widget-view+json": {
       "model_id": "9bda01326d0846d190ba242e14af1954",
       "version_major": 2,
       "version_minor": 0
      },
      "text/plain": [
       "Downloading data:   0%|          | 0.00/15.0M [00:00<?, ?B/s]"
      ]
     },
     "metadata": {},
     "output_type": "display_data"
    },
    {
     "data": {
      "application/vnd.jupyter.widget-view+json": {
       "model_id": "314613cb0c104c2fa3eb5ed4bd984c32",
       "version_major": 2,
       "version_minor": 0
      },
      "text/plain": [
       "Downloading data:   0%|          | 0.00/17.8M [00:00<?, ?B/s]"
      ]
     },
     "metadata": {},
     "output_type": "display_data"
    },
    {
     "data": {
      "application/vnd.jupyter.widget-view+json": {
       "model_id": "c943f379fc3a4674af20a2dcc7c540ab",
       "version_major": 2,
       "version_minor": 0
      },
      "text/plain": [
       "Downloading data:   0%|          | 0.00/12.6M [00:00<?, ?B/s]"
      ]
     },
     "metadata": {},
     "output_type": "display_data"
    },
    {
     "data": {
      "application/vnd.jupyter.widget-view+json": {
       "model_id": "5bece94d840a472cb76e2ba910aab36a",
       "version_major": 2,
       "version_minor": 0
      },
      "text/plain": [
       "Downloading data:   0%|          | 0.00/9.02M [00:00<?, ?B/s]"
      ]
     },
     "metadata": {},
     "output_type": "display_data"
    },
    {
     "data": {
      "application/vnd.jupyter.widget-view+json": {
       "model_id": "78efd57c751641f5b7e80e04891585df",
       "version_major": 2,
       "version_minor": 0
      },
      "text/plain": [
       "Downloading data:   0%|          | 0.00/19.8M [00:00<?, ?B/s]"
      ]
     },
     "metadata": {},
     "output_type": "display_data"
    },
    {
     "data": {
      "application/vnd.jupyter.widget-view+json": {
       "model_id": "0034542a326e4837978aad3c241a7928",
       "version_major": 2,
       "version_minor": 0
      },
      "text/plain": [
       "Downloading data:   0%|          | 0.00/29.3M [00:00<?, ?B/s]"
      ]
     },
     "metadata": {},
     "output_type": "display_data"
    },
    {
     "data": {
      "application/vnd.jupyter.widget-view+json": {
       "model_id": "148cb2ec502742e7b88c7ba28a75ad5f",
       "version_major": 2,
       "version_minor": 0
      },
      "text/plain": [
       "Downloading data:   0%|          | 0.00/12.4M [00:00<?, ?B/s]"
      ]
     },
     "metadata": {},
     "output_type": "display_data"
    },
    {
     "data": {
      "application/vnd.jupyter.widget-view+json": {
       "model_id": "70323a0042a54b50bf53731b93e2be2f",
       "version_major": 2,
       "version_minor": 0
      },
      "text/plain": [
       "Downloading data:   0%|          | 0.00/7.17M [00:00<?, ?B/s]"
      ]
     },
     "metadata": {},
     "output_type": "display_data"
    },
    {
     "data": {
      "application/vnd.jupyter.widget-view+json": {
       "model_id": "9cdd18001c7c42ee911f5c4f58d7454a",
       "version_major": 2,
       "version_minor": 0
      },
      "text/plain": [
       "Downloading data:   0%|          | 0.00/12.3M [00:00<?, ?B/s]"
      ]
     },
     "metadata": {},
     "output_type": "display_data"
    },
    {
     "data": {
      "application/vnd.jupyter.widget-view+json": {
       "model_id": "9ee19996640c4ec58546cf05466886ed",
       "version_major": 2,
       "version_minor": 0
      },
      "text/plain": [
       "Downloading data:   0%|          | 0.00/11.8M [00:00<?, ?B/s]"
      ]
     },
     "metadata": {},
     "output_type": "display_data"
    },
    {
     "data": {
      "application/vnd.jupyter.widget-view+json": {
       "model_id": "5f8595f93201435a8125d9e7e87aef65",
       "version_major": 2,
       "version_minor": 0
      },
      "text/plain": [
       "Downloading data:   0%|          | 0.00/19.6M [00:00<?, ?B/s]"
      ]
     },
     "metadata": {},
     "output_type": "display_data"
    },
    {
     "data": {
      "application/vnd.jupyter.widget-view+json": {
       "model_id": "d9daca1b75c74dff947c291c7c21d71f",
       "version_major": 2,
       "version_minor": 0
      },
      "text/plain": [
       "Downloading data:   0%|          | 0.00/10.8M [00:00<?, ?B/s]"
      ]
     },
     "metadata": {},
     "output_type": "display_data"
    },
    {
     "data": {
      "application/vnd.jupyter.widget-view+json": {
       "model_id": "95e4fad9441e4882a3548c020252efc0",
       "version_major": 2,
       "version_minor": 0
      },
      "text/plain": [
       "Downloading data:   0%|          | 0.00/4.52M [00:00<?, ?B/s]"
      ]
     },
     "metadata": {},
     "output_type": "display_data"
    },
    {
     "data": {
      "application/vnd.jupyter.widget-view+json": {
       "model_id": "f74bf48aa3674831821d8b83c6e7f299",
       "version_major": 2,
       "version_minor": 0
      },
      "text/plain": [
       "Downloading data:   0%|          | 0.00/24.7M [00:00<?, ?B/s]"
      ]
     },
     "metadata": {},
     "output_type": "display_data"
    },
    {
     "data": {
      "application/vnd.jupyter.widget-view+json": {
       "model_id": "283bbbc7ec504ff7bdbcf637e60acca8",
       "version_major": 2,
       "version_minor": 0
      },
      "text/plain": [
       "Downloading data:   0%|          | 0.00/9.32M [00:00<?, ?B/s]"
      ]
     },
     "metadata": {},
     "output_type": "display_data"
    },
    {
     "data": {
      "application/vnd.jupyter.widget-view+json": {
       "model_id": "840325ecf93449dbb85b048ef648ef67",
       "version_major": 2,
       "version_minor": 0
      },
      "text/plain": [
       "Downloading data:   0%|          | 0.00/23.4M [00:00<?, ?B/s]"
      ]
     },
     "metadata": {},
     "output_type": "display_data"
    },
    {
     "data": {
      "application/vnd.jupyter.widget-view+json": {
       "model_id": "f5c6821c7fc74995b384a74c14be5981",
       "version_major": 2,
       "version_minor": 0
      },
      "text/plain": [
       "Downloading data:   0%|          | 0.00/11.5M [00:00<?, ?B/s]"
      ]
     },
     "metadata": {},
     "output_type": "display_data"
    },
    {
     "data": {
      "application/vnd.jupyter.widget-view+json": {
       "model_id": "b8f51617309449d8b7ce20334ebc346c",
       "version_major": 2,
       "version_minor": 0
      },
      "text/plain": [
       "Downloading data:   0%|          | 0.00/11.0M [00:00<?, ?B/s]"
      ]
     },
     "metadata": {},
     "output_type": "display_data"
    },
    {
     "data": {
      "application/vnd.jupyter.widget-view+json": {
       "model_id": "662878a793394e3ea4ead984fdd3a9d5",
       "version_major": 2,
       "version_minor": 0
      },
      "text/plain": [
       "Downloading data:   0%|          | 0.00/15.8M [00:00<?, ?B/s]"
      ]
     },
     "metadata": {},
     "output_type": "display_data"
    },
    {
     "data": {
      "application/vnd.jupyter.widget-view+json": {
       "model_id": "602ba48987fd4b8e83bf82c61f2d2512",
       "version_major": 2,
       "version_minor": 0
      },
      "text/plain": [
       "Downloading data:   0%|          | 0.00/25.6M [00:00<?, ?B/s]"
      ]
     },
     "metadata": {},
     "output_type": "display_data"
    },
    {
     "data": {
      "application/vnd.jupyter.widget-view+json": {
       "model_id": "3cecae9682e44790aacfc2bcb81f660e",
       "version_major": 2,
       "version_minor": 0
      },
      "text/plain": [
       "Downloading data:   0%|          | 0.00/14.3M [00:00<?, ?B/s]"
      ]
     },
     "metadata": {},
     "output_type": "display_data"
    },
    {
     "data": {
      "application/vnd.jupyter.widget-view+json": {
       "model_id": "ee81c21232d3449990859932eb9cf001",
       "version_major": 2,
       "version_minor": 0
      },
      "text/plain": [
       "Downloading data:   0%|          | 0.00/14.0M [00:00<?, ?B/s]"
      ]
     },
     "metadata": {},
     "output_type": "display_data"
    },
    {
     "data": {
      "application/vnd.jupyter.widget-view+json": {
       "model_id": "06afbfbb69cc48398e621c9ebb1bb185",
       "version_major": 2,
       "version_minor": 0
      },
      "text/plain": [
       "Downloading data:   0%|          | 0.00/30.3M [00:00<?, ?B/s]"
      ]
     },
     "metadata": {},
     "output_type": "display_data"
    },
    {
     "data": {
      "application/vnd.jupyter.widget-view+json": {
       "model_id": "924ee283e9574c308aaec89a74f06838",
       "version_major": 2,
       "version_minor": 0
      },
      "text/plain": [
       "Downloading data:   0%|          | 0.00/15.6M [00:00<?, ?B/s]"
      ]
     },
     "metadata": {},
     "output_type": "display_data"
    },
    {
     "data": {
      "application/vnd.jupyter.widget-view+json": {
       "model_id": "0cf74ae1252540e5b82008c803f1d998",
       "version_major": 2,
       "version_minor": 0
      },
      "text/plain": [
       "Downloading data:   0%|          | 0.00/13.8M [00:00<?, ?B/s]"
      ]
     },
     "metadata": {},
     "output_type": "display_data"
    },
    {
     "data": {
      "application/vnd.jupyter.widget-view+json": {
       "model_id": "2f7f2a43a12b4cf09fdf5ff2f70d4eb4",
       "version_major": 2,
       "version_minor": 0
      },
      "text/plain": [
       "Downloading data:   0%|          | 0.00/25.1M [00:00<?, ?B/s]"
      ]
     },
     "metadata": {},
     "output_type": "display_data"
    },
    {
     "data": {
      "application/vnd.jupyter.widget-view+json": {
       "model_id": "eccd159811f141a294db1183b18b9ed3",
       "version_major": 2,
       "version_minor": 0
      },
      "text/plain": [
       "Downloading data:   0%|          | 0.00/11.6M [00:00<?, ?B/s]"
      ]
     },
     "metadata": {},
     "output_type": "display_data"
    },
    {
     "data": {
      "application/vnd.jupyter.widget-view+json": {
       "model_id": "e9810845f0404a848722274409b45429",
       "version_major": 2,
       "version_minor": 0
      },
      "text/plain": [
       "Downloading data:   0%|          | 0.00/17.0M [00:00<?, ?B/s]"
      ]
     },
     "metadata": {},
     "output_type": "display_data"
    },
    {
     "data": {
      "application/vnd.jupyter.widget-view+json": {
       "model_id": "857cd4110537448697a9d67f4bda8d87",
       "version_major": 2,
       "version_minor": 0
      },
      "text/plain": [
       "Downloading data:   0%|          | 0.00/25.8M [00:00<?, ?B/s]"
      ]
     },
     "metadata": {},
     "output_type": "display_data"
    },
    {
     "data": {
      "application/vnd.jupyter.widget-view+json": {
       "model_id": "1c8b09beba1f423f80929080009aa12a",
       "version_major": 2,
       "version_minor": 0
      },
      "text/plain": [
       "Downloading data:   0%|          | 0.00/7.62M [00:00<?, ?B/s]"
      ]
     },
     "metadata": {},
     "output_type": "display_data"
    },
    {
     "data": {
      "application/vnd.jupyter.widget-view+json": {
       "model_id": "a6901029d88e4288bc6f86ec0657ef9a",
       "version_major": 2,
       "version_minor": 0
      },
      "text/plain": [
       "Downloading data:   0%|          | 0.00/19.8M [00:00<?, ?B/s]"
      ]
     },
     "metadata": {},
     "output_type": "display_data"
    },
    {
     "data": {
      "application/vnd.jupyter.widget-view+json": {
       "model_id": "51359927a99a40468cabf66ce0dd4a5d",
       "version_major": 2,
       "version_minor": 0
      },
      "text/plain": [
       "Downloading data:   0%|          | 0.00/16.4M [00:00<?, ?B/s]"
      ]
     },
     "metadata": {},
     "output_type": "display_data"
    },
    {
     "data": {
      "application/vnd.jupyter.widget-view+json": {
       "model_id": "e13bceee95f44d7f8e7d4a6d209a8666",
       "version_major": 2,
       "version_minor": 0
      },
      "text/plain": [
       "Downloading data:   0%|          | 0.00/13.5M [00:00<?, ?B/s]"
      ]
     },
     "metadata": {},
     "output_type": "display_data"
    },
    {
     "data": {
      "application/vnd.jupyter.widget-view+json": {
       "model_id": "16b3fdd270e94d1da1e4e730971d551f",
       "version_major": 2,
       "version_minor": 0
      },
      "text/plain": [
       "Downloading data:   0%|          | 0.00/16.2M [00:00<?, ?B/s]"
      ]
     },
     "metadata": {},
     "output_type": "display_data"
    },
    {
     "data": {
      "application/vnd.jupyter.widget-view+json": {
       "model_id": "214e1ff969a447a5b9afed9c75612fc6",
       "version_major": 2,
       "version_minor": 0
      },
      "text/plain": [
       "Downloading data:   0%|          | 0.00/13.1M [00:00<?, ?B/s]"
      ]
     },
     "metadata": {},
     "output_type": "display_data"
    },
    {
     "data": {
      "application/vnd.jupyter.widget-view+json": {
       "model_id": "15d309c0104c460e992be4e9874ce3db",
       "version_major": 2,
       "version_minor": 0
      },
      "text/plain": [
       "Downloading data:   0%|          | 0.00/13.0M [00:00<?, ?B/s]"
      ]
     },
     "metadata": {},
     "output_type": "display_data"
    },
    {
     "data": {
      "application/vnd.jupyter.widget-view+json": {
       "model_id": "8922367ba09d4eb8b8c7863926aba71a",
       "version_major": 2,
       "version_minor": 0
      },
      "text/plain": [
       "Downloading data:   0%|          | 0.00/14.7M [00:00<?, ?B/s]"
      ]
     },
     "metadata": {},
     "output_type": "display_data"
    },
    {
     "data": {
      "application/vnd.jupyter.widget-view+json": {
       "model_id": "fd76efec077244e487443970f2637533",
       "version_major": 2,
       "version_minor": 0
      },
      "text/plain": [
       "Downloading data:   0%|          | 0.00/13.8M [00:00<?, ?B/s]"
      ]
     },
     "metadata": {},
     "output_type": "display_data"
    },
    {
     "data": {
      "application/vnd.jupyter.widget-view+json": {
       "model_id": "a6797e4a0f334598ac832ca6f10afd6e",
       "version_major": 2,
       "version_minor": 0
      },
      "text/plain": [
       "Downloading data:   0%|          | 0.00/10.0M [00:00<?, ?B/s]"
      ]
     },
     "metadata": {},
     "output_type": "display_data"
    },
    {
     "data": {
      "application/vnd.jupyter.widget-view+json": {
       "model_id": "94f31ab47b094de1804f932510cefad9",
       "version_major": 2,
       "version_minor": 0
      },
      "text/plain": [
       "Downloading data:   0%|          | 0.00/10.9M [00:00<?, ?B/s]"
      ]
     },
     "metadata": {},
     "output_type": "display_data"
    },
    {
     "data": {
      "application/vnd.jupyter.widget-view+json": {
       "model_id": "7ccd8ca90ead4d128ea4d4af581ec370",
       "version_major": 2,
       "version_minor": 0
      },
      "text/plain": [
       "Downloading data:   0%|          | 0.00/20.2M [00:00<?, ?B/s]"
      ]
     },
     "metadata": {},
     "output_type": "display_data"
    },
    {
     "data": {
      "application/vnd.jupyter.widget-view+json": {
       "model_id": "29d11cbfbe164f7d9818ae6053199d73",
       "version_major": 2,
       "version_minor": 0
      },
      "text/plain": [
       "Downloading data:   0%|          | 0.00/18.7M [00:00<?, ?B/s]"
      ]
     },
     "metadata": {},
     "output_type": "display_data"
    },
    {
     "data": {
      "application/vnd.jupyter.widget-view+json": {
       "model_id": "ad9bff2fb7734d969480ee81cdc60017",
       "version_major": 2,
       "version_minor": 0
      },
      "text/plain": [
       "Downloading data:   0%|          | 0.00/23.6M [00:00<?, ?B/s]"
      ]
     },
     "metadata": {},
     "output_type": "display_data"
    },
    {
     "data": {
      "application/vnd.jupyter.widget-view+json": {
       "model_id": "e3a27d9578294eb69ed1272493d331d4",
       "version_major": 2,
       "version_minor": 0
      },
      "text/plain": [
       "Downloading data:   0%|          | 0.00/29.9M [00:00<?, ?B/s]"
      ]
     },
     "metadata": {},
     "output_type": "display_data"
    },
    {
     "data": {
      "application/vnd.jupyter.widget-view+json": {
       "model_id": "d6e306dab7fa4b6da8a10860c1d906fc",
       "version_major": 2,
       "version_minor": 0
      },
      "text/plain": [
       "Downloading data:   0%|          | 0.00/14.7M [00:00<?, ?B/s]"
      ]
     },
     "metadata": {},
     "output_type": "display_data"
    },
    {
     "data": {
      "application/vnd.jupyter.widget-view+json": {
       "model_id": "b8c9f3a50a174d78aa686edd6260fdf4",
       "version_major": 2,
       "version_minor": 0
      },
      "text/plain": [
       "Downloading data:   0%|          | 0.00/25.9M [00:00<?, ?B/s]"
      ]
     },
     "metadata": {},
     "output_type": "display_data"
    },
    {
     "data": {
      "application/vnd.jupyter.widget-view+json": {
       "model_id": "4b01a32bb895471498d1566bfad9cb74",
       "version_major": 2,
       "version_minor": 0
      },
      "text/plain": [
       "Downloading data:   0%|          | 0.00/15.3M [00:00<?, ?B/s]"
      ]
     },
     "metadata": {},
     "output_type": "display_data"
    },
    {
     "data": {
      "application/vnd.jupyter.widget-view+json": {
       "model_id": "b8f0c52945e7469c88a799ec01a29aad",
       "version_major": 2,
       "version_minor": 0
      },
      "text/plain": [
       "Downloading data:   0%|          | 0.00/27.1M [00:00<?, ?B/s]"
      ]
     },
     "metadata": {},
     "output_type": "display_data"
    },
    {
     "data": {
      "application/vnd.jupyter.widget-view+json": {
       "model_id": "40f30d4b26ae417a8d8e902a45619e1a",
       "version_major": 2,
       "version_minor": 0
      },
      "text/plain": [
       "Downloading data:   0%|          | 0.00/10.7M [00:00<?, ?B/s]"
      ]
     },
     "metadata": {},
     "output_type": "display_data"
    },
    {
     "data": {
      "application/vnd.jupyter.widget-view+json": {
       "model_id": "8de69303ad2644edb9ff3737db7388c1",
       "version_major": 2,
       "version_minor": 0
      },
      "text/plain": [
       "Downloading data:   0%|          | 0.00/9.91M [00:00<?, ?B/s]"
      ]
     },
     "metadata": {},
     "output_type": "display_data"
    },
    {
     "data": {
      "application/vnd.jupyter.widget-view+json": {
       "model_id": "54c08e6c939e490d9b77a2f8c9fc0017",
       "version_major": 2,
       "version_minor": 0
      },
      "text/plain": [
       "Downloading data:   0%|          | 0.00/15.2M [00:00<?, ?B/s]"
      ]
     },
     "metadata": {},
     "output_type": "display_data"
    },
    {
     "data": {
      "application/vnd.jupyter.widget-view+json": {
       "model_id": "6da839bc02bd4047952ac9b1b8caa3f8",
       "version_major": 2,
       "version_minor": 0
      },
      "text/plain": [
       "Downloading data:   0%|          | 0.00/25.4M [00:00<?, ?B/s]"
      ]
     },
     "metadata": {},
     "output_type": "display_data"
    },
    {
     "data": {
      "application/vnd.jupyter.widget-view+json": {
       "model_id": "d32d3e4f682f4a519fe8561696a25abd",
       "version_major": 2,
       "version_minor": 0
      },
      "text/plain": [
       "Downloading data:   0%|          | 0.00/19.6M [00:00<?, ?B/s]"
      ]
     },
     "metadata": {},
     "output_type": "display_data"
    },
    {
     "data": {
      "application/vnd.jupyter.widget-view+json": {
       "model_id": "4d23db6cd3524df3bbf65e2c5280c593",
       "version_major": 2,
       "version_minor": 0
      },
      "text/plain": [
       "Downloading data:   0%|          | 0.00/11.2M [00:00<?, ?B/s]"
      ]
     },
     "metadata": {},
     "output_type": "display_data"
    },
    {
     "data": {
      "application/vnd.jupyter.widget-view+json": {
       "model_id": "769f52db97494a76b98ce32e689cb519",
       "version_major": 2,
       "version_minor": 0
      },
      "text/plain": [
       "Downloading data:   0%|          | 0.00/9.25M [00:00<?, ?B/s]"
      ]
     },
     "metadata": {},
     "output_type": "display_data"
    },
    {
     "data": {
      "application/vnd.jupyter.widget-view+json": {
       "model_id": "3044ec92e1734f64b1f6578443326cc7",
       "version_major": 2,
       "version_minor": 0
      },
      "text/plain": [
       "Downloading data:   0%|          | 0.00/28.3M [00:00<?, ?B/s]"
      ]
     },
     "metadata": {},
     "output_type": "display_data"
    },
    {
     "data": {
      "application/vnd.jupyter.widget-view+json": {
       "model_id": "49ba5ff8bc3f42d081964f2a3e746ab7",
       "version_major": 2,
       "version_minor": 0
      },
      "text/plain": [
       "Downloading data:   0%|          | 0.00/10.1M [00:00<?, ?B/s]"
      ]
     },
     "metadata": {},
     "output_type": "display_data"
    },
    {
     "data": {
      "application/vnd.jupyter.widget-view+json": {
       "model_id": "339c1138bfb446158f2a1ac97a5c623a",
       "version_major": 2,
       "version_minor": 0
      },
      "text/plain": [
       "Downloading data:   0%|          | 0.00/36.6M [00:00<?, ?B/s]"
      ]
     },
     "metadata": {},
     "output_type": "display_data"
    },
    {
     "data": {
      "application/vnd.jupyter.widget-view+json": {
       "model_id": "a5b9c9d16e904882a246c235e0f844fb",
       "version_major": 2,
       "version_minor": 0
      },
      "text/plain": [
       "Downloading data:   0%|          | 0.00/13.7M [00:00<?, ?B/s]"
      ]
     },
     "metadata": {},
     "output_type": "display_data"
    },
    {
     "data": {
      "application/vnd.jupyter.widget-view+json": {
       "model_id": "781c7d04038749aaa0d5df5383f429d0",
       "version_major": 2,
       "version_minor": 0
      },
      "text/plain": [
       "Downloading data:   0%|          | 0.00/15.9M [00:00<?, ?B/s]"
      ]
     },
     "metadata": {},
     "output_type": "display_data"
    },
    {
     "data": {
      "application/vnd.jupyter.widget-view+json": {
       "model_id": "ce7db81537774c04bd63dc6be7f94a04",
       "version_major": 2,
       "version_minor": 0
      },
      "text/plain": [
       "Downloading data:   0%|          | 0.00/12.4M [00:00<?, ?B/s]"
      ]
     },
     "metadata": {},
     "output_type": "display_data"
    },
    {
     "data": {
      "application/vnd.jupyter.widget-view+json": {
       "model_id": "160cf446497546f4b8425ec8e1a9f279",
       "version_major": 2,
       "version_minor": 0
      },
      "text/plain": [
       "Downloading data:   0%|          | 0.00/34.1M [00:00<?, ?B/s]"
      ]
     },
     "metadata": {},
     "output_type": "display_data"
    },
    {
     "data": {
      "application/vnd.jupyter.widget-view+json": {
       "model_id": "c77d31c061c54942acd1766d3911dd6b",
       "version_major": 2,
       "version_minor": 0
      },
      "text/plain": [
       "Downloading data:   0%|          | 0.00/8.66M [00:00<?, ?B/s]"
      ]
     },
     "metadata": {},
     "output_type": "display_data"
    },
    {
     "data": {
      "application/vnd.jupyter.widget-view+json": {
       "model_id": "e5906ece6ede4afaad892ccd3568ff0b",
       "version_major": 2,
       "version_minor": 0
      },
      "text/plain": [
       "Downloading data:   0%|          | 0.00/16.7M [00:00<?, ?B/s]"
      ]
     },
     "metadata": {},
     "output_type": "display_data"
    },
    {
     "data": {
      "application/vnd.jupyter.widget-view+json": {
       "model_id": "cad744c916a146eb80f4bf5d4e0ebec3",
       "version_major": 2,
       "version_minor": 0
      },
      "text/plain": [
       "Downloading data:   0%|          | 0.00/22.0M [00:00<?, ?B/s]"
      ]
     },
     "metadata": {},
     "output_type": "display_data"
    },
    {
     "data": {
      "application/vnd.jupyter.widget-view+json": {
       "model_id": "15566f8028c94b3b90723015c7158026",
       "version_major": 2,
       "version_minor": 0
      },
      "text/plain": [
       "Downloading data:   0%|          | 0.00/18.3M [00:00<?, ?B/s]"
      ]
     },
     "metadata": {},
     "output_type": "display_data"
    },
    {
     "data": {
      "application/vnd.jupyter.widget-view+json": {
       "model_id": "252ffc4b7c494f8ba1f414e1d17ce089",
       "version_major": 2,
       "version_minor": 0
      },
      "text/plain": [
       "Downloading data:   0%|          | 0.00/17.4M [00:00<?, ?B/s]"
      ]
     },
     "metadata": {},
     "output_type": "display_data"
    },
    {
     "data": {
      "application/vnd.jupyter.widget-view+json": {
       "model_id": "6fbb55fb768143bd9621d9814918a4ae",
       "version_major": 2,
       "version_minor": 0
      },
      "text/plain": [
       "Downloading data:   0%|          | 0.00/12.5M [00:00<?, ?B/s]"
      ]
     },
     "metadata": {},
     "output_type": "display_data"
    },
    {
     "data": {
      "application/vnd.jupyter.widget-view+json": {
       "model_id": "e3a1b310e9fa40479261e5871709fd5b",
       "version_major": 2,
       "version_minor": 0
      },
      "text/plain": [
       "Downloading data:   0%|          | 0.00/14.7M [00:00<?, ?B/s]"
      ]
     },
     "metadata": {},
     "output_type": "display_data"
    },
    {
     "data": {
      "application/vnd.jupyter.widget-view+json": {
       "model_id": "44d60ce994c641d1ab2b9036b172470f",
       "version_major": 2,
       "version_minor": 0
      },
      "text/plain": [
       "Downloading data:   0%|          | 0.00/9.83M [00:00<?, ?B/s]"
      ]
     },
     "metadata": {},
     "output_type": "display_data"
    },
    {
     "data": {
      "application/vnd.jupyter.widget-view+json": {
       "model_id": "54a36f88f159433fa0646926d7e92acf",
       "version_major": 2,
       "version_minor": 0
      },
      "text/plain": [
       "Downloading data:   0%|          | 0.00/11.2M [00:00<?, ?B/s]"
      ]
     },
     "metadata": {},
     "output_type": "display_data"
    },
    {
     "data": {
      "application/vnd.jupyter.widget-view+json": {
       "model_id": "63d288a24c3c44e0ba864ad97723b659",
       "version_major": 2,
       "version_minor": 0
      },
      "text/plain": [
       "Downloading data:   0%|          | 0.00/30.0M [00:00<?, ?B/s]"
      ]
     },
     "metadata": {},
     "output_type": "display_data"
    },
    {
     "data": {
      "application/vnd.jupyter.widget-view+json": {
       "model_id": "ee94807e61b84782904c0ec4959a1ac1",
       "version_major": 2,
       "version_minor": 0
      },
      "text/plain": [
       "Downloading data:   0%|          | 0.00/20.7M [00:00<?, ?B/s]"
      ]
     },
     "metadata": {},
     "output_type": "display_data"
    },
    {
     "data": {
      "application/vnd.jupyter.widget-view+json": {
       "model_id": "4b0b12542fab4158b3511157323247d9",
       "version_major": 2,
       "version_minor": 0
      },
      "text/plain": [
       "Downloading data:   0%|          | 0.00/12.8M [00:00<?, ?B/s]"
      ]
     },
     "metadata": {},
     "output_type": "display_data"
    },
    {
     "data": {
      "application/vnd.jupyter.widget-view+json": {
       "model_id": "fd7c701525b24fdd88c1fd9c86082dd0",
       "version_major": 2,
       "version_minor": 0
      },
      "text/plain": [
       "Downloading data:   0%|          | 0.00/25.3M [00:00<?, ?B/s]"
      ]
     },
     "metadata": {},
     "output_type": "display_data"
    },
    {
     "data": {
      "application/vnd.jupyter.widget-view+json": {
       "model_id": "503dbc6192b84846a644df6a30788702",
       "version_major": 2,
       "version_minor": 0
      },
      "text/plain": [
       "Downloading data:   0%|          | 0.00/24.6M [00:00<?, ?B/s]"
      ]
     },
     "metadata": {},
     "output_type": "display_data"
    },
    {
     "data": {
      "application/vnd.jupyter.widget-view+json": {
       "model_id": "cee90f129ba046ed83efbc35a49ee997",
       "version_major": 2,
       "version_minor": 0
      },
      "text/plain": [
       "Downloading data:   0%|          | 0.00/17.7M [00:00<?, ?B/s]"
      ]
     },
     "metadata": {},
     "output_type": "display_data"
    },
    {
     "data": {
      "application/vnd.jupyter.widget-view+json": {
       "model_id": "bbdbdc22668d4e89aef7ac45fd372187",
       "version_major": 2,
       "version_minor": 0
      },
      "text/plain": [
       "Downloading data:   0%|          | 0.00/16.7M [00:00<?, ?B/s]"
      ]
     },
     "metadata": {},
     "output_type": "display_data"
    },
    {
     "data": {
      "application/vnd.jupyter.widget-view+json": {
       "model_id": "2af8641eb767417cab2802af8b3e9dd0",
       "version_major": 2,
       "version_minor": 0
      },
      "text/plain": [
       "Downloading data:   0%|          | 0.00/9.82M [00:00<?, ?B/s]"
      ]
     },
     "metadata": {},
     "output_type": "display_data"
    },
    {
     "data": {
      "application/vnd.jupyter.widget-view+json": {
       "model_id": "f77c5fdf7f0a472884eba9119a61d16e",
       "version_major": 2,
       "version_minor": 0
      },
      "text/plain": [
       "Downloading data:   0%|          | 0.00/14.0M [00:00<?, ?B/s]"
      ]
     },
     "metadata": {},
     "output_type": "display_data"
    },
    {
     "data": {
      "application/vnd.jupyter.widget-view+json": {
       "model_id": "177a2546e3314be785f1f837035e030e",
       "version_major": 2,
       "version_minor": 0
      },
      "text/plain": [
       "Downloading data:   0%|          | 0.00/14.1M [00:00<?, ?B/s]"
      ]
     },
     "metadata": {},
     "output_type": "display_data"
    },
    {
     "data": {
      "application/vnd.jupyter.widget-view+json": {
       "model_id": "9c094d3e27fb4afcba15c5be160e716d",
       "version_major": 2,
       "version_minor": 0
      },
      "text/plain": [
       "Downloading data:   0%|          | 0.00/23.9M [00:00<?, ?B/s]"
      ]
     },
     "metadata": {},
     "output_type": "display_data"
    },
    {
     "data": {
      "application/vnd.jupyter.widget-view+json": {
       "model_id": "ed82a739dd7146b4939988d2587f705c",
       "version_major": 2,
       "version_minor": 0
      },
      "text/plain": [
       "Downloading data:   0%|          | 0.00/12.6M [00:00<?, ?B/s]"
      ]
     },
     "metadata": {},
     "output_type": "display_data"
    },
    {
     "data": {
      "application/vnd.jupyter.widget-view+json": {
       "model_id": "5173fcc5ad1049fca9932140862f92f4",
       "version_major": 2,
       "version_minor": 0
      },
      "text/plain": [
       "Downloading data:   0%|          | 0.00/10.8M [00:00<?, ?B/s]"
      ]
     },
     "metadata": {},
     "output_type": "display_data"
    },
    {
     "data": {
      "application/vnd.jupyter.widget-view+json": {
       "model_id": "d5cf526cde6e43e9b94f3efe2c6c6aba",
       "version_major": 2,
       "version_minor": 0
      },
      "text/plain": [
       "Downloading data:   0%|          | 0.00/16.8M [00:00<?, ?B/s]"
      ]
     },
     "metadata": {},
     "output_type": "display_data"
    },
    {
     "data": {
      "application/vnd.jupyter.widget-view+json": {
       "model_id": "a111226a215d405eae0e90ab1d4c2411",
       "version_major": 2,
       "version_minor": 0
      },
      "text/plain": [
       "Downloading data:   0%|          | 0.00/16.7M [00:00<?, ?B/s]"
      ]
     },
     "metadata": {},
     "output_type": "display_data"
    },
    {
     "data": {
      "application/vnd.jupyter.widget-view+json": {
       "model_id": "ab8f6993862a4cdb8442b4ef4827ff33",
       "version_major": 2,
       "version_minor": 0
      },
      "text/plain": [
       "Downloading data:   0%|          | 0.00/11.1M [00:00<?, ?B/s]"
      ]
     },
     "metadata": {},
     "output_type": "display_data"
    },
    {
     "data": {
      "application/vnd.jupyter.widget-view+json": {
       "model_id": "c1d854f5ed5845568264839461235c38",
       "version_major": 2,
       "version_minor": 0
      },
      "text/plain": [
       "Downloading data:   0%|          | 0.00/17.5M [00:00<?, ?B/s]"
      ]
     },
     "metadata": {},
     "output_type": "display_data"
    },
    {
     "data": {
      "application/vnd.jupyter.widget-view+json": {
       "model_id": "81a1904d47d04b088c4fe7b7bddf3bb6",
       "version_major": 2,
       "version_minor": 0
      },
      "text/plain": [
       "Downloading data:   0%|          | 0.00/12.1M [00:00<?, ?B/s]"
      ]
     },
     "metadata": {},
     "output_type": "display_data"
    },
    {
     "data": {
      "application/vnd.jupyter.widget-view+json": {
       "model_id": "fcf17db3069e401480a6c3ef36f654a0",
       "version_major": 2,
       "version_minor": 0
      },
      "text/plain": [
       "Downloading data:   0%|          | 0.00/13.2M [00:00<?, ?B/s]"
      ]
     },
     "metadata": {},
     "output_type": "display_data"
    },
    {
     "data": {
      "application/vnd.jupyter.widget-view+json": {
       "model_id": "3124e19b00c548c2b69d7ef20794a81b",
       "version_major": 2,
       "version_minor": 0
      },
      "text/plain": [
       "Downloading data:   0%|          | 0.00/19.6M [00:00<?, ?B/s]"
      ]
     },
     "metadata": {},
     "output_type": "display_data"
    },
    {
     "data": {
      "application/vnd.jupyter.widget-view+json": {
       "model_id": "85697965fd2c40efb1afca0c50a86c06",
       "version_major": 2,
       "version_minor": 0
      },
      "text/plain": [
       "Downloading data:   0%|          | 0.00/15.3M [00:00<?, ?B/s]"
      ]
     },
     "metadata": {},
     "output_type": "display_data"
    },
    {
     "data": {
      "application/vnd.jupyter.widget-view+json": {
       "model_id": "139efad405364fff8f38e806611ad3f2",
       "version_major": 2,
       "version_minor": 0
      },
      "text/plain": [
       "Downloading data:   0%|          | 0.00/27.7M [00:00<?, ?B/s]"
      ]
     },
     "metadata": {},
     "output_type": "display_data"
    },
    {
     "data": {
      "application/vnd.jupyter.widget-view+json": {
       "model_id": "fa458c56438c4d249f68d70f1999ae24",
       "version_major": 2,
       "version_minor": 0
      },
      "text/plain": [
       "Downloading data:   0%|          | 0.00/10.2M [00:00<?, ?B/s]"
      ]
     },
     "metadata": {},
     "output_type": "display_data"
    },
    {
     "data": {
      "application/vnd.jupyter.widget-view+json": {
       "model_id": "a7b54d5d9fdd48f69a1fb3ab3aade581",
       "version_major": 2,
       "version_minor": 0
      },
      "text/plain": [
       "Downloading data:   0%|          | 0.00/18.8M [00:00<?, ?B/s]"
      ]
     },
     "metadata": {},
     "output_type": "display_data"
    },
    {
     "data": {
      "application/vnd.jupyter.widget-view+json": {
       "model_id": "a79f2e1bbd7e4dd9b2569331517eabd7",
       "version_major": 2,
       "version_minor": 0
      },
      "text/plain": [
       "Downloading data:   0%|          | 0.00/9.88M [00:00<?, ?B/s]"
      ]
     },
     "metadata": {},
     "output_type": "display_data"
    },
    {
     "data": {
      "application/vnd.jupyter.widget-view+json": {
       "model_id": "448a5c5801284a038659ace5a57e290d",
       "version_major": 2,
       "version_minor": 0
      },
      "text/plain": [
       "Downloading data:   0%|          | 0.00/12.2M [00:00<?, ?B/s]"
      ]
     },
     "metadata": {},
     "output_type": "display_data"
    },
    {
     "data": {
      "application/vnd.jupyter.widget-view+json": {
       "model_id": "bf23e0933b1d4e8ea08d2f62d28da2e2",
       "version_major": 2,
       "version_minor": 0
      },
      "text/plain": [
       "Downloading data:   0%|          | 0.00/22.0M [00:00<?, ?B/s]"
      ]
     },
     "metadata": {},
     "output_type": "display_data"
    },
    {
     "data": {
      "application/vnd.jupyter.widget-view+json": {
       "model_id": "ea5bf206f0c14b58a1981763e9b42c6d",
       "version_major": 2,
       "version_minor": 0
      },
      "text/plain": [
       "Downloading data:   0%|          | 0.00/10.2M [00:00<?, ?B/s]"
      ]
     },
     "metadata": {},
     "output_type": "display_data"
    },
    {
     "data": {
      "application/vnd.jupyter.widget-view+json": {
       "model_id": "342f6880e6014f0a8aeeeba86ec1cc61",
       "version_major": 2,
       "version_minor": 0
      },
      "text/plain": [
       "Downloading data:   0%|          | 0.00/9.62M [00:00<?, ?B/s]"
      ]
     },
     "metadata": {},
     "output_type": "display_data"
    },
    {
     "data": {
      "application/vnd.jupyter.widget-view+json": {
       "model_id": "253501196df144d9ab2168f385fdfb9d",
       "version_major": 2,
       "version_minor": 0
      },
      "text/plain": [
       "Downloading data:   0%|          | 0.00/9.25M [00:00<?, ?B/s]"
      ]
     },
     "metadata": {},
     "output_type": "display_data"
    },
    {
     "data": {
      "application/vnd.jupyter.widget-view+json": {
       "model_id": "c6abf8ac94b348c183a5ea30956bfa9b",
       "version_major": 2,
       "version_minor": 0
      },
      "text/plain": [
       "Downloading data:   0%|          | 0.00/29.5M [00:00<?, ?B/s]"
      ]
     },
     "metadata": {},
     "output_type": "display_data"
    },
    {
     "data": {
      "application/vnd.jupyter.widget-view+json": {
       "model_id": "1dd68ddb1bcc4722819b30bb9c8de4b0",
       "version_major": 2,
       "version_minor": 0
      },
      "text/plain": [
       "Downloading data:   0%|          | 0.00/12.6M [00:00<?, ?B/s]"
      ]
     },
     "metadata": {},
     "output_type": "display_data"
    },
    {
     "data": {
      "application/vnd.jupyter.widget-view+json": {
       "model_id": "24814dada59645ce8e8c4b796fc25cb7",
       "version_major": 2,
       "version_minor": 0
      },
      "text/plain": [
       "Downloading data:   0%|          | 0.00/19.3M [00:00<?, ?B/s]"
      ]
     },
     "metadata": {},
     "output_type": "display_data"
    },
    {
     "data": {
      "application/vnd.jupyter.widget-view+json": {
       "model_id": "ce44ea64ca844851af55aa7a30a79f3c",
       "version_major": 2,
       "version_minor": 0
      },
      "text/plain": [
       "Downloading data:   0%|          | 0.00/13.3M [00:00<?, ?B/s]"
      ]
     },
     "metadata": {},
     "output_type": "display_data"
    },
    {
     "data": {
      "application/vnd.jupyter.widget-view+json": {
       "model_id": "20424879d7154fe0ba3e55bd73371ae4",
       "version_major": 2,
       "version_minor": 0
      },
      "text/plain": [
       "Downloading data:   0%|          | 0.00/13.1M [00:00<?, ?B/s]"
      ]
     },
     "metadata": {},
     "output_type": "display_data"
    },
    {
     "data": {
      "application/vnd.jupyter.widget-view+json": {
       "model_id": "9d9417995877446b976d746d7e86a39d",
       "version_major": 2,
       "version_minor": 0
      },
      "text/plain": [
       "Downloading data:   0%|          | 0.00/13.9M [00:00<?, ?B/s]"
      ]
     },
     "metadata": {},
     "output_type": "display_data"
    },
    {
     "data": {
      "application/vnd.jupyter.widget-view+json": {
       "model_id": "6cb14c6878b74834b9540af7d903c048",
       "version_major": 2,
       "version_minor": 0
      },
      "text/plain": [
       "Downloading data:   0%|          | 0.00/18.2M [00:00<?, ?B/s]"
      ]
     },
     "metadata": {},
     "output_type": "display_data"
    },
    {
     "data": {
      "application/vnd.jupyter.widget-view+json": {
       "model_id": "5f452444519446ca9b35dcba29e0e019",
       "version_major": 2,
       "version_minor": 0
      },
      "text/plain": [
       "Downloading data:   0%|          | 0.00/11.1M [00:00<?, ?B/s]"
      ]
     },
     "metadata": {},
     "output_type": "display_data"
    },
    {
     "data": {
      "application/vnd.jupyter.widget-view+json": {
       "model_id": "a11b7da84dfc4c66ae3b909c48404abd",
       "version_major": 2,
       "version_minor": 0
      },
      "text/plain": [
       "Downloading data:   0%|          | 0.00/19.1M [00:00<?, ?B/s]"
      ]
     },
     "metadata": {},
     "output_type": "display_data"
    },
    {
     "data": {
      "application/vnd.jupyter.widget-view+json": {
       "model_id": "07bcc575d04b4c95a7a7efd347b53350",
       "version_major": 2,
       "version_minor": 0
      },
      "text/plain": [
       "Downloading data:   0%|          | 0.00/11.3M [00:00<?, ?B/s]"
      ]
     },
     "metadata": {},
     "output_type": "display_data"
    },
    {
     "data": {
      "application/vnd.jupyter.widget-view+json": {
       "model_id": "6cb59b39596f492f8af2161539a94e72",
       "version_major": 2,
       "version_minor": 0
      },
      "text/plain": [
       "Downloading data:   0%|          | 0.00/40.7M [00:00<?, ?B/s]"
      ]
     },
     "metadata": {},
     "output_type": "display_data"
    },
    {
     "data": {
      "application/vnd.jupyter.widget-view+json": {
       "model_id": "290a6e23664d4db880fdb02ae74ab2c3",
       "version_major": 2,
       "version_minor": 0
      },
      "text/plain": [
       "Downloading data:   0%|          | 0.00/23.9M [00:00<?, ?B/s]"
      ]
     },
     "metadata": {},
     "output_type": "display_data"
    },
    {
     "data": {
      "application/vnd.jupyter.widget-view+json": {
       "model_id": "162b3edc760a448995fd816dab4da250",
       "version_major": 2,
       "version_minor": 0
      },
      "text/plain": [
       "Downloading data:   0%|          | 0.00/17.3M [00:00<?, ?B/s]"
      ]
     },
     "metadata": {},
     "output_type": "display_data"
    },
    {
     "data": {
      "application/vnd.jupyter.widget-view+json": {
       "model_id": "33f722a5389740059ab2fdc50d2b9c26",
       "version_major": 2,
       "version_minor": 0
      },
      "text/plain": [
       "Downloading data:   0%|          | 0.00/20.7M [00:00<?, ?B/s]"
      ]
     },
     "metadata": {},
     "output_type": "display_data"
    },
    {
     "data": {
      "application/vnd.jupyter.widget-view+json": {
       "model_id": "19550497d7dc4b0fb2a6113d7a22ceb2",
       "version_major": 2,
       "version_minor": 0
      },
      "text/plain": [
       "Downloading data:   0%|          | 0.00/30.7M [00:00<?, ?B/s]"
      ]
     },
     "metadata": {},
     "output_type": "display_data"
    },
    {
     "data": {
      "application/vnd.jupyter.widget-view+json": {
       "model_id": "5e8c194e651148a192015da030a63b6e",
       "version_major": 2,
       "version_minor": 0
      },
      "text/plain": [
       "Downloading data:   0%|          | 0.00/8.94M [00:00<?, ?B/s]"
      ]
     },
     "metadata": {},
     "output_type": "display_data"
    },
    {
     "data": {
      "application/vnd.jupyter.widget-view+json": {
       "model_id": "848b0785b95945fbb4532ada9a43fdc5",
       "version_major": 2,
       "version_minor": 0
      },
      "text/plain": [
       "Downloading data:   0%|          | 0.00/20.6M [00:00<?, ?B/s]"
      ]
     },
     "metadata": {},
     "output_type": "display_data"
    },
    {
     "data": {
      "application/vnd.jupyter.widget-view+json": {
       "model_id": "fd0716c618e74bfba84e6f74ad5668f5",
       "version_major": 2,
       "version_minor": 0
      },
      "text/plain": [
       "Downloading data:   0%|          | 0.00/7.01M [00:00<?, ?B/s]"
      ]
     },
     "metadata": {},
     "output_type": "display_data"
    },
    {
     "data": {
      "application/vnd.jupyter.widget-view+json": {
       "model_id": "d1eef1c12d2b463b844b97ee420baede",
       "version_major": 2,
       "version_minor": 0
      },
      "text/plain": [
       "Downloading data:   0%|          | 0.00/11.1M [00:00<?, ?B/s]"
      ]
     },
     "metadata": {},
     "output_type": "display_data"
    },
    {
     "data": {
      "application/vnd.jupyter.widget-view+json": {
       "model_id": "552c49089219424a9230085f51498a3a",
       "version_major": 2,
       "version_minor": 0
      },
      "text/plain": [
       "Downloading data:   0%|          | 0.00/27.1M [00:00<?, ?B/s]"
      ]
     },
     "metadata": {},
     "output_type": "display_data"
    },
    {
     "data": {
      "application/vnd.jupyter.widget-view+json": {
       "model_id": "6695415150054ca6829fc67d2196b987",
       "version_major": 2,
       "version_minor": 0
      },
      "text/plain": [
       "Downloading data:   0%|          | 0.00/6.98M [00:00<?, ?B/s]"
      ]
     },
     "metadata": {},
     "output_type": "display_data"
    },
    {
     "data": {
      "application/vnd.jupyter.widget-view+json": {
       "model_id": "36d5d1a86c654dd5b53a805373d8b72b",
       "version_major": 2,
       "version_minor": 0
      },
      "text/plain": [
       "Downloading data:   0%|          | 0.00/9.86M [00:00<?, ?B/s]"
      ]
     },
     "metadata": {},
     "output_type": "display_data"
    },
    {
     "data": {
      "application/vnd.jupyter.widget-view+json": {
       "model_id": "95397380f0ec429cbd490ddcca9ff3b5",
       "version_major": 2,
       "version_minor": 0
      },
      "text/plain": [
       "Downloading data:   0%|          | 0.00/14.2M [00:00<?, ?B/s]"
      ]
     },
     "metadata": {},
     "output_type": "display_data"
    },
    {
     "data": {
      "application/vnd.jupyter.widget-view+json": {
       "model_id": "34ce7af9318f4b1bb7e78c6c700c6fc7",
       "version_major": 2,
       "version_minor": 0
      },
      "text/plain": [
       "Downloading data:   0%|          | 0.00/17.7M [00:00<?, ?B/s]"
      ]
     },
     "metadata": {},
     "output_type": "display_data"
    },
    {
     "data": {
      "application/vnd.jupyter.widget-view+json": {
       "model_id": "5a0afac1c5784ba1b9ee9a4f50e68968",
       "version_major": 2,
       "version_minor": 0
      },
      "text/plain": [
       "Downloading data:   0%|          | 0.00/18.0M [00:00<?, ?B/s]"
      ]
     },
     "metadata": {},
     "output_type": "display_data"
    },
    {
     "data": {
      "application/vnd.jupyter.widget-view+json": {
       "model_id": "55a66ff26a554ba5844f1aa84fc9abb4",
       "version_major": 2,
       "version_minor": 0
      },
      "text/plain": [
       "Downloading data:   0%|          | 0.00/10.5M [00:00<?, ?B/s]"
      ]
     },
     "metadata": {},
     "output_type": "display_data"
    },
    {
     "data": {
      "application/vnd.jupyter.widget-view+json": {
       "model_id": "07182f1d67e64f3db668cf4695a244a5",
       "version_major": 2,
       "version_minor": 0
      },
      "text/plain": [
       "Downloading data:   0%|          | 0.00/14.8M [00:00<?, ?B/s]"
      ]
     },
     "metadata": {},
     "output_type": "display_data"
    },
    {
     "data": {
      "application/vnd.jupyter.widget-view+json": {
       "model_id": "cebad9793fca4bd5b0d8a464c57c5ed4",
       "version_major": 2,
       "version_minor": 0
      },
      "text/plain": [
       "Downloading data:   0%|          | 0.00/21.5M [00:00<?, ?B/s]"
      ]
     },
     "metadata": {},
     "output_type": "display_data"
    },
    {
     "data": {
      "application/vnd.jupyter.widget-view+json": {
       "model_id": "11574cb9f3434335b11186ba80a11eb2",
       "version_major": 2,
       "version_minor": 0
      },
      "text/plain": [
       "Downloading data:   0%|          | 0.00/17.1M [00:00<?, ?B/s]"
      ]
     },
     "metadata": {},
     "output_type": "display_data"
    },
    {
     "data": {
      "application/vnd.jupyter.widget-view+json": {
       "model_id": "0abd7dc5401e43c3a0dd3768a5a01525",
       "version_major": 2,
       "version_minor": 0
      },
      "text/plain": [
       "Downloading data:   0%|          | 0.00/9.46M [00:00<?, ?B/s]"
      ]
     },
     "metadata": {},
     "output_type": "display_data"
    },
    {
     "data": {
      "application/vnd.jupyter.widget-view+json": {
       "model_id": "17aa798d56a04e6c84a38ace337a4520",
       "version_major": 2,
       "version_minor": 0
      },
      "text/plain": [
       "Downloading data:   0%|          | 0.00/10.5M [00:00<?, ?B/s]"
      ]
     },
     "metadata": {},
     "output_type": "display_data"
    },
    {
     "data": {
      "application/vnd.jupyter.widget-view+json": {
       "model_id": "62529f65ed66472889754b6ed43b78cd",
       "version_major": 2,
       "version_minor": 0
      },
      "text/plain": [
       "Downloading data:   0%|          | 0.00/13.4M [00:00<?, ?B/s]"
      ]
     },
     "metadata": {},
     "output_type": "display_data"
    },
    {
     "data": {
      "application/vnd.jupyter.widget-view+json": {
       "model_id": "a6c44c291dc044cdae30feb1a20618bb",
       "version_major": 2,
       "version_minor": 0
      },
      "text/plain": [
       "Downloading data:   0%|          | 0.00/9.31M [00:00<?, ?B/s]"
      ]
     },
     "metadata": {},
     "output_type": "display_data"
    },
    {
     "data": {
      "application/vnd.jupyter.widget-view+json": {
       "model_id": "ec29d20cb92d4946a66ef4bef0d68dc3",
       "version_major": 2,
       "version_minor": 0
      },
      "text/plain": [
       "Downloading data:   0%|          | 0.00/15.9M [00:00<?, ?B/s]"
      ]
     },
     "metadata": {},
     "output_type": "display_data"
    },
    {
     "data": {
      "application/vnd.jupyter.widget-view+json": {
       "model_id": "edacdb55bcea489b9b2477bc895d8836",
       "version_major": 2,
       "version_minor": 0
      },
      "text/plain": [
       "Downloading data:   0%|          | 0.00/17.2M [00:00<?, ?B/s]"
      ]
     },
     "metadata": {},
     "output_type": "display_data"
    },
    {
     "data": {
      "application/vnd.jupyter.widget-view+json": {
       "model_id": "224a421f0d9c417eb436bf7fae576123",
       "version_major": 2,
       "version_minor": 0
      },
      "text/plain": [
       "Downloading data:   0%|          | 0.00/10.8M [00:00<?, ?B/s]"
      ]
     },
     "metadata": {},
     "output_type": "display_data"
    },
    {
     "data": {
      "application/vnd.jupyter.widget-view+json": {
       "model_id": "e06a96dc032d4c1da1368f0d99c96070",
       "version_major": 2,
       "version_minor": 0
      },
      "text/plain": [
       "Downloading data:   0%|          | 0.00/8.85M [00:00<?, ?B/s]"
      ]
     },
     "metadata": {},
     "output_type": "display_data"
    },
    {
     "data": {
      "application/vnd.jupyter.widget-view+json": {
       "model_id": "dde90bd000cc4a4e81e88938317a2c0a",
       "version_major": 2,
       "version_minor": 0
      },
      "text/plain": [
       "Downloading data:   0%|          | 0.00/9.94M [00:00<?, ?B/s]"
      ]
     },
     "metadata": {},
     "output_type": "display_data"
    },
    {
     "data": {
      "application/vnd.jupyter.widget-view+json": {
       "model_id": "5b51843d5e9d49159e7954945ab01be5",
       "version_major": 2,
       "version_minor": 0
      },
      "text/plain": [
       "Downloading data:   0%|          | 0.00/13.4M [00:00<?, ?B/s]"
      ]
     },
     "metadata": {},
     "output_type": "display_data"
    },
    {
     "data": {
      "application/vnd.jupyter.widget-view+json": {
       "model_id": "836d6e21280e47b6a4e1271189519a7c",
       "version_major": 2,
       "version_minor": 0
      },
      "text/plain": [
       "Downloading data:   0%|          | 0.00/9.87M [00:00<?, ?B/s]"
      ]
     },
     "metadata": {},
     "output_type": "display_data"
    },
    {
     "data": {
      "application/vnd.jupyter.widget-view+json": {
       "model_id": "f8b6e43514e14fc2bd1d83148c1d6fe5",
       "version_major": 2,
       "version_minor": 0
      },
      "text/plain": [
       "Downloading data:   0%|          | 0.00/9.75M [00:00<?, ?B/s]"
      ]
     },
     "metadata": {},
     "output_type": "display_data"
    },
    {
     "data": {
      "application/vnd.jupyter.widget-view+json": {
       "model_id": "676d208e7811482b94ded956e5f82280",
       "version_major": 2,
       "version_minor": 0
      },
      "text/plain": [
       "Downloading data:   0%|          | 0.00/15.0M [00:00<?, ?B/s]"
      ]
     },
     "metadata": {},
     "output_type": "display_data"
    },
    {
     "data": {
      "application/vnd.jupyter.widget-view+json": {
       "model_id": "d9d05e18f7544b5981171f5488118c84",
       "version_major": 2,
       "version_minor": 0
      },
      "text/plain": [
       "Downloading data:   0%|          | 0.00/34.9M [00:00<?, ?B/s]"
      ]
     },
     "metadata": {},
     "output_type": "display_data"
    },
    {
     "data": {
      "application/vnd.jupyter.widget-view+json": {
       "model_id": "af471f8b26c64d36bc41bfb69f8128a3",
       "version_major": 2,
       "version_minor": 0
      },
      "text/plain": [
       "Downloading data:   0%|          | 0.00/16.8M [00:00<?, ?B/s]"
      ]
     },
     "metadata": {},
     "output_type": "display_data"
    },
    {
     "data": {
      "application/vnd.jupyter.widget-view+json": {
       "model_id": "80c6707daea9415ea38eee9cb42c2b60",
       "version_major": 2,
       "version_minor": 0
      },
      "text/plain": [
       "Downloading data:   0%|          | 0.00/13.3M [00:00<?, ?B/s]"
      ]
     },
     "metadata": {},
     "output_type": "display_data"
    },
    {
     "data": {
      "application/vnd.jupyter.widget-view+json": {
       "model_id": "a53189966073431b8ff0f5098784d734",
       "version_major": 2,
       "version_minor": 0
      },
      "text/plain": [
       "Downloading data:   0%|          | 0.00/31.8M [00:00<?, ?B/s]"
      ]
     },
     "metadata": {},
     "output_type": "display_data"
    },
    {
     "data": {
      "application/vnd.jupyter.widget-view+json": {
       "model_id": "205f77db5d0f4c459de8b51c40317687",
       "version_major": 2,
       "version_minor": 0
      },
      "text/plain": [
       "Downloading data:   0%|          | 0.00/9.26M [00:00<?, ?B/s]"
      ]
     },
     "metadata": {},
     "output_type": "display_data"
    },
    {
     "data": {
      "application/vnd.jupyter.widget-view+json": {
       "model_id": "1eded6bca6bf4b5f8d20fd6455ef40c6",
       "version_major": 2,
       "version_minor": 0
      },
      "text/plain": [
       "Downloading data:   0%|          | 0.00/11.2M [00:00<?, ?B/s]"
      ]
     },
     "metadata": {},
     "output_type": "display_data"
    },
    {
     "data": {
      "application/vnd.jupyter.widget-view+json": {
       "model_id": "9358e7d5f4534851b63f614bea3f82aa",
       "version_major": 2,
       "version_minor": 0
      },
      "text/plain": [
       "Downloading data:   0%|          | 0.00/21.1M [00:00<?, ?B/s]"
      ]
     },
     "metadata": {},
     "output_type": "display_data"
    },
    {
     "data": {
      "application/vnd.jupyter.widget-view+json": {
       "model_id": "96fa6c828fb64f789426ce8b62c97b08",
       "version_major": 2,
       "version_minor": 0
      },
      "text/plain": [
       "Downloading data:   0%|          | 0.00/19.9M [00:00<?, ?B/s]"
      ]
     },
     "metadata": {},
     "output_type": "display_data"
    },
    {
     "data": {
      "application/vnd.jupyter.widget-view+json": {
       "model_id": "c051def8564d40879bedbe40e8a1b0ec",
       "version_major": 2,
       "version_minor": 0
      },
      "text/plain": [
       "Downloading data:   0%|          | 0.00/23.9M [00:00<?, ?B/s]"
      ]
     },
     "metadata": {},
     "output_type": "display_data"
    },
    {
     "data": {
      "application/vnd.jupyter.widget-view+json": {
       "model_id": "c5393534a620415bbf2223071242680e",
       "version_major": 2,
       "version_minor": 0
      },
      "text/plain": [
       "Downloading data:   0%|          | 0.00/14.5M [00:00<?, ?B/s]"
      ]
     },
     "metadata": {},
     "output_type": "display_data"
    },
    {
     "data": {
      "application/vnd.jupyter.widget-view+json": {
       "model_id": "56aedd0efe3e44bc8c807ddff171e8c9",
       "version_major": 2,
       "version_minor": 0
      },
      "text/plain": [
       "Downloading data:   0%|          | 0.00/15.6M [00:00<?, ?B/s]"
      ]
     },
     "metadata": {},
     "output_type": "display_data"
    },
    {
     "data": {
      "application/vnd.jupyter.widget-view+json": {
       "model_id": "aaa24cc8ed384affba8de1a42d44408a",
       "version_major": 2,
       "version_minor": 0
      },
      "text/plain": [
       "Downloading data:   0%|          | 0.00/14.8M [00:00<?, ?B/s]"
      ]
     },
     "metadata": {},
     "output_type": "display_data"
    },
    {
     "data": {
      "application/vnd.jupyter.widget-view+json": {
       "model_id": "920fa87a47694ba2bafb7447dc6655ca",
       "version_major": 2,
       "version_minor": 0
      },
      "text/plain": [
       "Downloading data:   0%|          | 0.00/10.9M [00:00<?, ?B/s]"
      ]
     },
     "metadata": {},
     "output_type": "display_data"
    },
    {
     "data": {
      "application/vnd.jupyter.widget-view+json": {
       "model_id": "16eda829cf9443bf9181e35fd117066b",
       "version_major": 2,
       "version_minor": 0
      },
      "text/plain": [
       "Downloading data:   0%|          | 0.00/11.9M [00:00<?, ?B/s]"
      ]
     },
     "metadata": {},
     "output_type": "display_data"
    },
    {
     "data": {
      "application/vnd.jupyter.widget-view+json": {
       "model_id": "48e36a7eeb1c496c90caa1a5526a5e62",
       "version_major": 2,
       "version_minor": 0
      },
      "text/plain": [
       "Downloading data:   0%|          | 0.00/11.9M [00:00<?, ?B/s]"
      ]
     },
     "metadata": {},
     "output_type": "display_data"
    },
    {
     "data": {
      "application/vnd.jupyter.widget-view+json": {
       "model_id": "04602c450ed84b2d91ab90c401743515",
       "version_major": 2,
       "version_minor": 0
      },
      "text/plain": [
       "Downloading data:   0%|          | 0.00/29.9M [00:00<?, ?B/s]"
      ]
     },
     "metadata": {},
     "output_type": "display_data"
    },
    {
     "data": {
      "application/vnd.jupyter.widget-view+json": {
       "model_id": "588ee52b95914b748a3afff3e2c3b500",
       "version_major": 2,
       "version_minor": 0
      },
      "text/plain": [
       "Downloading data:   0%|          | 0.00/17.1M [00:00<?, ?B/s]"
      ]
     },
     "metadata": {},
     "output_type": "display_data"
    },
    {
     "data": {
      "application/vnd.jupyter.widget-view+json": {
       "model_id": "ae9685a6e2b545949013ea4533e0397e",
       "version_major": 2,
       "version_minor": 0
      },
      "text/plain": [
       "Downloading data:   0%|          | 0.00/15.4M [00:00<?, ?B/s]"
      ]
     },
     "metadata": {},
     "output_type": "display_data"
    },
    {
     "data": {
      "application/vnd.jupyter.widget-view+json": {
       "model_id": "ded0ce0eac6949ceaf516a97f6cbd401",
       "version_major": 2,
       "version_minor": 0
      },
      "text/plain": [
       "Downloading data:   0%|          | 0.00/21.9M [00:00<?, ?B/s]"
      ]
     },
     "metadata": {},
     "output_type": "display_data"
    },
    {
     "data": {
      "application/vnd.jupyter.widget-view+json": {
       "model_id": "48a9f0c8896f457689916933bffe37de",
       "version_major": 2,
       "version_minor": 0
      },
      "text/plain": [
       "Downloading data:   0%|          | 0.00/20.5M [00:00<?, ?B/s]"
      ]
     },
     "metadata": {},
     "output_type": "display_data"
    },
    {
     "data": {
      "application/vnd.jupyter.widget-view+json": {
       "model_id": "9c0303f60e48440eb6d9e9953acd39bf",
       "version_major": 2,
       "version_minor": 0
      },
      "text/plain": [
       "Downloading data:   0%|          | 0.00/6.36M [00:00<?, ?B/s]"
      ]
     },
     "metadata": {},
     "output_type": "display_data"
    },
    {
     "data": {
      "application/vnd.jupyter.widget-view+json": {
       "model_id": "ffbd5cd9f7984188956871e8ca44d153",
       "version_major": 2,
       "version_minor": 0
      },
      "text/plain": [
       "Downloading data:   0%|          | 0.00/22.1M [00:00<?, ?B/s]"
      ]
     },
     "metadata": {},
     "output_type": "display_data"
    },
    {
     "data": {
      "application/vnd.jupyter.widget-view+json": {
       "model_id": "2c731c46fee743628b502e29c8f457b9",
       "version_major": 2,
       "version_minor": 0
      },
      "text/plain": [
       "Downloading data:   0%|          | 0.00/16.8M [00:00<?, ?B/s]"
      ]
     },
     "metadata": {},
     "output_type": "display_data"
    },
    {
     "data": {
      "application/vnd.jupyter.widget-view+json": {
       "model_id": "2b0bcd8505ae4f81961ef1a094c5f247",
       "version_major": 2,
       "version_minor": 0
      },
      "text/plain": [
       "Downloading data:   0%|          | 0.00/18.6M [00:00<?, ?B/s]"
      ]
     },
     "metadata": {},
     "output_type": "display_data"
    },
    {
     "data": {
      "application/vnd.jupyter.widget-view+json": {
       "model_id": "ea733d2504b24523855ff66b31618975",
       "version_major": 2,
       "version_minor": 0
      },
      "text/plain": [
       "Downloading data:   0%|          | 0.00/11.5M [00:00<?, ?B/s]"
      ]
     },
     "metadata": {},
     "output_type": "display_data"
    },
    {
     "data": {
      "application/vnd.jupyter.widget-view+json": {
       "model_id": "535d0cd70ee84879a4d6a3ca489d31f2",
       "version_major": 2,
       "version_minor": 0
      },
      "text/plain": [
       "Downloading data:   0%|          | 0.00/9.31M [00:00<?, ?B/s]"
      ]
     },
     "metadata": {},
     "output_type": "display_data"
    },
    {
     "data": {
      "application/vnd.jupyter.widget-view+json": {
       "model_id": "428b4da794694325ba5b9fa0513d34d1",
       "version_major": 2,
       "version_minor": 0
      },
      "text/plain": [
       "Downloading data:   0%|          | 0.00/21.7M [00:00<?, ?B/s]"
      ]
     },
     "metadata": {},
     "output_type": "display_data"
    },
    {
     "data": {
      "application/vnd.jupyter.widget-view+json": {
       "model_id": "5aa0e445fe4746cb826bf56edc9f4300",
       "version_major": 2,
       "version_minor": 0
      },
      "text/plain": [
       "Downloading data:   0%|          | 0.00/11.6M [00:00<?, ?B/s]"
      ]
     },
     "metadata": {},
     "output_type": "display_data"
    },
    {
     "data": {
      "application/vnd.jupyter.widget-view+json": {
       "model_id": "c1c78247fa9b453a95ddb1cc37f80117",
       "version_major": 2,
       "version_minor": 0
      },
      "text/plain": [
       "Downloading data:   0%|          | 0.00/26.6M [00:00<?, ?B/s]"
      ]
     },
     "metadata": {},
     "output_type": "display_data"
    },
    {
     "data": {
      "application/vnd.jupyter.widget-view+json": {
       "model_id": "0da953231146481a9d9a4e1e72024aa6",
       "version_major": 2,
       "version_minor": 0
      },
      "text/plain": [
       "Downloading data:   0%|          | 0.00/15.0M [00:00<?, ?B/s]"
      ]
     },
     "metadata": {},
     "output_type": "display_data"
    },
    {
     "data": {
      "application/vnd.jupyter.widget-view+json": {
       "model_id": "3f5e56ac9d6d4d1a81b746008c3e009b",
       "version_major": 2,
       "version_minor": 0
      },
      "text/plain": [
       "Downloading data:   0%|          | 0.00/15.7M [00:00<?, ?B/s]"
      ]
     },
     "metadata": {},
     "output_type": "display_data"
    },
    {
     "data": {
      "application/vnd.jupyter.widget-view+json": {
       "model_id": "f3fc9da18538461bb1ffc69bb4d2066e",
       "version_major": 2,
       "version_minor": 0
      },
      "text/plain": [
       "Downloading data:   0%|          | 0.00/18.6M [00:00<?, ?B/s]"
      ]
     },
     "metadata": {},
     "output_type": "display_data"
    },
    {
     "data": {
      "application/vnd.jupyter.widget-view+json": {
       "model_id": "32170bce6a6c4541847140a9db42a946",
       "version_major": 2,
       "version_minor": 0
      },
      "text/plain": [
       "Downloading data:   0%|          | 0.00/14.1M [00:00<?, ?B/s]"
      ]
     },
     "metadata": {},
     "output_type": "display_data"
    },
    {
     "data": {
      "application/vnd.jupyter.widget-view+json": {
       "model_id": "2de414e4603948939f1daddf32fa7059",
       "version_major": 2,
       "version_minor": 0
      },
      "text/plain": [
       "Downloading data:   0%|          | 0.00/19.6M [00:00<?, ?B/s]"
      ]
     },
     "metadata": {},
     "output_type": "display_data"
    },
    {
     "data": {
      "application/vnd.jupyter.widget-view+json": {
       "model_id": "0e801c6751194610ba77e1b14902cd82",
       "version_major": 2,
       "version_minor": 0
      },
      "text/plain": [
       "Downloading data:   0%|          | 0.00/15.2M [00:00<?, ?B/s]"
      ]
     },
     "metadata": {},
     "output_type": "display_data"
    },
    {
     "data": {
      "application/vnd.jupyter.widget-view+json": {
       "model_id": "9da1eac78808401da8536643c41d2e2a",
       "version_major": 2,
       "version_minor": 0
      },
      "text/plain": [
       "Downloading data:   0%|          | 0.00/9.22M [00:00<?, ?B/s]"
      ]
     },
     "metadata": {},
     "output_type": "display_data"
    },
    {
     "data": {
      "application/vnd.jupyter.widget-view+json": {
       "model_id": "f99e3820b9b24d52b8e214be0ef14467",
       "version_major": 2,
       "version_minor": 0
      },
      "text/plain": [
       "Downloading data:   0%|          | 0.00/11.8M [00:00<?, ?B/s]"
      ]
     },
     "metadata": {},
     "output_type": "display_data"
    },
    {
     "data": {
      "application/vnd.jupyter.widget-view+json": {
       "model_id": "487c6534f097418d88a0c43a1ab173dd",
       "version_major": 2,
       "version_minor": 0
      },
      "text/plain": [
       "Downloading data:   0%|          | 0.00/20.9M [00:00<?, ?B/s]"
      ]
     },
     "metadata": {},
     "output_type": "display_data"
    },
    {
     "data": {
      "application/vnd.jupyter.widget-view+json": {
       "model_id": "0835eef10e0542b8ab9b3cff2df1876a",
       "version_major": 2,
       "version_minor": 0
      },
      "text/plain": [
       "Downloading data:   0%|          | 0.00/32.7M [00:00<?, ?B/s]"
      ]
     },
     "metadata": {},
     "output_type": "display_data"
    },
    {
     "data": {
      "application/vnd.jupyter.widget-view+json": {
       "model_id": "a6c98568fda74082bb49e1be1c1af8e5",
       "version_major": 2,
       "version_minor": 0
      },
      "text/plain": [
       "Downloading data:   0%|          | 0.00/25.1M [00:00<?, ?B/s]"
      ]
     },
     "metadata": {},
     "output_type": "display_data"
    },
    {
     "data": {
      "application/vnd.jupyter.widget-view+json": {
       "model_id": "0612b9f02ffc4c63b610a59b27876e8a",
       "version_major": 2,
       "version_minor": 0
      },
      "text/plain": [
       "Downloading data:   0%|          | 0.00/6.99M [00:00<?, ?B/s]"
      ]
     },
     "metadata": {},
     "output_type": "display_data"
    },
    {
     "data": {
      "application/vnd.jupyter.widget-view+json": {
       "model_id": "10c5cfc079644d07b4a370c4444d3518",
       "version_major": 2,
       "version_minor": 0
      },
      "text/plain": [
       "Generating train split:   0%|          | 0/50426266 [00:00<?, ? examples/s]"
      ]
     },
     "metadata": {},
     "output_type": "display_data"
    }
   ],
   "source": [
    "ds_train = load_dataset(\"quickdraw\", \"preprocessed_simplified_drawings\", split='train')"
   ]
  },
  {
   "cell_type": "code",
   "execution_count": 28,
   "id": "e3349808",
   "metadata": {},
   "outputs": [
    {
     "data": {
      "text/plain": [
       "DatasetInfo(description='The Quick Draw Dataset is a collection of 50 million drawings across 345 categories, contributed by players of the game Quick, Draw!.\\nThe drawings were captured as timestamped vectors, tagged with metadata including what the player was asked to draw and in which country the player was located.\\n', citation='@article{DBLP:journals/corr/HaE17,\\n  author    = {David Ha and\\n               Douglas Eck},\\n  title     = {A Neural Representation of Sketch Drawings},\\n  journal   = {CoRR},\\n  volume    = {abs/1704.03477},\\n  year      = {2017},\\n  url       = {http://arxiv.org/abs/1704.03477},\\n  archivePrefix = {arXiv},\\n  eprint    = {1704.03477},\\n  timestamp = {Mon, 13 Aug 2018 16:48:30 +0200},\\n  biburl    = {https://dblp.org/rec/bib/journals/corr/HaE17},\\n  bibsource = {dblp computer science bibliography, https://dblp.org}\\n}\\n', homepage='https://quickdraw.withgoogle.com/data', license='CC BY 4.0', features={'key_id': Value(dtype='string', id=None), 'word': ClassLabel(names=['aircraft carrier', 'airplane', 'alarm clock', 'ambulance', 'angel', 'animal migration', 'ant', 'anvil', 'apple', 'arm', 'asparagus', 'axe', 'backpack', 'banana', 'bandage', 'barn', 'baseball bat', 'baseball', 'basket', 'basketball', 'bat', 'bathtub', 'beach', 'bear', 'beard', 'bed', 'bee', 'belt', 'bench', 'bicycle', 'binoculars', 'bird', 'birthday cake', 'blackberry', 'blueberry', 'book', 'boomerang', 'bottlecap', 'bowtie', 'bracelet', 'brain', 'bread', 'bridge', 'broccoli', 'broom', 'bucket', 'bulldozer', 'bus', 'bush', 'butterfly', 'cactus', 'cake', 'calculator', 'calendar', 'camel', 'camera', 'camouflage', 'campfire', 'candle', 'cannon', 'canoe', 'car', 'carrot', 'castle', 'cat', 'ceiling fan', 'cell phone', 'cello', 'chair', 'chandelier', 'church', 'circle', 'clarinet', 'clock', 'cloud', 'coffee cup', 'compass', 'computer', 'cookie', 'cooler', 'couch', 'cow', 'crab', 'crayon', 'crocodile', 'crown', 'cruise ship', 'cup', 'diamond', 'dishwasher', 'diving board', 'dog', 'dolphin', 'donut', 'door', 'dragon', 'dresser', 'drill', 'drums', 'duck', 'dumbbell', 'ear', 'elbow', 'elephant', 'envelope', 'eraser', 'eye', 'eyeglasses', 'face', 'fan', 'feather', 'fence', 'finger', 'fire hydrant', 'fireplace', 'firetruck', 'fish', 'flamingo', 'flashlight', 'flip flops', 'floor lamp', 'flower', 'flying saucer', 'foot', 'fork', 'frog', 'frying pan', 'garden hose', 'garden', 'giraffe', 'goatee', 'golf club', 'grapes', 'grass', 'guitar', 'hamburger', 'hammer', 'hand', 'harp', 'hat', 'headphones', 'hedgehog', 'helicopter', 'helmet', 'hexagon', 'hockey puck', 'hockey stick', 'horse', 'hospital', 'hot air balloon', 'hot dog', 'hot tub', 'hourglass', 'house plant', 'house', 'hurricane', 'ice cream', 'jacket', 'jail', 'kangaroo', 'key', 'keyboard', 'knee', 'knife', 'ladder', 'lantern', 'laptop', 'leaf', 'leg', 'light bulb', 'lighter', 'lighthouse', 'lightning', 'line', 'lion', 'lipstick', 'lobster', 'lollipop', 'mailbox', 'map', 'marker', 'matches', 'megaphone', 'mermaid', 'microphone', 'microwave', 'monkey', 'moon', 'mosquito', 'motorbike', 'mountain', 'mouse', 'moustache', 'mouth', 'mug', 'mushroom', 'nail', 'necklace', 'nose', 'ocean', 'octagon', 'octopus', 'onion', 'oven', 'owl', 'paint can', 'paintbrush', 'palm tree', 'panda', 'pants', 'paper clip', 'parachute', 'parrot', 'passport', 'peanut', 'pear', 'peas', 'pencil', 'penguin', 'piano', 'pickup truck', 'picture frame', 'pig', 'pillow', 'pineapple', 'pizza', 'pliers', 'police car', 'pond', 'pool', 'popsicle', 'postcard', 'potato', 'power outlet', 'purse', 'rabbit', 'raccoon', 'radio', 'rain', 'rainbow', 'rake', 'remote control', 'rhinoceros', 'rifle', 'river', 'roller coaster', 'rollerskates', 'sailboat', 'sandwich', 'saw', 'saxophone', 'school bus', 'scissors', 'scorpion', 'screwdriver', 'sea turtle', 'see saw', 'shark', 'sheep', 'shoe', 'shorts', 'shovel', 'sink', 'skateboard', 'skull', 'skyscraper', 'sleeping bag', 'smiley face', 'snail', 'snake', 'snorkel', 'snowflake', 'snowman', 'soccer ball', 'sock', 'speedboat', 'spider', 'spoon', 'spreadsheet', 'square', 'squiggle', 'squirrel', 'stairs', 'star', 'steak', 'stereo', 'stethoscope', 'stitches', 'stop sign', 'stove', 'strawberry', 'streetlight', 'string bean', 'submarine', 'suitcase', 'sun', 'swan', 'sweater', 'swing set', 'sword', 'syringe', 't-shirt', 'table', 'teapot', 'teddy-bear', 'telephone', 'television', 'tennis racquet', 'tent', 'The Eiffel Tower', 'The Great Wall of China', 'The Mona Lisa', 'tiger', 'toaster', 'toe', 'toilet', 'tooth', 'toothbrush', 'toothpaste', 'tornado', 'tractor', 'traffic light', 'train', 'tree', 'triangle', 'trombone', 'truck', 'trumpet', 'umbrella', 'underwear', 'van', 'vase', 'violin', 'washing machine', 'watermelon', 'waterslide', 'whale', 'wheel', 'windmill', 'wine bottle', 'wine glass', 'wristwatch', 'yoga', 'zebra', 'zigzag'], id=None), 'recognized': Value(dtype='bool', id=None), 'timestamp': Value(dtype='timestamp[us, tz=UTC]', id=None), 'countrycode': Value(dtype='string', id=None), 'drawing': Sequence(feature={'x': Sequence(feature=Value(dtype='uint8', id=None), length=-1, id=None), 'y': Sequence(feature=Value(dtype='uint8', id=None), length=-1, id=None)}, length=-1, id=None)}, post_processed=None, supervised_keys=None, task_templates=None, builder_name='quickdraw', dataset_name='quickdraw', config_name='preprocessed_simplified_drawings', version=1.0.0, splits={'train': SplitInfo(name='train', num_bytes=9166557708, num_examples=50426266, shard_lengths=[2778000, 2442000, 2407000, 2685000, 2777000, 2774000, 2797000, 2727000, 2994000, 2938000, 2966000, 2546000, 2638000, 2832000, 2831000, 2982000, 2638000, 2762000, 912266], dataset_name='quickdraw')}, download_checksums={'https://storage.googleapis.com/quickdraw_dataset/full/binary/aircraft carrier.bin': {'num_bytes': 13747886, 'checksum': None}, 'https://storage.googleapis.com/quickdraw_dataset/full/binary/airplane.bin': {'num_bytes': 15724411, 'checksum': None}, 'https://storage.googleapis.com/quickdraw_dataset/full/binary/alarm clock.bin': {'num_bytes': 18875737, 'checksum': None}, 'https://storage.googleapis.com/quickdraw_dataset/full/binary/ambulance.bin': {'num_bytes': 22724144, 'checksum': None}, 'https://storage.googleapis.com/quickdraw_dataset/full/binary/angel.bin': {'num_bytes': 25452530, 'checksum': None}, 'https://storage.googleapis.com/quickdraw_dataset/full/binary/animal migration.bin': {'num_bytes': 17500977, 'checksum': None}, 'https://storage.googleapis.com/quickdraw_dataset/full/binary/ant.bin': {'num_bytes': 18558458, 'checksum': None}, 'https://storage.googleapis.com/quickdraw_dataset/full/binary/anvil.bin': {'num_bytes': 10660531, 'checksum': None}, 'https://storage.googleapis.com/quickdraw_dataset/full/binary/apple.bin': {'num_bytes': 13844398, 'checksum': None}, 'https://storage.googleapis.com/quickdraw_dataset/full/binary/arm.bin': {'num_bytes': 11179831, 'checksum': None}, 'https://storage.googleapis.com/quickdraw_dataset/full/binary/asparagus.bin': {'num_bytes': 20262292, 'checksum': None}, 'https://storage.googleapis.com/quickdraw_dataset/full/binary/axe.bin': {'num_bytes': 9500816, 'checksum': None}, 'https://storage.googleapis.com/quickdraw_dataset/full/binary/backpack.bin': {'num_bytes': 16616915, 'checksum': None}, 'https://storage.googleapis.com/quickdraw_dataset/full/binary/banana.bin': {'num_bytes': 25106364, 'checksum': None}, 'https://storage.googleapis.com/quickdraw_dataset/full/binary/bandage.bin': {'num_bytes': 16202084, 'checksum': None}, 'https://storage.googleapis.com/quickdraw_dataset/full/binary/barn.bin': {'num_bytes': 16372713, 'checksum': None}, 'https://storage.googleapis.com/quickdraw_dataset/full/binary/baseball bat.bin': {'num_bytes': 9596101, 'checksum': None}, 'https://storage.googleapis.com/quickdraw_dataset/full/binary/baseball.bin': {'num_bytes': 15686979, 'checksum': None}, 'https://storage.googleapis.com/quickdraw_dataset/full/binary/basket.bin': {'num_bytes': 16507280, 'checksum': None}, 'https://storage.googleapis.com/quickdraw_dataset/full/binary/basketball.bin': {'num_bytes': 17293119, 'checksum': None}, 'https://storage.googleapis.com/quickdraw_dataset/full/binary/bat.bin': {'num_bytes': 15303894, 'checksum': None}, 'https://storage.googleapis.com/quickdraw_dataset/full/binary/bathtub.bin': {'num_bytes': 18528374, 'checksum': None}, 'https://storage.googleapis.com/quickdraw_dataset/full/binary/beach.bin': {'num_bytes': 15033832, 'checksum': None}, 'https://storage.googleapis.com/quickdraw_dataset/full/binary/bear.bin': {'num_bytes': 20995026, 'checksum': None}, 'https://storage.googleapis.com/quickdraw_dataset/full/binary/beard.bin': {'num_bytes': 33728388, 'checksum': None}, 'https://storage.googleapis.com/quickdraw_dataset/full/binary/bed.bin': {'num_bytes': 11059952, 'checksum': None}, 'https://storage.googleapis.com/quickdraw_dataset/full/binary/bee.bin': {'num_bytes': 20515138, 'checksum': None}, 'https://storage.googleapis.com/quickdraw_dataset/full/binary/belt.bin': {'num_bytes': 19456635, 'checksum': None}, 'https://storage.googleapis.com/quickdraw_dataset/full/binary/bench.bin': {'num_bytes': 9585497, 'checksum': None}, 'https://storage.googleapis.com/quickdraw_dataset/full/binary/bicycle.bin': {'num_bytes': 18408135, 'checksum': None}, 'https://storage.googleapis.com/quickdraw_dataset/full/binary/binoculars.bin': {'num_bytes': 17877926, 'checksum': None}, 'https://storage.googleapis.com/quickdraw_dataset/full/binary/bird.bin': {'num_bytes': 17240422, 'checksum': None}, 'https://storage.googleapis.com/quickdraw_dataset/full/binary/birthday cake.bin': {'num_bytes': 17417174, 'checksum': None}, 'https://storage.googleapis.com/quickdraw_dataset/full/binary/blackberry.bin': {'num_bytes': 35977103, 'checksum': None}, 'https://storage.googleapis.com/quickdraw_dataset/full/binary/blueberry.bin': {'num_bytes': 17589786, 'checksum': None}, 'https://storage.googleapis.com/quickdraw_dataset/full/binary/book.bin': {'num_bytes': 14133278, 'checksum': None}, 'https://storage.googleapis.com/quickdraw_dataset/full/binary/boomerang.bin': {'num_bytes': 10773932, 'checksum': None}, 'https://storage.googleapis.com/quickdraw_dataset/full/binary/bottlecap.bin': {'num_bytes': 17908971, 'checksum': None}, 'https://storage.googleapis.com/quickdraw_dataset/full/binary/bowtie.bin': {'num_bytes': 12410559, 'checksum': None}, 'https://storage.googleapis.com/quickdraw_dataset/full/binary/bracelet.bin': {'num_bytes': 21206138, 'checksum': None}, 'https://storage.googleapis.com/quickdraw_dataset/full/binary/brain.bin': {'num_bytes': 29171109, 'checksum': None}, 'https://storage.googleapis.com/quickdraw_dataset/full/binary/bread.bin': {'num_bytes': 9735154, 'checksum': None}, 'https://storage.googleapis.com/quickdraw_dataset/full/binary/bridge.bin': {'num_bytes': 12813790, 'checksum': None}, 'https://storage.googleapis.com/quickdraw_dataset/full/binary/broccoli.bin': {'num_bytes': 25480480, 'checksum': None}, 'https://storage.googleapis.com/quickdraw_dataset/full/binary/broom.bin': {'num_bytes': 11865593, 'checksum': None}, 'https://storage.googleapis.com/quickdraw_dataset/full/binary/bucket.bin': {'num_bytes': 11415820, 'checksum': None}, 'https://storage.googleapis.com/quickdraw_dataset/full/binary/bulldozer.bin': {'num_bytes': 28638277, 'checksum': None}, 'https://storage.googleapis.com/quickdraw_dataset/full/binary/bus.bin': {'num_bytes': 25267028, 'checksum': None}, 'https://storage.googleapis.com/quickdraw_dataset/full/binary/bush.bin': {'num_bytes': 18422542, 'checksum': None}, 'https://storage.googleapis.com/quickdraw_dataset/full/binary/butterfly.bin': {'num_bytes': 16345229, 'checksum': None}, 'https://storage.googleapis.com/quickdraw_dataset/full/binary/cactus.bin': {'num_bytes': 15245874, 'checksum': None}, 'https://storage.googleapis.com/quickdraw_dataset/full/binary/cake.bin': {'num_bytes': 17845415, 'checksum': None}, 'https://storage.googleapis.com/quickdraw_dataset/full/binary/calculator.bin': {'num_bytes': 17798185, 'checksum': None}, 'https://storage.googleapis.com/quickdraw_dataset/full/binary/calendar.bin': {'num_bytes': 47206129, 'checksum': None}, 'https://storage.googleapis.com/quickdraw_dataset/full/binary/camel.bin': {'num_bytes': 13899203, 'checksum': None}, 'https://storage.googleapis.com/quickdraw_dataset/full/binary/camera.bin': {'num_bytes': 13635450, 'checksum': None}, 'https://storage.googleapis.com/quickdraw_dataset/full/binary/camouflage.bin': {'num_bytes': 40249588, 'checksum': None}, 'https://storage.googleapis.com/quickdraw_dataset/full/binary/campfire.bin': {'num_bytes': 21147997, 'checksum': None}, 'https://storage.googleapis.com/quickdraw_dataset/full/binary/candle.bin': {'num_bytes': 11747727, 'checksum': None}, 'https://storage.googleapis.com/quickdraw_dataset/full/binary/cannon.bin': {'num_bytes': 18649402, 'checksum': None}, 'https://storage.googleapis.com/quickdraw_dataset/full/binary/canoe.bin': {'num_bytes': 8046729, 'checksum': None}, 'https://storage.googleapis.com/quickdraw_dataset/full/binary/car.bin': {'num_bytes': 24390660, 'checksum': None}, 'https://storage.googleapis.com/quickdraw_dataset/full/binary/carrot.bin': {'num_bytes': 14141109, 'checksum': None}, 'https://storage.googleapis.com/quickdraw_dataset/full/binary/castle.bin': {'num_bytes': 12273402, 'checksum': None}, 'https://storage.googleapis.com/quickdraw_dataset/full/binary/cat.bin': {'num_bytes': 19571324, 'checksum': None}, 'https://storage.googleapis.com/quickdraw_dataset/full/binary/ceiling fan.bin': {'num_bytes': 14626139, 'checksum': None}, 'https://storage.googleapis.com/quickdraw_dataset/full/binary/cell phone.bin': {'num_bytes': 13784118, 'checksum': None}, 'https://storage.googleapis.com/quickdraw_dataset/full/binary/cello.bin': {'num_bytes': 20122459, 'checksum': None}, 'https://storage.googleapis.com/quickdraw_dataset/full/binary/chair.bin': {'num_bytes': 17645800, 'checksum': None}, 'https://storage.googleapis.com/quickdraw_dataset/full/binary/chandelier.bin': {'num_bytes': 22144164, 'checksum': None}, 'https://storage.googleapis.com/quickdraw_dataset/full/binary/church.bin': {'num_bytes': 15801745, 'checksum': None}, 'https://storage.googleapis.com/quickdraw_dataset/full/binary/circle.bin': {'num_bytes': 8976144, 'checksum': None}, 'https://storage.googleapis.com/quickdraw_dataset/full/binary/clarinet.bin': {'num_bytes': 13675898, 'checksum': None}, 'https://storage.googleapis.com/quickdraw_dataset/full/binary/clock.bin': {'num_bytes': 12855220, 'checksum': None}, 'https://storage.googleapis.com/quickdraw_dataset/full/binary/cloud.bin': {'num_bytes': 13299365, 'checksum': None}, 'https://storage.googleapis.com/quickdraw_dataset/full/binary/coffee cup.bin': {'num_bytes': 22048814, 'checksum': None}, 'https://storage.googleapis.com/quickdraw_dataset/full/binary/compass.bin': {'num_bytes': 16350309, 'checksum': None}, 'https://storage.googleapis.com/quickdraw_dataset/full/binary/computer.bin': {'num_bytes': 14276089, 'checksum': None}, 'https://storage.googleapis.com/quickdraw_dataset/full/binary/cookie.bin': {'num_bytes': 20631161, 'checksum': None}, 'https://storage.googleapis.com/quickdraw_dataset/full/binary/cooler.bin': {'num_bytes': 30070456, 'checksum': None}, 'https://storage.googleapis.com/quickdraw_dataset/full/binary/couch.bin': {'num_bytes': 13983704, 'checksum': None}, 'https://storage.googleapis.com/quickdraw_dataset/full/binary/cow.bin': {'num_bytes': 25635425, 'checksum': None}, 'https://storage.googleapis.com/quickdraw_dataset/full/binary/crab.bin': {'num_bytes': 20882674, 'checksum': None}, 'https://storage.googleapis.com/quickdraw_dataset/full/binary/crayon.bin': {'num_bytes': 11273377, 'checksum': None}, 'https://storage.googleapis.com/quickdraw_dataset/full/binary/crocodile.bin': {'num_bytes': 15069438, 'checksum': None}, 'https://storage.googleapis.com/quickdraw_dataset/full/binary/crown.bin': {'num_bytes': 11666627, 'checksum': None}, 'https://storage.googleapis.com/quickdraw_dataset/full/binary/cruise ship.bin': {'num_bytes': 12931406, 'checksum': None}, 'https://storage.googleapis.com/quickdraw_dataset/full/binary/cup.bin': {'num_bytes': 12679487, 'checksum': None}, 'https://storage.googleapis.com/quickdraw_dataset/full/binary/diamond.bin': {'num_bytes': 9825385, 'checksum': None}, 'https://storage.googleapis.com/quickdraw_dataset/full/binary/dishwasher.bin': {'num_bytes': 19810111, 'checksum': None}, 'https://storage.googleapis.com/quickdraw_dataset/full/binary/diving board.bin': {'num_bytes': 23708161, 'checksum': None}, 'https://storage.googleapis.com/quickdraw_dataset/full/binary/dog.bin': {'num_bytes': 23463139, 'checksum': None}, 'https://storage.googleapis.com/quickdraw_dataset/full/binary/dolphin.bin': {'num_bytes': 11556683, 'checksum': None}, 'https://storage.googleapis.com/quickdraw_dataset/full/binary/donut.bin': {'num_bytes': 16833029, 'checksum': None}, 'https://storage.googleapis.com/quickdraw_dataset/full/binary/door.bin': {'num_bytes': 8541898, 'checksum': None}, 'https://storage.googleapis.com/quickdraw_dataset/full/binary/dragon.bin': {'num_bytes': 19575968, 'checksum': None}, 'https://storage.googleapis.com/quickdraw_dataset/full/binary/dresser.bin': {'num_bytes': 15133201, 'checksum': None}, 'https://storage.googleapis.com/quickdraw_dataset/full/binary/drill.bin': {'num_bytes': 13679388, 'checksum': None}, 'https://storage.googleapis.com/quickdraw_dataset/full/binary/drums.bin': {'num_bytes': 19686469, 'checksum': None}, 'https://storage.googleapis.com/quickdraw_dataset/full/binary/duck.bin': {'num_bytes': 17810952, 'checksum': None}, 'https://storage.googleapis.com/quickdraw_dataset/full/binary/dumbbell.bin': {'num_bytes': 16403899, 'checksum': None}, 'https://storage.googleapis.com/quickdraw_dataset/full/binary/ear.bin': {'num_bytes': 10171847, 'checksum': None}, 'https://storage.googleapis.com/quickdraw_dataset/full/binary/elbow.bin': {'num_bytes': 9563477, 'checksum': None}, 'https://storage.googleapis.com/quickdraw_dataset/full/binary/elephant.bin': {'num_bytes': 18750567, 'checksum': None}, 'https://storage.googleapis.com/quickdraw_dataset/full/binary/envelope.bin': {'num_bytes': 9842843, 'checksum': None}, 'https://storage.googleapis.com/quickdraw_dataset/full/binary/eraser.bin': {'num_bytes': 10934885, 'checksum': None}, 'https://storage.googleapis.com/quickdraw_dataset/full/binary/eye.bin': {'num_bytes': 16862586, 'checksum': None}, 'https://storage.googleapis.com/quickdraw_dataset/full/binary/eyeglasses.bin': {'num_bytes': 23433202, 'checksum': None}, 'https://storage.googleapis.com/quickdraw_dataset/full/binary/face.bin': {'num_bytes': 23781390, 'checksum': None}, 'https://storage.googleapis.com/quickdraw_dataset/full/binary/fan.bin': {'num_bytes': 23763590, 'checksum': None}, 'https://storage.googleapis.com/quickdraw_dataset/full/binary/feather.bin': {'num_bytes': 11817320, 'checksum': None}, 'https://storage.googleapis.com/quickdraw_dataset/full/binary/fence.bin': {'num_bytes': 12056432, 'checksum': None}, 'https://storage.googleapis.com/quickdraw_dataset/full/binary/finger.bin': {'num_bytes': 12065247, 'checksum': None}, 'https://storage.googleapis.com/quickdraw_dataset/full/binary/fire hydrant.bin': {'num_bytes': 16891702, 'checksum': None}, 'https://storage.googleapis.com/quickdraw_dataset/full/binary/fireplace.bin': {'num_bytes': 23030164, 'checksum': None}, 'https://storage.googleapis.com/quickdraw_dataset/full/binary/firetruck.bin': {'num_bytes': 33435125, 'checksum': None}, 'https://storage.googleapis.com/quickdraw_dataset/full/binary/fish.bin': {'num_bytes': 12124376, 'checksum': None}, 'https://storage.googleapis.com/quickdraw_dataset/full/binary/flamingo.bin': {'num_bytes': 13949183, 'checksum': None}, 'https://storage.googleapis.com/quickdraw_dataset/full/binary/flashlight.bin': {'num_bytes': 25369283, 'checksum': None}, 'https://storage.googleapis.com/quickdraw_dataset/full/binary/flip flops.bin': {'num_bytes': 13224346, 'checksum': None}, 'https://storage.googleapis.com/quickdraw_dataset/full/binary/floor lamp.bin': {'num_bytes': 14593319, 'checksum': None}, 'https://storage.googleapis.com/quickdraw_dataset/full/binary/flower.bin': {'num_bytes': 21469026, 'checksum': None}, 'https://storage.googleapis.com/quickdraw_dataset/full/binary/flying saucer.bin': {'num_bytes': 16733048, 'checksum': None}, 'https://storage.googleapis.com/quickdraw_dataset/full/binary/foot.bin': {'num_bytes': 17645074, 'checksum': None}, 'https://storage.googleapis.com/quickdraw_dataset/full/binary/fork.bin': {'num_bytes': 9202159, 'checksum': None}, 'https://storage.googleapis.com/quickdraw_dataset/full/binary/frog.bin': {'num_bytes': 24789861, 'checksum': None}, 'https://storage.googleapis.com/quickdraw_dataset/full/binary/frying pan.bin': {'num_bytes': 11483190, 'checksum': None}, 'https://storage.googleapis.com/quickdraw_dataset/full/binary/garden hose.bin': {'num_bytes': 12968621, 'checksum': None}, 'https://storage.googleapis.com/quickdraw_dataset/full/binary/garden.bin': {'num_bytes': 27100951, 'checksum': None}, 'https://storage.googleapis.com/quickdraw_dataset/full/binary/giraffe.bin': {'num_bytes': 14744518, 'checksum': None}, 'https://storage.googleapis.com/quickdraw_dataset/full/binary/goatee.bin': {'num_bytes': 33149046, 'checksum': None}, 'https://storage.googleapis.com/quickdraw_dataset/full/binary/golf club.bin': {'num_bytes': 13961287, 'checksum': None}, 'https://storage.googleapis.com/quickdraw_dataset/full/binary/grapes.bin': {'num_bytes': 32909585, 'checksum': None}, 'https://storage.googleapis.com/quickdraw_dataset/full/binary/grass.bin': {'num_bytes': 11850583, 'checksum': None}, 'https://storage.googleapis.com/quickdraw_dataset/full/binary/guitar.bin': {'num_bytes': 16747813, 'checksum': None}, 'https://storage.googleapis.com/quickdraw_dataset/full/binary/hamburger.bin': {'num_bytes': 16690098, 'checksum': None}, 'https://storage.googleapis.com/quickdraw_dataset/full/binary/hammer.bin': {'num_bytes': 10955450, 'checksum': None}, 'https://storage.googleapis.com/quickdraw_dataset/full/binary/hand.bin': {'num_bytes': 31177567, 'checksum': None}, 'https://storage.googleapis.com/quickdraw_dataset/full/binary/harp.bin': {'num_bytes': 32640877, 'checksum': None}, 'https://storage.googleapis.com/quickdraw_dataset/full/binary/hat.bin': {'num_bytes': 17765428, 'checksum': None}, 'https://storage.googleapis.com/quickdraw_dataset/full/binary/headphones.bin': {'num_bytes': 13438496, 'checksum': None}, 'https://storage.googleapis.com/quickdraw_dataset/full/binary/hedgehog.bin': {'num_bytes': 25066971, 'checksum': None}, 'https://storage.googleapis.com/quickdraw_dataset/full/binary/helicopter.bin': {'num_bytes': 22498322, 'checksum': None}, 'https://storage.googleapis.com/quickdraw_dataset/full/binary/helmet.bin': {'num_bytes': 12475151, 'checksum': None}, 'https://storage.googleapis.com/quickdraw_dataset/full/binary/hexagon.bin': {'num_bytes': 8454105, 'checksum': None}, 'https://storage.googleapis.com/quickdraw_dataset/full/binary/hockey puck.bin': {'num_bytes': 24324927, 'checksum': None}, 'https://storage.googleapis.com/quickdraw_dataset/full/binary/hockey stick.bin': {'num_bytes': 8739936, 'checksum': None}, 'https://storage.googleapis.com/quickdraw_dataset/full/binary/horse.bin': {'num_bytes': 26779478, 'checksum': None}, 'https://storage.googleapis.com/quickdraw_dataset/full/binary/hospital.bin': {'num_bytes': 19552918, 'checksum': None}, 'https://storage.googleapis.com/quickdraw_dataset/full/binary/hot air balloon.bin': {'num_bytes': 13173466, 'checksum': None}, 'https://storage.googleapis.com/quickdraw_dataset/full/binary/hot dog.bin': {'num_bytes': 19659519, 'checksum': None}, 'https://storage.googleapis.com/quickdraw_dataset/full/binary/hot tub.bin': {'num_bytes': 17374273, 'checksum': None}, 'https://storage.googleapis.com/quickdraw_dataset/full/binary/hourglass.bin': {'num_bytes': 11904123, 'checksum': None}, 'https://storage.googleapis.com/quickdraw_dataset/full/binary/house plant.bin': {'num_bytes': 16086558, 'checksum': None}, 'https://storage.googleapis.com/quickdraw_dataset/full/binary/house.bin': {'num_bytes': 10927070, 'checksum': None}, 'https://storage.googleapis.com/quickdraw_dataset/full/binary/hurricane.bin': {'num_bytes': 29932265, 'checksum': None}, 'https://storage.googleapis.com/quickdraw_dataset/full/binary/ice cream.bin': {'num_bytes': 11887455, 'checksum': None}, 'https://storage.googleapis.com/quickdraw_dataset/full/binary/jacket.bin': {'num_bytes': 22660722, 'checksum': None}, 'https://storage.googleapis.com/quickdraw_dataset/full/binary/jail.bin': {'num_bytes': 11514345, 'checksum': None}, 'https://storage.googleapis.com/quickdraw_dataset/full/binary/kangaroo.bin': {'num_bytes': 25180110, 'checksum': None}, 'https://storage.googleapis.com/quickdraw_dataset/full/binary/key.bin': {'num_bytes': 16869175, 'checksum': None}, 'https://storage.googleapis.com/quickdraw_dataset/full/binary/keyboard.bin': {'num_bytes': 14960894, 'checksum': None}, 'https://storage.googleapis.com/quickdraw_dataset/full/binary/knee.bin': {'num_bytes': 17801392, 'checksum': None}, 'https://storage.googleapis.com/quickdraw_dataset/full/binary/knife.bin': {'num_bytes': 12555096, 'checksum': None}, 'https://storage.googleapis.com/quickdraw_dataset/full/binary/ladder.bin': {'num_bytes': 9024259, 'checksum': None}, 'https://storage.googleapis.com/quickdraw_dataset/full/binary/lantern.bin': {'num_bytes': 19825984, 'checksum': None}, 'https://storage.googleapis.com/quickdraw_dataset/full/binary/laptop.bin': {'num_bytes': 29339505, 'checksum': None}, 'https://storage.googleapis.com/quickdraw_dataset/full/binary/leaf.bin': {'num_bytes': 12378773, 'checksum': None}, 'https://storage.googleapis.com/quickdraw_dataset/full/binary/leg.bin': {'num_bytes': 7167078, 'checksum': None}, 'https://storage.googleapis.com/quickdraw_dataset/full/binary/light bulb.bin': {'num_bytes': 12314929, 'checksum': None}, 'https://storage.googleapis.com/quickdraw_dataset/full/binary/lighter.bin': {'num_bytes': 11753144, 'checksum': None}, 'https://storage.googleapis.com/quickdraw_dataset/full/binary/lighthouse.bin': {'num_bytes': 19582319, 'checksum': None}, 'https://storage.googleapis.com/quickdraw_dataset/full/binary/lightning.bin': {'num_bytes': 10811282, 'checksum': None}, 'https://storage.googleapis.com/quickdraw_dataset/full/binary/line.bin': {'num_bytes': 4518495, 'checksum': None}, 'https://storage.googleapis.com/quickdraw_dataset/full/binary/lion.bin': {'num_bytes': 24677237, 'checksum': None}, 'https://storage.googleapis.com/quickdraw_dataset/full/binary/lipstick.bin': {'num_bytes': 9315641, 'checksum': None}, 'https://storage.googleapis.com/quickdraw_dataset/full/binary/lobster.bin': {'num_bytes': 23351185, 'checksum': None}, 'https://storage.googleapis.com/quickdraw_dataset/full/binary/lollipop.bin': {'num_bytes': 11540639, 'checksum': None}, 'https://storage.googleapis.com/quickdraw_dataset/full/binary/mailbox.bin': {'num_bytes': 11037955, 'checksum': None}, 'https://storage.googleapis.com/quickdraw_dataset/full/binary/map.bin': {'num_bytes': 15827487, 'checksum': None}, 'https://storage.googleapis.com/quickdraw_dataset/full/binary/marker.bin': {'num_bytes': 25570380, 'checksum': None}, 'https://storage.googleapis.com/quickdraw_dataset/full/binary/matches.bin': {'num_bytes': 14273931, 'checksum': None}, 'https://storage.googleapis.com/quickdraw_dataset/full/binary/megaphone.bin': {'num_bytes': 14035250, 'checksum': None}, 'https://storage.googleapis.com/quickdraw_dataset/full/binary/mermaid.bin': {'num_bytes': 30285164, 'checksum': None}, 'https://storage.googleapis.com/quickdraw_dataset/full/binary/microphone.bin': {'num_bytes': 15633798, 'checksum': None}, 'https://storage.googleapis.com/quickdraw_dataset/full/binary/microwave.bin': {'num_bytes': 13785189, 'checksum': None}, 'https://storage.googleapis.com/quickdraw_dataset/full/binary/monkey.bin': {'num_bytes': 25098945, 'checksum': None}, 'https://storage.googleapis.com/quickdraw_dataset/full/binary/moon.bin': {'num_bytes': 11597961, 'checksum': None}, 'https://storage.googleapis.com/quickdraw_dataset/full/binary/mosquito.bin': {'num_bytes': 16994493, 'checksum': None}, 'https://storage.googleapis.com/quickdraw_dataset/full/binary/motorbike.bin': {'num_bytes': 25803957, 'checksum': None}, 'https://storage.googleapis.com/quickdraw_dataset/full/binary/mountain.bin': {'num_bytes': 7620668, 'checksum': None}, 'https://storage.googleapis.com/quickdraw_dataset/full/binary/mouse.bin': {'num_bytes': 19766620, 'checksum': None}, 'https://storage.googleapis.com/quickdraw_dataset/full/binary/moustache.bin': {'num_bytes': 16384214, 'checksum': None}, 'https://storage.googleapis.com/quickdraw_dataset/full/binary/mouth.bin': {'num_bytes': 13467031, 'checksum': None}, 'https://storage.googleapis.com/quickdraw_dataset/full/binary/mug.bin': {'num_bytes': 16175938, 'checksum': None}, 'https://storage.googleapis.com/quickdraw_dataset/full/binary/mushroom.bin': {'num_bytes': 13072355, 'checksum': None}, 'https://storage.googleapis.com/quickdraw_dataset/full/binary/nail.bin': {'num_bytes': 12963389, 'checksum': None}, 'https://storage.googleapis.com/quickdraw_dataset/full/binary/necklace.bin': {'num_bytes': 14650808, 'checksum': None}, 'https://storage.googleapis.com/quickdraw_dataset/full/binary/nose.bin': {'num_bytes': 13817031, 'checksum': None}, 'https://storage.googleapis.com/quickdraw_dataset/full/binary/ocean.bin': {'num_bytes': 10003649, 'checksum': None}, 'https://storage.googleapis.com/quickdraw_dataset/full/binary/octagon.bin': {'num_bytes': 10920698, 'checksum': None}, 'https://storage.googleapis.com/quickdraw_dataset/full/binary/octopus.bin': {'num_bytes': 20226418, 'checksum': None}, 'https://storage.googleapis.com/quickdraw_dataset/full/binary/onion.bin': {'num_bytes': 18662653, 'checksum': None}, 'https://storage.googleapis.com/quickdraw_dataset/full/binary/oven.bin': {'num_bytes': 23602736, 'checksum': None}, 'https://storage.googleapis.com/quickdraw_dataset/full/binary/owl.bin': {'num_bytes': 29936622, 'checksum': None}, 'https://storage.googleapis.com/quickdraw_dataset/full/binary/paint can.bin': {'num_bytes': 14717128, 'checksum': None}, 'https://storage.googleapis.com/quickdraw_dataset/full/binary/paintbrush.bin': {'num_bytes': 25949450, 'checksum': None}, 'https://storage.googleapis.com/quickdraw_dataset/full/binary/palm tree.bin': {'num_bytes': 15312671, 'checksum': None}, 'https://storage.googleapis.com/quickdraw_dataset/full/binary/panda.bin': {'num_bytes': 27109499, 'checksum': None}, 'https://storage.googleapis.com/quickdraw_dataset/full/binary/pants.bin': {'num_bytes': 10746334, 'checksum': None}, 'https://storage.googleapis.com/quickdraw_dataset/full/binary/paper clip.bin': {'num_bytes': 9909201, 'checksum': None}, 'https://storage.googleapis.com/quickdraw_dataset/full/binary/parachute.bin': {'num_bytes': 15228907, 'checksum': None}, 'https://storage.googleapis.com/quickdraw_dataset/full/binary/parrot.bin': {'num_bytes': 25416184, 'checksum': None}, 'https://storage.googleapis.com/quickdraw_dataset/full/binary/passport.bin': {'num_bytes': 19574603, 'checksum': None}, 'https://storage.googleapis.com/quickdraw_dataset/full/binary/peanut.bin': {'num_bytes': 11207664, 'checksum': None}, 'https://storage.googleapis.com/quickdraw_dataset/full/binary/pear.bin': {'num_bytes': 9249592, 'checksum': None}, 'https://storage.googleapis.com/quickdraw_dataset/full/binary/peas.bin': {'num_bytes': 28322018, 'checksum': None}, 'https://storage.googleapis.com/quickdraw_dataset/full/binary/pencil.bin': {'num_bytes': 10085391, 'checksum': None}, 'https://storage.googleapis.com/quickdraw_dataset/full/binary/penguin.bin': {'num_bytes': 36618649, 'checksum': None}, 'https://storage.googleapis.com/quickdraw_dataset/full/binary/piano.bin': {'num_bytes': 13677894, 'checksum': None}, 'https://storage.googleapis.com/quickdraw_dataset/full/binary/pickup truck.bin': {'num_bytes': 15906380, 'checksum': None}, 'https://storage.googleapis.com/quickdraw_dataset/full/binary/picture frame.bin': {'num_bytes': 12380003, 'checksum': None}, 'https://storage.googleapis.com/quickdraw_dataset/full/binary/pig.bin': {'num_bytes': 34071842, 'checksum': None}, 'https://storage.googleapis.com/quickdraw_dataset/full/binary/pillow.bin': {'num_bytes': 8656409, 'checksum': None}, 'https://storage.googleapis.com/quickdraw_dataset/full/binary/pineapple.bin': {'num_bytes': 16746077, 'checksum': None}, 'https://storage.googleapis.com/quickdraw_dataset/full/binary/pizza.bin': {'num_bytes': 21951371, 'checksum': None}, 'https://storage.googleapis.com/quickdraw_dataset/full/binary/pliers.bin': {'num_bytes': 18328619, 'checksum': None}, 'https://storage.googleapis.com/quickdraw_dataset/full/binary/police car.bin': {'num_bytes': 17425122, 'checksum': None}, 'https://storage.googleapis.com/quickdraw_dataset/full/binary/pond.bin': {'num_bytes': 12507708, 'checksum': None}, 'https://storage.googleapis.com/quickdraw_dataset/full/binary/pool.bin': {'num_bytes': 14716827, 'checksum': None}, 'https://storage.googleapis.com/quickdraw_dataset/full/binary/popsicle.bin': {'num_bytes': 9833939, 'checksum': None}, 'https://storage.googleapis.com/quickdraw_dataset/full/binary/postcard.bin': {'num_bytes': 11169894, 'checksum': None}, 'https://storage.googleapis.com/quickdraw_dataset/full/binary/potato.bin': {'num_bytes': 30021186, 'checksum': None}, 'https://storage.googleapis.com/quickdraw_dataset/full/binary/power outlet.bin': {'num_bytes': 20671536, 'checksum': None}, 'https://storage.googleapis.com/quickdraw_dataset/full/binary/purse.bin': {'num_bytes': 12824754, 'checksum': None}, 'https://storage.googleapis.com/quickdraw_dataset/full/binary/rabbit.bin': {'num_bytes': 25254076, 'checksum': None}, 'https://storage.googleapis.com/quickdraw_dataset/full/binary/raccoon.bin': {'num_bytes': 24649486, 'checksum': None}, 'https://storage.googleapis.com/quickdraw_dataset/full/binary/radio.bin': {'num_bytes': 17684254, 'checksum': None}, 'https://storage.googleapis.com/quickdraw_dataset/full/binary/rain.bin': {'num_bytes': 16681622, 'checksum': None}, 'https://storage.googleapis.com/quickdraw_dataset/full/binary/rainbow.bin': {'num_bytes': 9817539, 'checksum': None}, 'https://storage.googleapis.com/quickdraw_dataset/full/binary/rake.bin': {'num_bytes': 14035751, 'checksum': None}, 'https://storage.googleapis.com/quickdraw_dataset/full/binary/remote control.bin': {'num_bytes': 14126654, 'checksum': None}, 'https://storage.googleapis.com/quickdraw_dataset/full/binary/rhinoceros.bin': {'num_bytes': 23884840, 'checksum': None}, 'https://storage.googleapis.com/quickdraw_dataset/full/binary/rifle.bin': {'num_bytes': 12598384, 'checksum': None}, 'https://storage.googleapis.com/quickdraw_dataset/full/binary/river.bin': {'num_bytes': 10781759, 'checksum': None}, 'https://storage.googleapis.com/quickdraw_dataset/full/binary/roller coaster.bin': {'num_bytes': 16770522, 'checksum': None}, 'https://storage.googleapis.com/quickdraw_dataset/full/binary/rollerskates.bin': {'num_bytes': 16668296, 'checksum': None}, 'https://storage.googleapis.com/quickdraw_dataset/full/binary/sailboat.bin': {'num_bytes': 11097666, 'checksum': None}, 'https://storage.googleapis.com/quickdraw_dataset/full/binary/sandwich.bin': {'num_bytes': 17470510, 'checksum': None}, 'https://storage.googleapis.com/quickdraw_dataset/full/binary/saw.bin': {'num_bytes': 12092146, 'checksum': None}, 'https://storage.googleapis.com/quickdraw_dataset/full/binary/saxophone.bin': {'num_bytes': 13169109, 'checksum': None}, 'https://storage.googleapis.com/quickdraw_dataset/full/binary/school bus.bin': {'num_bytes': 19604753, 'checksum': None}, 'https://storage.googleapis.com/quickdraw_dataset/full/binary/scissors.bin': {'num_bytes': 15320938, 'checksum': None}, 'https://storage.googleapis.com/quickdraw_dataset/full/binary/scorpion.bin': {'num_bytes': 27695231, 'checksum': None}, 'https://storage.googleapis.com/quickdraw_dataset/full/binary/screwdriver.bin': {'num_bytes': 10239315, 'checksum': None}, 'https://storage.googleapis.com/quickdraw_dataset/full/binary/sea turtle.bin': {'num_bytes': 18795562, 'checksum': None}, 'https://storage.googleapis.com/quickdraw_dataset/full/binary/see saw.bin': {'num_bytes': 9879926, 'checksum': None}, 'https://storage.googleapis.com/quickdraw_dataset/full/binary/shark.bin': {'num_bytes': 12247990, 'checksum': None}, 'https://storage.googleapis.com/quickdraw_dataset/full/binary/sheep.bin': {'num_bytes': 21989965, 'checksum': None}, 'https://storage.googleapis.com/quickdraw_dataset/full/binary/shoe.bin': {'num_bytes': 10235659, 'checksum': None}, 'https://storage.googleapis.com/quickdraw_dataset/full/binary/shorts.bin': {'num_bytes': 9616428, 'checksum': None}, 'https://storage.googleapis.com/quickdraw_dataset/full/binary/shovel.bin': {'num_bytes': 9249142, 'checksum': None}, 'https://storage.googleapis.com/quickdraw_dataset/full/binary/sink.bin': {'num_bytes': 29527864, 'checksum': None}, 'https://storage.googleapis.com/quickdraw_dataset/full/binary/skateboard.bin': {'num_bytes': 12583669, 'checksum': None}, 'https://storage.googleapis.com/quickdraw_dataset/full/binary/skull.bin': {'num_bytes': 19253514, 'checksum': None}, 'https://storage.googleapis.com/quickdraw_dataset/full/binary/skyscraper.bin': {'num_bytes': 13332647, 'checksum': None}, 'https://storage.googleapis.com/quickdraw_dataset/full/binary/sleeping bag.bin': {'num_bytes': 13140059, 'checksum': None}, 'https://storage.googleapis.com/quickdraw_dataset/full/binary/smiley face.bin': {'num_bytes': 13913306, 'checksum': None}, 'https://storage.googleapis.com/quickdraw_dataset/full/binary/snail.bin': {'num_bytes': 18204147, 'checksum': None}, 'https://storage.googleapis.com/quickdraw_dataset/full/binary/snake.bin': {'num_bytes': 11118983, 'checksum': None}, 'https://storage.googleapis.com/quickdraw_dataset/full/binary/snorkel.bin': {'num_bytes': 19056289, 'checksum': None}, 'https://storage.googleapis.com/quickdraw_dataset/full/binary/snowflake.bin': {'num_bytes': 11305417, 'checksum': None}, 'https://storage.googleapis.com/quickdraw_dataset/full/binary/snowman.bin': {'num_bytes': 40733857, 'checksum': None}, 'https://storage.googleapis.com/quickdraw_dataset/full/binary/soccer ball.bin': {'num_bytes': 23870661, 'checksum': None}, 'https://storage.googleapis.com/quickdraw_dataset/full/binary/sock.bin': {'num_bytes': 17316881, 'checksum': None}, 'https://storage.googleapis.com/quickdraw_dataset/full/binary/speedboat.bin': {'num_bytes': 20709068, 'checksum': None}, 'https://storage.googleapis.com/quickdraw_dataset/full/binary/spider.bin': {'num_bytes': 30682391, 'checksum': None}, 'https://storage.googleapis.com/quickdraw_dataset/full/binary/spoon.bin': {'num_bytes': 8942570, 'checksum': None}, 'https://storage.googleapis.com/quickdraw_dataset/full/binary/spreadsheet.bin': {'num_bytes': 20595196, 'checksum': None}, 'https://storage.googleapis.com/quickdraw_dataset/full/binary/square.bin': {'num_bytes': 7014841, 'checksum': None}, 'https://storage.googleapis.com/quickdraw_dataset/full/binary/squiggle.bin': {'num_bytes': 11065735, 'checksum': None}, 'https://storage.googleapis.com/quickdraw_dataset/full/binary/squirrel.bin': {'num_bytes': 27086675, 'checksum': None}, 'https://storage.googleapis.com/quickdraw_dataset/full/binary/stairs.bin': {'num_bytes': 6982101, 'checksum': None}, 'https://storage.googleapis.com/quickdraw_dataset/full/binary/star.bin': {'num_bytes': 9855805, 'checksum': None}, 'https://storage.googleapis.com/quickdraw_dataset/full/binary/steak.bin': {'num_bytes': 14200070, 'checksum': None}, 'https://storage.googleapis.com/quickdraw_dataset/full/binary/stereo.bin': {'num_bytes': 17675424, 'checksum': None}, 'https://storage.googleapis.com/quickdraw_dataset/full/binary/stethoscope.bin': {'num_bytes': 18038834, 'checksum': None}, 'https://storage.googleapis.com/quickdraw_dataset/full/binary/stitches.bin': {'num_bytes': 10527108, 'checksum': None}, 'https://storage.googleapis.com/quickdraw_dataset/full/binary/stop sign.bin': {'num_bytes': 14848114, 'checksum': None}, 'https://storage.googleapis.com/quickdraw_dataset/full/binary/stove.bin': {'num_bytes': 21520973, 'checksum': None}, 'https://storage.googleapis.com/quickdraw_dataset/full/binary/strawberry.bin': {'num_bytes': 17098435, 'checksum': None}, 'https://storage.googleapis.com/quickdraw_dataset/full/binary/streetlight.bin': {'num_bytes': 9456766, 'checksum': None}, 'https://storage.googleapis.com/quickdraw_dataset/full/binary/string bean.bin': {'num_bytes': 10470725, 'checksum': None}, 'https://storage.googleapis.com/quickdraw_dataset/full/binary/submarine.bin': {'num_bytes': 13412234, 'checksum': None}, 'https://storage.googleapis.com/quickdraw_dataset/full/binary/suitcase.bin': {'num_bytes': 9310606, 'checksum': None}, 'https://storage.googleapis.com/quickdraw_dataset/full/binary/sun.bin': {'num_bytes': 15861503, 'checksum': None}, 'https://storage.googleapis.com/quickdraw_dataset/full/binary/swan.bin': {'num_bytes': 17181408, 'checksum': None}, 'https://storage.googleapis.com/quickdraw_dataset/full/binary/sweater.bin': {'num_bytes': 10796336, 'checksum': None}, 'https://storage.googleapis.com/quickdraw_dataset/full/binary/swing set.bin': {'num_bytes': 8847877, 'checksum': None}, 'https://storage.googleapis.com/quickdraw_dataset/full/binary/sword.bin': {'num_bytes': 9939580, 'checksum': None}, 'https://storage.googleapis.com/quickdraw_dataset/full/binary/syringe.bin': {'num_bytes': 13359417, 'checksum': None}, 'https://storage.googleapis.com/quickdraw_dataset/full/binary/t-shirt.bin': {'num_bytes': 9874833, 'checksum': None}, 'https://storage.googleapis.com/quickdraw_dataset/full/binary/table.bin': {'num_bytes': 9747025, 'checksum': None}, 'https://storage.googleapis.com/quickdraw_dataset/full/binary/teapot.bin': {'num_bytes': 14986816, 'checksum': None}, 'https://storage.googleapis.com/quickdraw_dataset/full/binary/teddy-bear.bin': {'num_bytes': 34872884, 'checksum': None}, 'https://storage.googleapis.com/quickdraw_dataset/full/binary/telephone.bin': {'num_bytes': 16799013, 'checksum': None}, 'https://storage.googleapis.com/quickdraw_dataset/full/binary/television.bin': {'num_bytes': 13323301, 'checksum': None}, 'https://storage.googleapis.com/quickdraw_dataset/full/binary/tennis racquet.bin': {'num_bytes': 31821393, 'checksum': None}, 'https://storage.googleapis.com/quickdraw_dataset/full/binary/tent.bin': {'num_bytes': 9260163, 'checksum': None}, 'https://storage.googleapis.com/quickdraw_dataset/full/binary/The Eiffel Tower.bin': {'num_bytes': 11243247, 'checksum': None}, 'https://storage.googleapis.com/quickdraw_dataset/full/binary/The Great Wall of China.bin': {'num_bytes': 21142497, 'checksum': None}, 'https://storage.googleapis.com/quickdraw_dataset/full/binary/The Mona Lisa.bin': {'num_bytes': 19934555, 'checksum': None}, 'https://storage.googleapis.com/quickdraw_dataset/full/binary/tiger.bin': {'num_bytes': 23929057, 'checksum': None}, 'https://storage.googleapis.com/quickdraw_dataset/full/binary/toaster.bin': {'num_bytes': 14492472, 'checksum': None}, 'https://storage.googleapis.com/quickdraw_dataset/full/binary/toe.bin': {'num_bytes': 15612710, 'checksum': None}, 'https://storage.googleapis.com/quickdraw_dataset/full/binary/toilet.bin': {'num_bytes': 14845250, 'checksum': None}, 'https://storage.googleapis.com/quickdraw_dataset/full/binary/tooth.bin': {'num_bytes': 10900550, 'checksum': None}, 'https://storage.googleapis.com/quickdraw_dataset/full/binary/toothbrush.bin': {'num_bytes': 11933796, 'checksum': None}, 'https://storage.googleapis.com/quickdraw_dataset/full/binary/toothpaste.bin': {'num_bytes': 11938107, 'checksum': None}, 'https://storage.googleapis.com/quickdraw_dataset/full/binary/tornado.bin': {'num_bytes': 29914043, 'checksum': None}, 'https://storage.googleapis.com/quickdraw_dataset/full/binary/tractor.bin': {'num_bytes': 17095979, 'checksum': None}, 'https://storage.googleapis.com/quickdraw_dataset/full/binary/traffic light.bin': {'num_bytes': 15387875, 'checksum': None}, 'https://storage.googleapis.com/quickdraw_dataset/full/binary/train.bin': {'num_bytes': 21901784, 'checksum': None}, 'https://storage.googleapis.com/quickdraw_dataset/full/binary/tree.bin': {'num_bytes': 20548291, 'checksum': None}, 'https://storage.googleapis.com/quickdraw_dataset/full/binary/triangle.bin': {'num_bytes': 6360640, 'checksum': None}, 'https://storage.googleapis.com/quickdraw_dataset/full/binary/trombone.bin': {'num_bytes': 22115745, 'checksum': None}, 'https://storage.googleapis.com/quickdraw_dataset/full/binary/truck.bin': {'num_bytes': 16806588, 'checksum': None}, 'https://storage.googleapis.com/quickdraw_dataset/full/binary/trumpet.bin': {'num_bytes': 18559637, 'checksum': None}, 'https://storage.googleapis.com/quickdraw_dataset/full/binary/umbrella.bin': {'num_bytes': 11510532, 'checksum': None}, 'https://storage.googleapis.com/quickdraw_dataset/full/binary/underwear.bin': {'num_bytes': 9311624, 'checksum': None}, 'https://storage.googleapis.com/quickdraw_dataset/full/binary/van.bin': {'num_bytes': 21674961, 'checksum': None}, 'https://storage.googleapis.com/quickdraw_dataset/full/binary/vase.bin': {'num_bytes': 11620701, 'checksum': None}, 'https://storage.googleapis.com/quickdraw_dataset/full/binary/violin.bin': {'num_bytes': 26564214, 'checksum': None}, 'https://storage.googleapis.com/quickdraw_dataset/full/binary/washing machine.bin': {'num_bytes': 14965885, 'checksum': None}, 'https://storage.googleapis.com/quickdraw_dataset/full/binary/watermelon.bin': {'num_bytes': 15737089, 'checksum': None}, 'https://storage.googleapis.com/quickdraw_dataset/full/binary/waterslide.bin': {'num_bytes': 18609880, 'checksum': None}, 'https://storage.googleapis.com/quickdraw_dataset/full/binary/whale.bin': {'num_bytes': 14079356, 'checksum': None}, 'https://storage.googleapis.com/quickdraw_dataset/full/binary/wheel.bin': {'num_bytes': 19598943, 'checksum': None}, 'https://storage.googleapis.com/quickdraw_dataset/full/binary/windmill.bin': {'num_bytes': 15150824, 'checksum': None}, 'https://storage.googleapis.com/quickdraw_dataset/full/binary/wine bottle.bin': {'num_bytes': 9221577, 'checksum': None}, 'https://storage.googleapis.com/quickdraw_dataset/full/binary/wine glass.bin': {'num_bytes': 11778704, 'checksum': None}, 'https://storage.googleapis.com/quickdraw_dataset/full/binary/wristwatch.bin': {'num_bytes': 20852465, 'checksum': None}, 'https://storage.googleapis.com/quickdraw_dataset/full/binary/yoga.bin': {'num_bytes': 32742290, 'checksum': None}, 'https://storage.googleapis.com/quickdraw_dataset/full/binary/zebra.bin': {'num_bytes': 25074676, 'checksum': None}, 'https://storage.googleapis.com/quickdraw_dataset/full/binary/zigzag.bin': {'num_bytes': 6992102, 'checksum': None}}, download_size=5889968422, post_processing_size=None, dataset_size=9166557708, size_in_bytes=15056526130)"
      ]
     },
     "execution_count": 28,
     "metadata": {},
     "output_type": "execute_result"
    }
   ],
   "source": [
    "ds_train.info"
   ]
  },
  {
   "cell_type": "code",
   "execution_count": 29,
   "id": "464a74a4",
   "metadata": {},
   "outputs": [
    {
     "data": {
      "text/plain": [
       "50426266"
      ]
     },
     "execution_count": 29,
     "metadata": {},
     "output_type": "execute_result"
    }
   ],
   "source": [
    "len(ds_train)"
   ]
  },
  {
   "cell_type": "code",
   "execution_count": 30,
   "id": "25867be1",
   "metadata": {},
   "outputs": [
    {
     "ename": "AttributeError",
     "evalue": "'Dataset' object has no attribute 'head'",
     "output_type": "error",
     "traceback": [
      "\u001b[0;31m---------------------------------------------------------------------------\u001b[0m",
      "\u001b[0;31mAttributeError\u001b[0m                            Traceback (most recent call last)",
      "\u001b[0;32m/tmp/ipykernel_99/3540012213.py\u001b[0m in \u001b[0;36m<module>\u001b[0;34m\u001b[0m\n\u001b[0;32m----> 1\u001b[0;31m \u001b[0mds_train\u001b[0m\u001b[0;34m.\u001b[0m\u001b[0mhead\u001b[0m\u001b[0;34m(\u001b[0m\u001b[0;34m)\u001b[0m\u001b[0;34m\u001b[0m\u001b[0;34m\u001b[0m\u001b[0m\n\u001b[0m",
      "\u001b[0;31mAttributeError\u001b[0m: 'Dataset' object has no attribute 'head'"
     ]
    }
   ],
   "source": [
    "ds_train.head()"
   ]
  },
  {
   "cell_type": "markdown",
   "id": "5b8b487c",
   "metadata": {},
   "source": []
  },
  {
   "cell_type": "code",
   "execution_count": null,
   "id": "1ed00bf9",
   "metadata": {},
   "outputs": [],
   "source": []
  }
 ],
 "metadata": {
  "kernelspec": {
   "display_name": "Python 3 (ipykernel)",
   "language": "python",
   "name": "python3"
  },
  "language_info": {
   "codemirror_mode": {
    "name": "ipython",
    "version": 3
   },
   "file_extension": ".py",
   "mimetype": "text/x-python",
   "name": "python",
   "nbconvert_exporter": "python",
   "pygments_lexer": "ipython3",
   "version": "3.9.7"
  },
  "toc": {
   "base_numbering": 1,
   "nav_menu": {},
   "number_sections": true,
   "sideBar": true,
   "skip_h1_title": false,
   "title_cell": "Table of Contents",
   "title_sidebar": "Contents",
   "toc_cell": false,
   "toc_position": {},
   "toc_section_display": true,
   "toc_window_display": false
  }
 },
 "nbformat": 4,
 "nbformat_minor": 5
}
