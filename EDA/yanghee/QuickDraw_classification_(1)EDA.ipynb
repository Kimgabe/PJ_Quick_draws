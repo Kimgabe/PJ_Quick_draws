{
 "cells": [
  {
   "cell_type": "markdown",
   "id": "edfa104d-6d21-449e-9354-ead7a4fea42a",
   "metadata": {},
   "source": [
    "# [SideThon] Quick, Draw!\n",
    "- AIFFEL AI Core 과정에서 온라인 7기 동기들과의 사이드 프로젝트입니다.\n",
    "- AI 모델링 경험 및 커뮤니케이션 역량 강화를 목적으로 진행합니다."
   ]
  },
  {
   "cell_type": "markdown",
   "id": "8323e0ae-be06-47f0-8c4c-a44881919a42",
   "metadata": {},
   "source": [
    "### 목차\n",
    "1. 데이터 준비하기\n",
    "2. 데이터 전처리\n",
    "3. 파이프라인 준비하기\n",
    "4. 모델링\n",
    "\n",
    "---"
   ]
  },
  {
   "cell_type": "markdown",
   "id": "42e96487-2a77-45de-bf95-bf39a72357b0",
   "metadata": {},
   "source": [
    "## 1. 데이터 준비하기\n",
    "### kaggle API로 데이터 다운로드 받기"
   ]
  },
  {
   "cell_type": "code",
   "execution_count": 1,
   "id": "4cf8cffd-5adb-4212-bdfc-9ec2fd51e7ad",
   "metadata": {},
   "outputs": [
    {
     "name": "stdout",
     "output_type": "stream",
     "text": [
      "Requirement already satisfied: kaggle in /opt/homebrew/anaconda3/lib/python3.11/site-packages (1.6.4)\n",
      "Requirement already satisfied: six>=1.10 in /opt/homebrew/anaconda3/lib/python3.11/site-packages (from kaggle) (1.16.0)\n",
      "Requirement already satisfied: certifi in /opt/homebrew/anaconda3/lib/python3.11/site-packages (from kaggle) (2023.11.17)\n",
      "Requirement already satisfied: python-dateutil in /opt/homebrew/anaconda3/lib/python3.11/site-packages (from kaggle) (2.8.2)\n",
      "Requirement already satisfied: requests in /opt/homebrew/anaconda3/lib/python3.11/site-packages (from kaggle) (2.31.0)\n",
      "Requirement already satisfied: tqdm in /opt/homebrew/anaconda3/lib/python3.11/site-packages (from kaggle) (4.65.0)\n",
      "Requirement already satisfied: python-slugify in /opt/homebrew/anaconda3/lib/python3.11/site-packages (from kaggle) (5.0.2)\n",
      "Requirement already satisfied: urllib3 in /opt/homebrew/anaconda3/lib/python3.11/site-packages (from kaggle) (1.26.18)\n",
      "Requirement already satisfied: bleach in /opt/homebrew/anaconda3/lib/python3.11/site-packages (from kaggle) (4.1.0)\n",
      "Requirement already satisfied: packaging in /opt/homebrew/anaconda3/lib/python3.11/site-packages (from bleach->kaggle) (23.1)\n",
      "Requirement already satisfied: webencodings in /opt/homebrew/anaconda3/lib/python3.11/site-packages (from bleach->kaggle) (0.5.1)\n",
      "Requirement already satisfied: text-unidecode>=1.3 in /opt/homebrew/anaconda3/lib/python3.11/site-packages (from python-slugify->kaggle) (1.3)\n",
      "Requirement already satisfied: charset-normalizer<4,>=2 in /opt/homebrew/anaconda3/lib/python3.11/site-packages (from requests->kaggle) (2.0.4)\n",
      "Requirement already satisfied: idna<4,>=2.5 in /opt/homebrew/anaconda3/lib/python3.11/site-packages (from requests->kaggle) (3.4)\n"
     ]
    }
   ],
   "source": [
    "# 캐글 API 접속을 위한 케글 설치\n",
    "\n",
    "!pip install kaggle"
   ]
  },
  {
   "cell_type": "code",
   "execution_count": 2,
   "id": "4a15a944-9fa6-4903-b8fa-59364e80714c",
   "metadata": {},
   "outputs": [
    {
     "name": "stdout",
     "output_type": "stream",
     "text": [
      "mkdir: QuickDraw.kaggel: File exists\n"
     ]
    }
   ],
   "source": [
    "# API Token 만들기\n",
    "\n",
    "!mkdir QuickDraw.kaggel"
   ]
  },
  {
   "cell_type": "code",
   "execution_count": 3,
   "id": "0ba6c9b0-de07-48fd-a8e8-7f06c12ed023",
   "metadata": {},
   "outputs": [
    {
     "name": "stdout",
     "output_type": "stream",
     "text": [
      "Name: kaggle\n",
      "Version: 1.6.4\n",
      "Summary: Kaggle API\n",
      "Home-page: https://github.com/Kaggle/kaggle-api\n",
      "Author: Kaggle\n",
      "Author-email: support@kaggle.com\n",
      "License: Apache 2.0\n",
      "Location: /opt/homebrew/anaconda3/lib/python3.11/site-packages\n",
      "Requires: bleach, certifi, python-dateutil, python-slugify, requests, six, tqdm, urllib3\n",
      "Required-by: opendatasets\n"
     ]
    }
   ],
   "source": [
    "!pip show kaggle"
   ]
  },
  {
   "cell_type": "code",
   "execution_count": 4,
   "id": "750926ce-6f4c-4720-8b18-28a793de0824",
   "metadata": {},
   "outputs": [],
   "source": [
    "# kaggle API 코드(kaggle.json)파일 경로 인식시켜 주기 위한 코드\n",
    "# kaggle.json 파일을 찾도록 Kaggle 명령줄 도구를 구성하여 Kaggle API로 인증\n",
    "\n",
    "import os\n",
    "cur_dir = os.getcwd()\n",
    "os.environ['KAGGLE_CONFIG_DIR'] = cur_dir"
   ]
  },
  {
   "cell_type": "code",
   "execution_count": 5,
   "id": "4ee68bdb-9dbf-4885-a365-f87d0cbbd930",
   "metadata": {},
   "outputs": [],
   "source": [
    "# import os: 환경 변수 액세스 및 파일 경로 조작을 포함하여 운영 체제와 상호 작용하는 방법을 제공하는 Python os 모듈을 가져옵니다.\n",
    "# cur_dir = os.getcwd(): 이 줄은 현재 작업 디렉터리(Python 스크립트가 실행되는 디렉터리)를 검색하여 이를 cur_dir 변수에 할당합니다.\n",
    "# os.environ['KAGGLE_CONFIG_DIR'] = cur_dir: 환경 변수 KAGGLE_CONFIG_DIR을 cur_dir 값으로 설정합니다. \n",
    "# KAGGLE_CONFIG_DIR 환경 변수는 Kaggle 명령줄 도구에서 API 자격 증명이 포함된 kaggle.json 파일이 위치해야 하는 디렉터리를 결정하는 데 사용됩니다."
   ]
  },
  {
   "cell_type": "code",
   "execution_count": 6,
   "id": "65526dde-6554-4ddc-88f7-3cbea787a74d",
   "metadata": {},
   "outputs": [
    {
     "name": "stdout",
     "output_type": "stream",
     "text": [
      "Warning: Your Kaggle API key is readable by other users on this system! To fix this, you can run 'chmod 600 /Users/yangh/Downloads/yh_project/kaggle.json'\n",
      "quickdraw-doodle-recognition.zip: Skipping, found more recently modified local copy (use --force to force download)\n"
     ]
    }
   ],
   "source": [
    "# data라는 폴더에 컴피티션에서 제공하는 데이터를 다운 받는 코드\n",
    "!kaggle competitions download -c quickdraw-doodle-recognition -p ./data"
   ]
  },
  {
   "cell_type": "code",
   "execution_count": 12,
   "id": "4cc983d0-0c3d-49c4-8072-cb2be425cfad",
   "metadata": {},
   "outputs": [],
   "source": [
    "# data 폴더에 있는 train 데이터를 unzip하는 코드\n",
    "# -o 는 덮어쓰기 가능을 의미\n",
    "# -q 는 quite로 실행중 자잘한 오류를 생략해주는 기능\n",
    "!unzip -q -o ./data/quickdraw-doodle-recognition.zip -d ./data/"
   ]
  },
  {
   "cell_type": "code",
   "execution_count": 14,
   "id": "b520eec5-019b-4d52-a05a-f3b6ece00d51",
   "metadata": {},
   "outputs": [
    {
     "name": "stdout",
     "output_type": "stream",
     "text": [
      "Filesystem        Size    Used   Avail Capacity iused ifree %iused  Mounted on\n",
      "/dev/disk3s1s1   926Gi   9.4Gi   420Gi     3%    394k  4.3G    0%   /\n",
      "devfs            199Ki   199Ki     0Bi   100%     692     0  100%   /dev\n",
      "/dev/disk3s6     926Gi    24Gi   420Gi     6%      24  4.4G    0%   /System/Volumes/VM\n",
      "/dev/disk3s2     926Gi   5.6Gi   420Gi     2%    1.1k  4.4G    0%   /System/Volumes/Preboot\n",
      "/dev/disk3s4     926Gi    32Mi   420Gi     1%      45  4.4G    0%   /System/Volumes/Update\n",
      "/dev/disk1s2     500Mi   6.0Mi   479Mi     2%       1  4.9M    0%   /System/Volumes/xarts\n",
      "/dev/disk1s1     500Mi   6.1Mi   479Mi     2%      25  4.9M    0%   /System/Volumes/iSCPreboot\n",
      "/dev/disk1s3     500Mi   3.8Mi   479Mi     1%      67  4.9M    0%   /System/Volumes/Hardware\n",
      "/dev/disk3s5     926Gi   466Gi   420Gi    53%    1.5M  4.4G    0%   /System/Volumes/Data\n",
      "map auto_home      0Bi     0Bi     0Bi   100%       0     0     -   /System/Volumes/Data/home\n"
     ]
    }
   ],
   "source": [
    "# 서버 용량 알아보기\n",
    "!df -h"
   ]
  },
  {
   "cell_type": "markdown",
   "id": "bf09df46-51ea-40ef-bcdd-ff4b6be855b1",
   "metadata": {},
   "source": [
    "## 활용할 데이터셋 살펴보기\n",
    "데이터셋은 아래와 같이 구분되어 있습니다.  \n",
    "- raw data : 실제 유저가 그린 데이터\n",
    "- simplified : 불필요한 포인트들이 제거된 데이터  \n",
    "\n",
    "용량의 이슈로 simplified dataset을 사용하겠습니다.  \n",
    "\n",
    "### train data"
   ]
  },
  {
   "cell_type": "code",
   "execution_count": 13,
   "id": "893e5c15-9180-430a-8f5b-e9afad31ba8c",
   "metadata": {},
   "outputs": [
    {
     "name": "stdout",
     "output_type": "stream",
     "text": [
      "  countrycode                                            drawing  \\\n",
      "0          US               [[[0, 126, 190, 255], [7, 1, 4, 0]]]   \n",
      "1          US     [[[0, 15, 115, 180, 251], [0, 6, 13, 27, 33]]]   \n",
      "2          AU  [[[32, 91, 255], [32, 48, 70]], [[179, 146, 47...   \n",
      "3          FI  [[[0, 9, 56, 92, 186, 255], [0, 10, 28, 36, 66...   \n",
      "4          UA     [[[0, 101, 155, 240, 255], [27, 11, 6, 4, 0]]]   \n",
      "\n",
      "             key_id  recognized                   timestamp  word  \n",
      "0  4819728134569984        True  2017-03-26 23:57:14.639540  line  \n",
      "1  6630630412517376        True  2017-03-08 19:27:39.942440  line  \n",
      "2  5532301360365568        True  2017-03-17 03:12:15.066140  line  \n",
      "3  5703119189049344        True  2017-03-17 14:13:12.645900  line  \n",
      "4  5859843703308288        True  2017-03-12 17:11:23.741940  line  \n"
     ]
    }
   ],
   "source": [
    "# csv 파일로 되어있는 데이터 불러오기\n",
    "\n",
    "import pandas as pd\n",
    "\n",
    "# train 데이터의 csv 파일이 있는 폴더 경로 설정\n",
    "folder_path = '/Users/yangh/Downloads/yh_project/data/train_simplified'\n",
    "# 각 csv 파일을 불러오기 위해 초기화\n",
    "dataframes = []\n",
    "\n",
    "# 폴더에 있는 csv파일 반복문으로 불러오기\n",
    "for file in os.listdir(folder_path):\n",
    "    if file.endswith('.csv'):\n",
    "        # csv파일 읽고 list에 추가하기\n",
    "        file_path = os.path.join(folder_path, file)\n",
    "        df = pd.read_csv(file_path)\n",
    "        dataframes.append(df)\n",
    "\n",
    "# 불러온 데이터 하나로 합치기 : 'dataframes' 목록에 저장된 DataFrame을 하나의 DataFrame으로 연결(결합)하고 원본 DataFrame의 인덱스는 무시\n",
    "train_df = pd.concat(dataframes, ignore_index=True)\n",
    "\n",
    "print(train_df.head())"
   ]
  },
  {
   "cell_type": "markdown",
   "id": "74b85aab-111c-47f1-9675-5e6f1c34973f",
   "metadata": {},
   "source": [
    "train dataset은 총 5개의 컬럼으로 구성되어 있습니다. \n",
    "- 전체 컬럼 : countrycode, drawing key_id, recognized, timestamp, word\n",
    "- countrycode : 그림이 그려진 곳의 국가 정보이므로, 이미지가 무엇인지 예측하는 것과는 연관성이 비교적 낮아 보입니다.\n",
    "- drawing : 실제 그림에 대한 내용이자 예측을 위한 정보로 보입니다.\n",
    "- recognized : 게임에서 그림을 정답 라벨과 맞게 인식했는지를 True/False로 표시한 bool 타입의 항목입니다.\n",
    "- timestamp : 그린 시간\n",
    "- word : 정답 라벨"
   ]
  },
  {
   "cell_type": "code",
   "execution_count": 46,
   "id": "b67f59da-5687-46ab-92e3-1f3e24c801aa",
   "metadata": {},
   "outputs": [
    {
     "ename": "IndexError",
     "evalue": "string index out of range",
     "output_type": "error",
     "traceback": [
      "\u001b[0;31m---------------------------------------------------------------------------\u001b[0m",
      "\u001b[0;31mIndexError\u001b[0m                                Traceback (most recent call last)",
      "Cell \u001b[0;32mIn[46], line 9\u001b[0m\n\u001b[1;32m      7\u001b[0m plt\u001b[38;5;241m.\u001b[39mfigure(figsize\u001b[38;5;241m=\u001b[39m(\u001b[38;5;241m6\u001b[39m, \u001b[38;5;241m4\u001b[39m))\n\u001b[1;32m      8\u001b[0m \u001b[38;5;28;01mfor\u001b[39;00m coordinates \u001b[38;5;129;01min\u001b[39;00m first_drawing_data:\n\u001b[0;32m----> 9\u001b[0m     plt\u001b[38;5;241m.\u001b[39mplot(coordinates[\u001b[38;5;241m0\u001b[39m], coordinates[\u001b[38;5;241m1\u001b[39m], marker\u001b[38;5;241m=\u001b[39m\u001b[38;5;124m'\u001b[39m\u001b[38;5;124mo\u001b[39m\u001b[38;5;124m'\u001b[39m)  \u001b[38;5;66;03m# x, y 좌표\u001b[39;00m\n\u001b[1;32m     10\u001b[0m plt\u001b[38;5;241m.\u001b[39mtitle(\u001b[38;5;124m'\u001b[39m\u001b[38;5;124mFirst Drawing\u001b[39m\u001b[38;5;124m'\u001b[39m)\n\u001b[1;32m     11\u001b[0m plt\u001b[38;5;241m.\u001b[39mxlabel(\u001b[38;5;124m'\u001b[39m\u001b[38;5;124mX\u001b[39m\u001b[38;5;124m'\u001b[39m)\n",
      "\u001b[0;31mIndexError\u001b[0m: string index out of range"
     ]
    },
    {
     "data": {
      "text/plain": [
       "<Figure size 600x400 with 0 Axes>"
      ]
     },
     "metadata": {},
     "output_type": "display_data"
    }
   ],
   "source": [
    "import matplotlib.pyplot as plt\n",
    "\n",
    "# \"drawing\" column의 첫번째 데이터 추출하기\n",
    "first_drawing_data = df.loc[0, 'drawing']\n",
    "\n",
    "# 시각화 하기\n",
    "plt.figure(figsize=(6, 4))\n",
    "for coordinates in first_drawing_data:\n",
    "    plt.plot(coordinates[0], coordinates[1], marker='o')  # x, y 좌표\n",
    "plt.title('First Drawing')\n",
    "plt.xlabel('X')\n",
    "plt.ylabel('Y')\n",
    "plt.grid(True)\n",
    "plt.show()"
   ]
  },
  {
   "cell_type": "markdown",
   "id": "b4d5e921-bb69-4656-9d6f-ffc2f00860be",
   "metadata": {},
   "source": [
    "\"IndexError: 문자열 인덱스가 범위를 벗어났습니다.\" 오류는 범위를 벗어난 문자열 인덱스에 액세스하려고 함을 나타냅니다.  \n",
    "이는 좌표가 좌표 목록이 아닌 문자열로 해석되고 있음을 의미합니다.  \n",
    "'좌표'가 좌표 목록으로 처리되도록 플롯하기 전에 문자열을 구문 분석하고 적절한 목록 형식으로 변환합니다."
   ]
  },
  {
   "cell_type": "code",
   "execution_count": 47,
   "id": "007d1db7-7d31-472f-95d5-b8a4900c8c18",
   "metadata": {},
   "outputs": [
    {
     "data": {
      "image/png": "[encoded data removed]",
      "text/plain": [
       "<Figure size 600x400 with 1 Axes>"
      ]
     },
     "metadata": {},
     "output_type": "display_data"
    }
   ],
   "source": [
    "import ast\n",
    "import matplotlib.pyplot as plt\n",
    "\n",
    "# \"drawing\" column의 첫번째 데이터 추출하고 string 형태에서 list 형태로 변환하기\n",
    "first_drawing_data = ast.literal_eval(df.loc[0, 'drawing'])\n",
    "\n",
    "# 시각화 하기\n",
    "plt.figure(figsize=(6, 4))\n",
    "for coordinates in first_drawing_data:\n",
    "    plt.plot(coordinates[0], coordinates[1], marker='o')   # x, y 좌표\n",
    "plt.title('First Drawing')\n",
    "plt.xlabel('X')\n",
    "plt.ylabel('Y')\n",
    "plt.grid(True)\n",
    "plt.show()"
   ]
  },
  {
   "cell_type": "markdown",
   "id": "0eee8b5a-cdb7-40a7-b6f1-0c83369f4281",
   "metadata": {},
   "source": [
    "drawing 컬럼의 숫자들을 좌표 정보를 나타냄을 알 수 있습니다."
   ]
  },
  {
   "cell_type": "markdown",
   "id": "9e57ed51-2fd2-451f-b912-64a0eafaa7cf",
   "metadata": {},
   "source": [
    "### test data\n",
    "test dataset은 아래와 같이 key_id, countrycode, drawing 총 3개의 컬럼으로 구성되어 있습니다."
   ]
  },
  {
   "cell_type": "code",
   "execution_count": 15,
   "id": "ac6676da-4545-46b4-b792-7b471bd5195f",
   "metadata": {},
   "outputs": [
    {
     "data": {
      "text/html": [
       "<div>\n",
       "<style scoped>\n",
       "    .dataframe tbody tr th:only-of-type {\n",
       "        vertical-align: middle;\n",
       "    }\n",
       "\n",
       "    .dataframe tbody tr th {\n",
       "        vertical-align: top;\n",
       "    }\n",
       "\n",
       "    .dataframe thead th {\n",
       "        text-align: right;\n",
       "    }\n",
       "</style>\n",
       "<table border=\"1\" class=\"dataframe\">\n",
       "  <thead>\n",
       "    <tr style=\"text-align: right;\">\n",
       "      <th></th>\n",
       "      <th>key_id</th>\n",
       "      <th>countrycode</th>\n",
       "      <th>drawing</th>\n",
       "    </tr>\n",
       "  </thead>\n",
       "  <tbody>\n",
       "    <tr>\n",
       "      <th>0</th>\n",
       "      <td>9000003627287624</td>\n",
       "      <td>DE</td>\n",
       "      <td>[[[17, 18, 20, 25, 137, 174, 242, 249, 251, 25...</td>\n",
       "    </tr>\n",
       "    <tr>\n",
       "      <th>1</th>\n",
       "      <td>9000010688666847</td>\n",
       "      <td>UA</td>\n",
       "      <td>[[[174, 145, 106, 38, 11, 4, 4, 15, 29, 78, 16...</td>\n",
       "    </tr>\n",
       "    <tr>\n",
       "      <th>2</th>\n",
       "      <td>9000023642890129</td>\n",
       "      <td>BG</td>\n",
       "      <td>[[[0, 12, 14, 17, 16, 24, 55, 57, 60, 79, 82, ...</td>\n",
       "    </tr>\n",
       "    <tr>\n",
       "      <th>3</th>\n",
       "      <td>9000038588854897</td>\n",
       "      <td>US</td>\n",
       "      <td>[[[0, 9, 23, 40, 54, 60, 81, 105, 123, 167, 20...</td>\n",
       "    </tr>\n",
       "    <tr>\n",
       "      <th>4</th>\n",
       "      <td>9000052667981386</td>\n",
       "      <td>AR</td>\n",
       "      <td>[[[87, 82, 71, 63, 66, 92, 96, 95], [220, 218,...</td>\n",
       "    </tr>\n",
       "  </tbody>\n",
       "</table>\n",
       "</div>"
      ],
      "text/plain": [
       "             key_id countrycode  \\\n",
       "0  9000003627287624          DE   \n",
       "1  9000010688666847          UA   \n",
       "2  9000023642890129          BG   \n",
       "3  9000038588854897          US   \n",
       "4  9000052667981386          AR   \n",
       "\n",
       "                                             drawing  \n",
       "0  [[[17, 18, 20, 25, 137, 174, 242, 249, 251, 25...  \n",
       "1  [[[174, 145, 106, 38, 11, 4, 4, 15, 29, 78, 16...  \n",
       "2  [[[0, 12, 14, 17, 16, 24, 55, 57, 60, 79, 82, ...  \n",
       "3  [[[0, 9, 23, 40, 54, 60, 81, 105, 123, 167, 20...  \n",
       "4  [[[87, 82, 71, 63, 66, 92, 96, 95], [220, 218,...  "
      ]
     },
     "execution_count": 15,
     "metadata": {},
     "output_type": "execute_result"
    }
   ],
   "source": [
    "test_df = pd.read_csv(\"/Users/yangh/Downloads/yh_project/data/test_simplified.csv\")\n",
    "\n",
    "test_df.head()"
   ]
  },
  {
   "cell_type": "markdown",
   "id": "07310921-1105-46d1-942e-f600a2bd7576",
   "metadata": {},
   "source": [
    "### 제출 형식 확인\n",
    "sample_submission.csv 파일로 제출 형식을 확인합니다.  \n",
    "key_id, word라는 2개의 컬럼으로 구성되어 있으며, 캐글 소개 페이지의 내용처럼 예측한 단어는 공백으로 구분되어 있습니다."
   ]
  },
  {
   "cell_type": "code",
   "execution_count": 18,
   "id": "efd5fa3f-24fd-4b8e-8fb7-1abe40d248f1",
   "metadata": {},
   "outputs": [
    {
     "data": {
      "text/html": [
       "<div>\n",
       "<style scoped>\n",
       "    .dataframe tbody tr th:only-of-type {\n",
       "        vertical-align: middle;\n",
       "    }\n",
       "\n",
       "    .dataframe tbody tr th {\n",
       "        vertical-align: top;\n",
       "    }\n",
       "\n",
       "    .dataframe thead th {\n",
       "        text-align: right;\n",
       "    }\n",
       "</style>\n",
       "<table border=\"1\" class=\"dataframe\">\n",
       "  <thead>\n",
       "    <tr style=\"text-align: right;\">\n",
       "      <th></th>\n",
       "      <th>key_id</th>\n",
       "      <th>word</th>\n",
       "    </tr>\n",
       "  </thead>\n",
       "  <tbody>\n",
       "    <tr>\n",
       "      <th>0</th>\n",
       "      <td>9000003627287624</td>\n",
       "      <td>The_Eiffel_Tower airplane donut</td>\n",
       "    </tr>\n",
       "    <tr>\n",
       "      <th>1</th>\n",
       "      <td>9000010688666847</td>\n",
       "      <td>The_Eiffel_Tower airplane donut</td>\n",
       "    </tr>\n",
       "    <tr>\n",
       "      <th>2</th>\n",
       "      <td>9000023642890129</td>\n",
       "      <td>The_Eiffel_Tower airplane donut</td>\n",
       "    </tr>\n",
       "    <tr>\n",
       "      <th>3</th>\n",
       "      <td>9000038588854897</td>\n",
       "      <td>The_Eiffel_Tower airplane donut</td>\n",
       "    </tr>\n",
       "    <tr>\n",
       "      <th>4</th>\n",
       "      <td>9000052667981386</td>\n",
       "      <td>The_Eiffel_Tower airplane donut</td>\n",
       "    </tr>\n",
       "  </tbody>\n",
       "</table>\n",
       "</div>"
      ],
      "text/plain": [
       "             key_id                             word\n",
       "0  9000003627287624  The_Eiffel_Tower airplane donut\n",
       "1  9000010688666847  The_Eiffel_Tower airplane donut\n",
       "2  9000023642890129  The_Eiffel_Tower airplane donut\n",
       "3  9000038588854897  The_Eiffel_Tower airplane donut\n",
       "4  9000052667981386  The_Eiffel_Tower airplane donut"
      ]
     },
     "execution_count": 18,
     "metadata": {},
     "output_type": "execute_result"
    }
   ],
   "source": [
    "# 제출 형식 확인\n",
    "\n",
    "submission_df = pd.read_csv(\"/Users/yangh/Downloads/yh_project/data/sample_submission.csv\")\n",
    "submission_df.head()"
   ]
  },
  {
   "cell_type": "markdown",
   "id": "f11bf6bf-de02-48c7-a795-e213be235e6e",
   "metadata": {},
   "source": [
    "## 2. 데이터 전처리\n",
    "\n",
    "- 예측할 정답 라벨 확인 : 총 라벨 개수\n",
    "- 데이터 분포, 균형 확인 : 어떤 라벨의 데이터가 많은지? 확인하기\n",
    "- True, False 비율 확인"
   ]
  },
  {
   "cell_type": "code",
   "execution_count": 24,
   "id": "670bd510-b752-4988-9f54-81071fe4aa97",
   "metadata": {},
   "outputs": [
    {
     "name": "stdout",
     "output_type": "stream",
     "text": [
      "<class 'pandas.core.frame.DataFrame'>\n",
      "RangeIndex: 49707579 entries, 0 to 49707578\n",
      "Data columns (total 6 columns):\n",
      " #   Column       Dtype \n",
      "---  ------       ----- \n",
      " 0   countrycode  object\n",
      " 1   drawing      object\n",
      " 2   key_id       int64 \n",
      " 3   recognized   bool  \n",
      " 4   timestamp    object\n",
      " 5   word         object\n",
      "dtypes: bool(1), int64(1), object(4)\n",
      "memory usage: 1.9+ GB\n",
      "None\n",
      "<class 'pandas.core.frame.DataFrame'>\n",
      "RangeIndex: 112199 entries, 0 to 112198\n",
      "Data columns (total 3 columns):\n",
      " #   Column       Non-Null Count   Dtype \n",
      "---  ------       --------------   ----- \n",
      " 0   key_id       112199 non-null  int64 \n",
      " 1   countrycode  112198 non-null  object\n",
      " 2   drawing      112199 non-null  object\n",
      "dtypes: int64(1), object(2)\n",
      "memory usage: 2.6+ MB\n",
      "None\n"
     ]
    }
   ],
   "source": [
    "# 데이터 정보 확인\n",
    "print(train_df.info())\n",
    "print(test_df.info())"
   ]
  },
  {
   "cell_type": "markdown",
   "id": "b7cd9595-1fb8-492e-9617-fca5c39eed17",
   "metadata": {},
   "source": [
    "- train data의 행의 개수 : 총 49,707,579개 \n",
    "- test data의 행의 개수 : 총 112,199개로 이는 예측해야 하는 정답 라벨의 개수입니다."
   ]
  },
  {
   "cell_type": "code",
   "execution_count": 30,
   "id": "44dbbb93-84e9-4ae0-96d6-f175fa0d3af1",
   "metadata": {},
   "outputs": [
    {
     "data": {
      "text/plain": [
       "0.002252097550494906"
      ]
     },
     "execution_count": 30,
     "metadata": {},
     "output_type": "execute_result"
    }
   ],
   "source": [
    "# train : test data 비율\n",
    "len(test_df) / (len(train_df)+len(test_df))"
   ]
  },
  {
   "cell_type": "markdown",
   "id": "fd8855f7-94ef-41ed-b5f5-3360ab65e7f5",
   "metadata": {},
   "source": [
    "- train data 대비 test data는 0.2% 수준으로 학습 데이터의 양은 충분해보입니다.\n",
    "\n",
    "- Null 값은 아래와 같이 countrycode에서만 발견됩니다."
   ]
  },
  {
   "cell_type": "code",
   "execution_count": 31,
   "id": "6d5f4c8e-159e-45be-bcc8-df6de93aa236",
   "metadata": {},
   "outputs": [
    {
     "data": {
      "text/plain": [
       "<Axes: >"
      ]
     },
     "execution_count": 31,
     "metadata": {},
     "output_type": "execute_result"
    },
    {
     "data": {
      "image/png": "[encoded data removed]",
      "text/plain": [
       "<Figure size 1000x900 with 1 Axes>"
      ]
     },
     "metadata": {},
     "output_type": "display_data"
    }
   ],
   "source": [
    "# Null 값 분포 시각화 : 각 열마다 Null의 개수를 모두 합쳐서 그래프 그리기\n",
    "\n",
    "train_df.isnull().sum().plot.barh(figsize=(10,9))"
   ]
  },
  {
   "cell_type": "markdown",
   "id": "9af1de5c-cb8f-4a0f-8bd5-74789c8f079d",
   "metadata": {},
   "source": [
    "### countrycode 열 삭제하기\n",
    "- 학습 데이터의 양이 충분하며, countrycode 데이터는 그림을 표현하는 단어 예측에 중요하지 않은 단어이므로 컬럼 자체를 삭제하겠습니다."
   ]
  },
  {
   "cell_type": "code",
   "execution_count": 35,
   "id": "6174962c-ca81-431b-90f5-77cf1f8d9eb8",
   "metadata": {},
   "outputs": [],
   "source": [
    "# 데이터프레임 복사본 만들기\n",
    "new_train_df = train_df.copy()"
   ]
  },
  {
   "cell_type": "code",
   "execution_count": 36,
   "id": "3a76cbbd-13b9-4c84-bb9f-602229c9bdd4",
   "metadata": {},
   "outputs": [
    {
     "data": {
      "text/html": [
       "<div>\n",
       "<style scoped>\n",
       "    .dataframe tbody tr th:only-of-type {\n",
       "        vertical-align: middle;\n",
       "    }\n",
       "\n",
       "    .dataframe tbody tr th {\n",
       "        vertical-align: top;\n",
       "    }\n",
       "\n",
       "    .dataframe thead th {\n",
       "        text-align: right;\n",
       "    }\n",
       "</style>\n",
       "<table border=\"1\" class=\"dataframe\">\n",
       "  <thead>\n",
       "    <tr style=\"text-align: right;\">\n",
       "      <th></th>\n",
       "      <th>drawing</th>\n",
       "      <th>key_id</th>\n",
       "      <th>recognized</th>\n",
       "      <th>timestamp</th>\n",
       "      <th>word</th>\n",
       "    </tr>\n",
       "  </thead>\n",
       "  <tbody>\n",
       "    <tr>\n",
       "      <th>0</th>\n",
       "      <td>[[[0, 126, 190, 255], [7, 1, 4, 0]]]</td>\n",
       "      <td>4819728134569984</td>\n",
       "      <td>True</td>\n",
       "      <td>2017-03-26 23:57:14.639540</td>\n",
       "      <td>line</td>\n",
       "    </tr>\n",
       "    <tr>\n",
       "      <th>1</th>\n",
       "      <td>[[[0, 15, 115, 180, 251], [0, 6, 13, 27, 33]]]</td>\n",
       "      <td>6630630412517376</td>\n",
       "      <td>True</td>\n",
       "      <td>2017-03-08 19:27:39.942440</td>\n",
       "      <td>line</td>\n",
       "    </tr>\n",
       "    <tr>\n",
       "      <th>2</th>\n",
       "      <td>[[[32, 91, 255], [32, 48, 70]], [[179, 146, 47...</td>\n",
       "      <td>5532301360365568</td>\n",
       "      <td>True</td>\n",
       "      <td>2017-03-17 03:12:15.066140</td>\n",
       "      <td>line</td>\n",
       "    </tr>\n",
       "    <tr>\n",
       "      <th>3</th>\n",
       "      <td>[[[0, 9, 56, 92, 186, 255], [0, 10, 28, 36, 66...</td>\n",
       "      <td>5703119189049344</td>\n",
       "      <td>True</td>\n",
       "      <td>2017-03-17 14:13:12.645900</td>\n",
       "      <td>line</td>\n",
       "    </tr>\n",
       "    <tr>\n",
       "      <th>4</th>\n",
       "      <td>[[[0, 101, 155, 240, 255], [27, 11, 6, 4, 0]]]</td>\n",
       "      <td>5859843703308288</td>\n",
       "      <td>True</td>\n",
       "      <td>2017-03-12 17:11:23.741940</td>\n",
       "      <td>line</td>\n",
       "    </tr>\n",
       "  </tbody>\n",
       "</table>\n",
       "</div>"
      ],
      "text/plain": [
       "                                             drawing            key_id  \\\n",
       "0               [[[0, 126, 190, 255], [7, 1, 4, 0]]]  4819728134569984   \n",
       "1     [[[0, 15, 115, 180, 251], [0, 6, 13, 27, 33]]]  6630630412517376   \n",
       "2  [[[32, 91, 255], [32, 48, 70]], [[179, 146, 47...  5532301360365568   \n",
       "3  [[[0, 9, 56, 92, 186, 255], [0, 10, 28, 36, 66...  5703119189049344   \n",
       "4     [[[0, 101, 155, 240, 255], [27, 11, 6, 4, 0]]]  5859843703308288   \n",
       "\n",
       "   recognized                   timestamp  word  \n",
       "0        True  2017-03-26 23:57:14.639540  line  \n",
       "1        True  2017-03-08 19:27:39.942440  line  \n",
       "2        True  2017-03-17 03:12:15.066140  line  \n",
       "3        True  2017-03-17 14:13:12.645900  line  \n",
       "4        True  2017-03-12 17:11:23.741940  line  "
      ]
     },
     "execution_count": 36,
     "metadata": {},
     "output_type": "execute_result"
    }
   ],
   "source": [
    "# 복사본에서 countrycode 열 삭제하기\n",
    "new_train_df = new_train_df.drop(columns='countrycode', axis=1, inplace=False)\n",
    "new_train_df.head()"
   ]
  },
  {
   "cell_type": "code",
   "execution_count": 37,
   "id": "182c1c1c-04eb-4fe5-bfe5-eb730e7dd2dd",
   "metadata": {},
   "outputs": [
    {
     "name": "stdout",
     "output_type": "stream",
     "text": [
      "라벨 총 개수:  340\n",
      "['line' 'bucket' 'bus' 'cello' 'ocean' 'truck' 'camouflage' 'harp'\n",
      " 'telephone' 'stairs' 'star' 'guitar' 'sandwich' 'sun' 'feather' 'leaf'\n",
      " 'toilet' 'strawberry' 'waterslide' 'bottlecap' 'coffee cup' 'banana'\n",
      " 'dresser' 'house plant' 'skateboard' 'skyscraper' 'pizza' 'hammer'\n",
      " 'teapot' 'giraffe' 'underwear' 'snowman' 'monkey' 'computer' 'pencil'\n",
      " 'shovel' 'necklace' 'compass' 'bat' 'bicycle' 'teddy-bear' 'scorpion'\n",
      " 'hot dog' 'fish' 'see saw' 'rain' 'snail' 'sink' 'belt' 'speedboat'\n",
      " 'pants' 'trombone' 'crocodile' 'broccoli' 'hedgehog' 'rainbow' 'fork'\n",
      " 'bulldozer' 'sock' 'snake' 'paper clip' 'bear' 'marker' 'birthday cake'\n",
      " 'saxophone' 'rake' 'stethoscope' 'broom' 'crown' 'square' 'fire hydrant'\n",
      " 'jail' 'donut' 'oven' 'beard' 'yoga' 'The Eiffel Tower' 'camera' 'purse'\n",
      " 'ice cream' 'pig' 'trumpet' 'table' 'bush' 'rollerskates' 'goatee' 'cup'\n",
      " 'anvil' 'suitcase' 'chair' 'drill' 'peanut' 'squirrel' 'matches' 'sword'\n",
      " 'cat' 'toe' 'snorkel' 'pond' 'calculator' 'airplane' 'squiggle'\n",
      " 'blackberry' 'ear' 'frying pan' 'chandelier' 'lollipop' 'binoculars'\n",
      " 'garden' 'basket' 'penguin' 'washing machine' 'canoe' 'screwdriver'\n",
      " 'beach' 'eyeglasses' 'mouse' 'apple' 'van' 'grapes' 'grass' 'watermelon'\n",
      " 'floor lamp' 'moon' 'zigzag' 'nail' 'leg' 'smiley face' 'octagon'\n",
      " 'dumbbell' 'sweater' 'stitches' 'tractor' 'foot' 'helmet' 'basketball'\n",
      " 'crab' 'clock' 'diamond' 'car' 'axe' 'traffic light' 'sleeping bag'\n",
      " 'baseball' 'eye' 'flower' 'hot air balloon' 'tree' 'wine bottle'\n",
      " 'hot tub' 'peas' 'door' 'calendar' 'wine glass' 'stove' 'hockey stick'\n",
      " 'toothpaste' 'moustache' 'mountain' 'tooth' 'cannon' 'firetruck' 'shorts'\n",
      " 'stereo' 'cloud' 'paintbrush' 'pear' 'dishwasher' 'laptop' 'frog' 'vase'\n",
      " 'diving board' 'backpack' 'lobster' 'golf club' 'garden hose' 'hexagon'\n",
      " 'bird' 'finger' 'animal migration' 'steak' 'mailbox' 'shark' 'television'\n",
      " 'mermaid' 'cow' 'crayon' 'palm tree' 'windmill' 'cookie' 'kangaroo'\n",
      " 'blueberry' 'tiger' 'tennis racquet' 'dragon' 'cell phone' 'pineapple'\n",
      " 'candle' 'sheep' 'cactus' 'angel' 'mosquito' 'church' 'couch'\n",
      " 'The Great Wall of China' 'tornado' 'jacket' 'nose' 'octopus' 'motorbike'\n",
      " 'bracelet' 'brain' 'The Mona Lisa' 'toothbrush' 'carrot' 'barn'\n",
      " 'microphone' 'zebra' 'map' 'camel' 'wheel' 'bridge' 'lighthouse'\n",
      " 'spreadsheet' 'hockey puck' 'wristwatch' 'helicopter' 'swan' 'flamingo'\n",
      " 'eraser' 'bee' 'flashlight' 'megaphone' 'ladder' 'shoe' 'asparagus'\n",
      " 't-shirt' 'passport' 'hand' 'triangle' 'lightning' 'mug' 'submarine'\n",
      " 'violin' 'owl' 'scissors' 'baseball bat' 'string bean' 'lantern' 'house'\n",
      " 'elbow' 'power outlet' 'stop sign' 'bed' 'school bus' 'hamburger'\n",
      " 'lipstick' 'light bulb' 'flip flops' 'alarm clock' 'ant' 'face'\n",
      " 'microwave' 'hourglass' 'panda' 'pool' 'circle' 'onion' 'raccoon'\n",
      " 'bowtie' 'umbrella' 'butterfly' 'fireplace' 'skull' 'train' 'mouth' 'hat'\n",
      " 'drums' 'book' 'radio' 'roller coaster' 'snowflake' 'piano' 'rhinoceros'\n",
      " 'cake' 'toaster' 'paint can' 'knee' 'spider' 'tent' 'rabbit' 'clarinet'\n",
      " 'whale' 'boomerang' 'hospital' 'ceiling fan' 'saw' 'pillow' 'fence' 'dog'\n",
      " 'duck' 'parrot' 'swing set' 'spoon' 'fan' 'cruise ship' 'picture frame'\n",
      " 'mushroom' 'headphones' 'horse' 'flying saucer' 'lion' 'postcard' 'bench'\n",
      " 'keyboard' 'parachute' 'streetlight' 'arm' 'police car' 'sailboat'\n",
      " 'cooler' 'bathtub' 'campfire' 'hurricane' 'soccer ball' 'potato'\n",
      " 'dolphin' 'key' 'elephant' 'sea turtle' 'popsicle' 'envelope'\n",
      " 'pickup truck' 'remote control' 'ambulance' 'pliers' 'bread' 'castle'\n",
      " 'river' 'bandage']\n"
     ]
    }
   ],
   "source": [
    "# 복사본 데이터셋의 라벨과 라벨 개수 확인하기 : 단어의 고유값 확인 (중복 없는)\n",
    "print('라벨 총 개수: ', len(new_train_df['word'].unique()))\n",
    "print(new_train_df['word'].unique())"
   ]
  },
  {
   "cell_type": "markdown",
   "id": "324a4871-17f7-4a2c-945c-fc0722302f91",
   "metadata": {},
   "source": [
    "- countrycode 컬럼을 삭제한 데이터프레임과 아래 원본 데이터프레임의 총 라벨 개수는 동일합니다.   \n",
    "- 따라서 countrycode 컬럼을 삭제한 데이터프레임으로 계속해서 작업을 진행합니다."
   ]
  },
  {
   "cell_type": "code",
   "execution_count": 22,
   "id": "73ee189d-6300-4e8a-8c64-1c0bb2e6f249",
   "metadata": {},
   "outputs": [
    {
     "name": "stdout",
     "output_type": "stream",
     "text": [
      "라벨 총 개수:  340\n",
      "['line' 'bucket' 'bus' 'cello' 'ocean' 'truck' 'camouflage' 'harp'\n",
      " 'telephone' 'stairs' 'star' 'guitar' 'sandwich' 'sun' 'feather' 'leaf'\n",
      " 'toilet' 'strawberry' 'waterslide' 'bottlecap' 'coffee cup' 'banana'\n",
      " 'dresser' 'house plant' 'skateboard' 'skyscraper' 'pizza' 'hammer'\n",
      " 'teapot' 'giraffe' 'underwear' 'snowman' 'monkey' 'computer' 'pencil'\n",
      " 'shovel' 'necklace' 'compass' 'bat' 'bicycle' 'teddy-bear' 'scorpion'\n",
      " 'hot dog' 'fish' 'see saw' 'rain' 'snail' 'sink' 'belt' 'speedboat'\n",
      " 'pants' 'trombone' 'crocodile' 'broccoli' 'hedgehog' 'rainbow' 'fork'\n",
      " 'bulldozer' 'sock' 'snake' 'paper clip' 'bear' 'marker' 'birthday cake'\n",
      " 'saxophone' 'rake' 'stethoscope' 'broom' 'crown' 'square' 'fire hydrant'\n",
      " 'jail' 'donut' 'oven' 'beard' 'yoga' 'The Eiffel Tower' 'camera' 'purse'\n",
      " 'ice cream' 'pig' 'trumpet' 'table' 'bush' 'rollerskates' 'goatee' 'cup'\n",
      " 'anvil' 'suitcase' 'chair' 'drill' 'peanut' 'squirrel' 'matches' 'sword'\n",
      " 'cat' 'toe' 'snorkel' 'pond' 'calculator' 'airplane' 'squiggle'\n",
      " 'blackberry' 'ear' 'frying pan' 'chandelier' 'lollipop' 'binoculars'\n",
      " 'garden' 'basket' 'penguin' 'washing machine' 'canoe' 'screwdriver'\n",
      " 'beach' 'eyeglasses' 'mouse' 'apple' 'van' 'grapes' 'grass' 'watermelon'\n",
      " 'floor lamp' 'moon' 'zigzag' 'nail' 'leg' 'smiley face' 'octagon'\n",
      " 'dumbbell' 'sweater' 'stitches' 'tractor' 'foot' 'helmet' 'basketball'\n",
      " 'crab' 'clock' 'diamond' 'car' 'axe' 'traffic light' 'sleeping bag'\n",
      " 'baseball' 'eye' 'flower' 'hot air balloon' 'tree' 'wine bottle'\n",
      " 'hot tub' 'peas' 'door' 'calendar' 'wine glass' 'stove' 'hockey stick'\n",
      " 'toothpaste' 'moustache' 'mountain' 'tooth' 'cannon' 'firetruck' 'shorts'\n",
      " 'stereo' 'cloud' 'paintbrush' 'pear' 'dishwasher' 'laptop' 'frog' 'vase'\n",
      " 'diving board' 'backpack' 'lobster' 'golf club' 'garden hose' 'hexagon'\n",
      " 'bird' 'finger' 'animal migration' 'steak' 'mailbox' 'shark' 'television'\n",
      " 'mermaid' 'cow' 'crayon' 'palm tree' 'windmill' 'cookie' 'kangaroo'\n",
      " 'blueberry' 'tiger' 'tennis racquet' 'dragon' 'cell phone' 'pineapple'\n",
      " 'candle' 'sheep' 'cactus' 'angel' 'mosquito' 'church' 'couch'\n",
      " 'The Great Wall of China' 'tornado' 'jacket' 'nose' 'octopus' 'motorbike'\n",
      " 'bracelet' 'brain' 'The Mona Lisa' 'toothbrush' 'carrot' 'barn'\n",
      " 'microphone' 'zebra' 'map' 'camel' 'wheel' 'bridge' 'lighthouse'\n",
      " 'spreadsheet' 'hockey puck' 'wristwatch' 'helicopter' 'swan' 'flamingo'\n",
      " 'eraser' 'bee' 'flashlight' 'megaphone' 'ladder' 'shoe' 'asparagus'\n",
      " 't-shirt' 'passport' 'hand' 'triangle' 'lightning' 'mug' 'submarine'\n",
      " 'violin' 'owl' 'scissors' 'baseball bat' 'string bean' 'lantern' 'house'\n",
      " 'elbow' 'power outlet' 'stop sign' 'bed' 'school bus' 'hamburger'\n",
      " 'lipstick' 'light bulb' 'flip flops' 'alarm clock' 'ant' 'face'\n",
      " 'microwave' 'hourglass' 'panda' 'pool' 'circle' 'onion' 'raccoon'\n",
      " 'bowtie' 'umbrella' 'butterfly' 'fireplace' 'skull' 'train' 'mouth' 'hat'\n",
      " 'drums' 'book' 'radio' 'roller coaster' 'snowflake' 'piano' 'rhinoceros'\n",
      " 'cake' 'toaster' 'paint can' 'knee' 'spider' 'tent' 'rabbit' 'clarinet'\n",
      " 'whale' 'boomerang' 'hospital' 'ceiling fan' 'saw' 'pillow' 'fence' 'dog'\n",
      " 'duck' 'parrot' 'swing set' 'spoon' 'fan' 'cruise ship' 'picture frame'\n",
      " 'mushroom' 'headphones' 'horse' 'flying saucer' 'lion' 'postcard' 'bench'\n",
      " 'keyboard' 'parachute' 'streetlight' 'arm' 'police car' 'sailboat'\n",
      " 'cooler' 'bathtub' 'campfire' 'hurricane' 'soccer ball' 'potato'\n",
      " 'dolphin' 'key' 'elephant' 'sea turtle' 'popsicle' 'envelope'\n",
      " 'pickup truck' 'remote control' 'ambulance' 'pliers' 'bread' 'castle'\n",
      " 'river' 'bandage']\n"
     ]
    }
   ],
   "source": [
    "# 라벨과 라벨 개수 확인하기 : 단어의 고유값 확인 (중복 없는)\n",
    "print('라벨 총 개수: ', len(train_df['word'].unique()))\n",
    "print(train_df['word'].unique())"
   ]
  },
  {
   "cell_type": "code",
   "execution_count": 42,
   "id": "220b33c7-d2ea-4b5e-adcb-b10216e897eb",
   "metadata": {},
   "outputs": [
    {
     "data": {
      "text/plain": [
       "word\n",
       "snowman        340029\n",
       "potato         329204\n",
       "calendar       321981\n",
       "marker         319136\n",
       "banana         307936\n",
       "                ...  \n",
       "whale          116502\n",
       "screwdriver    116313\n",
       "ceiling fan    115413\n",
       "bed            113862\n",
       "panda          113613\n",
       "Name: count, Length: 340, dtype: int64"
      ]
     },
     "execution_count": 42,
     "metadata": {},
     "output_type": "execute_result"
    }
   ],
   "source": [
    "# 라벨 별 개수 살펴보기\n",
    "new_train_df['word'].value_counts()"
   ]
  },
  {
   "cell_type": "markdown",
   "id": "66e0825e-fe49-4939-9333-2f0b870d5a25",
   "metadata": {},
   "source": [
    "- 대략적인 라벨 별 분포는 아래와 같습니다."
   ]
  },
  {
   "cell_type": "code",
   "execution_count": 43,
   "id": "b48ed090-579f-4da1-ae15-e0afdbd52a27",
   "metadata": {},
   "outputs": [
    {
     "data": {
      "image/png": "[encoded data removed]",
      "text/plain": [
       "<Figure size 1000x600 with 1 Axes>"
      ]
     },
     "metadata": {},
     "output_type": "display_data"
    }
   ],
   "source": [
    "import matplotlib.pyplot as plt\n",
    "\n",
    "column_name = 'word'\n",
    "\n",
    "# 열의 고유한 값과 개수를 가져오기\n",
    "unique_values = new_train_df[column_name].value_counts()\n",
    "\n",
    "# 시각화 하기\n",
    "plt.figure(figsize=(10, 6))\n",
    "unique_values.plot(kind='bar')\n",
    "plt.title('Number of Types in Column \"{}\"'.format(column_name))\n",
    "plt.xlabel('Types')\n",
    "plt.ylabel('Count')\n",
    "plt.xticks(rotation=45)  # 가독성을 높이기 위해 X축 레이블을 회전\n",
    "plt.grid(axis='y')  # y축을 따라 그리드 선을 추가\n",
    "plt.show()"
   ]
  },
  {
   "cell_type": "markdown",
   "id": "ba18e2c8-93b6-457c-b91b-1ca9c7d098b0",
   "metadata": {},
   "source": [
    "- 가장 적은 라벨 대비 3배 가까이 되는 라벨도 일부 있으나, 전반적으로 라벨 별 개수의 분포가 고른 편입니다."
   ]
  },
  {
   "cell_type": "code",
   "execution_count": 39,
   "id": "15aadf2a-561b-4abe-af9e-c24d7dada7d7",
   "metadata": {},
   "outputs": [
    {
     "data": {
      "text/plain": [
       "recognized\n",
       "True     45512752\n",
       "False     4194827\n",
       "Name: count, dtype: int64"
      ]
     },
     "execution_count": 39,
     "metadata": {},
     "output_type": "execute_result"
    }
   ],
   "source": [
    "# True, False 개수 살펴보기\n",
    "new_train_df['recognized'].value_counts()"
   ]
  },
  {
   "cell_type": "markdown",
   "id": "25579266-5dba-4020-9fe5-3c3d20e828d8",
   "metadata": {},
   "source": [
    "### 3-1. 전처리 함수 정의\n",
    "- 이 함수는 주어진 CSV 파일을 전처리하고, 지정된 라벨을 추가한 후, 데이터를 여러 개의 압축 파일로 분할 저장하는 작업을 수행합니다.\n",
    "- pandas.DataFrame에 라벨 열을 추가한 후, 데이터를 divide_shuffles 수만큼 분할하여 각각의 압축 파일(gzip)로 저장합니다.\n",
    "- 이 과정에서 os와 gzip 라이브러리가 파일 시스템 작업과 압축 파일 처리에 사용됩니다.\n",
    "- 마지막으로, 원본 CSV 파일은 삭제되고, 처리된 파일의 이름은 로그 파일에 기록됩니다."
   ]
  },
  {
   "cell_type": "code",
   "execution_count": 48,
   "id": "71f8ef92-1b40-4c16-b068-913d76a7f064",
   "metadata": {},
   "outputs": [],
   "source": [
    "from tqdm import tqdm  # tqdm 라이브러리를 임포트하여 진행 상황을 시각화\n",
    "import pandas as pd  # pandas 라이브러리를 데이터 처리를 위해 임포트\n",
    "import os  # os 라이브러리를 운영 체제와 상호 작용을 위해 임포트\n",
    "import gzip  # gzip 라이브러리를 압축 파일 처리를 위해 임포트\n",
    "\n",
    "def preprocess_file(csv_file, raw_path, raw_shuffle_data_path, divide_shuffles, label, processed_files_log):\n",
    "    try:\n",
    "        # CSV 파일을 읽어서 데이터프레임으로 저장합니다.\n",
    "        df = pd.read_csv(raw_path + csv_file, usecols=[\"drawing\", \"key_id\"])\n",
    "\n",
    "        # 라벨 열을 추가하고 지정된 \"label\" 값을 넣습니다.\n",
    "        df[\"y\"] = label\n",
    "\n",
    "        # \"key_id\" 값을 사용하여 \"cv\" 열을 생성합니다.\n",
    "        df[\"cv\"] = (df.key_id // 10000) % divide_shuffles\n",
    "\n",
    "        for k in range(divide_shuffles):\n",
    "            # 새로운 파일 이름을 생성하여 압축 파일로 저장합니다.\n",
    "            filename = raw_shuffle_data_path + f\"train_k{k}.csv.gz\"\n",
    "            \n",
    "            # \"cv\" 열 값이 \"k\"와 일치하는 행만 선택하여 \"chunk\"에 저장합니다.\n",
    "            chunk = df[df.cv == k]\n",
    "            \n",
    "            # \"key_id\"와 \"cv\" 열을 삭제합니다.\n",
    "            chunk = chunk.drop([\"key_id\", \"cv\"], axis=1)\n",
    "\n",
    "            if not os.path.exists(filename):\n",
    "                # 파일이 존재하지 않으면 새로 생성합니다.\n",
    "                chunk.to_csv(filename, index=False, compression=\"gzip\")\n",
    "            else:\n",
    "                with gzip.open(filename, \"at\") as f:\n",
    "                    # 파일이 이미 있으면 gzip 모드에서 데이터를 추가로 저장합니다.\n",
    "                    chunk.to_csv(f, header=False, index=False)\n",
    "\n",
    "        os.remove(raw_path + csv_file)  # 원본 CSV 파일을 삭제합니다.\n",
    "\n",
    "    except Exception as e:\n",
    "        print(f\"오류 발생: {csv_file} 처리 중 - {e}\")  # 오류 발생 시 메시지 출력\n",
    "        \n",
    "    with open(processed_files_log, \"a\") as log:\n",
    "        log.write(csv_file + \"\\n\")  # 처리된 파일 로그에 기록합니다."
   ]
  },
  {
   "cell_type": "markdown",
   "id": "6cebdc94-76a1-4ad1-b583-50bfb26f8b1e",
   "metadata": {},
   "source": [
    "### 3-2. 압축 해제 및 전처리\n",
    "- 이 함수는 사용자로부터 데이터 전처리를 위한 경로 선택을 입력받아, 해당 경로에 있는 데이터를 전처리하는 과정을 수행합니다.\n",
    "- 사용자는 train_raw 또는 train_simplified 중 하나를 선택할 수 있습니다.\n",
    "- 선택된 경로에 따라 데이터 파일들을 읽고, 이를 셔플링 및 압축하여 저장하는 작업을 포함합니다.\n",
    "- 이 과정에서 os, tqdm, gzip, pandas 등의 라이브러리가 사용됩니다.\n",
    "- 주요 단계로는 사용자 입력 받기, 경로 설정, 디렉토리 생성, 파일 전처리 및 로깅, 그리고 최종적으로 각 파일을 셔플링 및 압축하여 저장하는 작업이 포함됩니다.\n",
    "- 또한 ~_processed_files.log 파일에는 각각의 csv파일을 처리한 내용이 기록되며 이는 서버 연결이 끊기는 등의 이슈로 작업이 중단되어도 멈춘 부분부터 작업할 수 있도록 하기 위함 입니다."
   ]
  },
  {
   "cell_type": "code",
   "execution_count": null,
   "id": "1d726025-35fd-4f6b-9bbb-183dff902e1c",
   "metadata": {},
   "outputs": [
    {
     "name": "stdout",
     "output_type": "stream",
     "text": [
      "전처리할 데이터 경로를 선택하세요:\n",
      "1: train_raw\n",
      "2: train_simplified\n"
     ]
    },
    {
     "name": "stdin",
     "output_type": "stream",
     "text": [
      "선택 (1 또는 2):  2\n"
     ]
    },
    {
     "name": "stdout",
     "output_type": "stream",
     "text": [
      "선택된 경로: ./data/train_simplified/\n"
     ]
    },
    {
     "name": "stderr",
     "output_type": "stream",
     "text": [
      "3it [02:11, 38.90s/it]"
     ]
    }
   ],
   "source": [
    "def main():\n",
    "    # 사용자 입력을 받아 전처리할 경로를 선택합니다.\n",
    "    while True:\n",
    "        print(\"전처리할 데이터 경로를 선택하세요:\")\n",
    "        print(\"1: train_raw\")\n",
    "        print(\"2: train_simplified\")\n",
    "        choice = input(\"선택 (1 또는 2): \")\n",
    "        \n",
    "        # 선택에 따라 경로를 설정합니다.\n",
    "        if choice == '1':\n",
    "            raw_path = \"./data/train_raw/\"\n",
    "            processed_files_log = \"./raw_processed_files.log\"  # 1번을 선택한 경우 파일명 설정\n",
    "            break\n",
    "        elif choice == '2':\n",
    "            raw_path = \"./data/train_simplified/\"\n",
    "            processed_files_log = \"./simplified_processed_files.log\"  # 2번을 선택한 경우 파일명 설정\n",
    "            break\n",
    "        else:\n",
    "            print(\"잘못된 선택입니다. 다시 입력해주세요.\")\n",
    "\n",
    "    # 설정된 경로 출력\n",
    "    print(f\"선택된 경로: {raw_path}\")\n",
    "\n",
    "    # 나머지 코드는 선택된 raw_path를 사용합니다.\n",
    "    raw_shuffle_data_path = raw_path + 'shuffle_raw_gzs/'\n",
    "    divide_shuffles = 100\n",
    "\n",
    "    if not os.path.exists(raw_shuffle_data_path):\n",
    "        os.makedirs(raw_shuffle_data_path)\n",
    "\n",
    "    train_csvs = os.listdir(raw_path)\n",
    "    for y, csv_file in tqdm(enumerate(train_csvs)):\n",
    "        preprocess_file(csv_file, raw_path, raw_shuffle_data_path, divide_shuffles, y, processed_files_log)\n",
    "\n",
    "    # 각 청크 파일에 대한 셔플링 및 압축 처리\n",
    "    for k in tqdm(range(divide_shuffles)):  # divide_shuffles번만큼 반복하는 루프를 초기화. divide_shuffles는 루프가 실행되는 횟수를 나타내는 변수.\n",
    "        filename = raw_shuffle_data_path + f'train_k{k}.csv.gz'  # filename은 raw_shuffle_data_path 디렉토리에서 확장자가 .gz인 CSV 파일을 찾기 위해 사용됨.\n",
    "        with gzip.open(filename, 'rt') as f:  # gzip.open() 함수를 사용하여 지정된 filename의 압축된 CSV 파일을 읽기 모드('rt')로 열기. 파일은 텍스트 파일로 열림.\n",
    "            df = pd.read_csv(f)\n",
    "\n",
    "        # CSV 파일을 읽은 후, DataFrame df가 sample() 메서드를 사용하여 셔플됨. \n",
    "        # frac=1을 사용하면 전체 DataFrame을 셔플함. reset_index(drop=True) 메서드는 셔플 이후 DataFrame의 인덱스를 재설정하여 이전 인덱스를 삭제함.\n",
    "        df = df.sample(frac=1).reset_index(drop=True)\n",
    "        # 다른 with 블록을 사용하여 동일한 파일 이름을 쓰기 모드('wt')로 열어서 셔플된 DataFrame을 압축된 CSV 파일에 다시 쓰기\n",
    "        with gzip.open(filename, 'wt') as f:  # df의 to_csv() 메서드를 사용하여 셔플된 DataFrame을 열린 파일 객체 f에 쓰기\n",
    "            df.to_csv(f, index=False)  # index=False 인자는 DataFrame 인덱스가 CSV 파일에 쓰여지지 않도록 함\n",
    "\n",
    "# if __name__ == \"__main__\": main()는 스크립트가 메인 프로그램으로 실행될 때만 main() 함수가 실행되도록 하고, 다른 스크립트에 모듈로 가져와지면 실행되지 않도록 함\n",
    "if __name__ == \"__main__\":\n",
    "    main()"
   ]
  },
  {
   "cell_type": "markdown",
   "id": "84286e39-8ecd-4e83-b6f4-891d7bd0b7c5",
   "metadata": {},
   "source": [
    "### 3-3. Zip파일 만들기\n",
    "이 코드는 원본 데이터를 압축 파일로 변환하는 과정을 담당합니다.\n",
    "- 먼저, 원본 데이터가 위치한 디렉토리(raw_path)와 무작위로 섞인 데이터를 저장할 디렉토리(raw_shuffle_data_path)의 경로를 설정합니다.\n",
    "- 그 후, raw_shuffle_data_path 디렉토리 내의 모든 .gz 파일을 찾아 리스트(gz_files)에 저장합니다.\n",
    "- 이 파일들은 zipfile.ZipFile을 사용하여 zip_filename에 지정된 경로의 압축 파일로 저장됩니다.\n",
    "- 각 파일이 압축 파일에 추가될 때마다 tqdm 라이브러리를 사용하여 진행 상황을 시각적으로 표시합니다."
   ]
  },
  {
   "cell_type": "code",
   "execution_count": null,
   "id": "36abecd2-9305-4f78-9543-56ab25604610",
   "metadata": {},
   "outputs": [],
   "source": [
    "# 원본 데이터 디렉토리의 경로\n",
    "raw_path = \"./data/train_simplified/\"\n",
    "\n",
    "# 무작위로 섞인 원본 데이터를 저장할 디렉토리의 경로\n",
    "raw_shuffle_data_path = raw_path + \"shuffle_raw_gzs/\"\n",
    "\n",
    "# 압축 파일 경로를 지정\n",
    "zip_filename = './train_simplified_chunked.zip'\n",
    "\n",
    "# 폴더 내의 .gz 파일 목록을 가져옴\n",
    "gz_files = [file for file in os.listdir(raw_shuffle_data_path) if file.endswith('.gz')]\n",
    "\n",
    "# tqdm 진행 바를 설정\n",
    "with tqdm(total=len(gz_files), unit=\"file\") as pbar:\n",
    "    pbar.set_description(\"압축 중\")\n",
    "\n",
    "    # zipfile 객체를 생성하여 파일을 하나씩 압축에 추가\n",
    "    with zipfile.ZipFile(zip_filename, 'w') as zipf:\n",
    "        for file in gz_files:\n",
    "            # 각 파일을 zip 파일에 추가\n",
    "            zipf.write(os.path.join(raw_shuffle_data_path, file), arcname=file)\n",
    "            # 진행 바 업데이트\n",
    "            pbar.update(1)"
   ]
  },
  {
   "cell_type": "code",
   "execution_count": null,
   "id": "047537f8-826d-44bb-b848-a80747b7b1e4",
   "metadata": {},
   "outputs": [],
   "source": []
  },
  {
   "cell_type": "code",
   "execution_count": null,
   "id": "8a58f4f9-1e40-49f1-a481-c28a4d9f50d8",
   "metadata": {},
   "outputs": [],
   "source": []
  },
  {
   "cell_type": "code",
   "execution_count": null,
   "id": "5aa44a13-3bd1-438a-a00e-e574a4e6a9be",
   "metadata": {},
   "outputs": [],
   "source": []
  },
  {
   "cell_type": "markdown",
   "id": "f6bd984d-448b-4d96-b636-fd7c487e887e",
   "metadata": {},
   "source": [
    "### Reference\n",
    "- [유튜브: 큰 사이즈의 데이터를 효과적으로 처리, 분석하기](https://www.youtube.com/watch?v=M6YuOk4dAH4)\n",
    "- [유튜브 자료](https://drive.google.com/file/d/12faqaslFIF-Sg_sU3jeGyauW5ClRqS8D/view)"
   ]
  },
  {
   "cell_type": "code",
   "execution_count": null,
   "id": "ab9db99a-495c-4373-a3df-3b10e274681c",
   "metadata": {},
   "outputs": [],
   "source": []
  }
 ],
 "metadata": {
  "kernelspec": {
   "display_name": "Python 3 (ipykernel)",
   "language": "python",
   "name": "python3"
  },
  "language_info": {
   "codemirror_mode": {
    "name": "ipython",
    "version": 3
   },
   "file_extension": ".py",
   "mimetype": "text/x-python",
   "name": "python",
   "nbconvert_exporter": "python",
   "pygments_lexer": "ipython3",
   "version": "3.11.7"
  }
 },
 "nbformat": 4,
 "nbformat_minor": 5
}
